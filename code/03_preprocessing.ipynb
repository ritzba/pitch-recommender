{
 "cells": [
  {
   "cell_type": "code",
   "execution_count": 2,
   "id": "46b1e677-1fd1-4cfe-b632-9d24578aa66b",
   "metadata": {
    "tags": []
   },
   "outputs": [],
   "source": [
    "import pandas as pd\n",
    "import numpy as np\n",
    "import matplotlib.pyplot as plt\n",
    "import seaborn as sns\n",
    "sns.set()\n",
    "\n",
    "\n",
    "from sklearn.model_selection import train_test_split, cross_val_score, GridSearchCV, RandomizedSearchCV\n",
    "from sklearn.linear_model import LogisticRegression, LinearRegression\n",
    "from sklearn.neighbors import KNeighborsClassifier, KNeighborsRegressor\n",
    "from sklearn.tree import DecisionTreeClassifier, DecisionTreeRegressor\n",
    "from sklearn.ensemble import RandomForestClassifier, AdaBoostClassifier, BaggingClassifier, RandomForestRegressor\n",
    "from sklearn.svm import SVC\n",
    "\n",
    "from sklearn.pipeline import Pipeline, make_pipeline\n",
    "from sklearn.compose import ColumnTransformer\n",
    "from sklearn.preprocessing import StandardScaler, PolynomialFeatures, OneHotEncoder\n",
    "from sklearn.metrics import mean_squared_error, f1_score, confusion_matrix, roc_auc_score\n",
    "from sklearn.naive_bayes import GaussianNB, MultinomialNB, BernoulliNB\n",
    "\n",
    "from sklearn.linear_model import Lasso, ElasticNet, Ridge"
   ]
  },
  {
   "cell_type": "code",
   "execution_count": 3,
   "id": "64887b13-8ea7-4811-97ff-d3d3749d01c2",
   "metadata": {},
   "outputs": [],
   "source": [
    "from sklearn.decomposition import PCA"
   ]
  },
  {
   "cell_type": "code",
   "execution_count": 4,
   "id": "fbe0f4bb-50dd-4b6b-a481-0a07fbdb4b64",
   "metadata": {},
   "outputs": [],
   "source": [
    "from imblearn.over_sampling import ADASYN\n",
    "from imblearn.under_sampling import RandomUnderSampler"
   ]
  },
  {
   "cell_type": "code",
   "execution_count": 5,
   "id": "f09eade1-932e-4be9-820f-2236fdfdc649",
   "metadata": {},
   "outputs": [],
   "source": [
    "from tensorflow.keras.models import Sequential\n",
    "from tensorflow.keras.layers import Dense, Dropout\n",
    "from tensorflow.keras.utils import to_categorical\n",
    "from tensorflow.keras.metrics import Recall, Precision\n",
    "from tensorflow.keras.metrics import AUC"
   ]
  },
  {
   "cell_type": "code",
   "execution_count": 6,
   "id": "fdb868d6-6cec-46b7-a099-0bf34ecdd0f6",
   "metadata": {},
   "outputs": [],
   "source": [
    "from pybaseball import statcast_pitcher\n",
    "from pybaseball import playerid_lookup"
   ]
  },
  {
   "cell_type": "code",
   "execution_count": 7,
   "id": "70b4319e-264a-40a4-b257-1877c9d64354",
   "metadata": {},
   "outputs": [],
   "source": [
    "from pybaseball import statcast"
   ]
  },
  {
   "cell_type": "markdown",
   "id": "02b15978-f40b-417c-a617-625de0d896b2",
   "metadata": {
    "jp-MarkdownHeadingCollapsed": true,
    "tags": []
   },
   "source": [
    "## preprocessing"
   ]
  },
  {
   "cell_type": "code",
   "execution_count": 329,
   "id": "5792313e-98d6-4ff1-aa56-74e4a6fd13a6",
   "metadata": {},
   "outputs": [],
   "source": [
    "#  Load data\n",
    "pitches = pd.read_csv('../data/2023.csv')"
   ]
  },
  {
   "cell_type": "code",
   "execution_count": 330,
   "id": "f12f378f-3ec9-4843-b445-57ad427d5073",
   "metadata": {},
   "outputs": [
    {
     "data": {
      "text/plain": [
       "0"
      ]
     },
     "execution_count": 330,
     "metadata": {},
     "output_type": "execute_result"
    }
   ],
   "source": [
    "#  Check again for nulls\n",
    "pitches.isnull().sum().sum()"
   ]
  },
  {
   "cell_type": "code",
   "execution_count": 308,
   "id": "e654137e-eecb-4b9c-a40b-5128162e14da",
   "metadata": {},
   "outputs": [],
   "source": [
    "#  Limit data to combinations where a pitcher has thrown a particular pitch at least 30 times\n",
    "pitches = pitches[pitches.groupby(['player_name','pitch_type']).transform('size') > 50]"
   ]
  },
  {
   "cell_type": "code",
   "execution_count": 331,
   "id": "0989d915-164f-4331-a877-26db9ab60bc3",
   "metadata": {},
   "outputs": [],
   "source": [
    "pitches['fatigue'] = pitches['pitch_no'] ** 2"
   ]
  },
  {
   "cell_type": "code",
   "execution_count": 333,
   "id": "1472dbc7-b003-409d-90c1-63b571541c8f",
   "metadata": {},
   "outputs": [],
   "source": [
    "#  Define feature columns\n",
    "features = ['vx0','vy0','vz0','release_speed','pfx_x','pfx_z','plate_x','plate_z','ax','ay','az','release_spin_rate','release_extension','effective_speed',\n",
    "        'release_pos_x','release_pos_y','release_pos_z','sz_top','sz_bot','pitch_type','player_name','pitch_no','inning','fatigue']"
   ]
  },
  {
   "cell_type": "code",
   "execution_count": 334,
   "id": "a446cfa1-5b3d-4c3e-a534-7465ec1505f4",
   "metadata": {},
   "outputs": [],
   "source": [
    "#  Define X and y for a model to predict probability of ball\n",
    "\n",
    "y = pitches['hit']\n",
    "X = pitches[features]"
   ]
  },
  {
   "cell_type": "code",
   "execution_count": 335,
   "id": "b1af965e-957a-4a35-b06e-9d47ed561edb",
   "metadata": {},
   "outputs": [
    {
     "name": "stderr",
     "output_type": "stream",
     "text": [
      "C:\\Users\\rob\\AppData\\Local\\Temp\\ipykernel_13320\\2939201450.py:2: SettingWithCopyWarning: \n",
      "A value is trying to be set on a copy of a slice from a DataFrame.\n",
      "Try using .loc[row_indexer,col_indexer] = value instead\n",
      "\n",
      "See the caveats in the documentation: https://pandas.pydata.org/pandas-docs/stable/user_guide/indexing.html#returning-a-view-versus-a-copy\n",
      "  X['pitch_type_orig'] = X['pitch_type']\n"
     ]
    }
   ],
   "source": [
    "#  Dummify pitch type, but keep original for further preprocessing\n",
    "X['pitch_type_orig'] = X['pitch_type']\n",
    "X = pd.get_dummies(X, columns = ['pitch_type'])"
   ]
  },
  {
   "cell_type": "code",
   "execution_count": 336,
   "id": "e71c4f9c-f33f-43de-9284-45af500231ab",
   "metadata": {},
   "outputs": [],
   "source": [
    "#  Split into train and test, target variable = ball\n",
    "X_train,X_test,y_train,y_test = train_test_split(X, y, stratify = y, random_state=42)"
   ]
  },
  {
   "cell_type": "code",
   "execution_count": 337,
   "id": "8432e9f2-4b3d-4b23-96e5-bcb44976e948",
   "metadata": {},
   "outputs": [],
   "source": [
    "#  Create '_diff' features which represent the amount of variance \n",
    "#  in each feature from the pitcher's mean (temporary '_avg' features) in the training data \n",
    "for col in features[:-5]:\n",
    "    X_train[f'{col}_avg'] = X_train.groupby(['player_name', 'pitch_type_orig'])[col].transform('mean')\n",
    "    avgs = X_train.groupby(['player_name', 'pitch_type_orig'])[col].mean().reset_index()\n",
    "    merge = X_test.merge(avgs, on = ['player_name','pitch_type_orig'], how = 'left')\n",
    "    X_test[f'{col}_avg'] = merge[col + '_y']\n",
    "    X_train[f'{col}_diff'] = X_train[col] - X_train[f'{col}_avg']\n",
    "    X_test[f'{col}_diff'] = X_test[col] - X_test[f'{col}_avg']    \n",
    "    X_train.drop(columns = [col + '_avg'], inplace = True)   \n",
    "    X_test.drop(columns = [col + '_avg'], inplace = True)"
   ]
  },
  {
   "cell_type": "code",
   "execution_count": 338,
   "id": "98ddee3b-1f15-4ce9-95ca-dd589ef3d64b",
   "metadata": {},
   "outputs": [],
   "source": [
    "X_train.drop(columns = ['player_name','pitch_type_orig'], inplace = True)"
   ]
  },
  {
   "cell_type": "code",
   "execution_count": 339,
   "id": "ed46311e-5620-4e50-91d0-7992e4a2df04",
   "metadata": {},
   "outputs": [],
   "source": [
    "X_test.drop(columns = ['player_name','pitch_type_orig'], inplace = True)"
   ]
  },
  {
   "cell_type": "code",
   "execution_count": 340,
   "id": "4bce3128-9d71-4e81-acc5-12a679058bb4",
   "metadata": {},
   "outputs": [
    {
     "data": {
      "text/plain": [
       "vx0                           0\n",
       "vy0                           0\n",
       "vz0                           0\n",
       "release_speed                 0\n",
       "pfx_x                         0\n",
       "pfx_z                         0\n",
       "plate_x                       0\n",
       "plate_z                       0\n",
       "ax                            0\n",
       "ay                            0\n",
       "az                            0\n",
       "release_spin_rate             0\n",
       "release_extension             0\n",
       "effective_speed               0\n",
       "release_pos_x                 0\n",
       "release_pos_y                 0\n",
       "release_pos_z                 0\n",
       "sz_top                        0\n",
       "sz_bot                        0\n",
       "pitch_no                      0\n",
       "inning                        0\n",
       "fatigue                       0\n",
       "pitch_type_CH                 0\n",
       "pitch_type_CS                 0\n",
       "pitch_type_CU                 0\n",
       "pitch_type_EP                 0\n",
       "pitch_type_FA                 0\n",
       "pitch_type_FC                 0\n",
       "pitch_type_FF                 0\n",
       "pitch_type_FO                 0\n",
       "pitch_type_FS                 0\n",
       "pitch_type_FT                 0\n",
       "pitch_type_KC                 0\n",
       "pitch_type_SC                 0\n",
       "pitch_type_SI                 0\n",
       "pitch_type_SL                 0\n",
       "pitch_type_ST                 0\n",
       "pitch_type_SV                 0\n",
       "vx0_diff                  31022\n",
       "vy0_diff                  31022\n",
       "vz0_diff                  31022\n",
       "release_speed_diff        31022\n",
       "pfx_x_diff                31022\n",
       "pfx_z_diff                31022\n",
       "plate_x_diff              31022\n",
       "plate_z_diff              31022\n",
       "ax_diff                   31022\n",
       "ay_diff                   31022\n",
       "az_diff                   31022\n",
       "release_spin_rate_diff    31022\n",
       "release_extension_diff    31022\n",
       "effective_speed_diff      31022\n",
       "release_pos_x_diff        31022\n",
       "release_pos_y_diff        31022\n",
       "release_pos_z_diff        31022\n",
       "sz_top_diff               31022\n",
       "sz_bot_diff               31022\n",
       "dtype: int64"
      ]
     },
     "execution_count": 340,
     "metadata": {},
     "output_type": "execute_result"
    }
   ],
   "source": [
    "X_test.isnull().sum()"
   ]
  },
  {
   "cell_type": "code",
   "execution_count": 341,
   "id": "fc017a2c-84c7-41b5-bcbc-f4dcfa930ce0",
   "metadata": {},
   "outputs": [
    {
     "data": {
      "text/plain": [
       "57"
      ]
     },
     "execution_count": 341,
     "metadata": {},
     "output_type": "execute_result"
    }
   ],
   "source": [
    "len(X_test.columns)"
   ]
  },
  {
   "cell_type": "code",
   "execution_count": 342,
   "id": "523d98d3-f032-4515-8360-15299ffce737",
   "metadata": {},
   "outputs": [],
   "source": [
    "combined = pd.concat([X_test, y_test], axis = 1)"
   ]
  },
  {
   "cell_type": "code",
   "execution_count": 343,
   "id": "ec445a75-4688-4028-b582-1a70a7cef00c",
   "metadata": {},
   "outputs": [],
   "source": [
    "combined.dropna(inplace = True)"
   ]
  },
  {
   "cell_type": "code",
   "execution_count": 344,
   "id": "12c959f0-a0da-481b-b89d-251200f508cf",
   "metadata": {},
   "outputs": [],
   "source": [
    "X_test = combined.iloc[:,:len(X_test.columns)]"
   ]
  },
  {
   "cell_type": "code",
   "execution_count": 345,
   "id": "59d16d0f-5206-4436-881e-0ab0c8d0e740",
   "metadata": {},
   "outputs": [],
   "source": [
    "y_test = combined.iloc[:,len(X_test.columns):]"
   ]
  },
  {
   "cell_type": "code",
   "execution_count": null,
   "id": "92ebf516-9efa-4ecc-9b16-7a271bc141e2",
   "metadata": {},
   "outputs": [],
   "source": []
  },
  {
   "cell_type": "markdown",
   "id": "1119beba-20a8-4dea-b93e-b51dff50f5af",
   "metadata": {},
   "source": [
    "## modeling"
   ]
  },
  {
   "cell_type": "code",
   "execution_count": 406,
   "id": "25792981-512f-4715-a235-48d6e4bdabfd",
   "metadata": {},
   "outputs": [],
   "source": [
    "X_train = pd.read_csv('../data/X_train.csv')\n",
    "X_test = pd.read_csv('../data/X_test.csv')"
   ]
  },
  {
   "cell_type": "code",
   "execution_count": 407,
   "id": "9951b441-3957-4e6f-b99c-44979068048b",
   "metadata": {},
   "outputs": [
    {
     "name": "stderr",
     "output_type": "stream",
     "text": [
      "C:\\Users\\rob\\AppData\\Local\\Temp\\ipykernel_10756\\2397831356.py:1: FutureWarning: The squeeze argument has been deprecated and will be removed in a future version. Append .squeeze(\"columns\") to the call to squeeze.\n",
      "\n",
      "\n",
      "  y_train = pd.read_csv('../data/y_train.csv', squeeze = True)\n",
      "C:\\Users\\rob\\AppData\\Local\\Temp\\ipykernel_10756\\2397831356.py:2: FutureWarning: The squeeze argument has been deprecated and will be removed in a future version. Append .squeeze(\"columns\") to the call to squeeze.\n",
      "\n",
      "\n",
      "  y_test = pd.read_csv('../data/y_test.csv', squeeze = True)\n"
     ]
    }
   ],
   "source": [
    "y_train = pd.read_csv('../data/y_train.csv', squeeze = True)\n",
    "y_test = pd.read_csv('../data/y_test.csv', squeeze = True)"
   ]
  },
  {
   "cell_type": "code",
   "execution_count": 408,
   "id": "67c34db0-7285-453d-b56c-2b06bd807f3b",
   "metadata": {},
   "outputs": [],
   "source": [
    "pipe = Pipeline(steps = [\n",
    "            ('ss',StandardScaler())\n",
    " #           ('poly',PolynomialFeatures())\n",
    "        ])\n",
    "\n",
    "X_train = pipe.fit_transform(X_train)\n",
    "X_test = pipe.transform(X_test)\n",
    "\n",
    "X_train = pd.DataFrame(X_train, columns = pipe.get_feature_names_out())\n",
    "X_test = pd.DataFrame(X_test, columns = pipe.get_feature_names_out())"
   ]
  },
  {
   "cell_type": "code",
   "execution_count": 409,
   "id": "c58942cd-6480-47af-83d4-aee275986820",
   "metadata": {},
   "outputs": [],
   "source": [
    "#pca = PCA()"
   ]
  },
  {
   "cell_type": "code",
   "execution_count": 410,
   "id": "b7441fe5-df65-4f85-bb2b-0ee08aff0989",
   "metadata": {},
   "outputs": [],
   "source": [
    "#X_train_pca = pca.fit_transform(X_train)[:,:10]\n",
    "#X_test_pca = pca.transform(X_test)[:,:10]"
   ]
  },
  {
   "cell_type": "code",
   "execution_count": 411,
   "id": "cd5d91a5-3cd2-496e-a13b-40394b617680",
   "metadata": {},
   "outputs": [],
   "source": [
    "from imblearn.over_sampling import RandomOverSampler"
   ]
  },
  {
   "cell_type": "code",
   "execution_count": 412,
   "id": "2240cb03-bfca-4a29-929f-4fda7a66ca3e",
   "metadata": {},
   "outputs": [
    {
     "data": {
      "text/plain": [
       "((25292, 70), (8431, 70), (25292,), (8431,))"
      ]
     },
     "execution_count": 412,
     "metadata": {},
     "output_type": "execute_result"
    }
   ],
   "source": [
    "X_train.shape,X_test.shape,y_train.shape,y_test.shape"
   ]
  },
  {
   "cell_type": "code",
   "execution_count": 413,
   "id": "171a2c46-cd37-408f-b499-e9fc63192da9",
   "metadata": {},
   "outputs": [],
   "source": [
    "X_train, y_train = RandomOverSampler().fit_resample(X_train, y_train)"
   ]
  },
  {
   "cell_type": "code",
   "execution_count": 414,
   "id": "7ac8c3d4-03f6-4d63-bf88-d28be440a6c4",
   "metadata": {},
   "outputs": [
    {
     "data": {
      "text/plain": [
       "((35900, 70), (8431, 70), (35900,), (8431,))"
      ]
     },
     "execution_count": 414,
     "metadata": {},
     "output_type": "execute_result"
    }
   ],
   "source": [
    "X_train.shape,X_test.shape,y_train.shape,y_test.shape"
   ]
  },
  {
   "cell_type": "code",
   "execution_count": 399,
   "id": "5271a03d-4b72-4fbd-a58d-4de4d364ff92",
   "metadata": {},
   "outputs": [],
   "source": [
    "pca = PCA()"
   ]
  },
  {
   "cell_type": "code",
   "execution_count": 400,
   "id": "811c75ab-953d-4df1-8933-17eddaadeb23",
   "metadata": {},
   "outputs": [
    {
     "data": {
      "text/plain": [
       "array([[ 1.98371278e+00,  1.62009091e+00,  1.74850836e+00, ...,\n",
       "         3.57726852e-16, -1.29941952e-17,  3.64634342e-16],\n",
       "       [ 4.81639455e+00, -4.34842737e-01, -3.93567396e+00, ...,\n",
       "         1.54582195e-15, -9.05620282e-15, -2.68448085e-15],\n",
       "       [-3.48073320e+00,  2.45131512e-02, -1.97075982e-01, ...,\n",
       "         6.86463584e-15, -5.49677746e-15,  3.92752608e-16],\n",
       "       ...,\n",
       "       [ 6.61903135e+00, -7.23314360e-01,  1.98724810e+00, ...,\n",
       "         1.95082322e-16,  2.36229812e-16,  1.48808133e-16],\n",
       "       [ 5.40749053e+00,  2.87458719e+00,  4.39174031e-01, ...,\n",
       "         5.68828493e-16,  8.87819299e-17,  2.86814185e-16],\n",
       "       [ 2.87790758e+00, -5.00875236e+00,  1.00447829e+00, ...,\n",
       "         8.48452362e-17, -7.87795977e-18,  1.35259638e-16]])"
      ]
     },
     "execution_count": 400,
     "metadata": {},
     "output_type": "execute_result"
    }
   ],
   "source": [
    "pca.fit_transform(X_train)"
   ]
  },
  {
   "cell_type": "code",
   "execution_count": 401,
   "id": "923b303e-97c2-4f8d-b2c1-7c7c77cc7947",
   "metadata": {},
   "outputs": [
    {
     "data": {
      "text/plain": [
       "array([[ 3.85805567e+00, -1.78083801e+00,  1.51595698e+01, ...,\n",
       "         2.58126853e-15, -6.43929354e-15,  3.16413562e-15],\n",
       "       [ 3.58665995e+00,  2.40182141e-01,  2.92266285e+00, ...,\n",
       "         7.21644966e-16, -6.93889390e-18,  8.84708973e-16],\n",
       "       [-8.25395314e-01,  1.38012142e+00,  2.48414173e+00, ...,\n",
       "         2.01227923e-15, -2.80331314e-15,  2.24820162e-15],\n",
       "       ...,\n",
       "       [-9.48441841e-01, -1.94704205e+00, -4.46640032e+00, ...,\n",
       "        -1.60982339e-15, -1.83186799e-15,  1.08246745e-15],\n",
       "       [-1.54961873e+00, -1.10987730e+00, -4.90042205e+00, ...,\n",
       "        -1.40859546e-15,  3.88578059e-15, -2.87270208e-15],\n",
       "       [ 3.01585882e+00, -1.38718613e+00, -1.75950574e+00, ...,\n",
       "         6.07153217e-16, -5.27355937e-16,  6.10622664e-16]])"
      ]
     },
     "execution_count": 401,
     "metadata": {},
     "output_type": "execute_result"
    }
   ],
   "source": [
    "pca.transform(X_test)"
   ]
  },
  {
   "cell_type": "code",
   "execution_count": 402,
   "id": "b78a15cc-870a-4fcb-a2b3-d4e0b2c47be3",
   "metadata": {},
   "outputs": [
    {
     "data": {
      "text/plain": [
       "array([0.21269516, 0.29535234, 0.3683119 , 0.42849155, 0.48016725,\n",
       "       0.52574964, 0.566285  , 0.60020891, 0.63290083, 0.66325595,\n",
       "       0.69239176, 0.71989673, 0.74618384, 0.77117844, 0.7928109 ,\n",
       "       0.81105523, 0.82789399, 0.84338384, 0.85847421, 0.87330132,\n",
       "       0.88797464, 0.90233384, 0.91656785, 0.93042867, 0.94407082,\n",
       "       0.95620286, 0.96633834, 0.9735036 , 0.97922542, 0.98343635,\n",
       "       0.98727588, 0.99008308, 0.99255373, 0.9947992 , 0.99649998,\n",
       "       0.99782045, 0.9984482 , 0.99891127, 0.99920883, 0.99948383,\n",
       "       0.99965382, 0.99980206, 0.99985986, 0.99990342, 0.99993132,\n",
       "       0.99995442, 0.99997492, 0.99998943, 0.99999564, 0.99999795,\n",
       "       0.9999994 , 1.        , 1.        , 1.        , 1.        ,\n",
       "       1.        , 1.        , 1.        , 1.        , 1.        ,\n",
       "       1.        , 1.        , 1.        , 1.        , 1.        ,\n",
       "       1.        , 1.        , 1.        , 1.        , 1.        ])"
      ]
     },
     "execution_count": 402,
     "metadata": {},
     "output_type": "execute_result"
    }
   ],
   "source": [
    "np.cumsum(pca.explained_variance_ratio_)[:200]"
   ]
  },
  {
   "cell_type": "code",
   "execution_count": 403,
   "id": "e835d5bd-6cad-4267-81c4-25316bd9fd6b",
   "metadata": {},
   "outputs": [],
   "source": [
    "X_train = pca.fit_transform(X_train)[:,:30]"
   ]
  },
  {
   "cell_type": "code",
   "execution_count": 404,
   "id": "98235e69-c6b1-4d7b-8709-36104ab0e97c",
   "metadata": {},
   "outputs": [],
   "source": [
    "X_test = pca.transform(X_test)[:,:30]"
   ]
  },
  {
   "cell_type": "code",
   "execution_count": 171,
   "id": "06f10452-822a-4a2e-a0b8-7f545e3584b4",
   "metadata": {},
   "outputs": [],
   "source": [
    "from sklearn.metrics import f1_score"
   ]
  },
  {
   "cell_type": "code",
   "execution_count": null,
   "id": "0fa3070e-d834-4b1b-b441-365d6aedce69",
   "metadata": {},
   "outputs": [],
   "source": [
    "mbda x: 1 if x['swing'] == 1 \n",
    "                                   else 2 if x['called'] == 1\n",
    "                                   else 3 if x['foul'] == 1\n",
    "                                   else 4 if x['ball'] == 1\n",
    "                                   else 5 if x['out'] == 1\n",
    "                                   else 6 if x['hit'] == 1"
   ]
  },
  {
   "cell_type": "code",
   "execution_count": 181,
   "id": "d1f45520-2a97-4c5a-9473-8168a3859cd1",
   "metadata": {},
   "outputs": [
    {
     "data": {
      "text/plain": [
       "0.3242831471698461"
      ]
     },
     "execution_count": 181,
     "metadata": {},
     "output_type": "execute_result"
    }
   ],
   "source": [
    "f1_score(y_train, logr.predict(X_train), average = 'weighted')"
   ]
  },
  {
   "cell_type": "code",
   "execution_count": 182,
   "id": "b3315e86-f385-4916-9961-637be6bedcdd",
   "metadata": {},
   "outputs": [
    {
     "data": {
      "text/plain": [
       "0.32043836948149435"
      ]
     },
     "execution_count": 182,
     "metadata": {},
     "output_type": "execute_result"
    }
   ],
   "source": [
    "f1_score(y_test, logr.predict(X_test), average = 'weighted')"
   ]
  },
  {
   "cell_type": "code",
   "execution_count": 416,
   "id": "369b80c2-1813-48d4-b8de-6a7886aabc57",
   "metadata": {},
   "outputs": [
    {
     "name": "stdout",
     "output_type": "stream",
     "text": [
      "Epoch 1/10\n",
      "2244/2244 [==============================] - 17s 5ms/step - loss: 0.6507 - auc: 0.6345 - val_loss: 0.7166 - val_auc: 0.5656\n",
      "Epoch 2/10\n",
      "2244/2244 [==============================] - 9s 4ms/step - loss: 0.6212 - auc: 0.6812 - val_loss: 0.7266 - val_auc: 0.5823\n",
      "Epoch 3/10\n",
      "2244/2244 [==============================] - 9s 4ms/step - loss: 0.6103 - auc: 0.7001 - val_loss: 0.7467 - val_auc: 0.5981\n",
      "Epoch 4/10\n",
      "2244/2244 [==============================] - 9s 4ms/step - loss: 0.6032 - auc: 0.7141 - val_loss: 0.6931 - val_auc: 0.5945\n",
      "Epoch 5/10\n",
      "2244/2244 [==============================] - 10s 4ms/step - loss: 0.5973 - auc: 0.7227 - val_loss: 0.7495 - val_auc: 0.6021\n",
      "Epoch 6/10\n",
      "2244/2244 [==============================] - 7s 3ms/step - loss: 0.5924 - auc: 0.7304 - val_loss: 0.7834 - val_auc: 0.6037\n",
      "Epoch 7/10\n",
      "2244/2244 [==============================] - 7s 3ms/step - loss: 0.5873 - auc: 0.7370 - val_loss: 0.7390 - val_auc: 0.5807\n",
      "Epoch 8/10\n",
      "2244/2244 [==============================] - 7s 3ms/step - loss: 0.5824 - auc: 0.7419 - val_loss: 0.7604 - val_auc: 0.5700\n",
      "Epoch 9/10\n",
      "2244/2244 [==============================] - 7s 3ms/step - loss: 0.5786 - auc: 0.7487 - val_loss: 0.7723 - val_auc: 0.5798\n",
      "Epoch 10/10\n",
      "2244/2244 [==============================] - 7s 3ms/step - loss: 0.5741 - auc: 0.7558 - val_loss: 0.8271 - val_auc: 0.5713\n"
     ]
    },
    {
     "data": {
      "text/plain": [
       "<keras.callbacks.History at 0x21c64cdd840>"
      ]
     },
     "execution_count": 416,
     "metadata": {},
     "output_type": "execute_result"
    }
   ],
   "source": [
    "model = Sequential()\n",
    "model.add(Dense(128,activation = 'relu'))\n",
    "model.add(Dropout(0.2))\n",
    "model.add(Dense(32,activation = 'relu'))\n",
    "model.add(Dense(32,activation = 'relu'))\n",
    "model.add(Dense(32,activation = 'relu'))\n",
    "model.add(Dense(32,activation = 'relu'))\n",
    "model.add(Dense(32,activation = 'relu'))\n",
    "model.add(Dense(32,activation = 'relu'))\n",
    "model.add(Dense(32,activation = 'relu'))\n",
    "model.add(Dense(1,activation = 'sigmoid'))\n",
    "model.compile(loss='binary_crossentropy',optimizer='adam',metrics = ['AUC'])\n",
    "model.fit(X_train,y_train,validation_data=(X_test, y_test), epochs = 10, batch_size = 16)"
   ]
  },
  {
   "cell_type": "code",
   "execution_count": 417,
   "id": "141762cc-41f9-47cb-b469-b23a3084d767",
   "metadata": {},
   "outputs": [
    {
     "name": "stdout",
     "output_type": "stream",
     "text": [
      "264/264 [==============================] - 5s 1ms/step\n"
     ]
    }
   ],
   "source": [
    "y_pred = model.predict(X_test)"
   ]
  },
  {
   "cell_type": "code",
   "execution_count": 418,
   "id": "f2d71f5c-1022-436d-b667-3881ae9f025c",
   "metadata": {},
   "outputs": [],
   "source": [
    "y_pred = [1 if x > 0.5 else 0 for x in y_pred]"
   ]
  },
  {
   "cell_type": "code",
   "execution_count": null,
   "id": "3c1ba954-296b-4762-b3df-f772d40ddb50",
   "metadata": {},
   "outputs": [],
   "source": []
  },
  {
   "cell_type": "code",
   "execution_count": 261,
   "id": "24b3d69a-fa94-45e5-acb5-d40c3f0c41e5",
   "metadata": {},
   "outputs": [
    {
     "name": "stdout",
     "output_type": "stream",
     "text": [
      "start_dt 2023-05-13\n",
      "end_dt 2023-05-14\n",
      "Warning: no date range supplied, assuming yesterday's date.\n",
      "This is a large query, it may take a moment to complete\n"
     ]
    },
    {
     "name": "stderr",
     "output_type": "stream",
     "text": [
      "100%|████████████████████████████████████████████████████████████████████████████████████| 2/2 [00:10<00:00,  5.46s/it]\n"
     ]
    },
    {
     "data": {
      "text/html": [
       "<div>\n",
       "<style scoped>\n",
       "    .dataframe tbody tr th:only-of-type {\n",
       "        vertical-align: middle;\n",
       "    }\n",
       "\n",
       "    .dataframe tbody tr th {\n",
       "        vertical-align: top;\n",
       "    }\n",
       "\n",
       "    .dataframe thead th {\n",
       "        text-align: right;\n",
       "    }\n",
       "</style>\n",
       "<table border=\"1\" class=\"dataframe\">\n",
       "  <thead>\n",
       "    <tr style=\"text-align: right;\">\n",
       "      <th></th>\n",
       "      <th>pitch_type</th>\n",
       "      <th>game_date</th>\n",
       "      <th>release_speed</th>\n",
       "      <th>release_pos_x</th>\n",
       "      <th>release_pos_z</th>\n",
       "      <th>player_name</th>\n",
       "      <th>batter</th>\n",
       "      <th>pitcher</th>\n",
       "      <th>events</th>\n",
       "      <th>description</th>\n",
       "      <th>...</th>\n",
       "      <th>fld_score</th>\n",
       "      <th>post_away_score</th>\n",
       "      <th>post_home_score</th>\n",
       "      <th>post_bat_score</th>\n",
       "      <th>post_fld_score</th>\n",
       "      <th>if_fielding_alignment</th>\n",
       "      <th>of_fielding_alignment</th>\n",
       "      <th>spin_axis</th>\n",
       "      <th>delta_home_win_exp</th>\n",
       "      <th>delta_run_exp</th>\n",
       "    </tr>\n",
       "  </thead>\n",
       "  <tbody>\n",
       "    <tr>\n",
       "      <th>1399</th>\n",
       "      <td>SL</td>\n",
       "      <td>2023-05-13</td>\n",
       "      <td>89.0</td>\n",
       "      <td>-2.15</td>\n",
       "      <td>4.54</td>\n",
       "      <td>Díaz, Alexis</td>\n",
       "      <td>493329</td>\n",
       "      <td>664747</td>\n",
       "      <td>strikeout</td>\n",
       "      <td>swinging_strike</td>\n",
       "      <td>...</td>\n",
       "      <td>6</td>\n",
       "      <td>6</td>\n",
       "      <td>5</td>\n",
       "      <td>5</td>\n",
       "      <td>6</td>\n",
       "      <td>Standard</td>\n",
       "      <td>Standard</td>\n",
       "      <td>125</td>\n",
       "      <td>-0.271</td>\n",
       "      <td>-0.49</td>\n",
       "    </tr>\n",
       "    <tr>\n",
       "      <th>1436</th>\n",
       "      <td>FF</td>\n",
       "      <td>2023-05-13</td>\n",
       "      <td>95.1</td>\n",
       "      <td>-2.3</td>\n",
       "      <td>4.53</td>\n",
       "      <td>Díaz, Alexis</td>\n",
       "      <td>493329</td>\n",
       "      <td>664747</td>\n",
       "      <td>NaN</td>\n",
       "      <td>foul</td>\n",
       "      <td>...</td>\n",
       "      <td>6</td>\n",
       "      <td>6</td>\n",
       "      <td>5</td>\n",
       "      <td>5</td>\n",
       "      <td>6</td>\n",
       "      <td>Standard</td>\n",
       "      <td>Standard</td>\n",
       "      <td>225</td>\n",
       "      <td>0.0</td>\n",
       "      <td>0.0</td>\n",
       "    </tr>\n",
       "    <tr>\n",
       "      <th>1439</th>\n",
       "      <td>FF</td>\n",
       "      <td>2023-05-13</td>\n",
       "      <td>95.0</td>\n",
       "      <td>-2.14</td>\n",
       "      <td>4.5</td>\n",
       "      <td>Díaz, Alexis</td>\n",
       "      <td>493329</td>\n",
       "      <td>664747</td>\n",
       "      <td>NaN</td>\n",
       "      <td>foul</td>\n",
       "      <td>...</td>\n",
       "      <td>6</td>\n",
       "      <td>6</td>\n",
       "      <td>5</td>\n",
       "      <td>5</td>\n",
       "      <td>6</td>\n",
       "      <td>Standard</td>\n",
       "      <td>Standard</td>\n",
       "      <td>227</td>\n",
       "      <td>0.0</td>\n",
       "      <td>0.0</td>\n",
       "    </tr>\n",
       "    <tr>\n",
       "      <th>1500</th>\n",
       "      <td>FF</td>\n",
       "      <td>2023-05-13</td>\n",
       "      <td>94.4</td>\n",
       "      <td>-2.21</td>\n",
       "      <td>4.5</td>\n",
       "      <td>Díaz, Alexis</td>\n",
       "      <td>493329</td>\n",
       "      <td>664747</td>\n",
       "      <td>NaN</td>\n",
       "      <td>swinging_strike</td>\n",
       "      <td>...</td>\n",
       "      <td>6</td>\n",
       "      <td>6</td>\n",
       "      <td>5</td>\n",
       "      <td>5</td>\n",
       "      <td>6</td>\n",
       "      <td>Standard</td>\n",
       "      <td>Standard</td>\n",
       "      <td>225</td>\n",
       "      <td>0.0</td>\n",
       "      <td>-0.171</td>\n",
       "    </tr>\n",
       "    <tr>\n",
       "      <th>1516</th>\n",
       "      <td>FF</td>\n",
       "      <td>2023-05-13</td>\n",
       "      <td>93.9</td>\n",
       "      <td>-2.23</td>\n",
       "      <td>4.52</td>\n",
       "      <td>Díaz, Alexis</td>\n",
       "      <td>516416</td>\n",
       "      <td>664747</td>\n",
       "      <td>walk</td>\n",
       "      <td>ball</td>\n",
       "      <td>...</td>\n",
       "      <td>6</td>\n",
       "      <td>6</td>\n",
       "      <td>5</td>\n",
       "      <td>5</td>\n",
       "      <td>6</td>\n",
       "      <td>Standard</td>\n",
       "      <td>Standard</td>\n",
       "      <td>232</td>\n",
       "      <td>0.102</td>\n",
       "      <td>0.231</td>\n",
       "    </tr>\n",
       "    <tr>\n",
       "      <th>...</th>\n",
       "      <td>...</td>\n",
       "      <td>...</td>\n",
       "      <td>...</td>\n",
       "      <td>...</td>\n",
       "      <td>...</td>\n",
       "      <td>...</td>\n",
       "      <td>...</td>\n",
       "      <td>...</td>\n",
       "      <td>...</td>\n",
       "      <td>...</td>\n",
       "      <td>...</td>\n",
       "      <td>...</td>\n",
       "      <td>...</td>\n",
       "      <td>...</td>\n",
       "      <td>...</td>\n",
       "      <td>...</td>\n",
       "      <td>...</td>\n",
       "      <td>...</td>\n",
       "      <td>...</td>\n",
       "      <td>...</td>\n",
       "      <td>...</td>\n",
       "    </tr>\n",
       "    <tr>\n",
       "      <th>3532</th>\n",
       "      <td>FF</td>\n",
       "      <td>2023-05-13</td>\n",
       "      <td>95.0</td>\n",
       "      <td>-1.43</td>\n",
       "      <td>5.94</td>\n",
       "      <td>Houser, Adrian</td>\n",
       "      <td>686469</td>\n",
       "      <td>605288</td>\n",
       "      <td>NaN</td>\n",
       "      <td>called_strike</td>\n",
       "      <td>...</td>\n",
       "      <td>0</td>\n",
       "      <td>0</td>\n",
       "      <td>0</td>\n",
       "      <td>0</td>\n",
       "      <td>0</td>\n",
       "      <td>Standard</td>\n",
       "      <td>Standard</td>\n",
       "      <td>219</td>\n",
       "      <td>0.0</td>\n",
       "      <td>-0.122</td>\n",
       "    </tr>\n",
       "    <tr>\n",
       "      <th>3608</th>\n",
       "      <td>FF</td>\n",
       "      <td>2023-05-13</td>\n",
       "      <td>94.7</td>\n",
       "      <td>-1.28</td>\n",
       "      <td>6.16</td>\n",
       "      <td>Houser, Adrian</td>\n",
       "      <td>686469</td>\n",
       "      <td>605288</td>\n",
       "      <td>NaN</td>\n",
       "      <td>ball</td>\n",
       "      <td>...</td>\n",
       "      <td>0</td>\n",
       "      <td>0</td>\n",
       "      <td>0</td>\n",
       "      <td>0</td>\n",
       "      <td>0</td>\n",
       "      <td>Standard</td>\n",
       "      <td>Standard</td>\n",
       "      <td>220</td>\n",
       "      <td>0.0</td>\n",
       "      <td>0.066</td>\n",
       "    </tr>\n",
       "    <tr>\n",
       "      <th>3714</th>\n",
       "      <td>CU</td>\n",
       "      <td>2023-05-13</td>\n",
       "      <td>81.4</td>\n",
       "      <td>-1.6</td>\n",
       "      <td>5.95</td>\n",
       "      <td>Houser, Adrian</td>\n",
       "      <td>677951</td>\n",
       "      <td>605288</td>\n",
       "      <td>double</td>\n",
       "      <td>hit_into_play</td>\n",
       "      <td>...</td>\n",
       "      <td>0</td>\n",
       "      <td>0</td>\n",
       "      <td>0</td>\n",
       "      <td>0</td>\n",
       "      <td>0</td>\n",
       "      <td>Standard</td>\n",
       "      <td>Standard</td>\n",
       "      <td>28</td>\n",
       "      <td>-0.06</td>\n",
       "      <td>0.703</td>\n",
       "    </tr>\n",
       "    <tr>\n",
       "      <th>3802</th>\n",
       "      <td>SI</td>\n",
       "      <td>2023-05-13</td>\n",
       "      <td>93.2</td>\n",
       "      <td>-1.55</td>\n",
       "      <td>5.99</td>\n",
       "      <td>Houser, Adrian</td>\n",
       "      <td>677951</td>\n",
       "      <td>605288</td>\n",
       "      <td>NaN</td>\n",
       "      <td>called_strike</td>\n",
       "      <td>...</td>\n",
       "      <td>0</td>\n",
       "      <td>0</td>\n",
       "      <td>0</td>\n",
       "      <td>0</td>\n",
       "      <td>0</td>\n",
       "      <td>Standard</td>\n",
       "      <td>Standard</td>\n",
       "      <td>226</td>\n",
       "      <td>0.0</td>\n",
       "      <td>-0.05</td>\n",
       "    </tr>\n",
       "    <tr>\n",
       "      <th>3891</th>\n",
       "      <td>SI</td>\n",
       "      <td>2023-05-13</td>\n",
       "      <td>93.6</td>\n",
       "      <td>-1.49</td>\n",
       "      <td>5.87</td>\n",
       "      <td>Houser, Adrian</td>\n",
       "      <td>677951</td>\n",
       "      <td>605288</td>\n",
       "      <td>NaN</td>\n",
       "      <td>called_strike</td>\n",
       "      <td>...</td>\n",
       "      <td>0</td>\n",
       "      <td>0</td>\n",
       "      <td>0</td>\n",
       "      <td>0</td>\n",
       "      <td>0</td>\n",
       "      <td>Standard</td>\n",
       "      <td>Standard</td>\n",
       "      <td>224</td>\n",
       "      <td>0.0</td>\n",
       "      <td>-0.037</td>\n",
       "    </tr>\n",
       "  </tbody>\n",
       "</table>\n",
       "<p>3990 rows × 92 columns</p>\n",
       "</div>"
      ],
      "text/plain": [
       "     pitch_type  game_date  release_speed  release_pos_x  release_pos_z  \\\n",
       "1399         SL 2023-05-13           89.0          -2.15           4.54   \n",
       "1436         FF 2023-05-13           95.1           -2.3           4.53   \n",
       "1439         FF 2023-05-13           95.0          -2.14            4.5   \n",
       "1500         FF 2023-05-13           94.4          -2.21            4.5   \n",
       "1516         FF 2023-05-13           93.9          -2.23           4.52   \n",
       "...         ...        ...            ...            ...            ...   \n",
       "3532         FF 2023-05-13           95.0          -1.43           5.94   \n",
       "3608         FF 2023-05-13           94.7          -1.28           6.16   \n",
       "3714         CU 2023-05-13           81.4           -1.6           5.95   \n",
       "3802         SI 2023-05-13           93.2          -1.55           5.99   \n",
       "3891         SI 2023-05-13           93.6          -1.49           5.87   \n",
       "\n",
       "         player_name  batter  pitcher     events      description  ...  \\\n",
       "1399    Díaz, Alexis  493329   664747  strikeout  swinging_strike  ...   \n",
       "1436    Díaz, Alexis  493329   664747        NaN             foul  ...   \n",
       "1439    Díaz, Alexis  493329   664747        NaN             foul  ...   \n",
       "1500    Díaz, Alexis  493329   664747        NaN  swinging_strike  ...   \n",
       "1516    Díaz, Alexis  516416   664747       walk             ball  ...   \n",
       "...              ...     ...      ...        ...              ...  ...   \n",
       "3532  Houser, Adrian  686469   605288        NaN    called_strike  ...   \n",
       "3608  Houser, Adrian  686469   605288        NaN             ball  ...   \n",
       "3714  Houser, Adrian  677951   605288     double    hit_into_play  ...   \n",
       "3802  Houser, Adrian  677951   605288        NaN    called_strike  ...   \n",
       "3891  Houser, Adrian  677951   605288        NaN    called_strike  ...   \n",
       "\n",
       "      fld_score  post_away_score  post_home_score  post_bat_score  \\\n",
       "1399          6                6                5               5   \n",
       "1436          6                6                5               5   \n",
       "1439          6                6                5               5   \n",
       "1500          6                6                5               5   \n",
       "1516          6                6                5               5   \n",
       "...         ...              ...              ...             ...   \n",
       "3532          0                0                0               0   \n",
       "3608          0                0                0               0   \n",
       "3714          0                0                0               0   \n",
       "3802          0                0                0               0   \n",
       "3891          0                0                0               0   \n",
       "\n",
       "      post_fld_score if_fielding_alignment of_fielding_alignment spin_axis  \\\n",
       "1399               6              Standard              Standard       125   \n",
       "1436               6              Standard              Standard       225   \n",
       "1439               6              Standard              Standard       227   \n",
       "1500               6              Standard              Standard       225   \n",
       "1516               6              Standard              Standard       232   \n",
       "...              ...                   ...                   ...       ...   \n",
       "3532               0              Standard              Standard       219   \n",
       "3608               0              Standard              Standard       220   \n",
       "3714               0              Standard              Standard        28   \n",
       "3802               0              Standard              Standard       226   \n",
       "3891               0              Standard              Standard       224   \n",
       "\n",
       "     delta_home_win_exp delta_run_exp  \n",
       "1399             -0.271         -0.49  \n",
       "1436                0.0           0.0  \n",
       "1439                0.0           0.0  \n",
       "1500                0.0        -0.171  \n",
       "1516              0.102         0.231  \n",
       "...                 ...           ...  \n",
       "3532                0.0        -0.122  \n",
       "3608                0.0         0.066  \n",
       "3714              -0.06         0.703  \n",
       "3802                0.0         -0.05  \n",
       "3891                0.0        -0.037  \n",
       "\n",
       "[3990 rows x 92 columns]"
      ]
     },
     "execution_count": 261,
     "metadata": {},
     "output_type": "execute_result"
    }
   ],
   "source": [
    "statcast()"
   ]
  },
  {
   "cell_type": "code",
   "execution_count": 258,
   "id": "e1e69147-63b8-4ea1-8c3a-8d563f5494b3",
   "metadata": {},
   "outputs": [
    {
     "ename": "JSONDecodeError",
     "evalue": "Expecting value: line 1 column 1 (char 0)",
     "output_type": "error",
     "traceback": [
      "\u001b[1;31m---------------------------------------------------------------------------\u001b[0m",
      "\u001b[1;31mJSONDecodeError\u001b[0m                           Traceback (most recent call last)",
      "File \u001b[1;32m~\\anaconda3\\lib\\site-packages\\requests\\models.py:971\u001b[0m, in \u001b[0;36mResponse.json\u001b[1;34m(self, **kwargs)\u001b[0m\n\u001b[0;32m    970\u001b[0m \u001b[38;5;28;01mtry\u001b[39;00m:\n\u001b[1;32m--> 971\u001b[0m     \u001b[38;5;28;01mreturn\u001b[39;00m complexjson\u001b[38;5;241m.\u001b[39mloads(\u001b[38;5;28mself\u001b[39m\u001b[38;5;241m.\u001b[39mtext, \u001b[38;5;241m*\u001b[39m\u001b[38;5;241m*\u001b[39mkwargs)\n\u001b[0;32m    972\u001b[0m \u001b[38;5;28;01mexcept\u001b[39;00m JSONDecodeError \u001b[38;5;28;01mas\u001b[39;00m e:\n\u001b[0;32m    973\u001b[0m     \u001b[38;5;66;03m# Catch JSON-related errors and raise as requests.JSONDecodeError\u001b[39;00m\n\u001b[0;32m    974\u001b[0m     \u001b[38;5;66;03m# This aliases json.JSONDecodeError and simplejson.JSONDecodeError\u001b[39;00m\n",
      "File \u001b[1;32m~\\anaconda3\\lib\\json\\__init__.py:346\u001b[0m, in \u001b[0;36mloads\u001b[1;34m(s, cls, object_hook, parse_float, parse_int, parse_constant, object_pairs_hook, **kw)\u001b[0m\n\u001b[0;32m    343\u001b[0m \u001b[38;5;28;01mif\u001b[39;00m (\u001b[38;5;28mcls\u001b[39m \u001b[38;5;129;01mis\u001b[39;00m \u001b[38;5;28;01mNone\u001b[39;00m \u001b[38;5;129;01mand\u001b[39;00m object_hook \u001b[38;5;129;01mis\u001b[39;00m \u001b[38;5;28;01mNone\u001b[39;00m \u001b[38;5;129;01mand\u001b[39;00m\n\u001b[0;32m    344\u001b[0m         parse_int \u001b[38;5;129;01mis\u001b[39;00m \u001b[38;5;28;01mNone\u001b[39;00m \u001b[38;5;129;01mand\u001b[39;00m parse_float \u001b[38;5;129;01mis\u001b[39;00m \u001b[38;5;28;01mNone\u001b[39;00m \u001b[38;5;129;01mand\u001b[39;00m\n\u001b[0;32m    345\u001b[0m         parse_constant \u001b[38;5;129;01mis\u001b[39;00m \u001b[38;5;28;01mNone\u001b[39;00m \u001b[38;5;129;01mand\u001b[39;00m object_pairs_hook \u001b[38;5;129;01mis\u001b[39;00m \u001b[38;5;28;01mNone\u001b[39;00m \u001b[38;5;129;01mand\u001b[39;00m \u001b[38;5;129;01mnot\u001b[39;00m kw):\n\u001b[1;32m--> 346\u001b[0m     \u001b[38;5;28;01mreturn\u001b[39;00m \u001b[43m_default_decoder\u001b[49m\u001b[38;5;241;43m.\u001b[39;49m\u001b[43mdecode\u001b[49m\u001b[43m(\u001b[49m\u001b[43ms\u001b[49m\u001b[43m)\u001b[49m\n\u001b[0;32m    347\u001b[0m \u001b[38;5;28;01mif\u001b[39;00m \u001b[38;5;28mcls\u001b[39m \u001b[38;5;129;01mis\u001b[39;00m \u001b[38;5;28;01mNone\u001b[39;00m:\n",
      "File \u001b[1;32m~\\anaconda3\\lib\\json\\decoder.py:337\u001b[0m, in \u001b[0;36mJSONDecoder.decode\u001b[1;34m(self, s, _w)\u001b[0m\n\u001b[0;32m    333\u001b[0m \u001b[38;5;250m\u001b[39m\u001b[38;5;124;03m\"\"\"Return the Python representation of ``s`` (a ``str`` instance\u001b[39;00m\n\u001b[0;32m    334\u001b[0m \u001b[38;5;124;03mcontaining a JSON document).\u001b[39;00m\n\u001b[0;32m    335\u001b[0m \n\u001b[0;32m    336\u001b[0m \u001b[38;5;124;03m\"\"\"\u001b[39;00m\n\u001b[1;32m--> 337\u001b[0m obj, end \u001b[38;5;241m=\u001b[39m \u001b[38;5;28;43mself\u001b[39;49m\u001b[38;5;241;43m.\u001b[39;49m\u001b[43mraw_decode\u001b[49m\u001b[43m(\u001b[49m\u001b[43ms\u001b[49m\u001b[43m,\u001b[49m\u001b[43m \u001b[49m\u001b[43midx\u001b[49m\u001b[38;5;241;43m=\u001b[39;49m\u001b[43m_w\u001b[49m\u001b[43m(\u001b[49m\u001b[43ms\u001b[49m\u001b[43m,\u001b[49m\u001b[43m \u001b[49m\u001b[38;5;241;43m0\u001b[39;49m\u001b[43m)\u001b[49m\u001b[38;5;241;43m.\u001b[39;49m\u001b[43mend\u001b[49m\u001b[43m(\u001b[49m\u001b[43m)\u001b[49m\u001b[43m)\u001b[49m\n\u001b[0;32m    338\u001b[0m end \u001b[38;5;241m=\u001b[39m _w(s, end)\u001b[38;5;241m.\u001b[39mend()\n",
      "File \u001b[1;32m~\\anaconda3\\lib\\json\\decoder.py:355\u001b[0m, in \u001b[0;36mJSONDecoder.raw_decode\u001b[1;34m(self, s, idx)\u001b[0m\n\u001b[0;32m    354\u001b[0m \u001b[38;5;28;01mexcept\u001b[39;00m \u001b[38;5;167;01mStopIteration\u001b[39;00m \u001b[38;5;28;01mas\u001b[39;00m err:\n\u001b[1;32m--> 355\u001b[0m     \u001b[38;5;28;01mraise\u001b[39;00m JSONDecodeError(\u001b[38;5;124m\"\u001b[39m\u001b[38;5;124mExpecting value\u001b[39m\u001b[38;5;124m\"\u001b[39m, s, err\u001b[38;5;241m.\u001b[39mvalue) \u001b[38;5;28;01mfrom\u001b[39;00m \u001b[38;5;28;01mNone\u001b[39;00m\n\u001b[0;32m    356\u001b[0m \u001b[38;5;28;01mreturn\u001b[39;00m obj, end\n",
      "\u001b[1;31mJSONDecodeError\u001b[0m: Expecting value: line 1 column 1 (char 0)",
      "\nDuring handling of the above exception, another exception occurred:\n",
      "\u001b[1;31mJSONDecodeError\u001b[0m                           Traceback (most recent call last)",
      "Cell \u001b[1;32mIn[258], line 1\u001b[0m\n\u001b[1;32m----> 1\u001b[0m \u001b[43mres\u001b[49m\u001b[38;5;241;43m.\u001b[39;49m\u001b[43mjson\u001b[49m\u001b[43m(\u001b[49m\u001b[43m)\u001b[49m\n",
      "File \u001b[1;32m~\\anaconda3\\lib\\site-packages\\requests\\models.py:975\u001b[0m, in \u001b[0;36mResponse.json\u001b[1;34m(self, **kwargs)\u001b[0m\n\u001b[0;32m    971\u001b[0m     \u001b[38;5;28;01mreturn\u001b[39;00m complexjson\u001b[38;5;241m.\u001b[39mloads(\u001b[38;5;28mself\u001b[39m\u001b[38;5;241m.\u001b[39mtext, \u001b[38;5;241m*\u001b[39m\u001b[38;5;241m*\u001b[39mkwargs)\n\u001b[0;32m    972\u001b[0m \u001b[38;5;28;01mexcept\u001b[39;00m JSONDecodeError \u001b[38;5;28;01mas\u001b[39;00m e:\n\u001b[0;32m    973\u001b[0m     \u001b[38;5;66;03m# Catch JSON-related errors and raise as requests.JSONDecodeError\u001b[39;00m\n\u001b[0;32m    974\u001b[0m     \u001b[38;5;66;03m# This aliases json.JSONDecodeError and simplejson.JSONDecodeError\u001b[39;00m\n\u001b[1;32m--> 975\u001b[0m     \u001b[38;5;28;01mraise\u001b[39;00m RequestsJSONDecodeError(e\u001b[38;5;241m.\u001b[39mmsg, e\u001b[38;5;241m.\u001b[39mdoc, e\u001b[38;5;241m.\u001b[39mpos)\n",
      "\u001b[1;31mJSONDecodeError\u001b[0m: Expecting value: line 1 column 1 (char 0)"
     ]
    }
   ],
   "source": [
    "res.json()"
   ]
  },
  {
   "cell_type": "code",
   "execution_count": 243,
   "id": "cc975258-6ede-463b-9429-81a42ad17ef4",
   "metadata": {},
   "outputs": [],
   "source": [
    "from pybaseball import playerid_lookup"
   ]
  },
  {
   "cell_type": "code",
   "execution_count": 419,
   "id": "9d0b3949-52e5-4c86-ac43-8aa9dd7fca54",
   "metadata": {},
   "outputs": [
    {
     "data": {
      "text/plain": [
       "0    656257\n",
       "Name: key_mlbam, dtype: int32"
      ]
     },
     "execution_count": 419,
     "metadata": {},
     "output_type": "execute_result"
    }
   ],
   "source": [
    "playerid_lookup('brigham','jeff')['key_mlbam']"
   ]
  },
  {
   "cell_type": "code",
   "execution_count": 246,
   "id": "60525c14-29d4-4a67-aef0-1061a5d5d5f1",
   "metadata": {},
   "outputs": [],
   "source": [
    "from pybaseball import statcast_pitcher"
   ]
  },
  {
   "cell_type": "code",
   "execution_count": null,
   "id": "70ed2f6a-e5e6-4b9b-9565-f75d82523311",
   "metadata": {},
   "outputs": [],
   "source": [
    "statcast_pitcher(start_dt = "
   ]
  },
  {
   "cell_type": "code",
   "execution_count": null,
   "id": "ddefc6ab-da7f-4336-8cfc-4c8d328c6158",
   "metadata": {},
   "outputs": [],
   "source": []
  },
  {
   "cell_type": "code",
   "execution_count": null,
   "id": "e66f701e-53fc-4782-9290-17f6c7e988fd",
   "metadata": {},
   "outputs": [],
   "source": []
  },
  {
   "cell_type": "code",
   "execution_count": 434,
   "id": "d8e31fa0-0b1b-461a-a465-400cde739a6d",
   "metadata": {},
   "outputs": [],
   "source": [
    "def predict(last, first, pitch, pitch_no):\n",
    "    ball = X[(X['player_name'] == last + ', ' + first) & \n",
    "       (X['pitch_type_orig'] == pitch) & \n",
    "       (X['pitch_no'] > pitch_no - 5) & \n",
    "       (X['pitch_no'] < pitch_no + 5)]\n",
    "    cols = ['vx0','vy0','vz0','release_speed','pfx_x','pfx_z','plate_x','plate_z','ax','ay','az','release_spin_rate','release_extension','effective_speed',\n",
    "        'release_pos_x','release_pos_y','release_pos_z']\n",
    "    for col in cols:\n",
    "        ball[f'{col}_diff'] = ball[col] - ball[col].mean()\n",
    "    ball.drop(columns = ['pitch_type_orig','player_name'], inplace = True)\n",
    "    return model_ball.predict(pipe.transform(ball)).mean()"
   ]
  },
  {
   "cell_type": "code",
   "execution_count": 452,
   "id": "d29262a9-c605-40f0-8212-07fe54c74cdc",
   "metadata": {},
   "outputs": [
    {
     "name": "stderr",
     "output_type": "stream",
     "text": [
      "C:\\Users\\rob\\AppData\\Local\\Temp\\ipykernel_9824\\1421490229.py:9: SettingWithCopyWarning: \n",
      "A value is trying to be set on a copy of a slice from a DataFrame.\n",
      "Try using .loc[row_indexer,col_indexer] = value instead\n",
      "\n",
      "See the caveats in the documentation: https://pandas.pydata.org/pandas-docs/stable/user_guide/indexing.html#returning-a-view-versus-a-copy\n",
      "  ball[f'{col}_diff'] = ball[col] - ball[col].mean()\n",
      "C:\\Users\\rob\\AppData\\Local\\Temp\\ipykernel_9824\\1421490229.py:9: SettingWithCopyWarning: \n",
      "A value is trying to be set on a copy of a slice from a DataFrame.\n",
      "Try using .loc[row_indexer,col_indexer] = value instead\n",
      "\n",
      "See the caveats in the documentation: https://pandas.pydata.org/pandas-docs/stable/user_guide/indexing.html#returning-a-view-versus-a-copy\n",
      "  ball[f'{col}_diff'] = ball[col] - ball[col].mean()\n",
      "C:\\Users\\rob\\AppData\\Local\\Temp\\ipykernel_9824\\1421490229.py:9: SettingWithCopyWarning: \n",
      "A value is trying to be set on a copy of a slice from a DataFrame.\n",
      "Try using .loc[row_indexer,col_indexer] = value instead\n",
      "\n",
      "See the caveats in the documentation: https://pandas.pydata.org/pandas-docs/stable/user_guide/indexing.html#returning-a-view-versus-a-copy\n",
      "  ball[f'{col}_diff'] = ball[col] - ball[col].mean()\n",
      "C:\\Users\\rob\\AppData\\Local\\Temp\\ipykernel_9824\\1421490229.py:9: SettingWithCopyWarning: \n",
      "A value is trying to be set on a copy of a slice from a DataFrame.\n",
      "Try using .loc[row_indexer,col_indexer] = value instead\n",
      "\n",
      "See the caveats in the documentation: https://pandas.pydata.org/pandas-docs/stable/user_guide/indexing.html#returning-a-view-versus-a-copy\n",
      "  ball[f'{col}_diff'] = ball[col] - ball[col].mean()\n",
      "C:\\Users\\rob\\AppData\\Local\\Temp\\ipykernel_9824\\1421490229.py:9: SettingWithCopyWarning: \n",
      "A value is trying to be set on a copy of a slice from a DataFrame.\n",
      "Try using .loc[row_indexer,col_indexer] = value instead\n",
      "\n",
      "See the caveats in the documentation: https://pandas.pydata.org/pandas-docs/stable/user_guide/indexing.html#returning-a-view-versus-a-copy\n",
      "  ball[f'{col}_diff'] = ball[col] - ball[col].mean()\n",
      "C:\\Users\\rob\\AppData\\Local\\Temp\\ipykernel_9824\\1421490229.py:9: SettingWithCopyWarning: \n",
      "A value is trying to be set on a copy of a slice from a DataFrame.\n",
      "Try using .loc[row_indexer,col_indexer] = value instead\n",
      "\n",
      "See the caveats in the documentation: https://pandas.pydata.org/pandas-docs/stable/user_guide/indexing.html#returning-a-view-versus-a-copy\n",
      "  ball[f'{col}_diff'] = ball[col] - ball[col].mean()\n",
      "C:\\Users\\rob\\AppData\\Local\\Temp\\ipykernel_9824\\1421490229.py:9: SettingWithCopyWarning: \n",
      "A value is trying to be set on a copy of a slice from a DataFrame.\n",
      "Try using .loc[row_indexer,col_indexer] = value instead\n",
      "\n",
      "See the caveats in the documentation: https://pandas.pydata.org/pandas-docs/stable/user_guide/indexing.html#returning-a-view-versus-a-copy\n",
      "  ball[f'{col}_diff'] = ball[col] - ball[col].mean()\n",
      "C:\\Users\\rob\\AppData\\Local\\Temp\\ipykernel_9824\\1421490229.py:9: SettingWithCopyWarning: \n",
      "A value is trying to be set on a copy of a slice from a DataFrame.\n",
      "Try using .loc[row_indexer,col_indexer] = value instead\n",
      "\n",
      "See the caveats in the documentation: https://pandas.pydata.org/pandas-docs/stable/user_guide/indexing.html#returning-a-view-versus-a-copy\n",
      "  ball[f'{col}_diff'] = ball[col] - ball[col].mean()\n",
      "C:\\Users\\rob\\AppData\\Local\\Temp\\ipykernel_9824\\1421490229.py:9: SettingWithCopyWarning: \n",
      "A value is trying to be set on a copy of a slice from a DataFrame.\n",
      "Try using .loc[row_indexer,col_indexer] = value instead\n",
      "\n",
      "See the caveats in the documentation: https://pandas.pydata.org/pandas-docs/stable/user_guide/indexing.html#returning-a-view-versus-a-copy\n",
      "  ball[f'{col}_diff'] = ball[col] - ball[col].mean()\n",
      "C:\\Users\\rob\\AppData\\Local\\Temp\\ipykernel_9824\\1421490229.py:9: SettingWithCopyWarning: \n",
      "A value is trying to be set on a copy of a slice from a DataFrame.\n",
      "Try using .loc[row_indexer,col_indexer] = value instead\n",
      "\n",
      "See the caveats in the documentation: https://pandas.pydata.org/pandas-docs/stable/user_guide/indexing.html#returning-a-view-versus-a-copy\n",
      "  ball[f'{col}_diff'] = ball[col] - ball[col].mean()\n",
      "C:\\Users\\rob\\AppData\\Local\\Temp\\ipykernel_9824\\1421490229.py:9: SettingWithCopyWarning: \n",
      "A value is trying to be set on a copy of a slice from a DataFrame.\n",
      "Try using .loc[row_indexer,col_indexer] = value instead\n",
      "\n",
      "See the caveats in the documentation: https://pandas.pydata.org/pandas-docs/stable/user_guide/indexing.html#returning-a-view-versus-a-copy\n",
      "  ball[f'{col}_diff'] = ball[col] - ball[col].mean()\n",
      "C:\\Users\\rob\\AppData\\Local\\Temp\\ipykernel_9824\\1421490229.py:9: SettingWithCopyWarning: \n",
      "A value is trying to be set on a copy of a slice from a DataFrame.\n",
      "Try using .loc[row_indexer,col_indexer] = value instead\n",
      "\n",
      "See the caveats in the documentation: https://pandas.pydata.org/pandas-docs/stable/user_guide/indexing.html#returning-a-view-versus-a-copy\n",
      "  ball[f'{col}_diff'] = ball[col] - ball[col].mean()\n",
      "C:\\Users\\rob\\AppData\\Local\\Temp\\ipykernel_9824\\1421490229.py:9: SettingWithCopyWarning: \n",
      "A value is trying to be set on a copy of a slice from a DataFrame.\n",
      "Try using .loc[row_indexer,col_indexer] = value instead\n",
      "\n",
      "See the caveats in the documentation: https://pandas.pydata.org/pandas-docs/stable/user_guide/indexing.html#returning-a-view-versus-a-copy\n",
      "  ball[f'{col}_diff'] = ball[col] - ball[col].mean()\n",
      "C:\\Users\\rob\\AppData\\Local\\Temp\\ipykernel_9824\\1421490229.py:9: SettingWithCopyWarning: \n",
      "A value is trying to be set on a copy of a slice from a DataFrame.\n",
      "Try using .loc[row_indexer,col_indexer] = value instead\n",
      "\n",
      "See the caveats in the documentation: https://pandas.pydata.org/pandas-docs/stable/user_guide/indexing.html#returning-a-view-versus-a-copy\n",
      "  ball[f'{col}_diff'] = ball[col] - ball[col].mean()\n",
      "C:\\Users\\rob\\AppData\\Local\\Temp\\ipykernel_9824\\1421490229.py:9: SettingWithCopyWarning: \n",
      "A value is trying to be set on a copy of a slice from a DataFrame.\n",
      "Try using .loc[row_indexer,col_indexer] = value instead\n",
      "\n",
      "See the caveats in the documentation: https://pandas.pydata.org/pandas-docs/stable/user_guide/indexing.html#returning-a-view-versus-a-copy\n",
      "  ball[f'{col}_diff'] = ball[col] - ball[col].mean()\n",
      "C:\\Users\\rob\\AppData\\Local\\Temp\\ipykernel_9824\\1421490229.py:9: SettingWithCopyWarning: \n",
      "A value is trying to be set on a copy of a slice from a DataFrame.\n",
      "Try using .loc[row_indexer,col_indexer] = value instead\n",
      "\n",
      "See the caveats in the documentation: https://pandas.pydata.org/pandas-docs/stable/user_guide/indexing.html#returning-a-view-versus-a-copy\n",
      "  ball[f'{col}_diff'] = ball[col] - ball[col].mean()\n",
      "C:\\Users\\rob\\AppData\\Local\\Temp\\ipykernel_9824\\1421490229.py:9: SettingWithCopyWarning: \n",
      "A value is trying to be set on a copy of a slice from a DataFrame.\n",
      "Try using .loc[row_indexer,col_indexer] = value instead\n",
      "\n",
      "See the caveats in the documentation: https://pandas.pydata.org/pandas-docs/stable/user_guide/indexing.html#returning-a-view-versus-a-copy\n",
      "  ball[f'{col}_diff'] = ball[col] - ball[col].mean()\n",
      "C:\\Users\\rob\\AppData\\Local\\Temp\\ipykernel_9824\\1421490229.py:10: SettingWithCopyWarning: \n",
      "A value is trying to be set on a copy of a slice from a DataFrame\n",
      "\n",
      "See the caveats in the documentation: https://pandas.pydata.org/pandas-docs/stable/user_guide/indexing.html#returning-a-view-versus-a-copy\n",
      "  ball.drop(columns = ['pitch_type_orig','player_name'], inplace = True)\n"
     ]
    },
    {
     "name": "stdout",
     "output_type": "stream",
     "text": [
      "1/1 [==============================] - 0s 172ms/step\n"
     ]
    },
    {
     "data": {
      "text/plain": [
       "0.4615338"
      ]
     },
     "execution_count": 452,
     "metadata": {},
     "output_type": "execute_result"
    }
   ],
   "source": [
    "predict_ball('Kershaw','Clayton','FF',60)"
   ]
  },
  {
   "cell_type": "code",
   "execution_count": null,
   "id": "3c122693-59a9-4f15-936f-85a26c9ed9e6",
   "metadata": {},
   "outputs": [],
   "source": []
  },
  {
   "cell_type": "code",
   "execution_count": null,
   "id": "73da6897-f2aa-438a-b68d-613446b990c8",
   "metadata": {},
   "outputs": [],
   "source": []
  },
  {
   "cell_type": "code",
   "execution_count": 428,
   "id": "b563c6db-ff0f-44b9-9d32-259d6d1481d9",
   "metadata": {},
   "outputs": [],
   "source": [
    "cols = ['vx0','vy0','vz0','release_speed','pfx_x','pfx_z','plate_x','plate_z','ax','ay','az','release_spin_rate','release_extension','effective_speed',\n",
    "        'release_pos_x','release_pos_y','release_pos_z']"
   ]
  },
  {
   "cell_type": "code",
   "execution_count": 430,
   "id": "a63465c6-dbec-4998-a532-b6954695f897",
   "metadata": {},
   "outputs": [
    {
     "name": "stderr",
     "output_type": "stream",
     "text": [
      "C:\\Users\\rob\\AppData\\Local\\Temp\\ipykernel_9824\\1687911216.py:2: SettingWithCopyWarning: \n",
      "A value is trying to be set on a copy of a slice from a DataFrame.\n",
      "Try using .loc[row_indexer,col_indexer] = value instead\n",
      "\n",
      "See the caveats in the documentation: https://pandas.pydata.org/pandas-docs/stable/user_guide/indexing.html#returning-a-view-versus-a-copy\n",
      "  ck[f'{col}_diff'] = ck[col] - ck[col].mean()\n"
     ]
    }
   ],
   "source": [
    "for col in cols:\n",
    "    ck[f'{col}_diff'] = ck[col] - ck[col].mean()"
   ]
  },
  {
   "cell_type": "code",
   "execution_count": 431,
   "id": "78609c52-d60e-48b0-b2ed-21faac511b0d",
   "metadata": {},
   "outputs": [
    {
     "name": "stderr",
     "output_type": "stream",
     "text": [
      "C:\\Users\\rob\\AppData\\Local\\Temp\\ipykernel_9824\\3254636132.py:1: SettingWithCopyWarning: \n",
      "A value is trying to be set on a copy of a slice from a DataFrame\n",
      "\n",
      "See the caveats in the documentation: https://pandas.pydata.org/pandas-docs/stable/user_guide/indexing.html#returning-a-view-versus-a-copy\n",
      "  ck.drop(columns = ['pitch_type_orig','player_name'], inplace = True)\n"
     ]
    }
   ],
   "source": []
  },
  {
   "cell_type": "code",
   "execution_count": 433,
   "id": "4967bde5-89b3-4d35-9a98-ef89ebc5c32c",
   "metadata": {},
   "outputs": [
    {
     "name": "stdout",
     "output_type": "stream",
     "text": [
      "1/1 [==============================] - 0s 54ms/step\n"
     ]
    },
    {
     "data": {
      "text/plain": [
       "0.49795806"
      ]
     },
     "execution_count": 433,
     "metadata": {},
     "output_type": "execute_result"
    }
   ],
   "source": [
    "model.predict(pipe.transform(ck)).mean()"
   ]
  },
  {
   "cell_type": "code",
   "execution_count": null,
   "id": "7312f3f8-ed23-4127-9ed4-98034b047c71",
   "metadata": {},
   "outputs": [],
   "source": []
  },
  {
   "cell_type": "code",
   "execution_count": null,
   "id": "93fe99bc-707d-4949-80b8-c9cb153091fb",
   "metadata": {},
   "outputs": [],
   "source": [
    "def pitcher(last,first):\n",
    "    "
   ]
  },
  {
   "cell_type": "code",
   "execution_count": null,
   "id": "920a90bb-7082-4273-accd-919ca0e0db7d",
   "metadata": {},
   "outputs": [],
   "source": []
  },
  {
   "cell_type": "code",
   "execution_count": null,
   "id": "fceaa940-eef2-436e-956e-7ed969cae018",
   "metadata": {},
   "outputs": [],
   "source": []
  },
  {
   "cell_type": "code",
   "execution_count": null,
   "id": "28da70d7-b9aa-4485-9841-58b04281a00b",
   "metadata": {},
   "outputs": [],
   "source": []
  },
  {
   "cell_type": "code",
   "execution_count": 326,
   "id": "9bff656d-4b03-4763-ba0b-ba96c2df7d05",
   "metadata": {},
   "outputs": [],
   "source": [
    "y_pred = [1 if x >= 0.5 else 0 for x in y_pred]"
   ]
  },
  {
   "cell_type": "code",
   "execution_count": 327,
   "id": "67b35dec-fef1-4d71-9a4d-c9f3d573ccda",
   "metadata": {},
   "outputs": [
    {
     "data": {
      "text/plain": [
       "0.6106353603316734"
      ]
     },
     "execution_count": 327,
     "metadata": {},
     "output_type": "execute_result"
    }
   ],
   "source": [
    "roc_auc_score(y_test, y_pred)"
   ]
  },
  {
   "cell_type": "code",
   "execution_count": 328,
   "id": "fa7e65ed-b300-45d2-bd7d-76f3f5144655",
   "metadata": {},
   "outputs": [
    {
     "data": {
      "text/plain": [
       "array([[3018,  949],\n",
       "       [1924, 1488]], dtype=int64)"
      ]
     },
     "execution_count": 328,
     "metadata": {},
     "output_type": "execute_result"
    }
   ],
   "source": [
    "confusion_matrix(y_pred, y_test)"
   ]
  },
  {
   "cell_type": "code",
   "execution_count": null,
   "id": "646e650c-0df0-405d-8164-1580b4d3ac01",
   "metadata": {},
   "outputs": [],
   "source": []
  },
  {
   "cell_type": "code",
   "execution_count": null,
   "id": "2cee3057-4f91-4602-a488-1d18715631f3",
   "metadata": {},
   "outputs": [],
   "source": []
  },
  {
   "cell_type": "code",
   "execution_count": null,
   "id": "9b4c485f-67d1-4e67-81fc-a00253ec253e",
   "metadata": {},
   "outputs": [],
   "source": []
  },
  {
   "cell_type": "code",
   "execution_count": null,
   "id": "cf18b63b-b84d-4dde-9bb3-8404d8b9a734",
   "metadata": {},
   "outputs": [],
   "source": []
  },
  {
   "cell_type": "code",
   "execution_count": null,
   "id": "59ca25ad-a8bc-40c3-8e2b-6d58bb3fa5e9",
   "metadata": {},
   "outputs": [],
   "source": []
  },
  {
   "cell_type": "code",
   "execution_count": 5,
   "id": "11b0dfb4-6d11-4462-9e6e-41de94dd9515",
   "metadata": {},
   "outputs": [],
   "source": [
    "def load_pitcher(last,first):\n",
    "    pitcher = statcast_pitcher('2015-01-01','2023-05-09',\n",
    "                               playerid_lookup(str(last),str(first))['key_mlbam'][0])\n",
    "    pitcher['game_date'] = pd.to_datetime(pitcher['game_date'])\n",
    "    pitcher['pitch_no'] = pitcher.groupby('game_date').cumcount() + 1\n",
    "    pitcher['swing'] = pitcher['description'].apply(lambda x: 1 if x == 'swinging_strike' else 0)\n",
    "    pitcher['ball'] = pitcher['type'].apply(lambda x: 1 if x == 'B' else 0)\n",
    "    pitcher = pitcher[['pitch_type','release_speed','pfx_x','pfx_z',\n",
    "            'plate_x','plate_z','vx0','vy0','vz0',\n",
    "            'ax','ay','az','sz_top','sz_bot',\n",
    "            'release_spin_rate','release_extension','effective_speed','inning',\n",
    "        'release_pos_x','release_pos_y','release_pos_z','pitch_no','swing','ball']]\n",
    "    pitcher.dropna(inplace = True)\n",
    "    pitches = []\n",
    "    for i in pitcher['pitch_type'].unique():\n",
    "        if pitcher['pitch_type'].value_counts(normalize = True).get(key = i) > 0.05:\n",
    "            pitches.append(i)\n",
    "    return pitcher, pitches"
   ]
  },
  {
   "cell_type": "code",
   "execution_count": 6,
   "id": "58e4d962-0887-485a-9c69-5e22bec72331",
   "metadata": {},
   "outputs": [],
   "source": [
    "def model_ball(last,first):\n",
    "    models = {}\n",
    "    pitcher, pitches = load_pitcher(last,first)\n",
    "    for pitch in pitches:\n",
    "        X = pitcher[pitcher['pitch_type'] == pitch]\n",
    "        y = X['ball']\n",
    "\n",
    "        # final position of ball and size of strike zone gives away the result\n",
    "        X = X.drop(columns = ['swing','ball','pitch_type','plate_x','plate_z','sz_top','sz_bot'])\n",
    "        X_train, X_test, y_train, y_test = train_test_split(X, y,\n",
    "                                                    random_state=42)\n",
    "        pipe = Pipeline(steps = [\n",
    "            ('ss',StandardScaler()),\n",
    "            ('poly',PolynomialFeatures())\n",
    "        ])\n",
    "\n",
    "        X_train = pipe.fit_transform(X_train)\n",
    "        X_test = pipe.transform(X_test)\n",
    "\n",
    "        X_train = pd.DataFrame(X_train, columns = pipe.get_feature_names_out())\n",
    "        X_test = pd.DataFrame(X_test, columns = pipe.get_feature_names_out())\n",
    "\n",
    "        X_train, y_train = RandomUnderSampler().fit_resample(X_train, y_train)\n",
    "\n",
    "        model = Sequential()\n",
    "        model.add(Dense(128,activation = 'relu'))\n",
    "        model.add(Dropout(0.2))\n",
    "        model.add(Dense(32,activation = 'relu'))\n",
    "        model.add(Dense(16, activation = 'relu'))\n",
    "        model.add(Dense(1,activation = 'sigmoid'))\n",
    "        model.compile(loss='binary_crossentropy',optimizer='adam',metrics = 'AUC')\n",
    "        model.fit(X_train,y_train,validation_data=(X_test, y_test), epochs = 10, batch_size = 32)\n",
    "        models[pitch] = [pipe, model]\n",
    "    return models"
   ]
  },
  {
   "cell_type": "code",
   "execution_count": 7,
   "id": "60f38e5b-ec88-4256-959f-4ee0ba47d750",
   "metadata": {},
   "outputs": [],
   "source": [
    "def model_ball(last,first):\n",
    "    models = {}\n",
    "    pitcher, pitches = load_pitcher(last,first)\n",
    "    for pitch in pitches:\n",
    "        X = pitcher[pitcher['pitch_type'] == pitch]\n",
    "        y = X['ball']\n",
    "\n",
    "        # final position of ball and size of strike zone gives away the result\n",
    "        X = X.drop(columns = ['swing','ball','pitch_type','plate_x','plate_z','sz_top','sz_bot'])\n",
    "        X_train, X_test, y_train, y_test = train_test_split(X, y,\n",
    "                                                    random_state=42)\n",
    "        pipe = Pipeline(steps = [\n",
    "            ('ss',StandardScaler()),\n",
    "            ('poly',PolynomialFeatures())\n",
    "        ])\n",
    "\n",
    "        X_train = pipe.fit_transform(X_train)\n",
    "        X_test = pipe.transform(X_test)\n",
    "\n",
    "        X_train = pd.DataFrame(X_train, columns = pipe.get_feature_names_out())\n",
    "        X_test = pd.DataFrame(X_test, columns = pipe.get_feature_names_out())\n",
    "\n",
    "        X_train, y_train = RandomUnderSampler().fit_resample(X_train, y_train)\n",
    "\n",
    "        model = Sequential()\n",
    "        model.add(Dense(128,activation = 'relu'))\n",
    "        model.add(Dropout(0.2))\n",
    "        model.add(Dense(32,activation = 'relu'))\n",
    "        model.add(Dense(16, activation = 'relu'))\n",
    "        model.add(Dense(1,activation = 'sigmoid'))\n",
    "        model.compile(loss='binary_crossentropy',optimizer='adam',metrics = 'AUC')\n",
    "        model.fit(X_train,y_train,validation_data=(X_test, y_test), epochs = 10, batch_size = 32)\n",
    "        models[pitch] = [pipe, model]\n",
    "    return models"
   ]
  },
  {
   "cell_type": "code",
   "execution_count": 15,
   "id": "f84f4e2a-e063-4cd1-9f72-e2901b061510",
   "metadata": {},
   "outputs": [
    {
     "name": "stdout",
     "output_type": "stream",
     "text": [
      "Gathering Player Data\n"
     ]
    },
    {
     "name": "stderr",
     "output_type": "stream",
     "text": [
      "C:\\Users\\rob\\anaconda3\\lib\\site-packages\\pybaseball\\utils.py:295: DtypeWarning: Columns (43) have mixed types. Specify dtype option on import or set low_memory=False.\n",
      "  df = pd.read_csv(io.StringIO(data.text))\n"
     ]
    },
    {
     "name": "stdout",
     "output_type": "stream",
     "text": [
      "Epoch 1/10\n",
      "45/45 [==============================] - 2s 10ms/step - loss: 0.6742 - auc: 0.6311 - val_loss: 0.6130 - val_auc: 0.7555\n",
      "Epoch 2/10\n",
      "45/45 [==============================] - 0s 4ms/step - loss: 0.5620 - auc: 0.7948 - val_loss: 0.5196 - val_auc: 0.7885\n",
      "Epoch 3/10\n",
      "45/45 [==============================] - 0s 4ms/step - loss: 0.4865 - auc: 0.8463 - val_loss: 0.5283 - val_auc: 0.8074\n",
      "Epoch 4/10\n",
      "45/45 [==============================] - 0s 4ms/step - loss: 0.4347 - auc: 0.8861 - val_loss: 0.4688 - val_auc: 0.8516\n",
      "Epoch 5/10\n",
      "45/45 [==============================] - 0s 4ms/step - loss: 0.3811 - auc: 0.9138 - val_loss: 0.4751 - val_auc: 0.8474\n",
      "Epoch 6/10\n",
      "45/45 [==============================] - 0s 4ms/step - loss: 0.3412 - auc: 0.9325 - val_loss: 0.4836 - val_auc: 0.8483\n",
      "Epoch 7/10\n",
      "45/45 [==============================] - 0s 4ms/step - loss: 0.3073 - auc: 0.9445 - val_loss: 0.4637 - val_auc: 0.8572\n",
      "Epoch 8/10\n",
      "45/45 [==============================] - 0s 4ms/step - loss: 0.2823 - auc: 0.9533 - val_loss: 0.4606 - val_auc: 0.8572\n",
      "Epoch 9/10\n",
      "45/45 [==============================] - 0s 4ms/step - loss: 0.2472 - auc: 0.9648 - val_loss: 0.4709 - val_auc: 0.8675\n",
      "Epoch 10/10\n",
      "45/45 [==============================] - 0s 4ms/step - loss: 0.2471 - auc: 0.9641 - val_loss: 0.4655 - val_auc: 0.8691\n",
      "Epoch 1/10\n",
      "19/19 [==============================] - 2s 21ms/step - loss: 0.7029 - auc: 0.5529 - val_loss: 0.7342 - val_auc: 0.6192\n",
      "Epoch 2/10\n",
      "19/19 [==============================] - 0s 6ms/step - loss: 0.6219 - auc: 0.7288 - val_loss: 0.6398 - val_auc: 0.6767\n",
      "Epoch 3/10\n",
      "19/19 [==============================] - 0s 6ms/step - loss: 0.5654 - auc: 0.8039 - val_loss: 0.6286 - val_auc: 0.7318\n",
      "Epoch 4/10\n",
      "19/19 [==============================] - 0s 8ms/step - loss: 0.5077 - auc: 0.8451 - val_loss: 0.5923 - val_auc: 0.7727\n",
      "Epoch 5/10\n",
      "19/19 [==============================] - 0s 6ms/step - loss: 0.4367 - auc: 0.9003 - val_loss: 0.5377 - val_auc: 0.7849\n",
      "Epoch 6/10\n",
      "19/19 [==============================] - 0s 6ms/step - loss: 0.4189 - auc: 0.9003 - val_loss: 0.6061 - val_auc: 0.7942\n",
      "Epoch 7/10\n",
      "19/19 [==============================] - 0s 6ms/step - loss: 0.3742 - auc: 0.9177 - val_loss: 0.5461 - val_auc: 0.7916\n",
      "Epoch 8/10\n",
      "19/19 [==============================] - 0s 6ms/step - loss: 0.3203 - auc: 0.9502 - val_loss: 0.5321 - val_auc: 0.8085\n",
      "Epoch 9/10\n",
      "19/19 [==============================] - 0s 6ms/step - loss: 0.2894 - auc: 0.9590 - val_loss: 0.5315 - val_auc: 0.8234\n",
      "Epoch 10/10\n",
      "19/19 [==============================] - 0s 6ms/step - loss: 0.2691 - auc: 0.9624 - val_loss: 0.5922 - val_auc: 0.8266\n",
      "Epoch 1/10\n",
      "77/77 [==============================] - 2s 8ms/step - loss: 0.6643 - auc: 0.6613 - val_loss: 0.5969 - val_auc: 0.8063\n",
      "Epoch 2/10\n",
      "77/77 [==============================] - 0s 4ms/step - loss: 0.5248 - auc: 0.8193 - val_loss: 0.5224 - val_auc: 0.8652\n",
      "Epoch 3/10\n",
      "77/77 [==============================] - 0s 4ms/step - loss: 0.4437 - auc: 0.8735 - val_loss: 0.4293 - val_auc: 0.8839\n",
      "Epoch 4/10\n",
      "77/77 [==============================] - 0s 5ms/step - loss: 0.3773 - auc: 0.9111 - val_loss: 0.4217 - val_auc: 0.9029\n",
      "Epoch 5/10\n",
      "77/77 [==============================] - 0s 4ms/step - loss: 0.3374 - auc: 0.9309 - val_loss: 0.4465 - val_auc: 0.9104\n",
      "Epoch 6/10\n",
      "77/77 [==============================] - 0s 4ms/step - loss: 0.3038 - auc: 0.9438 - val_loss: 0.3618 - val_auc: 0.9158\n",
      "Epoch 7/10\n",
      "77/77 [==============================] - 0s 4ms/step - loss: 0.2894 - auc: 0.9491 - val_loss: 0.3668 - val_auc: 0.9164\n",
      "Epoch 8/10\n",
      "77/77 [==============================] - 0s 4ms/step - loss: 0.2437 - auc: 0.9643 - val_loss: 0.3813 - val_auc: 0.9170\n",
      "Epoch 9/10\n",
      "77/77 [==============================] - 0s 4ms/step - loss: 0.2383 - auc: 0.9653 - val_loss: 0.4145 - val_auc: 0.9187\n",
      "Epoch 10/10\n",
      "77/77 [==============================] - 0s 4ms/step - loss: 0.2182 - auc: 0.9715 - val_loss: 0.3937 - val_auc: 0.9159\n",
      "Epoch 1/10\n",
      "40/40 [==============================] - 2s 13ms/step - loss: 0.6991 - auc: 0.6238 - val_loss: 0.6839 - val_auc: 0.7134\n",
      "Epoch 2/10\n",
      "40/40 [==============================] - 0s 5ms/step - loss: 0.5797 - auc: 0.7952 - val_loss: 0.6648 - val_auc: 0.7676\n",
      "Epoch 3/10\n",
      "40/40 [==============================] - 0s 5ms/step - loss: 0.5041 - auc: 0.8390 - val_loss: 0.5422 - val_auc: 0.7765\n",
      "Epoch 4/10\n",
      "40/40 [==============================] - 0s 5ms/step - loss: 0.4198 - auc: 0.8973 - val_loss: 0.5319 - val_auc: 0.8254\n",
      "Epoch 5/10\n",
      "40/40 [==============================] - 0s 5ms/step - loss: 0.3849 - auc: 0.9125 - val_loss: 0.5519 - val_auc: 0.8220\n",
      "Epoch 6/10\n",
      "40/40 [==============================] - 0s 5ms/step - loss: 0.3268 - auc: 0.9393 - val_loss: 0.5654 - val_auc: 0.8438\n",
      "Epoch 7/10\n",
      "40/40 [==============================] - 0s 6ms/step - loss: 0.3111 - auc: 0.9433 - val_loss: 0.5692 - val_auc: 0.8593\n",
      "Epoch 8/10\n",
      "40/40 [==============================] - 0s 5ms/step - loss: 0.2782 - auc: 0.9549 - val_loss: 0.5195 - val_auc: 0.8472\n",
      "Epoch 9/10\n",
      "40/40 [==============================] - 0s 6ms/step - loss: 0.2607 - auc: 0.9602 - val_loss: 0.6252 - val_auc: 0.8611\n",
      "Epoch 10/10\n",
      "40/40 [==============================] - 0s 5ms/step - loss: 0.2325 - auc: 0.9699 - val_loss: 0.5492 - val_auc: 0.8455\n",
      "Epoch 1/10\n",
      "34/34 [==============================] - 2s 13ms/step - loss: 0.8130 - auc: 0.5401 - val_loss: 0.7501 - val_auc: 0.6431\n",
      "Epoch 2/10\n",
      "34/34 [==============================] - 0s 5ms/step - loss: 0.6625 - auc: 0.7472 - val_loss: 0.6928 - val_auc: 0.7369\n",
      "Epoch 3/10\n",
      "34/34 [==============================] - 0s 4ms/step - loss: 0.5931 - auc: 0.8022 - val_loss: 0.6153 - val_auc: 0.7717\n",
      "Epoch 4/10\n",
      "34/34 [==============================] - 0s 4ms/step - loss: 0.5208 - auc: 0.8434 - val_loss: 0.6108 - val_auc: 0.7979\n",
      "Epoch 5/10\n",
      "34/34 [==============================] - 0s 5ms/step - loss: 0.4391 - auc: 0.8950 - val_loss: 0.5116 - val_auc: 0.8308\n",
      "Epoch 6/10\n",
      "34/34 [==============================] - 0s 4ms/step - loss: 0.4267 - auc: 0.9180 - val_loss: 0.4619 - val_auc: 0.8588\n",
      "Epoch 7/10\n",
      "34/34 [==============================] - 0s 4ms/step - loss: 0.3546 - auc: 0.9341 - val_loss: 0.5506 - val_auc: 0.8606\n",
      "Epoch 8/10\n",
      "34/34 [==============================] - 0s 5ms/step - loss: 0.3529 - auc: 0.9426 - val_loss: 0.5377 - val_auc: 0.8789\n",
      "Epoch 9/10\n",
      "34/34 [==============================] - 0s 5ms/step - loss: 0.2915 - auc: 0.9504 - val_loss: 0.5887 - val_auc: 0.8851\n",
      "Epoch 10/10\n",
      "34/34 [==============================] - 0s 4ms/step - loss: 0.2480 - auc: 0.9653 - val_loss: 0.4779 - val_auc: 0.8871\n",
      "Epoch 1/10\n",
      "17/17 [==============================] - 2s 25ms/step - loss: 0.7244 - auc: 0.5729 - val_loss: 0.6937 - val_auc: 0.6188\n",
      "Epoch 2/10\n",
      "17/17 [==============================] - 0s 7ms/step - loss: 0.5991 - auc: 0.7628 - val_loss: 0.6544 - val_auc: 0.6912\n",
      "Epoch 3/10\n",
      "17/17 [==============================] - 0s 7ms/step - loss: 0.5564 - auc: 0.8136 - val_loss: 0.6243 - val_auc: 0.7498\n",
      "Epoch 4/10\n",
      "17/17 [==============================] - 0s 8ms/step - loss: 0.4714 - auc: 0.8828 - val_loss: 0.6273 - val_auc: 0.7482\n",
      "Epoch 5/10\n",
      "17/17 [==============================] - 0s 8ms/step - loss: 0.4218 - auc: 0.9012 - val_loss: 0.6131 - val_auc: 0.7707\n",
      "Epoch 6/10\n",
      "17/17 [==============================] - 0s 8ms/step - loss: 0.3760 - auc: 0.9237 - val_loss: 0.6328 - val_auc: 0.7956\n",
      "Epoch 7/10\n",
      "17/17 [==============================] - 0s 9ms/step - loss: 0.3439 - auc: 0.9328 - val_loss: 0.6452 - val_auc: 0.7974\n",
      "Epoch 8/10\n",
      "17/17 [==============================] - 0s 9ms/step - loss: 0.2805 - auc: 0.9678 - val_loss: 0.5986 - val_auc: 0.7960\n",
      "Epoch 9/10\n",
      "17/17 [==============================] - 0s 7ms/step - loss: 0.2541 - auc: 0.9679 - val_loss: 0.6478 - val_auc: 0.8078\n",
      "Epoch 10/10\n",
      "17/17 [==============================] - 0s 7ms/step - loss: 0.2230 - auc: 0.9770 - val_loss: 0.6521 - val_auc: 0.8087\n"
     ]
    },
    {
     "data": {
      "text/plain": [
       "{'ST': [Pipeline(steps=[('ss', StandardScaler()), ('poly', PolynomialFeatures())]),\n",
       "  <keras.engine.sequential.Sequential at 0x26bda3dc160>],\n",
       " 'FC': [Pipeline(steps=[('ss', StandardScaler()), ('poly', PolynomialFeatures())]),\n",
       "  <keras.engine.sequential.Sequential at 0x26bd1141fc0>],\n",
       " 'FF': [Pipeline(steps=[('ss', StandardScaler()), ('poly', PolynomialFeatures())]),\n",
       "  <keras.engine.sequential.Sequential at 0x26bd367f550>],\n",
       " 'SL': [Pipeline(steps=[('ss', StandardScaler()), ('poly', PolynomialFeatures())]),\n",
       "  <keras.engine.sequential.Sequential at 0x26bda44a7d0>],\n",
       " 'SI': [Pipeline(steps=[('ss', StandardScaler()), ('poly', PolynomialFeatures())]),\n",
       "  <keras.engine.sequential.Sequential at 0x26bcae06ec0>],\n",
       " 'FS': [Pipeline(steps=[('ss', StandardScaler()), ('poly', PolynomialFeatures())]),\n",
       "  <keras.engine.sequential.Sequential at 0x26bdbf4d3f0>]}"
      ]
     },
     "execution_count": 15,
     "metadata": {},
     "output_type": "execute_result"
    }
   ],
   "source": [
    "model_ball('Darvish','Yu')"
   ]
  },
  {
   "cell_type": "code",
   "execution_count": null,
   "id": "1cdd207d-d97b-4de1-a2e4-330d445fae4a",
   "metadata": {},
   "outputs": [],
   "source": []
  },
  {
   "cell_type": "code",
   "execution_count": 7,
   "id": "68a07135-ea43-4a75-908d-d1ee8b2a7ac7",
   "metadata": {},
   "outputs": [],
   "source": [
    "def enter_pitch(last,first,pitch,pitch_no):\n",
    "        pitcher, pitches = load_pitcher(last,first)\n",
    "        new = pd.DataFrame(pitcher.loc[(pitcher['pitch_type'] == pitch) & \\\n",
    "                                       (pitcher['pitch_no'] > pitch_no - 5) & \\\n",
    "                                       (pitcher['pitch_no'] < pitch_no + 5), :].agg('mean').copy())\n",
    "        new = new.T.drop(columns = ['swing','ball','plate_x','plate_z','sz_top','sz_bot'])\n",
    "        pipe, model = model_ball(last,first)[pitch]\n",
    "        new = pipe.transform(new)\n",
    "        new = pd.DataFrame(new, columns = pipe.get_feature_names_out())\n",
    "        return model.predict(new)"
   ]
  },
  {
   "cell_type": "code",
   "execution_count": 8,
   "id": "408f1167-2db7-4e77-98c1-2b46af71e197",
   "metadata": {},
   "outputs": [
    {
     "name": "stdout",
     "output_type": "stream",
     "text": [
      "Gathering player lookup table. This may take a moment.\n",
      "Gathering Player Data\n"
     ]
    },
    {
     "name": "stderr",
     "output_type": "stream",
     "text": [
      "C:\\Users\\rob\\anaconda3\\lib\\site-packages\\pybaseball\\utils.py:295: DtypeWarning: Columns (43) have mixed types. Specify dtype option on import or set low_memory=False.\n",
      "  df = pd.read_csv(io.StringIO(data.text))\n",
      "C:\\Users\\rob\\AppData\\Local\\Temp\\ipykernel_19100\\1980678270.py:5: FutureWarning: The default value of numeric_only in DataFrame.mean is deprecated. In a future version, it will default to False. In addition, specifying 'numeric_only=None' is deprecated. Select only valid columns or specify the value of numeric_only to silence this warning.\n",
      "  (pitcher['pitch_no'] < pitch_no + 5), :].agg('mean').copy())\n"
     ]
    },
    {
     "name": "stdout",
     "output_type": "stream",
     "text": [
      "Gathering Player Data\n"
     ]
    },
    {
     "name": "stderr",
     "output_type": "stream",
     "text": [
      "C:\\Users\\rob\\anaconda3\\lib\\site-packages\\pybaseball\\utils.py:295: DtypeWarning: Columns (43) have mixed types. Specify dtype option on import or set low_memory=False.\n",
      "  df = pd.read_csv(io.StringIO(data.text))\n"
     ]
    },
    {
     "name": "stdout",
     "output_type": "stream",
     "text": [
      "Epoch 1/10\n",
      "45/45 [==============================] - 2s 15ms/step - loss: 0.6897 - auc: 0.6170 - val_loss: 0.6549 - val_auc: 0.7150\n",
      "Epoch 2/10\n",
      "45/45 [==============================] - 0s 7ms/step - loss: 0.5629 - auc: 0.7954 - val_loss: 0.5634 - val_auc: 0.7746\n",
      "Epoch 3/10\n",
      "45/45 [==============================] - 0s 5ms/step - loss: 0.4874 - auc: 0.8537 - val_loss: 0.4920 - val_auc: 0.8059\n",
      "Epoch 4/10\n",
      "45/45 [==============================] - 0s 5ms/step - loss: 0.4368 - auc: 0.8852 - val_loss: 0.4965 - val_auc: 0.8162\n",
      "Epoch 5/10\n",
      "45/45 [==============================] - 0s 6ms/step - loss: 0.3858 - auc: 0.9118 - val_loss: 0.4961 - val_auc: 0.8286\n",
      "Epoch 6/10\n",
      "45/45 [==============================] - 0s 5ms/step - loss: 0.3624 - auc: 0.9221 - val_loss: 0.4839 - val_auc: 0.8389\n",
      "Epoch 7/10\n",
      "45/45 [==============================] - 0s 4ms/step - loss: 0.3215 - auc: 0.9385 - val_loss: 0.4979 - val_auc: 0.8483\n",
      "Epoch 8/10\n",
      "45/45 [==============================] - 0s 4ms/step - loss: 0.2804 - auc: 0.9551 - val_loss: 0.4786 - val_auc: 0.8526\n",
      "Epoch 9/10\n",
      "45/45 [==============================] - 0s 4ms/step - loss: 0.2583 - auc: 0.9607 - val_loss: 0.4755 - val_auc: 0.8422\n",
      "Epoch 10/10\n",
      "45/45 [==============================] - 0s 4ms/step - loss: 0.2327 - auc: 0.9692 - val_loss: 0.5703 - val_auc: 0.8501\n",
      "Epoch 1/10\n",
      "19/19 [==============================] - 2s 21ms/step - loss: 0.7021 - auc: 0.5553 - val_loss: 0.6734 - val_auc: 0.6399\n",
      "Epoch 2/10\n",
      "19/19 [==============================] - 0s 6ms/step - loss: 0.6273 - auc: 0.7374 - val_loss: 0.6488 - val_auc: 0.7089\n",
      "Epoch 3/10\n",
      "19/19 [==============================] - 0s 7ms/step - loss: 0.5717 - auc: 0.8078 - val_loss: 0.6187 - val_auc: 0.7436\n",
      "Epoch 4/10\n",
      "19/19 [==============================] - 0s 7ms/step - loss: 0.5110 - auc: 0.8549 - val_loss: 0.5846 - val_auc: 0.7782\n",
      "Epoch 5/10\n",
      "19/19 [==============================] - 0s 6ms/step - loss: 0.4424 - auc: 0.9026 - val_loss: 0.5722 - val_auc: 0.7814\n",
      "Epoch 6/10\n",
      "19/19 [==============================] - 0s 6ms/step - loss: 0.4114 - auc: 0.9124 - val_loss: 0.5345 - val_auc: 0.8044\n",
      "Epoch 7/10\n",
      "19/19 [==============================] - 0s 5ms/step - loss: 0.3645 - auc: 0.9323 - val_loss: 0.5298 - val_auc: 0.8119\n",
      "Epoch 8/10\n",
      "19/19 [==============================] - 0s 5ms/step - loss: 0.3367 - auc: 0.9375 - val_loss: 0.5589 - val_auc: 0.8068\n",
      "Epoch 9/10\n",
      "19/19 [==============================] - 0s 5ms/step - loss: 0.3061 - auc: 0.9515 - val_loss: 0.5641 - val_auc: 0.8256\n",
      "Epoch 10/10\n",
      "19/19 [==============================] - 0s 6ms/step - loss: 0.2867 - auc: 0.9564 - val_loss: 0.5383 - val_auc: 0.8302\n",
      "Epoch 1/10\n",
      "77/77 [==============================] - 2s 8ms/step - loss: 0.6529 - auc: 0.6739 - val_loss: 0.5543 - val_auc: 0.8068\n",
      "Epoch 2/10\n",
      "77/77 [==============================] - 0s 3ms/step - loss: 0.4988 - auc: 0.8422 - val_loss: 0.4893 - val_auc: 0.8498\n",
      "Epoch 3/10\n",
      "77/77 [==============================] - 0s 4ms/step - loss: 0.4199 - auc: 0.8911 - val_loss: 0.4226 - val_auc: 0.8801\n",
      "Epoch 4/10\n",
      "77/77 [==============================] - 0s 3ms/step - loss: 0.3801 - auc: 0.9106 - val_loss: 0.4157 - val_auc: 0.8980\n",
      "Epoch 5/10\n",
      "77/77 [==============================] - 0s 3ms/step - loss: 0.3304 - auc: 0.9330 - val_loss: 0.4293 - val_auc: 0.8989\n",
      "Epoch 6/10\n",
      "77/77 [==============================] - 0s 3ms/step - loss: 0.2989 - auc: 0.9461 - val_loss: 0.3922 - val_auc: 0.9073\n",
      "Epoch 7/10\n",
      "77/77 [==============================] - 0s 3ms/step - loss: 0.2667 - auc: 0.9569 - val_loss: 0.3999 - val_auc: 0.9094\n",
      "Epoch 8/10\n",
      "77/77 [==============================] - 0s 3ms/step - loss: 0.2475 - auc: 0.9631 - val_loss: 0.4561 - val_auc: 0.9101\n",
      "Epoch 9/10\n",
      "77/77 [==============================] - 0s 4ms/step - loss: 0.2488 - auc: 0.9620 - val_loss: 0.4054 - val_auc: 0.9201\n",
      "Epoch 10/10\n",
      "77/77 [==============================] - 0s 3ms/step - loss: 0.2264 - auc: 0.9694 - val_loss: 0.4179 - val_auc: 0.9166\n",
      "Epoch 1/10\n",
      "40/40 [==============================] - 2s 12ms/step - loss: 0.6755 - auc: 0.6308 - val_loss: 0.6943 - val_auc: 0.7287\n",
      "Epoch 2/10\n",
      "40/40 [==============================] - 0s 5ms/step - loss: 0.5906 - auc: 0.7673 - val_loss: 0.6206 - val_auc: 0.7724\n",
      "Epoch 3/10\n",
      "40/40 [==============================] - 0s 5ms/step - loss: 0.5208 - auc: 0.8360 - val_loss: 0.5760 - val_auc: 0.8072\n",
      "Epoch 4/10\n",
      "40/40 [==============================] - 0s 5ms/step - loss: 0.4525 - auc: 0.8813 - val_loss: 0.5733 - val_auc: 0.8252\n",
      "Epoch 5/10\n",
      "40/40 [==============================] - 0s 4ms/step - loss: 0.3932 - auc: 0.9128 - val_loss: 0.6170 - val_auc: 0.8443\n",
      "Epoch 6/10\n",
      "40/40 [==============================] - 0s 4ms/step - loss: 0.3732 - auc: 0.9243 - val_loss: 0.6074 - val_auc: 0.8427\n",
      "Epoch 7/10\n",
      "40/40 [==============================] - 0s 4ms/step - loss: 0.3330 - auc: 0.9361 - val_loss: 0.5053 - val_auc: 0.8396\n",
      "Epoch 8/10\n",
      "40/40 [==============================] - 0s 5ms/step - loss: 0.2930 - auc: 0.9504 - val_loss: 0.6120 - val_auc: 0.8618\n",
      "Epoch 9/10\n",
      "40/40 [==============================] - 0s 4ms/step - loss: 0.2598 - auc: 0.9619 - val_loss: 0.6243 - val_auc: 0.8524\n",
      "Epoch 10/10\n",
      "40/40 [==============================] - 0s 4ms/step - loss: 0.2683 - auc: 0.9624 - val_loss: 0.5118 - val_auc: 0.8513\n",
      "Epoch 1/10\n",
      "34/34 [==============================] - 2s 13ms/step - loss: 0.6925 - auc: 0.6379 - val_loss: 0.6853 - val_auc: 0.7037\n",
      "Epoch 2/10\n",
      "34/34 [==============================] - 0s 5ms/step - loss: 0.5864 - auc: 0.7888 - val_loss: 0.6540 - val_auc: 0.7745\n",
      "Epoch 3/10\n",
      "34/34 [==============================] - 0s 4ms/step - loss: 0.5164 - auc: 0.8354 - val_loss: 0.5898 - val_auc: 0.8060\n",
      "Epoch 4/10\n",
      "34/34 [==============================] - 0s 4ms/step - loss: 0.4336 - auc: 0.8912 - val_loss: 0.5517 - val_auc: 0.8470\n",
      "Epoch 5/10\n",
      "34/34 [==============================] - 0s 7ms/step - loss: 0.3963 - auc: 0.9041 - val_loss: 0.5198 - val_auc: 0.8421\n",
      "Epoch 6/10\n",
      "34/34 [==============================] - 0s 4ms/step - loss: 0.3602 - auc: 0.9250 - val_loss: 0.6079 - val_auc: 0.8678\n",
      "Epoch 7/10\n",
      "34/34 [==============================] - 0s 4ms/step - loss: 0.3110 - auc: 0.9444 - val_loss: 0.4850 - val_auc: 0.8651\n",
      "Epoch 8/10\n",
      "34/34 [==============================] - 0s 4ms/step - loss: 0.2861 - auc: 0.9517 - val_loss: 0.8509 - val_auc: 0.8597\n",
      "Epoch 9/10\n",
      "34/34 [==============================] - 0s 4ms/step - loss: 0.2559 - auc: 0.9635 - val_loss: 0.8664 - val_auc: 0.8631\n",
      "Epoch 10/10\n",
      "34/34 [==============================] - 0s 4ms/step - loss: 0.2333 - auc: 0.9695 - val_loss: 0.9238 - val_auc: 0.8743\n",
      "Epoch 1/10\n",
      "17/17 [==============================] - 2s 24ms/step - loss: 0.6940 - auc: 0.5961 - val_loss: 0.7235 - val_auc: 0.5675\n",
      "Epoch 2/10\n",
      "17/17 [==============================] - 0s 6ms/step - loss: 0.6103 - auc: 0.7592 - val_loss: 0.7017 - val_auc: 0.6467\n",
      "Epoch 3/10\n",
      "17/17 [==============================] - 0s 6ms/step - loss: 0.5598 - auc: 0.8141 - val_loss: 0.6983 - val_auc: 0.6846\n",
      "Epoch 4/10\n",
      "17/17 [==============================] - 0s 6ms/step - loss: 0.4957 - auc: 0.8568 - val_loss: 0.6893 - val_auc: 0.6983\n",
      "Epoch 5/10\n",
      "17/17 [==============================] - 0s 6ms/step - loss: 0.4459 - auc: 0.8878 - val_loss: 0.6925 - val_auc: 0.7223\n",
      "Epoch 6/10\n",
      "17/17 [==============================] - 0s 6ms/step - loss: 0.3963 - auc: 0.9197 - val_loss: 0.6750 - val_auc: 0.7242\n",
      "Epoch 7/10\n",
      "17/17 [==============================] - 0s 6ms/step - loss: 0.3457 - auc: 0.9369 - val_loss: 0.6735 - val_auc: 0.7465\n",
      "Epoch 8/10\n",
      "17/17 [==============================] - 0s 6ms/step - loss: 0.2921 - auc: 0.9601 - val_loss: 0.7021 - val_auc: 0.7615\n",
      "Epoch 9/10\n",
      "17/17 [==============================] - 0s 6ms/step - loss: 0.2714 - auc: 0.9624 - val_loss: 0.7586 - val_auc: 0.7711\n",
      "Epoch 10/10\n",
      "17/17 [==============================] - 0s 6ms/step - loss: 0.2437 - auc: 0.9696 - val_loss: 0.7261 - val_auc: 0.7741\n",
      "1/1 [==============================] - 0s 129ms/step\n"
     ]
    },
    {
     "data": {
      "text/plain": [
       "array([[0.04002418]], dtype=float32)"
      ]
     },
     "execution_count": 8,
     "metadata": {},
     "output_type": "execute_result"
    }
   ],
   "source": [
    "enter_pitch('darvish','yu','FF',40)"
   ]
  },
  {
   "cell_type": "code",
   "execution_count": null,
   "id": "290c6a05-6aa8-41f4-8fa9-5e39d1652e8c",
   "metadata": {},
   "outputs": [],
   "source": []
  },
  {
   "cell_type": "code",
   "execution_count": null,
   "id": "382cda1f-1d50-4908-992b-8ccad291fd20",
   "metadata": {},
   "outputs": [],
   "source": []
  },
  {
   "cell_type": "code",
   "execution_count": null,
   "id": "247e8750-422b-458b-9b05-37faf395e1a9",
   "metadata": {},
   "outputs": [],
   "source": []
  },
  {
   "cell_type": "code",
   "execution_count": 49,
   "id": "df60dd35-ce0f-4309-b3a3-d94729694613",
   "metadata": {},
   "outputs": [],
   "source": [
    "class pitching:\n",
    "    def __init__(self, last, first, pitch, pitch_no):\n",
    "        self.last = last\n",
    "        self.first = first\n",
    "        self.pitch = pitch\n",
    "        self.pitch_no = pitch_no\n",
    "    \n",
    "    def load_pitcher(self):\n",
    "        pitcher = statcast_pitcher('2015-01-01','2023-05-09',\n",
    "                                   playerid_lookup(str(self.last),str(self.first))['key_mlbam'][0])\n",
    "        pitcher['game_date'] = pd.to_datetime(pitcher['game_date'])\n",
    "        pitcher['pitch_no'] = pitcher.groupby('game_date').cumcount() + 1\n",
    "        pitcher['swing'] = pitcher['description'].apply(lambda x: 1 if x == 'swinging_strike' else 0)\n",
    "        pitcher['ball'] = pitcher['type'].apply(lambda x: 1 if x == 'B' else 0)\n",
    "        pitcher = pitcher[['pitch_type','release_speed','pfx_x','pfx_z',\n",
    "                'plate_x','plate_z','vx0','vy0','vz0',\n",
    "                'ax','ay','az','sz_top','sz_bot',\n",
    "                'release_spin_rate','release_extension','effective_speed','inning',\n",
    "            'release_pos_x','release_pos_y','release_pos_z','pitch_no','swing','ball']]\n",
    "        pitcher.dropna(inplace = True)\n",
    "        return pitcher\n",
    "    \n",
    "    def model_ball(self):\n",
    "        \n",
    "        pitcher = self.load_pitcher(self)\n",
    "        X = pitcher[pitcher['pitch_type'] == pitch]\n",
    "        y = X['ball']\n",
    "\n",
    "        # final position of ball and size of strike zone gives away the result\n",
    "        X = X.drop(columns = ['swing','ball','pitch_type','plate_x','plate_z','sz_top','sz_bot'])\n",
    "        X_train, X_test, y_train, y_test = train_test_split(X, y,\n",
    "                                                    random_state=42)\n",
    "        pipe = Pipeline(steps = [\n",
    "            ('ss',StandardScaler()),\n",
    "            ('poly',PolynomialFeatures())\n",
    "        ])\n",
    "\n",
    "        X_train = pipe.fit_transform(X_train)\n",
    "        X_test = pipe.transform(X_test)\n",
    "\n",
    "        X_train = pd.DataFrame(X_train, columns = pipe.get_feature_names_out())\n",
    "        X_test = pd.DataFrame(X_test, columns = pipe.get_feature_names_out())\n",
    "\n",
    "        X_train, y_train = RandomUnderSampler().fit_resample(X_train, y_train)\n",
    "\n",
    "        model = Sequential()\n",
    "        model.add(Dense(128,activation = 'relu'))\n",
    "        model.add(Dropout(0.2))\n",
    "        model.add(Dense(32,activation = 'relu'))\n",
    "        model.add(Dense(16, activation = 'relu'))\n",
    "        model.add(Dense(1,activation = 'sigmoid'))\n",
    "        model.compile(loss='binary_crossentropy',optimizer='adam',metrics = 'AUC')\n",
    "        model.fit(X_train,y_train,validation_data=(X_test, y_test), epochs = 10, batch_size = 32)\n",
    "\n",
    "        return pipe, model\n",
    "    \n",
    "    def enter_pitch(self):\n",
    "        pitcher = self.load_pitcher(self)\n",
    "        new = pd.DataFrame(pitcher.loc[(pitcher['pitch_type'] == pitch) & (pitcher['pitch_no'] > pitch_no - 5) & (pitcher['pitch_no'] < pitch_no + 5), :].agg('mean').copy())\n",
    "        new = new.T.drop(columns = ['swing','ball','plate_x','plate_z','sz_top','sz_bot'])\n",
    "        pipe, model = self.model_ball(self)\n",
    "        new = pipe.transform(new)\n",
    "        new = pd.DataFrame(new, columns = pipe.get_feature_names_out())\n",
    "        return model.predict(new)"
   ]
  },
  {
   "cell_type": "code",
   "execution_count": null,
   "id": "5636e134-1603-4664-9994-e9326f8e1502",
   "metadata": {},
   "outputs": [],
   "source": []
  },
  {
   "cell_type": "code",
   "execution_count": null,
   "id": "0c34c387-b961-4c89-9d75-8dd74e66f0ea",
   "metadata": {},
   "outputs": [],
   "source": []
  },
  {
   "cell_type": "code",
   "execution_count": null,
   "id": "cac17d1c-963c-48f6-bd61-e7d89b626e32",
   "metadata": {},
   "outputs": [],
   "source": []
  },
  {
   "cell_type": "code",
   "execution_count": 11,
   "id": "d3be83a3-050f-46ca-b5c9-4bc4a55bff93",
   "metadata": {},
   "outputs": [],
   "source": []
  },
  {
   "cell_type": "code",
   "execution_count": 12,
   "id": "2258db48-0e43-4879-8998-6277765b8d9b",
   "metadata": {},
   "outputs": [],
   "source": []
  },
  {
   "cell_type": "markdown",
   "id": "5ede9af3-6d94-4b70-a6b8-0a8bba5ec19e",
   "metadata": {
    "jp-MarkdownHeadingCollapsed": true,
    "tags": []
   },
   "source": [
    "### plots"
   ]
  },
  {
   "cell_type": "code",
   "execution_count": 13,
   "id": "ef955a72-b040-40f8-9d02-7e2cea41918c",
   "metadata": {},
   "outputs": [],
   "source": [
    "ff = pitcher[pitcher['pitch_type'] == 'FF']"
   ]
  },
  {
   "cell_type": "code",
   "execution_count": null,
   "id": "506eda84-cd58-4980-9c4b-09fd9ef8afea",
   "metadata": {},
   "outputs": [],
   "source": []
  },
  {
   "cell_type": "code",
   "execution_count": 17,
   "id": "795f5447-79b0-473f-a82e-c1bd2b928fab",
   "metadata": {},
   "outputs": [
    {
     "data": {
      "text/plain": [
       "<Axes: xlabel='pitch_no'>"
      ]
     },
     "execution_count": 17,
     "metadata": {},
     "output_type": "execute_result"
    },
    {
     "data": {
      "image/png": "[encoded data removed]",
      "text/plain": [
       "<Figure size 640x480 with 1 Axes>"
      ]
     },
     "metadata": {},
     "output_type": "display_data"
    }
   ],
   "source": [
    "ff.groupby('pitch_no')['release_pos_x'].mean().plot()"
   ]
  },
  {
   "cell_type": "code",
   "execution_count": 18,
   "id": "00a46dee-72a8-4fac-bc37-24919fdddb09",
   "metadata": {},
   "outputs": [
    {
     "data": {
      "text/plain": [
       "<Axes: xlabel='pitch_no'>"
      ]
     },
     "execution_count": 18,
     "metadata": {},
     "output_type": "execute_result"
    },
    {
     "data": {
      "image/png": "[encoded data removed]",
      "text/plain": [
       "<Figure size 640x480 with 1 Axes>"
      ]
     },
     "metadata": {},
     "output_type": "display_data"
    }
   ],
   "source": [
    "ff.groupby('pitch_no')['release_pos_z'].mean().plot()"
   ]
  },
  {
   "cell_type": "code",
   "execution_count": 16,
   "id": "0cfd2718-01cc-4b0c-bb67-dcfeefff2b44",
   "metadata": {},
   "outputs": [
    {
     "data": {
      "text/plain": [
       "<Axes: xlabel='pitch_no'>"
      ]
     },
     "execution_count": 16,
     "metadata": {},
     "output_type": "execute_result"
    },
    {
     "data": {
      "image/png": "[encoded data removed]",
      "text/plain": [
       "<Figure size 640x480 with 1 Axes>"
      ]
     },
     "metadata": {},
     "output_type": "display_data"
    }
   ],
   "source": [
    "ff.groupby('pitch_no')['release_spin_rate'].mean().plot()"
   ]
  },
  {
   "cell_type": "code",
   "execution_count": 15,
   "id": "f57befee-8cab-4c73-8dae-e053a4e4e111",
   "metadata": {},
   "outputs": [
    {
     "data": {
      "text/plain": [
       "<Axes: xlabel='pitch_no'>"
      ]
     },
     "execution_count": 15,
     "metadata": {},
     "output_type": "execute_result"
    },
    {
     "data": {
      "image/png": "[encoded data removed]",
      "text/plain": [
       "<Figure size 640x480 with 1 Axes>"
      ]
     },
     "metadata": {},
     "output_type": "display_data"
    }
   ],
   "source": [
    "ff.groupby('pitch_no')['release_speed'].mean().plot()"
   ]
  },
  {
   "cell_type": "code",
   "execution_count": null,
   "id": "62365d19-0748-497a-89e0-e1e255324ddc",
   "metadata": {},
   "outputs": [],
   "source": []
  },
  {
   "cell_type": "code",
   "execution_count": 12,
   "id": "17706ff9-a40d-42c1-840d-c5a456f55527",
   "metadata": {},
   "outputs": [
    {
     "data": {
      "text/plain": [
       "<Axes: xlabel='pitch_no'>"
      ]
     },
     "execution_count": 12,
     "metadata": {},
     "output_type": "execute_result"
    },
    {
     "data": {
      "image/png": "[encoded data removed]",
      "text/plain": [
       "<Figure size 640x480 with 1 Axes>"
      ]
     },
     "metadata": {},
     "output_type": "display_data"
    }
   ],
   "source": [
    "pitcher.plot(kind = 'line', y = 'release_speed', x = 'pitch_no')"
   ]
  },
  {
   "cell_type": "code",
   "execution_count": null,
   "id": "4823a2bb-6461-401c-95a4-71031c948f04",
   "metadata": {},
   "outputs": [],
   "source": []
  },
  {
   "cell_type": "markdown",
   "id": "63de4174-e72b-42b7-9930-20dbc462566c",
   "metadata": {
    "tags": []
   },
   "source": [
    "## balls"
   ]
  },
  {
   "cell_type": "code",
   "execution_count": 13,
   "id": "5c16daf2-2158-4899-8821-89aad436ede1",
   "metadata": {},
   "outputs": [],
   "source": []
  },
  {
   "cell_type": "code",
   "execution_count": 14,
   "id": "1dacca8d-fa8d-4dde-9153-b021aa8a94cc",
   "metadata": {},
   "outputs": [
    {
     "data": {
      "text/plain": [
       "['ST', 'FC', 'FF', 'SL', 'SI', 'FS']"
      ]
     },
     "execution_count": 14,
     "metadata": {},
     "output_type": "execute_result"
    }
   ],
   "source": []
  },
  {
   "cell_type": "code",
   "execution_count": 82,
   "id": "8c6223a9-a216-4201-bdfd-164d4baf2d27",
   "metadata": {},
   "outputs": [],
   "source": []
  },
  {
   "cell_type": "code",
   "execution_count": 85,
   "id": "b6a34876-1459-448f-a8c2-5b35ed2690a3",
   "metadata": {},
   "outputs": [],
   "source": []
  },
  {
   "cell_type": "code",
   "execution_count": 86,
   "id": "817f51dd-f740-4eb6-a028-efc7e9d0779e",
   "metadata": {},
   "outputs": [
    {
     "name": "stdout",
     "output_type": "stream",
     "text": [
      "Epoch 1/10\n",
      "154/154 [==============================] - 2s 4ms/step - loss: 0.6109 - auc: 0.7319 - val_loss: 0.5161 - val_auc: 0.8119\n",
      "Epoch 2/10\n",
      "154/154 [==============================] - 0s 3ms/step - loss: 0.4638 - auc: 0.8606 - val_loss: 0.4221 - val_auc: 0.8873\n",
      "Epoch 3/10\n",
      "154/154 [==============================] - 0s 3ms/step - loss: 0.3924 - auc: 0.9018 - val_loss: 0.3875 - val_auc: 0.8956\n",
      "Epoch 4/10\n",
      "154/154 [==============================] - 0s 3ms/step - loss: 0.3404 - auc: 0.9286 - val_loss: 0.3806 - val_auc: 0.9076\n",
      "Epoch 5/10\n",
      "154/154 [==============================] - 0s 3ms/step - loss: 0.2983 - auc: 0.9448 - val_loss: 0.3796 - val_auc: 0.9081\n",
      "Epoch 6/10\n",
      "154/154 [==============================] - 0s 3ms/step - loss: 0.2787 - auc: 0.9520 - val_loss: 0.3779 - val_auc: 0.9106\n",
      "Epoch 7/10\n",
      "154/154 [==============================] - 0s 3ms/step - loss: 0.2674 - auc: 0.9559 - val_loss: 0.3615 - val_auc: 0.9188\n",
      "Epoch 8/10\n",
      "154/154 [==============================] - 0s 3ms/step - loss: 0.2327 - auc: 0.9670 - val_loss: 0.4136 - val_auc: 0.9137\n",
      "Epoch 9/10\n",
      "154/154 [==============================] - 0s 3ms/step - loss: 0.2348 - auc: 0.9664 - val_loss: 0.4240 - val_auc: 0.9165\n",
      "Epoch 10/10\n",
      "154/154 [==============================] - 0s 3ms/step - loss: 0.2161 - auc: 0.9714 - val_loss: 0.3972 - val_auc: 0.9121\n",
      "1/1 [==============================] - 0s 101ms/step\n"
     ]
    },
    {
     "name": "stderr",
     "output_type": "stream",
     "text": [
      "C:\\Users\\Finley & Stein\\AppData\\Local\\Temp\\ipykernel_4436\\117736292.py:2: FutureWarning: Dropping of nuisance columns in DataFrame reductions (with 'numeric_only=None') is deprecated; in a future version this will raise TypeError.  Select only valid columns before calling the reduction.\n",
      "  new_pitch = pd.DataFrame(pitcher.loc[(pitcher['pitch_type'] == pitch) & (pitcher['pitch_no'] > pitch_no - 5) & (pitcher['pitch_no'] < pitch_no + 5), :].agg('mean').copy())\n"
     ]
    },
    {
     "data": {
      "text/plain": [
       "array([[0.01888628]], dtype=float32)"
      ]
     },
     "execution_count": 86,
     "metadata": {},
     "output_type": "execute_result"
    }
   ],
   "source": [
    "predict_ball('FF',95)"
   ]
  },
  {
   "cell_type": "code",
   "execution_count": 54,
   "id": "27292ec7-d986-449a-8907-3c43b09b5a52",
   "metadata": {},
   "outputs": [],
   "source": []
  },
  {
   "cell_type": "code",
   "execution_count": null,
   "id": "687d4ebe-ac3d-4585-95ff-3b5db8cbfeac",
   "metadata": {},
   "outputs": [],
   "source": []
  },
  {
   "cell_type": "code",
   "execution_count": null,
   "id": "6ee46322-b3a6-429a-91ae-3e39114d0944",
   "metadata": {},
   "outputs": [],
   "source": []
  },
  {
   "cell_type": "code",
   "execution_count": null,
   "id": "532bf53c-9ba7-4734-9b78-899f6546b4af",
   "metadata": {},
   "outputs": [],
   "source": []
  },
  {
   "cell_type": "code",
   "execution_count": 41,
   "id": "6a8e397a-6469-4ed3-8975-000c3026a77e",
   "metadata": {},
   "outputs": [
    {
     "name": "stdout",
     "output_type": "stream",
     "text": [
      "126/126 [==============================] - 0s 1ms/step\n"
     ]
    }
   ],
   "source": [
    "y_pred = model.predict(X_test) "
   ]
  },
  {
   "cell_type": "code",
   "execution_count": 42,
   "id": "3bfe1d2a-fdfd-427d-89ca-d98326703eb7",
   "metadata": {},
   "outputs": [
    {
     "data": {
      "text/plain": [
       "0.9111937025829936"
      ]
     },
     "execution_count": 42,
     "metadata": {},
     "output_type": "execute_result"
    }
   ],
   "source": [
    "roc_auc_score(y_test, y_pred)"
   ]
  },
  {
   "cell_type": "code",
   "execution_count": 43,
   "id": "1946ce54-bb52-4b65-8ba7-f9379ae85798",
   "metadata": {},
   "outputs": [],
   "source": [
    "y_pred = [1 if x >= 0.5 else 0 for x in y_pred]"
   ]
  },
  {
   "cell_type": "code",
   "execution_count": 44,
   "id": "cea959fb-db71-429a-a5e2-992fb34f2797",
   "metadata": {},
   "outputs": [
    {
     "data": {
      "text/plain": [
       "array([[2036,  170],\n",
       "       [ 604, 1212]], dtype=int64)"
      ]
     },
     "execution_count": 44,
     "metadata": {},
     "output_type": "execute_result"
    }
   ],
   "source": [
    "confusion_matrix(y_pred, y_test)"
   ]
  },
  {
   "cell_type": "markdown",
   "id": "d7e2e24a-1df1-412b-9793-2a3664eeb9b7",
   "metadata": {
    "tags": []
   },
   "source": [
    "## swinging strikes"
   ]
  },
  {
   "cell_type": "code",
   "execution_count": 87,
   "id": "28adde6c-71fd-4fd5-a800-a280b227ad4e",
   "metadata": {},
   "outputs": [],
   "source": [
    "X = pitcher.drop(columns = ['swing','ball'])\n",
    "y = pitcher['swing']"
   ]
  },
  {
   "cell_type": "code",
   "execution_count": null,
   "id": "7b031924-dfc3-4d81-aae2-7d6f2a041d24",
   "metadata": {},
   "outputs": [],
   "source": []
  },
  {
   "cell_type": "code",
   "execution_count": 88,
   "id": "45a91cbb-d2f3-441f-af65-c8d28239ac1b",
   "metadata": {},
   "outputs": [],
   "source": [
    "X = pd.get_dummies(X, columns = ['pitch_type'])"
   ]
  },
  {
   "cell_type": "code",
   "execution_count": 89,
   "id": "8ce23f24-6d1f-4ba4-8fdd-de1116b61b06",
   "metadata": {},
   "outputs": [],
   "source": [
    "X_train, X_test, y_train, y_test = train_test_split(X, y,\n",
    "                                                    random_state=42)"
   ]
  },
  {
   "cell_type": "code",
   "execution_count": 90,
   "id": "3bb5a8ac-d9e5-4348-a870-267c1453856a",
   "metadata": {},
   "outputs": [],
   "source": [
    "ss = StandardScaler()\n",
    "X_train = ss.fit_transform(X_train)\n",
    "X_test = ss.transform(X_test)\n",
    "\n",
    "X_train = pd.DataFrame(X_train, columns = ss.get_feature_names_out())\n",
    "X_test = pd.DataFrame(X_test, columns = ss.get_feature_names_out())"
   ]
  },
  {
   "cell_type": "code",
   "execution_count": 91,
   "id": "a38ab50b-d400-44e4-b240-a0b8e561ab5f",
   "metadata": {},
   "outputs": [],
   "source": [
    "poly = PolynomialFeatures()\n",
    "X_train = poly.fit_transform(X_train)\n",
    "X_test = poly.transform(X_test)\n",
    "\n",
    "X_train = pd.DataFrame(X_train, columns = poly.get_feature_names_out())\n",
    "X_test = pd.DataFrame(X_test, columns = poly.get_feature_names_out())"
   ]
  },
  {
   "cell_type": "code",
   "execution_count": 92,
   "id": "e41562e8-84db-460c-ae9f-189098c16a41",
   "metadata": {},
   "outputs": [],
   "source": [
    "X_train, y_train = RandomUnderSampler().fit_resample(X_train, y_train)"
   ]
  },
  {
   "cell_type": "code",
   "execution_count": 93,
   "id": "d38a7e4e-5d90-411d-b586-8869a6c1a4db",
   "metadata": {},
   "outputs": [
    {
     "data": {
      "text/plain": [
       "0.5"
      ]
     },
     "execution_count": 93,
     "metadata": {},
     "output_type": "execute_result"
    }
   ],
   "source": [
    "base = [np.mean(y_train)] * len(y_test)\n",
    "roc_auc_score(y_test, base)"
   ]
  },
  {
   "cell_type": "code",
   "execution_count": 119,
   "id": "7d66fe44-1c0d-4519-87d3-c3c18914188c",
   "metadata": {},
   "outputs": [],
   "source": [
    "model = Sequential()\n",
    "model.add(Dense(128,activation = 'relu'))\n",
    "model.add(Dropout(0.2))\n",
    "model.add(Dense(32,activation = 'relu'))\n",
    "model.add(Dense(32,activation = 'relu'))\n",
    "model.add(Dense(32,activation = 'relu'))\n",
    "model.add(Dense(32,activation = 'relu'))\n",
    "model.add(Dense(32,activation = 'relu'))\n",
    "model.add(Dense(32,activation = 'relu'))\n",
    "model.add(Dense(16, activation = 'relu'))\n",
    "model.add(Dense(1,activation = 'sigmoid'))\n",
    "model.compile(loss='binary_crossentropy',optimizer='adam',metrics = 'AUC')"
   ]
  },
  {
   "cell_type": "code",
   "execution_count": 120,
   "id": "ddd069bb-60ff-458d-ace3-2b006436088f",
   "metadata": {},
   "outputs": [
    {
     "name": "stdout",
     "output_type": "stream",
     "text": [
      "Epoch 1/10\n",
      "345/345 [==============================] - 3s 5ms/step - loss: 0.6718 - auc: 0.6236 - val_loss: 0.5573 - val_auc: 0.6681\n",
      "Epoch 2/10\n",
      "345/345 [==============================] - 1s 4ms/step - loss: 0.6303 - auc: 0.6899 - val_loss: 0.6962 - val_auc: 0.6834\n",
      "Epoch 3/10\n",
      "345/345 [==============================] - 1s 4ms/step - loss: 0.6109 - auc: 0.7156 - val_loss: 0.6184 - val_auc: 0.6895\n",
      "Epoch 4/10\n",
      "345/345 [==============================] - 1s 4ms/step - loss: 0.5987 - auc: 0.7376 - val_loss: 0.5368 - val_auc: 0.6964\n",
      "Epoch 5/10\n",
      "345/345 [==============================] - 1s 4ms/step - loss: 0.5822 - auc: 0.7524 - val_loss: 0.6167 - val_auc: 0.6935\n",
      "Epoch 6/10\n",
      "345/345 [==============================] - 1s 4ms/step - loss: 0.5679 - auc: 0.7665 - val_loss: 0.6426 - val_auc: 0.6932\n",
      "Epoch 7/10\n",
      "345/345 [==============================] - 1s 4ms/step - loss: 0.5615 - auc: 0.7757 - val_loss: 0.6101 - val_auc: 0.7047\n",
      "Epoch 8/10\n",
      "345/345 [==============================] - 1s 4ms/step - loss: 0.5489 - auc: 0.7841 - val_loss: 0.5696 - val_auc: 0.7181\n",
      "Epoch 9/10\n",
      "345/345 [==============================] - 1s 4ms/step - loss: 0.5294 - auc: 0.8035 - val_loss: 0.6648 - val_auc: 0.7123\n",
      "Epoch 10/10\n",
      "345/345 [==============================] - 1s 4ms/step - loss: 0.5201 - auc: 0.8151 - val_loss: 0.5878 - val_auc: 0.7067\n"
     ]
    },
    {
     "data": {
      "text/plain": [
       "<keras.callbacks.History at 0x1b989c63ac0>"
      ]
     },
     "execution_count": 120,
     "metadata": {},
     "output_type": "execute_result"
    }
   ],
   "source": [
    "model.fit(X_train,y_train,validation_data=(X_test, y_test), epochs = 10, batch_size = 8)"
   ]
  },
  {
   "cell_type": "code",
   "execution_count": 121,
   "id": "634e96fd-8963-45a3-854e-f4fb7afb08e7",
   "metadata": {},
   "outputs": [
    {
     "name": "stdout",
     "output_type": "stream",
     "text": [
      "126/126 [==============================] - 0s 1ms/step\n"
     ]
    }
   ],
   "source": [
    "y_pred = model.predict(X_test) "
   ]
  },
  {
   "cell_type": "code",
   "execution_count": 122,
   "id": "5ca49d9b-4b23-49e5-ada6-e3773caecb25",
   "metadata": {},
   "outputs": [
    {
     "data": {
      "text/plain": [
       "0.7070194318789824"
      ]
     },
     "execution_count": 122,
     "metadata": {},
     "output_type": "execute_result"
    }
   ],
   "source": [
    "roc_auc_score(y_test, y_pred)"
   ]
  },
  {
   "cell_type": "code",
   "execution_count": 123,
   "id": "bf7e1fae-d251-483c-a749-b1a964ac328c",
   "metadata": {},
   "outputs": [],
   "source": [
    "y_pred = [1 if x >= 0.5 else 0 for x in y_pred]"
   ]
  },
  {
   "cell_type": "code",
   "execution_count": 124,
   "id": "935aa0ca-db0d-403c-8df2-f0599530aaca",
   "metadata": {},
   "outputs": [
    {
     "data": {
      "text/plain": [
       "array([[2056,  131],\n",
       "       [1504,  331]], dtype=int64)"
      ]
     },
     "execution_count": 124,
     "metadata": {},
     "output_type": "execute_result"
    }
   ],
   "source": [
    "confusion_matrix(y_pred, y_test)"
   ]
  },
  {
   "cell_type": "markdown",
   "id": "f6b9b19e-8849-46aa-8c86-6333d8db492a",
   "metadata": {
    "jp-MarkdownHeadingCollapsed": true,
    "tags": []
   },
   "source": [
    "## loogy"
   ]
  },
  {
   "cell_type": "code",
   "execution_count": 7,
   "id": "7f48c33d-a24a-41ed-9b90-880a49ab2747",
   "metadata": {},
   "outputs": [],
   "source": [
    "l_rel = pd.read_csv('../data/l_rel.csv')"
   ]
  },
  {
   "cell_type": "code",
   "execution_count": 8,
   "id": "d03e5d88-a5c3-4102-9a3a-79456306145e",
   "metadata": {},
   "outputs": [],
   "source": [
    "from pybaseball.lahman import pitching"
   ]
  },
  {
   "cell_type": "code",
   "execution_count": 9,
   "id": "89d4f5f2-b245-4a06-99aa-32b634e52186",
   "metadata": {},
   "outputs": [],
   "source": [
    "data = pitching()"
   ]
  },
  {
   "cell_type": "code",
   "execution_count": 10,
   "id": "6f0277d9-d1cc-4c33-9a44-ffd75dcb994d",
   "metadata": {},
   "outputs": [
    {
     "name": "stdout",
     "output_type": "stream",
     "text": [
      "<class 'pandas.core.frame.DataFrame'>\n",
      "RangeIndex: 50402 entries, 0 to 50401\n",
      "Data columns (total 30 columns):\n",
      " #   Column    Non-Null Count  Dtype  \n",
      "---  ------    --------------  -----  \n",
      " 0   playerID  50402 non-null  object \n",
      " 1   yearID    50402 non-null  int64  \n",
      " 2   stint     50402 non-null  int64  \n",
      " 3   teamID    50402 non-null  object \n",
      " 4   lgID      50270 non-null  object \n",
      " 5   W         50402 non-null  int64  \n",
      " 6   L         50402 non-null  int64  \n",
      " 7   G         50402 non-null  int64  \n",
      " 8   GS        50402 non-null  int64  \n",
      " 9   CG        50402 non-null  int64  \n",
      " 10  SHO       50402 non-null  int64  \n",
      " 11  SV        50402 non-null  int64  \n",
      " 12  IPouts    50402 non-null  int64  \n",
      " 13  H         50402 non-null  int64  \n",
      " 14  ER        50402 non-null  int64  \n",
      " 15  HR        50402 non-null  int64  \n",
      " 16  BB        50402 non-null  int64  \n",
      " 17  SO        50402 non-null  int64  \n",
      " 18  BAOpp     45958 non-null  float64\n",
      " 19  ERA       50305 non-null  float64\n",
      " 20  IBB       35824 non-null  float64\n",
      " 21  WP        50402 non-null  int64  \n",
      " 22  HBP       49668 non-null  float64\n",
      " 23  BK        50402 non-null  int64  \n",
      " 24  BFP       50399 non-null  float64\n",
      " 25  GF        50402 non-null  int64  \n",
      " 26  R         50402 non-null  int64  \n",
      " 27  SH        31215 non-null  float64\n",
      " 28  SF        31215 non-null  float64\n",
      " 29  GIDP      30081 non-null  float64\n",
      "dtypes: float64(8), int64(19), object(3)\n",
      "memory usage: 11.5+ MB\n"
     ]
    }
   ],
   "source": [
    "data.info()"
   ]
  },
  {
   "cell_type": "code",
   "execution_count": 11,
   "id": "302e55d8-e572-47ce-8117-b9bdd81f9513",
   "metadata": {},
   "outputs": [],
   "source": [
    "data['IPG'] = data['IPouts']/data['G']"
   ]
  },
  {
   "cell_type": "code",
   "execution_count": 12,
   "id": "e0711f4f-584d-48c8-ae77-b0354abf719d",
   "metadata": {},
   "outputs": [],
   "source": [
    "data['BFG'] = data['BFP']/data['G']"
   ]
  },
  {
   "cell_type": "code",
   "execution_count": 13,
   "id": "09209c97-a5e7-4b12-9bc6-8dc1839ca46a",
   "metadata": {},
   "outputs": [],
   "source": [
    "oogy = list(data[(data['BFG'] < 3) & (data['BFG'] > 0) & (data['yearID'] > 2014) & (data['BFP'] > 20)]['playerID'])"
   ]
  },
  {
   "cell_type": "code",
   "execution_count": 14,
   "id": "6ec3d992-d07d-445d-a138-75eead26d24c",
   "metadata": {},
   "outputs": [],
   "source": [
    "l_rel['loogy'] = l_rel['player_name'].apply(lambda x: \\\n",
    "                                            1 if x.split()[0][:5].lower()\\\n",
    "                                       + x.split()[1][:2].lower() + '01' in oogy else 0)"
   ]
  },
  {
   "cell_type": "code",
   "execution_count": 15,
   "id": "650097f4-b4c1-482e-9971-1fc81ec8ad3d",
   "metadata": {},
   "outputs": [
    {
     "data": {
      "text/plain": [
       "0    185365\n",
       "1     43754\n",
       "Name: loogy, dtype: int64"
      ]
     },
     "execution_count": 15,
     "metadata": {},
     "output_type": "execute_result"
    }
   ],
   "source": [
    "l_rel['loogy'].value_counts()"
   ]
  },
  {
   "cell_type": "code",
   "execution_count": 91,
   "id": "ceec3403-4c13-483f-9e54-5a7dd4c7c53d",
   "metadata": {
    "tags": []
   },
   "outputs": [],
   "source": [
    "X = l_rel[['pitch_type','release_speed','pfx_x','pfx_z',\n",
    "            'plate_x','plate_z','vx0','vy0','vz0',\n",
    "            'ax','ay','az','sz_top','sz_bot',\n",
    "            'release_spin_rate','release_extension',\n",
    "            'release_pos_x','release_pos_y','release_pos_z']]"
   ]
  },
  {
   "cell_type": "code",
   "execution_count": 92,
   "id": "e719896d-3ee9-4830-96a9-5552b490e8a2",
   "metadata": {},
   "outputs": [],
   "source": [
    "X = pd.get_dummies(X, columns = ['pitch_type'])"
   ]
  },
  {
   "cell_type": "code",
   "execution_count": 93,
   "id": "d146aeaf-f576-4a50-8677-79f46b218ce3",
   "metadata": {},
   "outputs": [],
   "source": [
    "y = l_rel['loogy']"
   ]
  },
  {
   "cell_type": "code",
   "execution_count": 94,
   "id": "a72263b1-6c46-4d40-9c31-59e39cd888d7",
   "metadata": {},
   "outputs": [],
   "source": [
    "X_train, X_test, y_train, y_test = train_test_split(X, y, \n",
    "                                                    stratify=y, random_state=42)"
   ]
  },
  {
   "cell_type": "code",
   "execution_count": 95,
   "id": "8999811a-ea3f-4d74-be8a-e4b14fccf380",
   "metadata": {},
   "outputs": [],
   "source": [
    "from imblearn.under_sampling import RandomUnderSampler"
   ]
  },
  {
   "cell_type": "code",
   "execution_count": null,
   "id": "0c30b24b-6ff6-49b8-b773-d367f7273f9e",
   "metadata": {},
   "outputs": [],
   "source": []
  },
  {
   "cell_type": "code",
   "execution_count": 96,
   "id": "8b6e8469-db8d-4158-84df-aebf1f581278",
   "metadata": {
    "tags": []
   },
   "outputs": [],
   "source": [
    "ss = StandardScaler()\n",
    "X_train = ss.fit_transform(X_train)\n",
    "X_test = ss.transform(X_test)"
   ]
  },
  {
   "cell_type": "code",
   "execution_count": 97,
   "id": "00a813b5-4724-4626-b366-ce2d45783ce3",
   "metadata": {
    "tags": []
   },
   "outputs": [],
   "source": [
    "X_train = pd.DataFrame(X_train, columns = ss.get_feature_names_out())"
   ]
  },
  {
   "cell_type": "code",
   "execution_count": 98,
   "id": "d38791e4-c3da-4ddb-938a-d630a0bd9977",
   "metadata": {
    "tags": []
   },
   "outputs": [],
   "source": [
    "X_test = pd.DataFrame(X_test, columns = ss.get_feature_names_out())"
   ]
  },
  {
   "cell_type": "code",
   "execution_count": 99,
   "id": "9770faf8-1a2d-443d-b235-32e1a84c9fbc",
   "metadata": {},
   "outputs": [],
   "source": [
    "poly = PolynomialFeatures()"
   ]
  },
  {
   "cell_type": "code",
   "execution_count": 100,
   "id": "2efe93fd-d3cc-4cd7-a84a-ce0f6f1ebfcb",
   "metadata": {},
   "outputs": [],
   "source": [
    "X_train = poly.fit_transform(X_train)"
   ]
  },
  {
   "cell_type": "code",
   "execution_count": 101,
   "id": "2f5e6157-df38-47c3-b9f8-74c4686e8a76",
   "metadata": {},
   "outputs": [],
   "source": [
    "X_test = poly.transform(X_test)"
   ]
  },
  {
   "cell_type": "code",
   "execution_count": 102,
   "id": "676bdc7c-56f5-4da3-82f7-30b08745137f",
   "metadata": {},
   "outputs": [],
   "source": [
    "X_train = pd.DataFrame(X_train, columns = poly.get_feature_names_out())"
   ]
  },
  {
   "cell_type": "code",
   "execution_count": 103,
   "id": "aa876a4b-9526-4c21-a748-7ba4e90352f7",
   "metadata": {},
   "outputs": [],
   "source": [
    "X_test = pd.DataFrame(X_test, columns = poly.get_feature_names_out())"
   ]
  },
  {
   "cell_type": "code",
   "execution_count": 104,
   "id": "3ad8fb84-1aea-41b4-b3da-e807f10e4b5f",
   "metadata": {},
   "outputs": [],
   "source": [
    "X_train, y_train = RandomUnderSampler().fit_resample(X_train, y_train)"
   ]
  },
  {
   "cell_type": "code",
   "execution_count": 105,
   "id": "1319c119-c3a8-4c21-99ca-f7c25e3b8a92",
   "metadata": {},
   "outputs": [],
   "source": [
    "base = [np.mean(y_train)] * len(y_test)"
   ]
  },
  {
   "cell_type": "code",
   "execution_count": 106,
   "id": "aad5e147-8bed-4186-8ec3-bea29504ff7c",
   "metadata": {},
   "outputs": [
    {
     "data": {
      "text/plain": [
       "0.5"
      ]
     },
     "execution_count": 106,
     "metadata": {},
     "output_type": "execute_result"
    }
   ],
   "source": [
    "roc_auc_score(y_test,base)"
   ]
  },
  {
   "cell_type": "code",
   "execution_count": 107,
   "id": "14d02816-a991-4682-af71-391dfb40fc4e",
   "metadata": {},
   "outputs": [],
   "source": [
    "logr = LogisticRegression(C = 100)"
   ]
  },
  {
   "cell_type": "code",
   "execution_count": 108,
   "id": "d55edef9-7e4e-4980-a043-c1996b038e29",
   "metadata": {},
   "outputs": [
    {
     "name": "stderr",
     "output_type": "stream",
     "text": [
      "C:\\Users\\rob\\anaconda3\\lib\\site-packages\\sklearn\\linear_model\\_logistic.py:458: ConvergenceWarning: lbfgs failed to converge (status=1):\n",
      "STOP: TOTAL NO. of ITERATIONS REACHED LIMIT.\n",
      "\n",
      "Increase the number of iterations (max_iter) or scale the data as shown in:\n",
      "    https://scikit-learn.org/stable/modules/preprocessing.html\n",
      "Please also refer to the documentation for alternative solver options:\n",
      "    https://scikit-learn.org/stable/modules/linear_model.html#logistic-regression\n",
      "  n_iter_i = _check_optimize_result(\n"
     ]
    },
    {
     "data": {
      "text/html": [
       "<style>#sk-container-id-4 {color: black;background-color: white;}#sk-container-id-4 pre{padding: 0;}#sk-container-id-4 div.sk-toggleable {background-color: white;}#sk-container-id-4 label.sk-toggleable__label {cursor: pointer;display: block;width: 100%;margin-bottom: 0;padding: 0.3em;box-sizing: border-box;text-align: center;}#sk-container-id-4 label.sk-toggleable__label-arrow:before {content: \"▸\";float: left;margin-right: 0.25em;color: #696969;}#sk-container-id-4 label.sk-toggleable__label-arrow:hover:before {color: black;}#sk-container-id-4 div.sk-estimator:hover label.sk-toggleable__label-arrow:before {color: black;}#sk-container-id-4 div.sk-toggleable__content {max-height: 0;max-width: 0;overflow: hidden;text-align: left;background-color: #f0f8ff;}#sk-container-id-4 div.sk-toggleable__content pre {margin: 0.2em;color: black;border-radius: 0.25em;background-color: #f0f8ff;}#sk-container-id-4 input.sk-toggleable__control:checked~div.sk-toggleable__content {max-height: 200px;max-width: 100%;overflow: auto;}#sk-container-id-4 input.sk-toggleable__control:checked~label.sk-toggleable__label-arrow:before {content: \"▾\";}#sk-container-id-4 div.sk-estimator input.sk-toggleable__control:checked~label.sk-toggleable__label {background-color: #d4ebff;}#sk-container-id-4 div.sk-label input.sk-toggleable__control:checked~label.sk-toggleable__label {background-color: #d4ebff;}#sk-container-id-4 input.sk-hidden--visually {border: 0;clip: rect(1px 1px 1px 1px);clip: rect(1px, 1px, 1px, 1px);height: 1px;margin: -1px;overflow: hidden;padding: 0;position: absolute;width: 1px;}#sk-container-id-4 div.sk-estimator {font-family: monospace;background-color: #f0f8ff;border: 1px dotted black;border-radius: 0.25em;box-sizing: border-box;margin-bottom: 0.5em;}#sk-container-id-4 div.sk-estimator:hover {background-color: #d4ebff;}#sk-container-id-4 div.sk-parallel-item::after {content: \"\";width: 100%;border-bottom: 1px solid gray;flex-grow: 1;}#sk-container-id-4 div.sk-label:hover label.sk-toggleable__label {background-color: #d4ebff;}#sk-container-id-4 div.sk-serial::before {content: \"\";position: absolute;border-left: 1px solid gray;box-sizing: border-box;top: 0;bottom: 0;left: 50%;z-index: 0;}#sk-container-id-4 div.sk-serial {display: flex;flex-direction: column;align-items: center;background-color: white;padding-right: 0.2em;padding-left: 0.2em;position: relative;}#sk-container-id-4 div.sk-item {position: relative;z-index: 1;}#sk-container-id-4 div.sk-parallel {display: flex;align-items: stretch;justify-content: center;background-color: white;position: relative;}#sk-container-id-4 div.sk-item::before, #sk-container-id-4 div.sk-parallel-item::before {content: \"\";position: absolute;border-left: 1px solid gray;box-sizing: border-box;top: 0;bottom: 0;left: 50%;z-index: -1;}#sk-container-id-4 div.sk-parallel-item {display: flex;flex-direction: column;z-index: 1;position: relative;background-color: white;}#sk-container-id-4 div.sk-parallel-item:first-child::after {align-self: flex-end;width: 50%;}#sk-container-id-4 div.sk-parallel-item:last-child::after {align-self: flex-start;width: 50%;}#sk-container-id-4 div.sk-parallel-item:only-child::after {width: 0;}#sk-container-id-4 div.sk-dashed-wrapped {border: 1px dashed gray;margin: 0 0.4em 0.5em 0.4em;box-sizing: border-box;padding-bottom: 0.4em;background-color: white;}#sk-container-id-4 div.sk-label label {font-family: monospace;font-weight: bold;display: inline-block;line-height: 1.2em;}#sk-container-id-4 div.sk-label-container {text-align: center;}#sk-container-id-4 div.sk-container {/* jupyter's `normalize.less` sets `[hidden] { display: none; }` but bootstrap.min.css set `[hidden] { display: none !important; }` so we also need the `!important` here to be able to override the default hidden behavior on the sphinx rendered scikit-learn.org. See: https://github.com/scikit-learn/scikit-learn/issues/21755 */display: inline-block !important;position: relative;}#sk-container-id-4 div.sk-text-repr-fallback {display: none;}</style><div id=\"sk-container-id-4\" class=\"sk-top-container\"><div class=\"sk-text-repr-fallback\"><pre>LogisticRegression(C=100)</pre><b>In a Jupyter environment, please rerun this cell to show the HTML representation or trust the notebook. <br />On GitHub, the HTML representation is unable to render, please try loading this page with nbviewer.org.</b></div><div class=\"sk-container\" hidden><div class=\"sk-item\"><div class=\"sk-estimator sk-toggleable\"><input class=\"sk-toggleable__control sk-hidden--visually\" id=\"sk-estimator-id-4\" type=\"checkbox\" checked><label for=\"sk-estimator-id-4\" class=\"sk-toggleable__label sk-toggleable__label-arrow\">LogisticRegression</label><div class=\"sk-toggleable__content\"><pre>LogisticRegression(C=100)</pre></div></div></div></div></div>"
      ],
      "text/plain": [
       "LogisticRegression(C=100)"
      ]
     },
     "execution_count": 108,
     "metadata": {},
     "output_type": "execute_result"
    }
   ],
   "source": [
    "logr.fit(X_train,y_train)"
   ]
  },
  {
   "cell_type": "code",
   "execution_count": 109,
   "id": "9a1e6fab-a5de-49c1-be44-82d784966695",
   "metadata": {},
   "outputs": [
    {
     "data": {
      "text/plain": [
       "0.7601632330043885"
      ]
     },
     "execution_count": 109,
     "metadata": {},
     "output_type": "execute_result"
    }
   ],
   "source": [
    "roc_auc_score(y_test,logr.predict(X_test))"
   ]
  },
  {
   "cell_type": "code",
   "execution_count": 110,
   "id": "7584da61-e8c5-400c-a0fc-485c7c010d3b",
   "metadata": {},
   "outputs": [
    {
     "data": {
      "text/plain": [
       "Index(['1', 'release_speed', 'pfx_x', 'pfx_z', 'plate_x', 'plate_z', 'vx0',\n",
       "       'vy0', 'vz0', 'ax',\n",
       "       ...\n",
       "       'pitch_type_SI^2', 'pitch_type_SI pitch_type_SL',\n",
       "       'pitch_type_SI pitch_type_ST', 'pitch_type_SI pitch_type_SV',\n",
       "       'pitch_type_SL^2', 'pitch_type_SL pitch_type_ST',\n",
       "       'pitch_type_SL pitch_type_SV', 'pitch_type_ST^2',\n",
       "       'pitch_type_ST pitch_type_SV', 'pitch_type_SV^2'],\n",
       "      dtype='object', length=528)"
      ]
     },
     "execution_count": 110,
     "metadata": {},
     "output_type": "execute_result"
    }
   ],
   "source": [
    "X_train.columns"
   ]
  },
  {
   "cell_type": "code",
   "execution_count": 59,
   "id": "2f0f3d7b-12d9-4ea1-aab5-0435558eae09",
   "metadata": {},
   "outputs": [],
   "source": [
    "coefs = pd.DataFrame({\"Feature\":X_train.columns.tolist(),\"Coefficients\":logr.coef_[0]})"
   ]
  },
  {
   "cell_type": "code",
   "execution_count": 65,
   "id": "66a98820-a2f5-4a15-86c4-f481f8c3eef8",
   "metadata": {},
   "outputs": [
    {
     "data": {
      "text/html": [
       "<div>\n",
       "<style scoped>\n",
       "    .dataframe tbody tr th:only-of-type {\n",
       "        vertical-align: middle;\n",
       "    }\n",
       "\n",
       "    .dataframe tbody tr th {\n",
       "        vertical-align: top;\n",
       "    }\n",
       "\n",
       "    .dataframe thead th {\n",
       "        text-align: right;\n",
       "    }\n",
       "</style>\n",
       "<table border=\"1\" class=\"dataframe\">\n",
       "  <thead>\n",
       "    <tr style=\"text-align: right;\">\n",
       "      <th></th>\n",
       "      <th>Feature</th>\n",
       "      <th>Coefficients</th>\n",
       "    </tr>\n",
       "  </thead>\n",
       "  <tbody>\n",
       "    <tr>\n",
       "      <th>14</th>\n",
       "      <td>release_spin_rate</td>\n",
       "      <td>-0.526110</td>\n",
       "    </tr>\n",
       "    <tr>\n",
       "      <th>258</th>\n",
       "      <td>ax release_extension</td>\n",
       "      <td>0.492481</td>\n",
       "    </tr>\n",
       "    <tr>\n",
       "      <th>77</th>\n",
       "      <td>pfx_x release_pos_x</td>\n",
       "      <td>-0.486087</td>\n",
       "    </tr>\n",
       "    <tr>\n",
       "      <th>434</th>\n",
       "      <td>release_pos_z pitch_type_SL</td>\n",
       "      <td>0.469489</td>\n",
       "    </tr>\n",
       "    <tr>\n",
       "      <th>390</th>\n",
       "      <td>release_extension pitch_type_ST</td>\n",
       "      <td>0.460258</td>\n",
       "    </tr>\n",
       "    <tr>\n",
       "      <th>433</th>\n",
       "      <td>release_pos_z pitch_type_SI</td>\n",
       "      <td>-0.423760</td>\n",
       "    </tr>\n",
       "    <tr>\n",
       "      <th>189</th>\n",
       "      <td>vx0 release_pos_z</td>\n",
       "      <td>-0.422626</td>\n",
       "    </tr>\n",
       "    <tr>\n",
       "      <th>406</th>\n",
       "      <td>release_pos_x pitch_type_ST</td>\n",
       "      <td>0.415438</td>\n",
       "    </tr>\n",
       "    <tr>\n",
       "      <th>64</th>\n",
       "      <td>pfx_x pfx_z</td>\n",
       "      <td>-0.411794</td>\n",
       "    </tr>\n",
       "    <tr>\n",
       "      <th>432</th>\n",
       "      <td>release_pos_z pitch_type_KC</td>\n",
       "      <td>0.387680</td>\n",
       "    </tr>\n",
       "    <tr>\n",
       "      <th>392</th>\n",
       "      <td>release_pos_x^2</td>\n",
       "      <td>0.383102</td>\n",
       "    </tr>\n",
       "    <tr>\n",
       "      <th>297</th>\n",
       "      <td>az^2</td>\n",
       "      <td>-0.376979</td>\n",
       "    </tr>\n",
       "    <tr>\n",
       "      <th>379</th>\n",
       "      <td>release_extension pitch_type_CH</td>\n",
       "      <td>-0.373886</td>\n",
       "    </tr>\n",
       "    <tr>\n",
       "      <th>7</th>\n",
       "      <td>vy0</td>\n",
       "      <td>0.358148</td>\n",
       "    </tr>\n",
       "    <tr>\n",
       "      <th>79</th>\n",
       "      <td>pfx_x release_pos_z</td>\n",
       "      <td>0.353751</td>\n",
       "    </tr>\n",
       "    <tr>\n",
       "      <th>127</th>\n",
       "      <td>plate_x ax</td>\n",
       "      <td>0.347687</td>\n",
       "    </tr>\n",
       "    <tr>\n",
       "      <th>2</th>\n",
       "      <td>pfx_x</td>\n",
       "      <td>0.333310</td>\n",
       "    </tr>\n",
       "    <tr>\n",
       "      <th>32</th>\n",
       "      <td>release_speed^2</td>\n",
       "      <td>-0.329352</td>\n",
       "    </tr>\n",
       "    <tr>\n",
       "      <th>9</th>\n",
       "      <td>ax</td>\n",
       "      <td>0.327056</td>\n",
       "    </tr>\n",
       "    <tr>\n",
       "      <th>192</th>\n",
       "      <td>vx0 pitch_type_CU</td>\n",
       "      <td>0.326774</td>\n",
       "    </tr>\n",
       "    <tr>\n",
       "      <th>38</th>\n",
       "      <td>release_speed vy0</td>\n",
       "      <td>0.326184</td>\n",
       "    </tr>\n",
       "    <tr>\n",
       "      <th>203</th>\n",
       "      <td>vy0^2</td>\n",
       "      <td>-0.318111</td>\n",
       "    </tr>\n",
       "    <tr>\n",
       "      <th>15</th>\n",
       "      <td>release_extension</td>\n",
       "      <td>0.317991</td>\n",
       "    </tr>\n",
       "    <tr>\n",
       "      <th>361</th>\n",
       "      <td>release_spin_rate release_pos_z</td>\n",
       "      <td>0.315886</td>\n",
       "    </tr>\n",
       "    <tr>\n",
       "      <th>283</th>\n",
       "      <td>ay release_pos_z</td>\n",
       "      <td>0.308593</td>\n",
       "    </tr>\n",
       "    <tr>\n",
       "      <th>214</th>\n",
       "      <td>vy0 release_pos_z</td>\n",
       "      <td>-0.289549</td>\n",
       "    </tr>\n",
       "    <tr>\n",
       "      <th>179</th>\n",
       "      <td>vx0 vz0</td>\n",
       "      <td>0.286194</td>\n",
       "    </tr>\n",
       "    <tr>\n",
       "      <th>368</th>\n",
       "      <td>release_spin_rate pitch_type_FF</td>\n",
       "      <td>0.284826</td>\n",
       "    </tr>\n",
       "    <tr>\n",
       "      <th>394</th>\n",
       "      <td>release_pos_x release_pos_z</td>\n",
       "      <td>0.283426</td>\n",
       "    </tr>\n",
       "    <tr>\n",
       "      <th>16</th>\n",
       "      <td>release_pos_x</td>\n",
       "      <td>0.282594</td>\n",
       "    </tr>\n",
       "    <tr>\n",
       "      <th>117</th>\n",
       "      <td>pfx_z pitch_type_KC</td>\n",
       "      <td>-0.278977</td>\n",
       "    </tr>\n",
       "    <tr>\n",
       "      <th>212</th>\n",
       "      <td>vy0 release_pos_x</td>\n",
       "      <td>0.277983</td>\n",
       "    </tr>\n",
       "    <tr>\n",
       "      <th>315</th>\n",
       "      <td>az pitch_type_SL</td>\n",
       "      <td>-0.277641</td>\n",
       "    </tr>\n",
       "    <tr>\n",
       "      <th>97</th>\n",
       "      <td>pfx_z vy0</td>\n",
       "      <td>-0.274887</td>\n",
       "    </tr>\n",
       "    <tr>\n",
       "      <th>186</th>\n",
       "      <td>vx0 release_extension</td>\n",
       "      <td>0.266518</td>\n",
       "    </tr>\n",
       "    <tr>\n",
       "      <th>359</th>\n",
       "      <td>release_spin_rate release_pos_x</td>\n",
       "      <td>0.258233</td>\n",
       "    </tr>\n",
       "    <tr>\n",
       "      <th>177</th>\n",
       "      <td>vx0^2</td>\n",
       "      <td>0.249941</td>\n",
       "    </tr>\n",
       "    <tr>\n",
       "      <th>215</th>\n",
       "      <td>vy0 pitch_type_CH</td>\n",
       "      <td>0.249888</td>\n",
       "    </tr>\n",
       "    <tr>\n",
       "      <th>259</th>\n",
       "      <td>ax release_pos_x</td>\n",
       "      <td>0.249639</td>\n",
       "    </tr>\n",
       "    <tr>\n",
       "      <th>229</th>\n",
       "      <td>vz0 ax</td>\n",
       "      <td>0.235903</td>\n",
       "    </tr>\n",
       "    <tr>\n",
       "      <th>82</th>\n",
       "      <td>pfx_x pitch_type_CU</td>\n",
       "      <td>-0.234182</td>\n",
       "    </tr>\n",
       "    <tr>\n",
       "      <th>33</th>\n",
       "      <td>release_speed pfx_x</td>\n",
       "      <td>0.232980</td>\n",
       "    </tr>\n",
       "    <tr>\n",
       "      <th>118</th>\n",
       "      <td>pfx_z pitch_type_SI</td>\n",
       "      <td>0.232537</td>\n",
       "    </tr>\n",
       "    <tr>\n",
       "      <th>1</th>\n",
       "      <td>release_speed</td>\n",
       "      <td>-0.232292</td>\n",
       "    </tr>\n",
       "    <tr>\n",
       "      <th>34</th>\n",
       "      <td>release_speed pfx_z</td>\n",
       "      <td>0.229648</td>\n",
       "    </tr>\n",
       "    <tr>\n",
       "      <th>430</th>\n",
       "      <td>release_pos_z pitch_type_FF</td>\n",
       "      <td>-0.229015</td>\n",
       "    </tr>\n",
       "    <tr>\n",
       "      <th>404</th>\n",
       "      <td>release_pos_x pitch_type_SI</td>\n",
       "      <td>-0.225718</td>\n",
       "    </tr>\n",
       "    <tr>\n",
       "      <th>37</th>\n",
       "      <td>release_speed vx0</td>\n",
       "      <td>-0.222439</td>\n",
       "    </tr>\n",
       "    <tr>\n",
       "      <th>241</th>\n",
       "      <td>vz0 pitch_type_CU</td>\n",
       "      <td>-0.219407</td>\n",
       "    </tr>\n",
       "    <tr>\n",
       "      <th>252</th>\n",
       "      <td>ax^2</td>\n",
       "      <td>-0.216601</td>\n",
       "    </tr>\n",
       "  </tbody>\n",
       "</table>\n",
       "</div>"
      ],
      "text/plain": [
       "                             Feature  Coefficients\n",
       "14                 release_spin_rate     -0.526110\n",
       "258             ax release_extension      0.492481\n",
       "77               pfx_x release_pos_x     -0.486087\n",
       "434      release_pos_z pitch_type_SL      0.469489\n",
       "390  release_extension pitch_type_ST      0.460258\n",
       "433      release_pos_z pitch_type_SI     -0.423760\n",
       "189                vx0 release_pos_z     -0.422626\n",
       "406      release_pos_x pitch_type_ST      0.415438\n",
       "64                       pfx_x pfx_z     -0.411794\n",
       "432      release_pos_z pitch_type_KC      0.387680\n",
       "392                  release_pos_x^2      0.383102\n",
       "297                             az^2     -0.376979\n",
       "379  release_extension pitch_type_CH     -0.373886\n",
       "7                                vy0      0.358148\n",
       "79               pfx_x release_pos_z      0.353751\n",
       "127                       plate_x ax      0.347687\n",
       "2                              pfx_x      0.333310\n",
       "32                   release_speed^2     -0.329352\n",
       "9                                 ax      0.327056\n",
       "192                vx0 pitch_type_CU      0.326774\n",
       "38                 release_speed vy0      0.326184\n",
       "203                            vy0^2     -0.318111\n",
       "15                 release_extension      0.317991\n",
       "361  release_spin_rate release_pos_z      0.315886\n",
       "283                 ay release_pos_z      0.308593\n",
       "214                vy0 release_pos_z     -0.289549\n",
       "179                          vx0 vz0      0.286194\n",
       "368  release_spin_rate pitch_type_FF      0.284826\n",
       "394      release_pos_x release_pos_z      0.283426\n",
       "16                     release_pos_x      0.282594\n",
       "117              pfx_z pitch_type_KC     -0.278977\n",
       "212                vy0 release_pos_x      0.277983\n",
       "315                 az pitch_type_SL     -0.277641\n",
       "97                         pfx_z vy0     -0.274887\n",
       "186            vx0 release_extension      0.266518\n",
       "359  release_spin_rate release_pos_x      0.258233\n",
       "177                            vx0^2      0.249941\n",
       "215                vy0 pitch_type_CH      0.249888\n",
       "259                 ax release_pos_x      0.249639\n",
       "229                           vz0 ax      0.235903\n",
       "82               pfx_x pitch_type_CU     -0.234182\n",
       "33               release_speed pfx_x      0.232980\n",
       "118              pfx_z pitch_type_SI      0.232537\n",
       "1                      release_speed     -0.232292\n",
       "34               release_speed pfx_z      0.229648\n",
       "430      release_pos_z pitch_type_FF     -0.229015\n",
       "404      release_pos_x pitch_type_SI     -0.225718\n",
       "37                 release_speed vx0     -0.222439\n",
       "241                vz0 pitch_type_CU     -0.219407\n",
       "252                             ax^2     -0.216601"
      ]
     },
     "execution_count": 65,
     "metadata": {},
     "output_type": "execute_result"
    }
   ],
   "source": [
    "coefs.sort_values(by = 'Coefficients', key = abs, ascending = False).head(50)"
   ]
  },
  {
   "cell_type": "code",
   "execution_count": 71,
   "id": "0c5ff582-b3ef-4291-9343-44a8dee9a31c",
   "metadata": {},
   "outputs": [
    {
     "data": {
      "text/plain": [
       "<matplotlib.legend.Legend at 0x2ce132900a0>"
      ]
     },
     "execution_count": 71,
     "metadata": {},
     "output_type": "execute_result"
    },
    {
     "data": {
      "image/png": "[encoded data removed]",
      "text/plain": [
       "<Figure size 640x480 with 1 Axes>"
      ]
     },
     "metadata": {},
     "output_type": "display_data"
    }
   ],
   "source": [
    "l_rel[l_rel['loogy'] == 1]['release_spin_rate'].hist(density = True, bins = 100, label = 'Loogy')\n",
    "l_rel[l_rel['loogy'] == 0]['release_spin_rate'].hist(density = True, bins = 100, label = 'Reg')\n",
    "plt.legend()"
   ]
  },
  {
   "cell_type": "code",
   "execution_count": 72,
   "id": "12e3a740-c0f4-42d0-bd4b-d7b42b711fbb",
   "metadata": {},
   "outputs": [
    {
     "data": {
      "text/plain": [
       "<matplotlib.legend.Legend at 0x2ce141f68c0>"
      ]
     },
     "execution_count": 72,
     "metadata": {},
     "output_type": "execute_result"
    },
    {
     "data": {
      "image/png": "[encoded data removed]",
      "text/plain": [
       "<Figure size 640x480 with 1 Axes>"
      ]
     },
     "metadata": {},
     "output_type": "display_data"
    }
   ],
   "source": [
    "l_rel[l_rel['loogy'] == 1]['ax'].hist(density = True, bins = 100, label = 'Loogy')\n",
    "l_rel[l_rel['loogy'] == 0]['ax'].hist(density = True, bins = 100, label = 'Reg')\n",
    "plt.legend()"
   ]
  },
  {
   "cell_type": "code",
   "execution_count": 73,
   "id": "9fa146c2-4f7d-4ae0-8604-0f0a857c9e94",
   "metadata": {},
   "outputs": [
    {
     "data": {
      "text/plain": [
       "<matplotlib.legend.Legend at 0x2ce13cb1f00>"
      ]
     },
     "execution_count": 73,
     "metadata": {},
     "output_type": "execute_result"
    },
    {
     "data": {
      "image/png": "[encoded data removed]",
      "text/plain": [
       "<Figure size 640x480 with 1 Axes>"
      ]
     },
     "metadata": {},
     "output_type": "display_data"
    }
   ],
   "source": [
    "l_rel[l_rel['loogy'] == 1]['release_extension'].hist(density = True, bins = 100, label = 'Loogy')\n",
    "l_rel[l_rel['loogy'] == 0]['release_extension'].hist(density = True, bins = 100, label = 'Reg')\n",
    "plt.legend()"
   ]
  },
  {
   "cell_type": "code",
   "execution_count": 113,
   "id": "b95d8c6d-9fcf-4be6-814b-70f4a1632f84",
   "metadata": {},
   "outputs": [
    {
     "data": {
      "text/plain": [
       "<matplotlib.legend.Legend at 0x2ce1333a9e0>"
      ]
     },
     "execution_count": 113,
     "metadata": {},
     "output_type": "execute_result"
    },
    {
     "data": {
      "image/png": "[encoded data removed]",
      "text/plain": [
       "<Figure size 640x480 with 1 Axes>"
      ]
     },
     "metadata": {},
     "output_type": "display_data"
    }
   ],
   "source": [
    "l_rel[l_rel['loogy'] == 1]['release_pos_x'].hist(density = True, bins = 50, label = 'Loogy')\n",
    "l_rel[l_rel['loogy'] == 0]['release_pos_x'].hist(density = True, bins = 50, label = 'Reg')\n",
    "plt.legend()"
   ]
  },
  {
   "cell_type": "code",
   "execution_count": 114,
   "id": "8d834ed4-042a-4ab2-a4c1-cf8f59503091",
   "metadata": {},
   "outputs": [
    {
     "data": {
      "text/plain": [
       "<matplotlib.legend.Legend at 0x2ce14653340>"
      ]
     },
     "execution_count": 114,
     "metadata": {},
     "output_type": "execute_result"
    },
    {
     "data": {
      "image/png": "[encoded data removed]",
      "text/plain": [
       "<Figure size 640x480 with 1 Axes>"
      ]
     },
     "metadata": {},
     "output_type": "display_data"
    }
   ],
   "source": [
    "l_rel[l_rel['loogy'] == 1]['pfx_x'].hist(density = True, bins = 100, label = 'Loogy')\n",
    "l_rel[l_rel['loogy'] == 0]['pfx_x'].hist(density = True, bins = 100, label = 'Reg')\n",
    "plt.legend()"
   ]
  },
  {
   "cell_type": "code",
   "execution_count": null,
   "id": "f7a934f2-a219-43a3-ad0a-7dd45ee633bc",
   "metadata": {},
   "outputs": [],
   "source": []
  },
  {
   "cell_type": "code",
   "execution_count": 50,
   "id": "a44b5237-7d84-4c9e-ba2b-1f25ed7d1128",
   "metadata": {},
   "outputs": [
    {
     "data": {
      "text/plain": [
       "'vz0^2'"
      ]
     },
     "execution_count": 50,
     "metadata": {},
     "output_type": "execute_result"
    }
   ],
   "source": [
    "max(coefs)"
   ]
  },
  {
   "cell_type": "code",
   "execution_count": null,
   "id": "0ceba8e5-f5af-484b-97c4-d0aeb5502db1",
   "metadata": {},
   "outputs": [],
   "source": [
    "dt = DecisionTreeClassifier()\n",
    "dt.fit(X_train,y_train)"
   ]
  },
  {
   "cell_type": "code",
   "execution_count": null,
   "id": "36157ec9-3fea-4f6e-870c-a932495afeb8",
   "metadata": {},
   "outputs": [],
   "source": [
    "roc_auc_score(y_test, dt.predict(X_test))"
   ]
  },
  {
   "cell_type": "code",
   "execution_count": null,
   "id": "adb457be-6088-4849-b108-82d8feec087a",
   "metadata": {},
   "outputs": [],
   "source": [
    "knn = KNeighborsClassifier()\n",
    "knn.fit(X_train,y_train)\n",
    "roc_auc_score(y_test,knn.predict(X_test))"
   ]
  },
  {
   "cell_type": "code",
   "execution_count": null,
   "id": "f19fd1ea-101f-48a0-a0af-54d8d7559a31",
   "metadata": {},
   "outputs": [],
   "source": [
    "svc = SVC()\n",
    "svc.fit(X_train,y_train)\n",
    "roc_auc_score(y_test,svc.predict(X_test))"
   ]
  },
  {
   "cell_type": "code",
   "execution_count": null,
   "id": "2fd7ca46-b076-4ddf-a2b4-a69269d01145",
   "metadata": {},
   "outputs": [],
   "source": [
    "rf = RandomForestClassifier()\n",
    "rf.fit(X_train, y_train)\n",
    "roc_auc_score(y_test, rf.predict(X_test))"
   ]
  },
  {
   "cell_type": "code",
   "execution_count": null,
   "id": "1a89887e-0488-4f7c-a6b0-c072f388c0b0",
   "metadata": {},
   "outputs": [],
   "source": [
    "# Number of trees in random forest\n",
    "n_estimators = [int(x) for x in np.linspace(start = 50, stop = 300, num = 10)]\n",
    "# Number of features to consider at every split\n",
    "max_features = ['auto', 'sqrt']\n",
    "# Maximum number of levels in tree\n",
    "max_depth = [int(x) for x in np.linspace(10, 110, num = 11)]\n",
    "max_depth.append(None)\n",
    "# Minimum number of samples required to split a node\n",
    "min_samples_split = [2, 5, 10]\n",
    "# Minimum number of samples required at each leaf node\n",
    "min_samples_leaf = [1, 2, 4]\n",
    "# Method of selecting samples for training each tree\n",
    "bootstrap = [True, False]\n",
    "# Create the random grid\n",
    "random_grid = {'n_estimators': n_estimators,\n",
    "               'max_features': max_features,\n",
    "               'max_depth': max_depth,\n",
    "               'min_samples_split': min_samples_split,\n",
    "               'min_samples_leaf': min_samples_leaf,\n",
    "               'bootstrap': bootstrap}"
   ]
  },
  {
   "cell_type": "code",
   "execution_count": 111,
   "id": "e8b429e3-1150-4a3b-b458-f836f4e880a1",
   "metadata": {},
   "outputs": [],
   "source": [
    "from tensorflow.keras.models import Sequential\n",
    "from tensorflow.keras.layers import Dense, Dropout\n",
    "from tensorflow.keras.utils import to_categorical\n",
    "from tensorflow.keras.metrics import Recall, Precision\n",
    "from tensorflow.keras.metrics import AUC"
   ]
  },
  {
   "cell_type": "code",
   "execution_count": 58,
   "id": "fa080d68-2445-45b5-86a3-44d9c1d40072",
   "metadata": {},
   "outputs": [],
   "source": [
    "model = Sequential()\n",
    "model.add(Dense(32,activation = 'relu'))\n",
    "model.add(Dense(32,activation = 'relu'))\n",
    "model.add(Dense(32,activation = 'relu'))\n",
    "model.add(Dense(32,activation = 'relu'))\n",
    "model.add(Dense(16, activation = 'relu'))\n",
    "model.add(Dense(1,activation = 'sigmoid'))\n",
    "model.compile(loss='binary_crossentropy',optimizer='adam',metrics = 'AUC')"
   ]
  },
  {
   "cell_type": "code",
   "execution_count": 59,
   "id": "0a9aa0b9-c8c6-4d37-972c-b34f300274cc",
   "metadata": {},
   "outputs": [
    {
     "name": "stdout",
     "output_type": "stream",
     "text": [
      "Epoch 1/10\n",
      "513/513 [==============================] - 5s 5ms/step - loss: 0.4626 - auc: 0.8636 - val_loss: 0.3450 - val_auc: 0.9321\n",
      "Epoch 2/10\n",
      "513/513 [==============================] - 2s 4ms/step - loss: 0.3234 - auc: 0.9407 - val_loss: 0.2736 - val_auc: 0.9537\n",
      "Epoch 3/10\n",
      "513/513 [==============================] - 2s 4ms/step - loss: 0.2749 - auc: 0.9581 - val_loss: 0.2630 - val_auc: 0.9617\n",
      "Epoch 4/10\n",
      "513/513 [==============================] - 2s 4ms/step - loss: 0.2352 - auc: 0.9663 - val_loss: 0.2194 - val_auc: 0.9664\n",
      "Epoch 5/10\n",
      "513/513 [==============================] - 2s 4ms/step - loss: 0.2140 - auc: 0.9720 - val_loss: 0.2268 - val_auc: 0.9709\n",
      "Epoch 6/10\n",
      "513/513 [==============================] - 3s 5ms/step - loss: 0.2004 - auc: 0.9754 - val_loss: 0.2344 - val_auc: 0.9734\n",
      "Epoch 7/10\n",
      "513/513 [==============================] - 3s 5ms/step - loss: 0.1918 - auc: 0.9774 - val_loss: 0.2176 - val_auc: 0.9718\n",
      "Epoch 8/10\n",
      "513/513 [==============================] - 3s 5ms/step - loss: 0.1841 - auc: 0.9791 - val_loss: 0.1951 - val_auc: 0.9748\n",
      "Epoch 9/10\n",
      "513/513 [==============================] - 3s 5ms/step - loss: 0.1766 - auc: 0.9807 - val_loss: 0.1879 - val_auc: 0.9755\n",
      "Epoch 10/10\n",
      "513/513 [==============================] - 2s 5ms/step - loss: 0.1692 - auc: 0.9823 - val_loss: 0.1798 - val_auc: 0.9771\n"
     ]
    },
    {
     "data": {
      "text/plain": [
       "<keras.callbacks.History at 0x1c3765e6a10>"
      ]
     },
     "execution_count": 59,
     "metadata": {},
     "output_type": "execute_result"
    }
   ],
   "source": [
    "model.fit(X_train,y_train,validation_data=(X_test, y_test), epochs = 10, batch_size = 128)"
   ]
  },
  {
   "cell_type": "code",
   "execution_count": 60,
   "id": "0083910d-2552-438a-a274-369c1ba3dab8",
   "metadata": {},
   "outputs": [
    {
     "name": "stdout",
     "output_type": "stream",
     "text": [
      "1790/1790 [==============================] - 2s 1ms/step\n"
     ]
    }
   ],
   "source": [
    "y_pred = model.predict(X_test) >= 0.5"
   ]
  },
  {
   "cell_type": "code",
   "execution_count": 61,
   "id": "3e390e78-b077-4193-bfef-ed345caf15f3",
   "metadata": {},
   "outputs": [
    {
     "data": {
      "text/plain": [
       "0.9218049255131338"
      ]
     },
     "execution_count": 61,
     "metadata": {},
     "output_type": "execute_result"
    }
   ],
   "source": [
    "roc_auc_score(y_test, y_pred)"
   ]
  },
  {
   "cell_type": "code",
   "execution_count": 62,
   "id": "8e9a50e0-8874-4b33-a9a0-8c35f18a6fe2",
   "metadata": {},
   "outputs": [
    {
     "data": {
      "text/plain": [
       "array([[43186,   966],\n",
       "       [ 3155,  9973]], dtype=int64)"
      ]
     },
     "execution_count": 62,
     "metadata": {},
     "output_type": "execute_result"
    }
   ],
   "source": [
    "confusion_matrix(y_pred,y_test)"
   ]
  },
  {
   "cell_type": "code",
   "execution_count": null,
   "id": "fdb7d07f-6cd7-47f0-9673-326081f3ea65",
   "metadata": {},
   "outputs": [],
   "source": []
  },
  {
   "cell_type": "markdown",
   "id": "891a9dc6-a0d4-4bc0-a394-d43d894e011a",
   "metadata": {
    "tags": []
   },
   "source": [
    "## fatigue through game"
   ]
  },
  {
   "cell_type": "markdown",
   "id": "05d36cb1-53a1-449c-9251-e18623a54c97",
   "metadata": {
    "tags": []
   },
   "source": [
    "### fewer swinging strikes"
   ]
  },
  {
   "cell_type": "code",
   "execution_count": 39,
   "id": "5618215c-afe9-42cd-b09a-302e70032001",
   "metadata": {},
   "outputs": [],
   "source": [
    "X = ck[['pitch_type','release_speed','pfx_x','pfx_z',\n",
    "            'plate_x','plate_z','vx0','vy0','vz0',\n",
    "            'ax','ay','az','sz_top','sz_bot',\n",
    "            'release_spin_rate','release_extension','effective_speed','inning',\n",
    "        'release_pos_x','release_pos_y','release_pos_z','pitch_no','swing']]"
   ]
  },
  {
   "cell_type": "code",
   "execution_count": 40,
   "id": "55cb9745-37ac-48e9-81fa-9aeaa38f859e",
   "metadata": {},
   "outputs": [
    {
     "data": {
      "text/plain": [
       "pitch_type           181\n",
       "release_speed        176\n",
       "pfx_x                181\n",
       "pfx_z                181\n",
       "plate_x              181\n",
       "plate_z              181\n",
       "vx0                  181\n",
       "vy0                  181\n",
       "vz0                  181\n",
       "ax                   181\n",
       "ay                   181\n",
       "az                   181\n",
       "sz_top               181\n",
       "sz_bot               181\n",
       "release_spin_rate    929\n",
       "release_extension    345\n",
       "effective_speed      174\n",
       "inning                 0\n",
       "delta_run_exp          6\n",
       "release_pos_x        181\n",
       "release_pos_y        181\n",
       "release_pos_z        181\n",
       "pitch_no               0\n",
       "swing                  0\n",
       "dtype: int64"
      ]
     },
     "execution_count": 40,
     "metadata": {},
     "output_type": "execute_result"
    }
   ],
   "source": [
    "X.isnull().sum()"
   ]
  },
  {
   "cell_type": "code",
   "execution_count": 41,
   "id": "0314913f-73a0-4d03-ac96-46c56dde8db4",
   "metadata": {},
   "outputs": [
    {
     "name": "stderr",
     "output_type": "stream",
     "text": [
      "C:\\Users\\Finley & Stein\\AppData\\Local\\Temp\\ipykernel_17840\\25841689.py:1: SettingWithCopyWarning: \n",
      "A value is trying to be set on a copy of a slice from a DataFrame\n",
      "\n",
      "See the caveats in the documentation: https://pandas.pydata.org/pandas-docs/stable/user_guide/indexing.html#returning-a-view-versus-a-copy\n",
      "  X.dropna(inplace = True)\n"
     ]
    }
   ],
   "source": [
    "X.dropna(inplace = True)"
   ]
  },
  {
   "cell_type": "code",
   "execution_count": 42,
   "id": "dab03772-e74c-46c9-b4af-ac64a031377e",
   "metadata": {},
   "outputs": [],
   "source": [
    "X = pd.get_dummies(X, columns = ['pitch_type'])"
   ]
  },
  {
   "cell_type": "code",
   "execution_count": 43,
   "id": "85fa46c5-4d77-49d3-b1fc-839b6d5fc8c0",
   "metadata": {},
   "outputs": [],
   "source": [
    "y = X['swing']"
   ]
  },
  {
   "cell_type": "code",
   "execution_count": 44,
   "id": "32507397-60a4-46a5-836d-2fe94a847a9c",
   "metadata": {},
   "outputs": [],
   "source": [
    "X.drop(columns = 'swing', inplace = True)"
   ]
  },
  {
   "cell_type": "code",
   "execution_count": 45,
   "id": "3d30b506-5708-441b-9d7c-f2253ea7f2c2",
   "metadata": {},
   "outputs": [],
   "source": [
    "X_train, X_test, y_train, y_test = train_test_split(X, y,\n",
    "                                                    random_state=42)"
   ]
  },
  {
   "cell_type": "code",
   "execution_count": 46,
   "id": "3664bcf9-fca0-4c7c-8356-c83b857b9332",
   "metadata": {},
   "outputs": [],
   "source": [
    "ss = StandardScaler()\n",
    "X_train = ss.fit_transform(X_train)\n",
    "X_test = ss.transform(X_test)\n",
    "\n",
    "X_train = pd.DataFrame(X_train, columns = ss.get_feature_names_out())\n",
    "X_test = pd.DataFrame(X_test, columns = ss.get_feature_names_out())"
   ]
  },
  {
   "cell_type": "code",
   "execution_count": 49,
   "id": "a8007b67-1b86-41f1-9f07-fea43902366b",
   "metadata": {},
   "outputs": [],
   "source": [
    "poly = PolynomialFeatures()\n",
    "X_train = poly.fit_transform(X_train)\n",
    "X_test = poly.transform(X_test)\n",
    "\n",
    "X_train = pd.DataFrame(X_train, columns = poly.get_feature_names_out())\n",
    "X_test = pd.DataFrame(X_test, columns = poly.get_feature_names_out())"
   ]
  },
  {
   "cell_type": "code",
   "execution_count": 52,
   "id": "e7f54230-1f70-4b37-a0e8-b3cc1259a93c",
   "metadata": {},
   "outputs": [
    {
     "data": {
      "text/plain": [
       "0.5"
      ]
     },
     "execution_count": 52,
     "metadata": {},
     "output_type": "execute_result"
    }
   ],
   "source": [
    "base = [np.mean(y_train)] * len(y_test)\n",
    "roc_auc_score(y_test, base)"
   ]
  },
  {
   "cell_type": "code",
   "execution_count": 85,
   "id": "f583e550-8e3d-4648-935a-2c7ad7080681",
   "metadata": {},
   "outputs": [],
   "source": [
    "model = Sequential()\n",
    "model.add(Dense(128,activation = 'relu'))\n",
    "model.add(Dropout(0.2))\n",
    "model.add(Dense(32, activation = 'relu'))\n",
    "model.add(Dense(1,activation = 'sigmoid'))\n",
    "model.compile(loss='binary_crossentropy',optimizer='adam',metrics = ['AUC'])"
   ]
  },
  {
   "cell_type": "code",
   "execution_count": 86,
   "id": "bf85bd49-1468-4a3a-9bb0-db8d3d67b718",
   "metadata": {},
   "outputs": [
    {
     "name": "stdout",
     "output_type": "stream",
     "text": [
      "Epoch 1/10\n",
      "405/405 [==============================] - 2s 3ms/step - loss: 0.3546 - auc: 0.7252 - val_loss: 0.3070 - val_auc: 0.7948\n",
      "Epoch 2/10\n",
      "405/405 [==============================] - 1s 3ms/step - loss: 0.3103 - auc: 0.8040 - val_loss: 0.3043 - val_auc: 0.7990\n",
      "Epoch 3/10\n",
      "405/405 [==============================] - 1s 2ms/step - loss: 0.2936 - auc: 0.8325 - val_loss: 0.2948 - val_auc: 0.8200\n",
      "Epoch 4/10\n",
      "405/405 [==============================] - 1s 3ms/step - loss: 0.2822 - auc: 0.8492 - val_loss: 0.2895 - val_auc: 0.8323\n",
      "Epoch 5/10\n",
      "405/405 [==============================] - 1s 3ms/step - loss: 0.2692 - auc: 0.8644 - val_loss: 0.2838 - val_auc: 0.8408\n",
      "Epoch 6/10\n",
      "405/405 [==============================] - 1s 3ms/step - loss: 0.2617 - auc: 0.8740 - val_loss: 0.2812 - val_auc: 0.8437\n",
      "Epoch 7/10\n",
      "405/405 [==============================] - 1s 3ms/step - loss: 0.2514 - auc: 0.8865 - val_loss: 0.2820 - val_auc: 0.8446\n",
      "Epoch 8/10\n",
      "405/405 [==============================] - 1s 3ms/step - loss: 0.2439 - auc: 0.8957 - val_loss: 0.2818 - val_auc: 0.8450\n",
      "Epoch 9/10\n",
      "405/405 [==============================] - 1s 2ms/step - loss: 0.2372 - auc: 0.9015 - val_loss: 0.2834 - val_auc: 0.8476\n",
      "Epoch 10/10\n",
      "405/405 [==============================] - 1s 2ms/step - loss: 0.2302 - auc: 0.9096 - val_loss: 0.2874 - val_auc: 0.8434\n"
     ]
    },
    {
     "data": {
      "text/plain": [
       "<keras.callbacks.History at 0x230e5f637c0>"
      ]
     },
     "execution_count": 86,
     "metadata": {},
     "output_type": "execute_result"
    }
   ],
   "source": [
    "model.fit(X_train,y_train,validation_data=(X_test, y_test), epochs = 10, batch_size = 32)"
   ]
  },
  {
   "cell_type": "code",
   "execution_count": 87,
   "id": "dae18902-bc8f-458e-9cef-266c7dab1436",
   "metadata": {},
   "outputs": [
    {
     "name": "stdout",
     "output_type": "stream",
     "text": [
      "135/135 [==============================] - 0s 1ms/step\n"
     ]
    }
   ],
   "source": [
    "y_pred = model.predict(X_test)"
   ]
  },
  {
   "cell_type": "code",
   "execution_count": 88,
   "id": "552daa64-9813-4a23-849b-842b77f9fd3c",
   "metadata": {},
   "outputs": [
    {
     "data": {
      "text/plain": [
       "0.8447126978658592"
      ]
     },
     "execution_count": 88,
     "metadata": {},
     "output_type": "execute_result"
    }
   ],
   "source": [
    "roc_auc_score(y_test, y_pred)"
   ]
  },
  {
   "cell_type": "markdown",
   "id": "17365bff-a957-481e-86ff-f269b05b9bd2",
   "metadata": {
    "jp-MarkdownHeadingCollapsed": true,
    "tags": []
   },
   "source": [
    "### balls"
   ]
  },
  {
   "cell_type": "code",
   "execution_count": 248,
   "id": "df796c64-0db2-4b2c-b9da-bb06c02de01c",
   "metadata": {},
   "outputs": [],
   "source": [
    "ck['ball'] = ck['type'].apply(lambda x: 1 if x == 'B' else 0)"
   ]
  },
  {
   "cell_type": "code",
   "execution_count": 259,
   "id": "0482ff3d-3164-4d8d-8249-b5426b4f503c",
   "metadata": {},
   "outputs": [
    {
     "name": "stderr",
     "output_type": "stream",
     "text": [
      "C:\\Users\\Finley & Stein\\AppData\\Local\\Temp\\ipykernel_17840\\726466357.py:2: SettingWithCopyWarning: \n",
      "A value is trying to be set on a copy of a slice from a DataFrame\n",
      "\n",
      "See the caveats in the documentation: https://pandas.pydata.org/pandas-docs/stable/user_guide/indexing.html#returning-a-view-versus-a-copy\n",
      "  X.dropna(inplace = True)\n"
     ]
    }
   ],
   "source": [
    "X = ck[['pitch_type','release_speed','vx0','vy0','vz0',\n",
    "            'ax','ay','az','sz_top','sz_bot',\n",
    "            'release_spin_rate','release_extension','effective_speed','inning',\n",
    "            'release_pos_x','release_pos_y','release_pos_z','pitch_no','ball']]\n",
    "X.dropna(inplace = True)\n",
    "X = pd.get_dummies(X, columns = ['pitch_type'])\n",
    "y = X['ball']\n",
    "X = X.drop(columns = 'ball')"
   ]
  },
  {
   "cell_type": "code",
   "execution_count": 260,
   "id": "42f11704-9805-4234-9e0b-349796201bc9",
   "metadata": {},
   "outputs": [],
   "source": [
    "X_train, X_test, y_train, y_test = train_test_split(X, y,\n",
    "                                                    random_state=42)"
   ]
  },
  {
   "cell_type": "code",
   "execution_count": null,
   "id": "42792d8e-69c0-4f5e-8b99-0cc74357322a",
   "metadata": {},
   "outputs": [
    {
     "ename": "KeyError",
     "evalue": "'ball'",
     "output_type": "error",
     "traceback": [
      "\u001b[1;31m---------------------------------------------------------------------------\u001b[0m",
      "\u001b[1;31mKeyError\u001b[0m                                  Traceback (most recent call last)",
      "File \u001b[1;32mC:\\Anaconda\\lib\\site-packages\\pandas\\core\\indexes\\base.py:3629\u001b[0m, in \u001b[0;36mIndex.get_loc\u001b[1;34m(self, key, method, tolerance)\u001b[0m\n\u001b[0;32m   3628\u001b[0m \u001b[38;5;28;01mtry\u001b[39;00m:\n\u001b[1;32m-> 3629\u001b[0m     \u001b[38;5;28;01mreturn\u001b[39;00m \u001b[38;5;28;43mself\u001b[39;49m\u001b[38;5;241;43m.\u001b[39;49m\u001b[43m_engine\u001b[49m\u001b[38;5;241;43m.\u001b[39;49m\u001b[43mget_loc\u001b[49m\u001b[43m(\u001b[49m\u001b[43mcasted_key\u001b[49m\u001b[43m)\u001b[49m\n\u001b[0;32m   3630\u001b[0m \u001b[38;5;28;01mexcept\u001b[39;00m \u001b[38;5;167;01mKeyError\u001b[39;00m \u001b[38;5;28;01mas\u001b[39;00m err:\n",
      "File \u001b[1;32mC:\\Anaconda\\lib\\site-packages\\pandas\\_libs\\index.pyx:136\u001b[0m, in \u001b[0;36mpandas._libs.index.IndexEngine.get_loc\u001b[1;34m()\u001b[0m\n",
      "File \u001b[1;32mC:\\Anaconda\\lib\\site-packages\\pandas\\_libs\\index.pyx:163\u001b[0m, in \u001b[0;36mpandas._libs.index.IndexEngine.get_loc\u001b[1;34m()\u001b[0m\n",
      "File \u001b[1;32mpandas\\_libs\\hashtable_class_helper.pxi:5198\u001b[0m, in \u001b[0;36mpandas._libs.hashtable.PyObjectHashTable.get_item\u001b[1;34m()\u001b[0m\n",
      "File \u001b[1;32mpandas\\_libs\\hashtable_class_helper.pxi:5206\u001b[0m, in \u001b[0;36mpandas._libs.hashtable.PyObjectHashTable.get_item\u001b[1;34m()\u001b[0m\n",
      "\u001b[1;31mKeyError\u001b[0m: 'ball'",
      "\nThe above exception was the direct cause of the following exception:\n",
      "\u001b[1;31mKeyError\u001b[0m                                  Traceback (most recent call last)",
      "Cell \u001b[1;32mIn[269], line 1\u001b[0m\n\u001b[1;32m----> 1\u001b[0m \u001b[43mX_train\u001b[49m\u001b[43m[\u001b[49m\u001b[38;5;124;43m'\u001b[39;49m\u001b[38;5;124;43mball\u001b[39;49m\u001b[38;5;124;43m'\u001b[39;49m\u001b[43m]\u001b[49m\n",
      "File \u001b[1;32mC:\\Anaconda\\lib\\site-packages\\pandas\\core\\frame.py:3505\u001b[0m, in \u001b[0;36mDataFrame.__getitem__\u001b[1;34m(self, key)\u001b[0m\n\u001b[0;32m   3503\u001b[0m \u001b[38;5;28;01mif\u001b[39;00m \u001b[38;5;28mself\u001b[39m\u001b[38;5;241m.\u001b[39mcolumns\u001b[38;5;241m.\u001b[39mnlevels \u001b[38;5;241m>\u001b[39m \u001b[38;5;241m1\u001b[39m:\n\u001b[0;32m   3504\u001b[0m     \u001b[38;5;28;01mreturn\u001b[39;00m \u001b[38;5;28mself\u001b[39m\u001b[38;5;241m.\u001b[39m_getitem_multilevel(key)\n\u001b[1;32m-> 3505\u001b[0m indexer \u001b[38;5;241m=\u001b[39m \u001b[38;5;28;43mself\u001b[39;49m\u001b[38;5;241;43m.\u001b[39;49m\u001b[43mcolumns\u001b[49m\u001b[38;5;241;43m.\u001b[39;49m\u001b[43mget_loc\u001b[49m\u001b[43m(\u001b[49m\u001b[43mkey\u001b[49m\u001b[43m)\u001b[49m\n\u001b[0;32m   3506\u001b[0m \u001b[38;5;28;01mif\u001b[39;00m is_integer(indexer):\n\u001b[0;32m   3507\u001b[0m     indexer \u001b[38;5;241m=\u001b[39m [indexer]\n",
      "File \u001b[1;32mC:\\Anaconda\\lib\\site-packages\\pandas\\core\\indexes\\base.py:3631\u001b[0m, in \u001b[0;36mIndex.get_loc\u001b[1;34m(self, key, method, tolerance)\u001b[0m\n\u001b[0;32m   3629\u001b[0m     \u001b[38;5;28;01mreturn\u001b[39;00m \u001b[38;5;28mself\u001b[39m\u001b[38;5;241m.\u001b[39m_engine\u001b[38;5;241m.\u001b[39mget_loc(casted_key)\n\u001b[0;32m   3630\u001b[0m \u001b[38;5;28;01mexcept\u001b[39;00m \u001b[38;5;167;01mKeyError\u001b[39;00m \u001b[38;5;28;01mas\u001b[39;00m err:\n\u001b[1;32m-> 3631\u001b[0m     \u001b[38;5;28;01mraise\u001b[39;00m \u001b[38;5;167;01mKeyError\u001b[39;00m(key) \u001b[38;5;28;01mfrom\u001b[39;00m \u001b[38;5;21;01merr\u001b[39;00m\n\u001b[0;32m   3632\u001b[0m \u001b[38;5;28;01mexcept\u001b[39;00m \u001b[38;5;167;01mTypeError\u001b[39;00m:\n\u001b[0;32m   3633\u001b[0m     \u001b[38;5;66;03m# If we have a listlike key, _check_indexing_error will raise\u001b[39;00m\n\u001b[0;32m   3634\u001b[0m     \u001b[38;5;66;03m#  InvalidIndexError. Otherwise we fall through and re-raise\u001b[39;00m\n\u001b[0;32m   3635\u001b[0m     \u001b[38;5;66;03m#  the TypeError.\u001b[39;00m\n\u001b[0;32m   3636\u001b[0m     \u001b[38;5;28mself\u001b[39m\u001b[38;5;241m.\u001b[39m_check_indexing_error(key)\n",
      "\u001b[1;31mKeyError\u001b[0m: 'ball'"
     ]
    }
   ],
   "source": [
    "X_train['ball']"
   ]
  },
  {
   "cell_type": "code",
   "execution_count": 261,
   "id": "56049eb8-7dac-46ea-99dc-763da674b252",
   "metadata": {},
   "outputs": [],
   "source": [
    "ss = StandardScaler()\n",
    "X_train = ss.fit_transform(X_train)\n",
    "X_test = ss.transform(X_test)\n",
    "\n",
    "X_train = pd.DataFrame(X_train, columns = ss.get_feature_names_out())\n",
    "X_test = pd.DataFrame(X_test, columns = ss.get_feature_names_out())"
   ]
  },
  {
   "cell_type": "code",
   "execution_count": 262,
   "id": "ea2324b1-6d33-4eae-8066-1e21d88a49cc",
   "metadata": {},
   "outputs": [],
   "source": [
    "poly = PolynomialFeatures()\n",
    "X_train = poly.fit_transform(X_train)\n",
    "X_test = poly.transform(X_test)\n",
    "\n",
    "X_train = pd.DataFrame(X_train, columns = poly.get_feature_names_out())\n",
    "X_test = pd.DataFrame(X_test, columns = poly.get_feature_names_out())"
   ]
  },
  {
   "cell_type": "code",
   "execution_count": 263,
   "id": "0be4041a-fba4-4a77-8ccc-cc72c327f1ab",
   "metadata": {},
   "outputs": [
    {
     "data": {
      "text/plain": [
       "0.5"
      ]
     },
     "execution_count": 274,
     "metadata": {},
     "output_type": "execute_result"
    }
   ],
   "source": [
    "base = [np.mean(y_train)] * len(y_test)\n",
    "roc_auc_score(y_test, base)"
   ]
  },
  {
   "cell_type": "code",
   "execution_count": 264,
   "id": "5de34ee7-03c3-4e75-8ff1-cb377bcf34a2",
   "metadata": {},
   "outputs": [],
   "source": [
    "model = Sequential()\n",
    "model.add(Dense(128,activation = 'relu'))\n",
    "model.add(Dropout(0.2))\n",
    "model.add(Dense(32, activation = 'relu'))\n",
    "model.add(Dense(32, activation = 'relu'))\n",
    "model.add(Dense(32, activation = 'relu'))\n",
    "model.add(Dense(32, activation = 'relu'))\n",
    "model.add(Dense(32, activation = 'relu'))\n",
    "model.add(Dense(1,activation = 'linear'))\n",
    "model.compile(loss='mse',optimizer='adam')"
   ]
  },
  {
   "cell_type": "code",
   "execution_count": 265,
   "id": "55cee568-3679-4a6f-849b-12b569f6a4ab",
   "metadata": {},
   "outputs": [
    {
     "name": "stdout",
     "output_type": "stream",
     "text": [
      "Epoch 1/10\n",
      "423/423 [==============================] - 2s 2ms/step - loss: 1.9722 - val_loss: 4.2044\n",
      "Epoch 2/10\n",
      "423/423 [==============================] - 1s 2ms/step - loss: 2.4159 - val_loss: 0.2499\n",
      "Epoch 3/10\n",
      "423/423 [==============================] - 1s 2ms/step - loss: 0.3012 - val_loss: 0.2148\n",
      "Epoch 4/10\n",
      "423/423 [==============================] - 1s 2ms/step - loss: 3.3095 - val_loss: 0.2411\n",
      "Epoch 5/10\n",
      "423/423 [==============================] - 1s 2ms/step - loss: 0.5250 - val_loss: 0.2424\n",
      "Epoch 6/10\n",
      "423/423 [==============================] - 1s 2ms/step - loss: 12.7448 - val_loss: 0.2183\n",
      "Epoch 7/10\n",
      "423/423 [==============================] - 1s 2ms/step - loss: 0.2575 - val_loss: 0.8186\n",
      "Epoch 8/10\n",
      "423/423 [==============================] - 1s 2ms/step - loss: 0.6870 - val_loss: 0.2685\n",
      "Epoch 9/10\n",
      "423/423 [==============================] - 1s 2ms/step - loss: 9.5449 - val_loss: 0.2287\n",
      "Epoch 10/10\n",
      "423/423 [==============================] - 1s 2ms/step - loss: 0.4952 - val_loss: 0.2149\n"
     ]
    },
    {
     "data": {
      "text/plain": [
       "<keras.callbacks.History at 0x2308fdce880>"
      ]
     },
     "execution_count": 276,
     "metadata": {},
     "output_type": "execute_result"
    }
   ],
   "source": [
    "model.fit(X_train,y_train,validation_data=(X_test, y_test), epochs = 10, batch_size = 32)"
   ]
  },
  {
   "cell_type": "code",
   "execution_count": 266,
   "id": "d8260713-44ed-4a17-ac0e-4bd71d3aa9f3",
   "metadata": {},
   "outputs": [
    {
     "name": "stdout",
     "output_type": "stream",
     "text": [
      "141/141 [==============================] - 0s 979us/step\n"
     ]
    }
   ],
   "source": [
    "y_pred = model.predict(X_test)"
   ]
  },
  {
   "cell_type": "code",
   "execution_count": 267,
   "id": "0af40496-0c6c-4b98-ac9d-ef0a84a8499d",
   "metadata": {},
   "outputs": [
    {
     "data": {
      "text/plain": [
       "0.5440852051111157"
      ]
     },
     "execution_count": 278,
     "metadata": {},
     "output_type": "execute_result"
    }
   ],
   "source": [
    "roc_auc_score(y_test, y_pred)"
   ]
  },
  {
   "cell_type": "code",
   "execution_count": null,
   "id": "eda05070-2413-4a24-b3a6-b3b30c05394c",
   "metadata": {},
   "outputs": [],
   "source": []
  },
  {
   "cell_type": "markdown",
   "id": "e6eab761-74e7-4b60-9476-238a1f1b0dfc",
   "metadata": {},
   "source": [
    "### fewer called strikes"
   ]
  },
  {
   "cell_type": "code",
   "execution_count": null,
   "id": "2cba7e7e-9ec4-4d2a-a9a9-a4c3e8d6a776",
   "metadata": {},
   "outputs": [],
   "source": [
    "#  events, description, hit_location, bb_type, hit_distance_sc, delta_run_exp"
   ]
  },
  {
   "cell_type": "code",
   "execution_count": 203,
   "id": "302ee67e-3e03-4841-bb0c-2220dcdd8e12",
   "metadata": {},
   "outputs": [
    {
     "data": {
      "text/plain": [
       "field_out                    1986\n",
       "strikeout                    1407\n",
       "single                        641\n",
       "walk                          213\n",
       "double                        168\n",
       "home_run                      130\n",
       "grounded_into_double_play      82\n",
       "force_out                      74\n",
       "field_error                    40\n",
       "sac_bunt                       24\n",
       "hit_by_pitch                   18\n",
       "triple                         13\n",
       "sac_fly                        11\n",
       "fielders_choice                 8\n",
       "fielders_choice_out             7\n",
       "double_play                     6\n",
       "catcher_interf                  4\n",
       "strikeout_double_play           3\n",
       "caught_stealing_2b              3\n",
       "intent_walk                     2\n",
       "caught_stealing_home            1\n",
       "sac_bunt_double_play            1\n",
       "Name: events, dtype: int64"
      ]
     },
     "execution_count": 203,
     "metadata": {},
     "output_type": "execute_result"
    }
   ],
   "source": [
    "ck['events'].value_counts()"
   ]
  },
  {
   "cell_type": "code",
   "execution_count": null,
   "id": "c2951f7e-0280-4734-8a0d-7bb1d72a1e83",
   "metadata": {},
   "outputs": [],
   "source": []
  },
  {
   "cell_type": "code",
   "execution_count": 90,
   "id": "43332e9d-aeeb-4ad3-8f68-5516843874f9",
   "metadata": {},
   "outputs": [
    {
     "data": {
      "text/plain": [
       "Index(['pitch_type', 'game_date', 'release_speed', 'release_pos_x',\n",
       "       'release_pos_z', 'player_name', 'batter', 'pitcher', 'events',\n",
       "       'description', 'spin_dir', 'spin_rate_deprecated',\n",
       "       'break_angle_deprecated', 'break_length_deprecated', 'zone', 'des',\n",
       "       'game_type', 'stand', 'p_throws', 'home_team', 'away_team', 'type',\n",
       "       'hit_location', 'bb_type', 'balls', 'strikes', 'game_year', 'pfx_x',\n",
       "       'pfx_z', 'plate_x', 'plate_z', 'on_3b', 'on_2b', 'on_1b',\n",
       "       'outs_when_up', 'inning', 'inning_topbot', 'hc_x', 'hc_y',\n",
       "       'tfs_deprecated', 'tfs_zulu_deprecated', 'fielder_2', 'umpire', 'sv_id',\n",
       "       'vx0', 'vy0', 'vz0', 'ax', 'ay', 'az', 'sz_top', 'sz_bot',\n",
       "       'hit_distance_sc', 'launch_speed', 'launch_angle', 'effective_speed',\n",
       "       'release_spin_rate', 'release_extension', 'game_pk', 'pitcher.1',\n",
       "       'fielder_2.1', 'fielder_3', 'fielder_4', 'fielder_5', 'fielder_6',\n",
       "       'fielder_7', 'fielder_8', 'fielder_9', 'release_pos_y',\n",
       "       'estimated_ba_using_speedangle', 'estimated_woba_using_speedangle',\n",
       "       'woba_value', 'woba_denom', 'babip_value', 'iso_value',\n",
       "       'launch_speed_angle', 'at_bat_number', 'pitch_number', 'pitch_name',\n",
       "       'home_score', 'away_score', 'bat_score', 'fld_score', 'post_away_score',\n",
       "       'post_home_score', 'post_bat_score', 'post_fld_score',\n",
       "       'if_fielding_alignment', 'of_fielding_alignment', 'spin_axis',\n",
       "       'delta_home_win_exp', 'delta_run_exp', 'reliever', 'special', 'swing',\n",
       "       'pitch_no'],\n",
       "      dtype='object')"
      ]
     },
     "execution_count": 90,
     "metadata": {},
     "output_type": "execute_result"
    }
   ],
   "source": [
    "ck.columns"
   ]
  },
  {
   "cell_type": "markdown",
   "id": "0ac19701-28c5-4a11-b1e0-00da46efe0fb",
   "metadata": {},
   "source": [
    "### delta run exp"
   ]
  },
  {
   "cell_type": "code",
   "execution_count": 168,
   "id": "5ddc5464-2ce4-48ed-bcfb-f8220f5771cd",
   "metadata": {},
   "outputs": [],
   "source": [
    "X = ck[['pitch_type','release_speed','pfx_x','pfx_z',\n",
    "            'plate_x','plate_z','vx0','vy0','vz0',\n",
    "            'ax','ay','az','sz_top','sz_bot',\n",
    "            'release_spin_rate','release_extension','effective_speed','inning',\n",
    "            'release_pos_x','release_pos_y','release_pos_z','pitch_no','delta_run_exp']]"
   ]
  },
  {
   "cell_type": "code",
   "execution_count": 169,
   "id": "7583956f-a0d3-456f-999f-49180ef627e1",
   "metadata": {},
   "outputs": [
    {
     "name": "stderr",
     "output_type": "stream",
     "text": [
      "C:\\Users\\Finley & Stein\\AppData\\Local\\Temp\\ipykernel_17840\\25841689.py:1: SettingWithCopyWarning: \n",
      "A value is trying to be set on a copy of a slice from a DataFrame\n",
      "\n",
      "See the caveats in the documentation: https://pandas.pydata.org/pandas-docs/stable/user_guide/indexing.html#returning-a-view-versus-a-copy\n",
      "  X.dropna(inplace = True)\n"
     ]
    }
   ],
   "source": [
    "X.dropna(inplace = True)"
   ]
  },
  {
   "cell_type": "code",
   "execution_count": 170,
   "id": "3d50d646-0401-412b-93f4-040f76d76a2a",
   "metadata": {},
   "outputs": [],
   "source": [
    "y = X['delta_run_exp']"
   ]
  },
  {
   "cell_type": "code",
   "execution_count": 171,
   "id": "094c44e7-70ee-47a7-bff3-3d5d7356648f",
   "metadata": {},
   "outputs": [],
   "source": [
    "X = X.drop(columns = 'delta_run_exp')"
   ]
  },
  {
   "cell_type": "code",
   "execution_count": 172,
   "id": "8e4ebe00-4557-4f4b-948c-f18780b7082a",
   "metadata": {},
   "outputs": [],
   "source": [
    "X = pd.get_dummies(X, columns = ['pitch_type'])"
   ]
  },
  {
   "cell_type": "code",
   "execution_count": 173,
   "id": "13e2ecf5-dca3-433a-949b-dae2aee1619b",
   "metadata": {},
   "outputs": [],
   "source": [
    "X_train, X_test, y_train, y_test = train_test_split(X, y,\n",
    "                                                    random_state=42)"
   ]
  },
  {
   "cell_type": "code",
   "execution_count": 174,
   "id": "38470bb9-3bba-4a1b-8f78-4186e6528db8",
   "metadata": {},
   "outputs": [],
   "source": [
    "ss = StandardScaler()\n",
    "X_train = ss.fit_transform(X_train)\n",
    "X_test = ss.transform(X_test)\n",
    "\n",
    "X_train = pd.DataFrame(X_train, columns = ss.get_feature_names_out())\n",
    "X_test = pd.DataFrame(X_test, columns = ss.get_feature_names_out())"
   ]
  },
  {
   "cell_type": "code",
   "execution_count": 175,
   "id": "3acc4624-a0fa-4b30-9c78-833e3cf2050d",
   "metadata": {},
   "outputs": [],
   "source": [
    "poly = PolynomialFeatures()\n",
    "X_train = poly.fit_transform(X_train)\n",
    "X_test = poly.transform(X_test)\n",
    "\n",
    "X_train = pd.DataFrame(X_train, columns = poly.get_feature_names_out())\n",
    "X_test = pd.DataFrame(X_test, columns = poly.get_feature_names_out())"
   ]
  },
  {
   "cell_type": "code",
   "execution_count": 176,
   "id": "8b419431-a9a1-40b0-b738-38702e987d6f",
   "metadata": {},
   "outputs": [
    {
     "data": {
      "text/plain": [
       "0.2118249216952286"
      ]
     },
     "execution_count": 176,
     "metadata": {},
     "output_type": "execute_result"
    }
   ],
   "source": [
    "base = [np.mean(y_train)] * len(y_test)\n",
    "mean_squared_error(y_test, base, squared=False)"
   ]
  },
  {
   "cell_type": "code",
   "execution_count": null,
   "id": "63f1a84e-e97d-433b-ba31-cc4190319ea5",
   "metadata": {},
   "outputs": [],
   "source": []
  },
  {
   "cell_type": "code",
   "execution_count": 177,
   "id": "09fb1279-c0b7-4e70-a6a4-4a95db6308b2",
   "metadata": {},
   "outputs": [],
   "source": [
    "model = Sequential()\n",
    "model.add(Dense(128,activation = 'relu'))\n",
    "model.add(Dropout(0.2))\n",
    "model.add(Dense(32, activation = 'relu'))\n",
    "model.add(Dense(32, activation = 'relu'))\n",
    "model.add(Dense(32, activation = 'relu'))\n",
    "model.add(Dense(32, activation = 'relu'))\n",
    "model.add(Dense(32, activation = 'relu'))\n",
    "model.add(Dense(32, activation = 'relu'))\n",
    "model.add(Dense(32, activation = 'relu'))\n",
    "model.add(Dense(1,activation = 'linear'))\n",
    "model.compile(loss='mse',optimizer='adam')"
   ]
  },
  {
   "cell_type": "code",
   "execution_count": 178,
   "id": "54c2aace-a9c1-407b-8252-90cc9899cdf2",
   "metadata": {},
   "outputs": [
    {
     "name": "stdout",
     "output_type": "stream",
     "text": [
      "Epoch 1/10\n",
      "188/188 [==============================] - 2s 3ms/step - loss: 0.0450 - val_loss: 0.0447\n",
      "Epoch 2/10\n",
      "188/188 [==============================] - 0s 3ms/step - loss: 0.0416 - val_loss: 0.0449\n",
      "Epoch 3/10\n",
      "188/188 [==============================] - 0s 3ms/step - loss: 0.0415 - val_loss: 0.0451\n",
      "Epoch 4/10\n",
      "188/188 [==============================] - 0s 3ms/step - loss: 0.0410 - val_loss: 0.0458\n",
      "Epoch 5/10\n",
      "188/188 [==============================] - 0s 3ms/step - loss: 0.0410 - val_loss: 0.0461\n",
      "Epoch 6/10\n",
      "188/188 [==============================] - 0s 3ms/step - loss: 0.0404 - val_loss: 0.0448\n",
      "Epoch 7/10\n",
      "188/188 [==============================] - 0s 3ms/step - loss: 0.0398 - val_loss: 0.0450\n",
      "Epoch 8/10\n",
      "188/188 [==============================] - 0s 3ms/step - loss: 0.0393 - val_loss: 0.0450\n",
      "Epoch 9/10\n",
      "188/188 [==============================] - 0s 3ms/step - loss: 0.0391 - val_loss: 0.0461\n",
      "Epoch 10/10\n",
      "188/188 [==============================] - 0s 3ms/step - loss: 0.0381 - val_loss: 0.0457\n"
     ]
    },
    {
     "data": {
      "text/plain": [
       "<keras.callbacks.History at 0x230eef3f400>"
      ]
     },
     "execution_count": 178,
     "metadata": {},
     "output_type": "execute_result"
    }
   ],
   "source": [
    "model.fit(X_train,y_train,validation_data=(X_test, y_test), epochs = 10, batch_size = 32)"
   ]
  },
  {
   "cell_type": "code",
   "execution_count": 179,
   "id": "e60afce4-e0fa-41a8-953b-a3dc10841d7f",
   "metadata": {},
   "outputs": [
    {
     "name": "stdout",
     "output_type": "stream",
     "text": [
      "63/63 [==============================] - 0s 1ms/step\n"
     ]
    }
   ],
   "source": [
    "y_pred = model.predict(X_test)"
   ]
  },
  {
   "cell_type": "code",
   "execution_count": 180,
   "id": "7dd35bc3-542f-4ac4-b279-c6d40ecbab7e",
   "metadata": {},
   "outputs": [
    {
     "data": {
      "text/plain": [
       "0.21379986599690892"
      ]
     },
     "execution_count": 180,
     "metadata": {},
     "output_type": "execute_result"
    }
   ],
   "source": [
    "mean_squared_error(y_test, y_pred, squared=False)"
   ]
  },
  {
   "cell_type": "markdown",
   "id": "1110558a-e172-47c2-8f56-6d71729ff5a3",
   "metadata": {},
   "source": [
    "## mechanics"
   ]
  },
  {
   "cell_type": "markdown",
   "id": "551ecfd4-a912-42fa-bb94-e5ea355c3acb",
   "metadata": {},
   "source": [
    "#### fastball velocity"
   ]
  },
  {
   "cell_type": "code",
   "execution_count": 191,
   "id": "06bc9b5a-73dc-4053-b332-84d6eeb27767",
   "metadata": {},
   "outputs": [],
   "source": [
    "ck = ck[ck['pitch_type'] == 'FF']"
   ]
  },
  {
   "cell_type": "code",
   "execution_count": 192,
   "id": "e994262a-edd1-4c06-bc78-bfd326324aa0",
   "metadata": {},
   "outputs": [
    {
     "name": "stderr",
     "output_type": "stream",
     "text": [
      "C:\\Users\\Finley & Stein\\AppData\\Local\\Temp\\ipykernel_17840\\3392740547.py:6: SettingWithCopyWarning: \n",
      "A value is trying to be set on a copy of a slice from a DataFrame\n",
      "\n",
      "See the caveats in the documentation: https://pandas.pydata.org/pandas-docs/stable/user_guide/indexing.html#returning-a-view-versus-a-copy\n",
      "  X.dropna(inplace = True)\n"
     ]
    },
    {
     "data": {
      "text/html": [
       "<div>\n",
       "<style scoped>\n",
       "    .dataframe tbody tr th:only-of-type {\n",
       "        vertical-align: middle;\n",
       "    }\n",
       "\n",
       "    .dataframe tbody tr th {\n",
       "        vertical-align: top;\n",
       "    }\n",
       "\n",
       "    .dataframe thead th {\n",
       "        text-align: right;\n",
       "    }\n",
       "</style>\n",
       "<table border=\"1\" class=\"dataframe\">\n",
       "  <thead>\n",
       "    <tr style=\"text-align: right;\">\n",
       "      <th></th>\n",
       "      <th>pfx_x</th>\n",
       "      <th>pfx_z</th>\n",
       "      <th>plate_x</th>\n",
       "      <th>plate_z</th>\n",
       "      <th>vx0</th>\n",
       "      <th>vy0</th>\n",
       "      <th>vz0</th>\n",
       "      <th>ax</th>\n",
       "      <th>ay</th>\n",
       "      <th>az</th>\n",
       "      <th>sz_top</th>\n",
       "      <th>sz_bot</th>\n",
       "      <th>release_spin_rate</th>\n",
       "      <th>release_extension</th>\n",
       "      <th>effective_speed</th>\n",
       "      <th>inning</th>\n",
       "      <th>release_pos_x</th>\n",
       "      <th>release_pos_y</th>\n",
       "      <th>release_pos_z</th>\n",
       "      <th>pitch_no</th>\n",
       "    </tr>\n",
       "  </thead>\n",
       "  <tbody>\n",
       "    <tr>\n",
       "      <th>1</th>\n",
       "      <td>-0.22</td>\n",
       "      <td>1.65</td>\n",
       "      <td>-0.97</td>\n",
       "      <td>2.82</td>\n",
       "      <td>-4.795000</td>\n",
       "      <td>-137.464000</td>\n",
       "      <td>-7.076000</td>\n",
       "      <td>-1.522000</td>\n",
       "      <td>34.627000</td>\n",
       "      <td>-10.191000</td>\n",
       "      <td>3.61</td>\n",
       "      <td>1.57</td>\n",
       "      <td>2377.0</td>\n",
       "      <td>6.5</td>\n",
       "      <td>94.0</td>\n",
       "      <td>5</td>\n",
       "      <td>0.92</td>\n",
       "      <td>50.00</td>\n",
       "      <td>6.14</td>\n",
       "      <td>2</td>\n",
       "    </tr>\n",
       "    <tr>\n",
       "      <th>4</th>\n",
       "      <td>-0.03</td>\n",
       "      <td>1.74</td>\n",
       "      <td>-1.78</td>\n",
       "      <td>1.84</td>\n",
       "      <td>-7.810000</td>\n",
       "      <td>-135.858000</td>\n",
       "      <td>-9.625000</td>\n",
       "      <td>1.261000</td>\n",
       "      <td>27.852000</td>\n",
       "      <td>-9.069000</td>\n",
       "      <td>3.42</td>\n",
       "      <td>1.51</td>\n",
       "      <td>2391.0</td>\n",
       "      <td>6.6</td>\n",
       "      <td>93.6</td>\n",
       "      <td>5</td>\n",
       "      <td>1.04</td>\n",
       "      <td>50.00</td>\n",
       "      <td>6.04</td>\n",
       "      <td>5</td>\n",
       "    </tr>\n",
       "    <tr>\n",
       "      <th>5</th>\n",
       "      <td>-0.66</td>\n",
       "      <td>1.58</td>\n",
       "      <td>-0.12</td>\n",
       "      <td>2.36</td>\n",
       "      <td>-1.940000</td>\n",
       "      <td>-137.062000</td>\n",
       "      <td>-7.767000</td>\n",
       "      <td>-7.657000</td>\n",
       "      <td>34.975000</td>\n",
       "      <td>-10.969000</td>\n",
       "      <td>3.42</td>\n",
       "      <td>1.47</td>\n",
       "      <td>2315.0</td>\n",
       "      <td>6.5</td>\n",
       "      <td>93.8</td>\n",
       "      <td>5</td>\n",
       "      <td>1.14</td>\n",
       "      <td>50.00</td>\n",
       "      <td>6.01</td>\n",
       "      <td>6</td>\n",
       "    </tr>\n",
       "    <tr>\n",
       "      <th>7</th>\n",
       "      <td>0.49</td>\n",
       "      <td>1.90</td>\n",
       "      <td>0.96</td>\n",
       "      <td>1.32</td>\n",
       "      <td>-2.652000</td>\n",
       "      <td>-137.073000</td>\n",
       "      <td>-11.628000</td>\n",
       "      <td>6.630000</td>\n",
       "      <td>29.854000</td>\n",
       "      <td>-6.227000</td>\n",
       "      <td>3.75</td>\n",
       "      <td>1.64</td>\n",
       "      <td>2338.0</td>\n",
       "      <td>6.6</td>\n",
       "      <td>94.5</td>\n",
       "      <td>5</td>\n",
       "      <td>1.48</td>\n",
       "      <td>50.00</td>\n",
       "      <td>6.04</td>\n",
       "      <td>8</td>\n",
       "    </tr>\n",
       "    <tr>\n",
       "      <th>8</th>\n",
       "      <td>0.18</td>\n",
       "      <td>1.72</td>\n",
       "      <td>-0.46</td>\n",
       "      <td>3.21</td>\n",
       "      <td>-4.678000</td>\n",
       "      <td>-137.196000</td>\n",
       "      <td>-6.301000</td>\n",
       "      <td>3.275000</td>\n",
       "      <td>30.735000</td>\n",
       "      <td>-9.518000</td>\n",
       "      <td>3.66</td>\n",
       "      <td>1.54</td>\n",
       "      <td>2253.0</td>\n",
       "      <td>6.7</td>\n",
       "      <td>94.7</td>\n",
       "      <td>5</td>\n",
       "      <td>1.04</td>\n",
       "      <td>50.00</td>\n",
       "      <td>6.19</td>\n",
       "      <td>9</td>\n",
       "    </tr>\n",
       "    <tr>\n",
       "      <th>...</th>\n",
       "      <td>...</td>\n",
       "      <td>...</td>\n",
       "      <td>...</td>\n",
       "      <td>...</td>\n",
       "      <td>...</td>\n",
       "      <td>...</td>\n",
       "      <td>...</td>\n",
       "      <td>...</td>\n",
       "      <td>...</td>\n",
       "      <td>...</td>\n",
       "      <td>...</td>\n",
       "      <td>...</td>\n",
       "      <td>...</td>\n",
       "      <td>...</td>\n",
       "      <td>...</td>\n",
       "      <td>...</td>\n",
       "      <td>...</td>\n",
       "      <td>...</td>\n",
       "      <td>...</td>\n",
       "      <td>...</td>\n",
       "    </tr>\n",
       "    <tr>\n",
       "      <th>18184</th>\n",
       "      <td>-0.40</td>\n",
       "      <td>1.57</td>\n",
       "      <td>-0.33</td>\n",
       "      <td>2.52</td>\n",
       "      <td>-3.524664</td>\n",
       "      <td>-131.515107</td>\n",
       "      <td>-6.378435</td>\n",
       "      <td>-3.980430</td>\n",
       "      <td>26.766435</td>\n",
       "      <td>-12.799638</td>\n",
       "      <td>3.50</td>\n",
       "      <td>1.65</td>\n",
       "      <td>2342.0</td>\n",
       "      <td>6.4</td>\n",
       "      <td>90.7</td>\n",
       "      <td>2</td>\n",
       "      <td>1.43</td>\n",
       "      <td>54.11</td>\n",
       "      <td>6.11</td>\n",
       "      <td>88</td>\n",
       "    </tr>\n",
       "    <tr>\n",
       "      <th>18185</th>\n",
       "      <td>-0.37</td>\n",
       "      <td>1.51</td>\n",
       "      <td>0.82</td>\n",
       "      <td>4.29</td>\n",
       "      <td>-0.832675</td>\n",
       "      <td>-132.912806</td>\n",
       "      <td>-2.271370</td>\n",
       "      <td>-4.220362</td>\n",
       "      <td>27.587624</td>\n",
       "      <td>-14.005365</td>\n",
       "      <td>3.53</td>\n",
       "      <td>1.68</td>\n",
       "      <td>2365.0</td>\n",
       "      <td>6.5</td>\n",
       "      <td>91.8</td>\n",
       "      <td>2</td>\n",
       "      <td>1.46</td>\n",
       "      <td>54.02</td>\n",
       "      <td>6.23</td>\n",
       "      <td>89</td>\n",
       "    </tr>\n",
       "    <tr>\n",
       "      <th>18187</th>\n",
       "      <td>-0.10</td>\n",
       "      <td>1.71</td>\n",
       "      <td>0.84</td>\n",
       "      <td>3.56</td>\n",
       "      <td>-1.568255</td>\n",
       "      <td>-132.391093</td>\n",
       "      <td>-4.116400</td>\n",
       "      <td>-0.745037</td>\n",
       "      <td>33.478473</td>\n",
       "      <td>-11.592067</td>\n",
       "      <td>3.50</td>\n",
       "      <td>1.69</td>\n",
       "      <td>2322.0</td>\n",
       "      <td>6.5</td>\n",
       "      <td>90.6</td>\n",
       "      <td>2</td>\n",
       "      <td>1.55</td>\n",
       "      <td>54.02</td>\n",
       "      <td>6.13</td>\n",
       "      <td>91</td>\n",
       "    </tr>\n",
       "    <tr>\n",
       "      <th>18189</th>\n",
       "      <td>0.00</td>\n",
       "      <td>1.80</td>\n",
       "      <td>1.97</td>\n",
       "      <td>3.64</td>\n",
       "      <td>0.730560</td>\n",
       "      <td>-132.765704</td>\n",
       "      <td>-4.148554</td>\n",
       "      <td>-0.161907</td>\n",
       "      <td>32.548116</td>\n",
       "      <td>-10.343355</td>\n",
       "      <td>3.73</td>\n",
       "      <td>1.86</td>\n",
       "      <td>2502.0</td>\n",
       "      <td>6.6</td>\n",
       "      <td>91.1</td>\n",
       "      <td>3</td>\n",
       "      <td>1.68</td>\n",
       "      <td>53.94</td>\n",
       "      <td>6.11</td>\n",
       "      <td>93</td>\n",
       "    </tr>\n",
       "    <tr>\n",
       "      <th>18190</th>\n",
       "      <td>0.04</td>\n",
       "      <td>1.86</td>\n",
       "      <td>-0.34</td>\n",
       "      <td>2.76</td>\n",
       "      <td>-4.425231</td>\n",
       "      <td>-134.805753</td>\n",
       "      <td>-6.682472</td>\n",
       "      <td>1.701264</td>\n",
       "      <td>35.970088</td>\n",
       "      <td>-8.305544</td>\n",
       "      <td>3.52</td>\n",
       "      <td>1.63</td>\n",
       "      <td>2456.0</td>\n",
       "      <td>6.6</td>\n",
       "      <td>92.3</td>\n",
       "      <td>1</td>\n",
       "      <td>1.34</td>\n",
       "      <td>53.92</td>\n",
       "      <td>6.08</td>\n",
       "      <td>94</td>\n",
       "    </tr>\n",
       "  </tbody>\n",
       "</table>\n",
       "<p>7995 rows × 20 columns</p>\n",
       "</div>"
      ],
      "text/plain": [
       "       pfx_x  pfx_z  plate_x  plate_z       vx0         vy0        vz0  \\\n",
       "1      -0.22   1.65    -0.97     2.82 -4.795000 -137.464000  -7.076000   \n",
       "4      -0.03   1.74    -1.78     1.84 -7.810000 -135.858000  -9.625000   \n",
       "5      -0.66   1.58    -0.12     2.36 -1.940000 -137.062000  -7.767000   \n",
       "7       0.49   1.90     0.96     1.32 -2.652000 -137.073000 -11.628000   \n",
       "8       0.18   1.72    -0.46     3.21 -4.678000 -137.196000  -6.301000   \n",
       "...      ...    ...      ...      ...       ...         ...        ...   \n",
       "18184  -0.40   1.57    -0.33     2.52 -3.524664 -131.515107  -6.378435   \n",
       "18185  -0.37   1.51     0.82     4.29 -0.832675 -132.912806  -2.271370   \n",
       "18187  -0.10   1.71     0.84     3.56 -1.568255 -132.391093  -4.116400   \n",
       "18189   0.00   1.80     1.97     3.64  0.730560 -132.765704  -4.148554   \n",
       "18190   0.04   1.86    -0.34     2.76 -4.425231 -134.805753  -6.682472   \n",
       "\n",
       "             ax         ay         az  sz_top  sz_bot  release_spin_rate  \\\n",
       "1     -1.522000  34.627000 -10.191000    3.61    1.57             2377.0   \n",
       "4      1.261000  27.852000  -9.069000    3.42    1.51             2391.0   \n",
       "5     -7.657000  34.975000 -10.969000    3.42    1.47             2315.0   \n",
       "7      6.630000  29.854000  -6.227000    3.75    1.64             2338.0   \n",
       "8      3.275000  30.735000  -9.518000    3.66    1.54             2253.0   \n",
       "...         ...        ...        ...     ...     ...                ...   \n",
       "18184 -3.980430  26.766435 -12.799638    3.50    1.65             2342.0   \n",
       "18185 -4.220362  27.587624 -14.005365    3.53    1.68             2365.0   \n",
       "18187 -0.745037  33.478473 -11.592067    3.50    1.69             2322.0   \n",
       "18189 -0.161907  32.548116 -10.343355    3.73    1.86             2502.0   \n",
       "18190  1.701264  35.970088  -8.305544    3.52    1.63             2456.0   \n",
       "\n",
       "       release_extension  effective_speed  inning  release_pos_x  \\\n",
       "1                    6.5             94.0       5           0.92   \n",
       "4                    6.6             93.6       5           1.04   \n",
       "5                    6.5             93.8       5           1.14   \n",
       "7                    6.6             94.5       5           1.48   \n",
       "8                    6.7             94.7       5           1.04   \n",
       "...                  ...              ...     ...            ...   \n",
       "18184                6.4             90.7       2           1.43   \n",
       "18185                6.5             91.8       2           1.46   \n",
       "18187                6.5             90.6       2           1.55   \n",
       "18189                6.6             91.1       3           1.68   \n",
       "18190                6.6             92.3       1           1.34   \n",
       "\n",
       "       release_pos_y  release_pos_z  pitch_no  \n",
       "1              50.00           6.14         2  \n",
       "4              50.00           6.04         5  \n",
       "5              50.00           6.01         6  \n",
       "7              50.00           6.04         8  \n",
       "8              50.00           6.19         9  \n",
       "...              ...            ...       ...  \n",
       "18184          54.11           6.11        88  \n",
       "18185          54.02           6.23        89  \n",
       "18187          54.02           6.13        91  \n",
       "18189          53.94           6.11        93  \n",
       "18190          53.92           6.08        94  \n",
       "\n",
       "[7995 rows x 20 columns]"
      ]
     },
     "execution_count": 192,
     "metadata": {},
     "output_type": "execute_result"
    }
   ],
   "source": [
    "X = ck[['pfx_x','pfx_z',\n",
    "            'plate_x','plate_z','vx0','vy0','vz0',\n",
    "            'ax','ay','az','sz_top','sz_bot',\n",
    "            'release_spin_rate','release_extension','effective_speed','inning',\n",
    "            'release_pos_x','release_pos_y','release_pos_z','pitch_no','release_speed']]\n",
    "X.dropna(inplace = True)\n",
    "y = X['release_speed']\n",
    "X.drop(columns = 'release_speed')"
   ]
  },
  {
   "cell_type": "code",
   "execution_count": 193,
   "id": "9b753b58-c9a6-42e8-93c7-7359ed8ccd54",
   "metadata": {},
   "outputs": [],
   "source": [
    "X_train, X_test, y_train, y_test = train_test_split(X, y,\n",
    "                                                    random_state=42)"
   ]
  },
  {
   "cell_type": "code",
   "execution_count": 194,
   "id": "cddc33b9-ece2-4fd2-b641-2eaa2742219f",
   "metadata": {},
   "outputs": [],
   "source": [
    "ss = StandardScaler()\n",
    "X_train = ss.fit_transform(X_train)\n",
    "X_test = ss.transform(X_test)\n",
    "\n",
    "X_train = pd.DataFrame(X_train, columns = ss.get_feature_names_out())\n",
    "X_test = pd.DataFrame(X_test, columns = ss.get_feature_names_out())"
   ]
  },
  {
   "cell_type": "code",
   "execution_count": 195,
   "id": "61b22e04-1bd4-45d6-8414-4c296aa6e7df",
   "metadata": {},
   "outputs": [],
   "source": [
    "poly = PolynomialFeatures()\n",
    "X_train = poly.fit_transform(X_train)\n",
    "X_test = poly.transform(X_test)\n",
    "\n",
    "X_train = pd.DataFrame(X_train, columns = poly.get_feature_names_out())\n",
    "X_test = pd.DataFrame(X_test, columns = poly.get_feature_names_out())"
   ]
  },
  {
   "cell_type": "code",
   "execution_count": 196,
   "id": "e3903f86-0371-4440-bac3-886e4d8d8fee",
   "metadata": {},
   "outputs": [
    {
     "data": {
      "text/plain": [
       "1.8182370499669918"
      ]
     },
     "execution_count": 196,
     "metadata": {},
     "output_type": "execute_result"
    }
   ],
   "source": [
    "base = [np.mean(y_train)] * len(y_test)\n",
    "mean_squared_error(y_test, base, squared=False)"
   ]
  },
  {
   "cell_type": "code",
   "execution_count": 197,
   "id": "b3bebd9d-0b10-4605-b113-4d30f38cd8c5",
   "metadata": {},
   "outputs": [],
   "source": [
    "model = Sequential()\n",
    "model.add(Dense(128,activation = 'relu'))\n",
    "model.add(Dropout(0.2))\n",
    "model.add(Dense(128,activation = 'relu'))\n",
    "model.add(Dropout(0.2))\n",
    "model.add(Dense(128,activation = 'relu'))\n",
    "model.add(Dropout(0.2))\n",
    "model.add(Dense(128,activation = 'relu'))\n",
    "model.add(Dropout(0.2))\n",
    "model.add(Dense(32, activation = 'relu'))\n",
    "model.add(Dense(1,activation = 'linear'))\n",
    "model.compile(loss='mse',optimizer='adam')"
   ]
  },
  {
   "cell_type": "code",
   "execution_count": 198,
   "id": "3cb99103-092f-4793-a5e2-7118bc19286a",
   "metadata": {},
   "outputs": [
    {
     "name": "stdout",
     "output_type": "stream",
     "text": [
      "Epoch 1/10\n",
      "188/188 [==============================] - 2s 4ms/step - loss: 1711.5369 - val_loss: 501.1972\n",
      "Epoch 2/10\n",
      "188/188 [==============================] - 1s 3ms/step - loss: 367.4310 - val_loss: 193.1704\n",
      "Epoch 3/10\n",
      "188/188 [==============================] - 1s 3ms/step - loss: 219.0812 - val_loss: 134.9176\n",
      "Epoch 4/10\n",
      "188/188 [==============================] - 1s 3ms/step - loss: 158.6778 - val_loss: 68.3408\n",
      "Epoch 5/10\n",
      "188/188 [==============================] - 1s 3ms/step - loss: 133.0387 - val_loss: 88.1908\n",
      "Epoch 6/10\n",
      "188/188 [==============================] - 1s 3ms/step - loss: 115.2133 - val_loss: 65.8935\n",
      "Epoch 7/10\n",
      "188/188 [==============================] - 1s 3ms/step - loss: 98.3574 - val_loss: 117.0472\n",
      "Epoch 8/10\n",
      "188/188 [==============================] - 1s 3ms/step - loss: 88.0145 - val_loss: 64.7691\n",
      "Epoch 9/10\n",
      "188/188 [==============================] - 1s 3ms/step - loss: 80.6923 - val_loss: 66.6475\n",
      "Epoch 10/10\n",
      "188/188 [==============================] - 1s 3ms/step - loss: 72.4917 - val_loss: 49.7645\n"
     ]
    },
    {
     "data": {
      "text/plain": [
       "<keras.callbacks.History at 0x230eedc1880>"
      ]
     },
     "execution_count": 198,
     "metadata": {},
     "output_type": "execute_result"
    }
   ],
   "source": [
    "model.fit(X_train,y_train,validation_data=(X_test, y_test), epochs = 10, batch_size = 32)"
   ]
  },
  {
   "cell_type": "code",
   "execution_count": 199,
   "id": "a41e25bb-ef60-4e0a-ac0f-5d120f2a75ba",
   "metadata": {},
   "outputs": [
    {
     "name": "stdout",
     "output_type": "stream",
     "text": [
      "63/63 [==============================] - 0s 1ms/step\n"
     ]
    }
   ],
   "source": [
    "y_pred = model.predict(X_test)"
   ]
  },
  {
   "cell_type": "code",
   "execution_count": 200,
   "id": "351a0041-77ac-4b2c-8117-9dc530031d9f",
   "metadata": {},
   "outputs": [
    {
     "data": {
      "text/plain": [
       "7.054394702303111"
      ]
     },
     "execution_count": 200,
     "metadata": {},
     "output_type": "execute_result"
    }
   ],
   "source": [
    "mean_squared_error(y_test, y_pred, squared=False)"
   ]
  },
  {
   "cell_type": "code",
   "execution_count": null,
   "id": "38a2cf42-9866-463f-9618-ec0b29004c13",
   "metadata": {},
   "outputs": [],
   "source": []
  }
 ],
 "metadata": {
  "kernelspec": {
   "display_name": "Python 3 (ipykernel)",
   "language": "python",
   "name": "python3"
  },
  "language_info": {
   "codemirror_mode": {
    "name": "ipython",
    "version": 3
   },
   "file_extension": ".py",
   "mimetype": "text/x-python",
   "name": "python",
   "nbconvert_exporter": "python",
   "pygments_lexer": "ipython3",
   "version": "3.9.13"
  }
 },
 "nbformat": 4,
 "nbformat_minor": 5
}
