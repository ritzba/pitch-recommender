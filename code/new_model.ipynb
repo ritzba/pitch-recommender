{
 "cells": [
  {
   "cell_type": "code",
   "execution_count": 1,
   "id": "1036849e-66c0-42ab-b455-651de0c40545",
   "metadata": {},
   "outputs": [],
   "source": [
    "#  Import libraries\n",
    "import numpy as np\n",
    "import pandas as pd\n",
    "import matplotlib.pyplot as plt\n",
    "import seaborn as sns\n",
    "\n",
    "sns.set()\n",
    "\n",
    "#  Import python wrapper for pitch-by-pitch data from MLB APIs\n",
    "from pybaseball import statcast"
   ]
  },
  {
   "cell_type": "code",
   "execution_count": 2,
   "id": "7c81b5fa-ecec-436e-b732-1ec8939f9e01",
   "metadata": {},
   "outputs": [],
   "source": [
    "from sklearn.model_selection import train_test_split, cross_val_score, GridSearchCV, RandomizedSearchCV\n",
    "from sklearn.linear_model import LogisticRegression, LinearRegression\n",
    "from sklearn.neighbors import KNeighborsClassifier, KNeighborsRegressor\n",
    "from sklearn.tree import DecisionTreeClassifier, DecisionTreeRegressor\n",
    "from sklearn.ensemble import RandomForestClassifier, AdaBoostClassifier, BaggingClassifier, RandomForestRegressor\n",
    "from sklearn.svm import SVC\n",
    "\n",
    "from sklearn.pipeline import Pipeline, make_pipeline\n",
    "from sklearn.compose import ColumnTransformer\n",
    "from sklearn.preprocessing import StandardScaler, PolynomialFeatures, OneHotEncoder\n",
    "from sklearn.metrics import mean_squared_error, f1_score, confusion_matrix, roc_auc_score\n",
    "from sklearn.naive_bayes import GaussianNB, MultinomialNB, BernoulliNB\n",
    "\n",
    "from sklearn.linear_model import Lasso, ElasticNet, Ridge"
   ]
  },
  {
   "cell_type": "code",
   "execution_count": 3,
   "id": "f8149e16-6570-4e18-9363-a8c8442fdf3b",
   "metadata": {},
   "outputs": [],
   "source": [
    "from tensorflow.keras.layers import Dense"
   ]
  },
  {
   "cell_type": "code",
   "execution_count": 4,
   "id": "a669bb64-d459-45ce-a3e5-299c4c7c3175",
   "metadata": {},
   "outputs": [],
   "source": [
    "from tensorflow.keras.models import Sequential"
   ]
  },
  {
   "cell_type": "code",
   "execution_count": null,
   "id": "5889405e-9e9d-4548-956b-f5a1fb0617e3",
   "metadata": {},
   "outputs": [],
   "source": []
  },
  {
   "cell_type": "code",
   "execution_count": 5,
   "id": "9a8980d8-11e1-4a63-b12d-a7d33142b5d7",
   "metadata": {},
   "outputs": [],
   "source": [
    "from tensorflow.keras.layers import Dense, Dropout\n",
    "from tensorflow.keras.utils import to_categorical\n",
    "from tensorflow.keras.metrics import Recall, Precision\n",
    "from tensorflow.keras.metrics import AUC"
   ]
  },
  {
   "cell_type": "code",
   "execution_count": 6,
   "id": "53669ede-a1e8-46c2-acb0-84a3a8c8fcff",
   "metadata": {},
   "outputs": [
    {
     "name": "stdout",
     "output_type": "stream",
     "text": [
      "This is a large query, it may take a moment to complete\n"
     ]
    },
    {
     "name": "stderr",
     "output_type": "stream",
     "text": [
      "C:\\Users\\ari\\anaconda3\\lib\\site-packages\\pybaseball\\statcast.py:50: UserWarning: \n",
      "That's a nice request you got there. It'd be a shame if something were to happen to it.\n",
      "We strongly recommend that you enable caching before running this. It's as simple as `pybaseball.cache.enable()`.\n",
      "Since the Statcast requests can take a *really* long time to run, if something were to happen, like: a disconnect;\n",
      "gremlins; computer repair by associates of Rudy Giuliani; electromagnetic interference from metal trash cans; etc.;\n",
      "you could lose a lot of progress. Enabling caching will allow you to immediately recover all the successful\n",
      "subqueries if that happens.\n",
      "  warnings.warn(_OVERSIZE_WARNING)\n"
     ]
    },
    {
     "name": "stdout",
     "output_type": "stream",
     "text": [
      "Skipping offseason dates\n"
     ]
    },
    {
     "name": "stderr",
     "output_type": "stream",
     "text": [
      "100%|████████████████████████████████████████████████████████████████████████████████| 211/211 [04:31<00:00,  1.29s/it]\n"
     ]
    }
   ],
   "source": [
    "#  Pull all pitches thrown in 2023 season so far\n",
    "p_2022 = statcast(start_dt='2022-03-01', end_dt='2022-10-11')"
   ]
  },
  {
   "cell_type": "code",
   "execution_count": 8,
   "id": "3c49e485-66c8-43e6-b46e-7a91c9ab4fac",
   "metadata": {},
   "outputs": [],
   "source": [
    "pitches = p_2022"
   ]
  },
  {
   "cell_type": "code",
   "execution_count": 9,
   "id": "b5787c9a-47e7-47aa-b3b7-f843c10d1568",
   "metadata": {},
   "outputs": [],
   "source": [
    "#  Limit data to combinations where a pitcher has thrown a particular pitch at least 30 times\n",
    "# pitches = pitches[pitches.groupby(['player_name','pitch_type']).transform('size') > 30]"
   ]
  },
  {
   "cell_type": "code",
   "execution_count": 10,
   "id": "8f0ebf87-9e09-415f-a471-5b9de1a71350",
   "metadata": {},
   "outputs": [
    {
     "data": {
      "text/plain": [
       "ball                       252020\n",
       "hit_into_play              138304\n",
       "foul                       134292\n",
       "called_strike              124743\n",
       "swinging_strike             83806\n",
       "blocked_ball                16629\n",
       "foul_tip                     7419\n",
       "swinging_strike_blocked      4791\n",
       "hit_by_pitch                 2341\n",
       "foul_bunt                    1132\n",
       "missed_bunt                   223\n",
       "pitchout                       40\n",
       "bunt_foul_tip                  26\n",
       "Name: description, dtype: int64"
      ]
     },
     "execution_count": 10,
     "metadata": {},
     "output_type": "execute_result"
    }
   ],
   "source": [
    "#  View pitch outcome types\n",
    "pitches['description'].value_counts()"
   ]
  },
  {
   "cell_type": "code",
   "execution_count": 11,
   "id": "f80a2e10-99bb-4fe9-8857-35515703a74d",
   "metadata": {},
   "outputs": [
    {
     "data": {
      "text/plain": [
       "field_out                       81432\n",
       "strikeout                       45764\n",
       "single                          28853\n",
       "walk                            16205\n",
       "double                           8981\n",
       "home_run                         5982\n",
       "force_out                        4214\n",
       "grounded_into_double_play        3778\n",
       "hit_by_pitch                     2341\n",
       "field_error                      1356\n",
       "sac_fly                          1350\n",
       "triple                            731\n",
       "double_play                       457\n",
       "fielders_choice                   419\n",
       "sac_bunt                          405\n",
       "fielders_choice_out               310\n",
       "caught_stealing_2b                236\n",
       "strikeout_double_play             130\n",
       "catcher_interf                     78\n",
       "other_out                          35\n",
       "sac_fly_double_play                23\n",
       "pickoff_1b                         18\n",
       "caught_stealing_home               13\n",
       "caught_stealing_3b                 12\n",
       "wild_pitch                          8\n",
       "triple_play                         6\n",
       "pickoff_3b                          4\n",
       "pickoff_caught_stealing_2b          3\n",
       "pickoff_caught_stealing_home        2\n",
       "pickoff_caught_stealing_3b          2\n",
       "game_advisory                       2\n",
       "pickoff_2b                          2\n",
       "Name: events, dtype: int64"
      ]
     },
     "execution_count": 11,
     "metadata": {},
     "output_type": "execute_result"
    }
   ],
   "source": [
    "#  View pitch \"event\" outcomes \n",
    "#  Note:  almost all of these are subcategories of pitches['description'] == 'hit_into_pitch'\n",
    "pitches['events'].value_counts()"
   ]
  },
  {
   "cell_type": "code",
   "execution_count": 12,
   "id": "70cd4750-5688-4558-a90f-5eb10fb94f46",
   "metadata": {},
   "outputs": [
    {
     "data": {
      "text/plain": [
       "R    708540\n",
       "S     53346\n",
       "F      2727\n",
       "D      1153\n",
       "Name: game_type, dtype: int64"
      ]
     },
     "execution_count": 12,
     "metadata": {},
     "output_type": "execute_result"
    }
   ],
   "source": [
    "#  View types of games\n",
    "pitches['game_type'].value_counts()"
   ]
  },
  {
   "cell_type": "code",
   "execution_count": 13,
   "id": "a4db7231-fdd6-4f95-a8cc-0630d620d33d",
   "metadata": {},
   "outputs": [],
   "source": [
    "#  Limit inquiry to regular season games\n",
    "pitches = pitches[pitches['game_type'] == 'R']"
   ]
  },
  {
   "cell_type": "code",
   "execution_count": 14,
   "id": "55138767-c7b4-4b18-b2b4-53ec08ac0540",
   "metadata": {},
   "outputs": [
    {
     "name": "stderr",
     "output_type": "stream",
     "text": [
      "C:\\Users\\ari\\AppData\\Local\\Temp\\ipykernel_9424\\2960677010.py:2: SettingWithCopyWarning: \n",
      "A value is trying to be set on a copy of a slice from a DataFrame.\n",
      "Try using .loc[row_indexer,col_indexer] = value instead\n",
      "\n",
      "See the caveats in the documentation: https://pandas.pydata.org/pandas-docs/stable/user_guide/indexing.html#returning-a-view-versus-a-copy\n",
      "  pitches['p_throws'] = pitches['p_throws'].apply(lambda x: 1 if x == 'L' else 0)\n"
     ]
    }
   ],
   "source": [
    "#  Dummify pitching hand (1 for Left-handed, 0 for right-handed)\n",
    "pitches['p_throws'] = pitches['p_throws'].apply(lambda x: 1 if x == 'L' else 0)"
   ]
  },
  {
   "cell_type": "markdown",
   "id": "c0e73b72-5425-40a6-9be6-b31a12ef226e",
   "metadata": {},
   "source": [
    "We create a feature to distinguish between starting and relief pitchers.  This is important because starting pitchers pitch less frequently, and therefore have longer stamina to remain in a game.  (For more background on the differences between starting and relief pitching, read the descriptions at https://www.mlb.com/glossary/positions/).  \n",
    "\n",
    "<p>We can reliably identify starters based on the fact that relief pitchers almost never pitch in the 1st inning.  (We will accept the possibility that a pitcher otherwise fitting the profile of a relief pitcher could be mistakenly identified as a starter after being called in during the first inning due to injury or exceptionally poor performance by the starter)."
   ]
  },
  {
   "cell_type": "code",
   "execution_count": 15,
   "id": "4256a924-3d2d-4c80-a932-3f060fe7afbb",
   "metadata": {},
   "outputs": [
    {
     "name": "stderr",
     "output_type": "stream",
     "text": [
      "C:\\Users\\ari\\AppData\\Local\\Temp\\ipykernel_9424\\2465982184.py:2: SettingWithCopyWarning: \n",
      "A value is trying to be set on a copy of a slice from a DataFrame.\n",
      "Try using .loc[row_indexer,col_indexer] = value instead\n",
      "\n",
      "See the caveats in the documentation: https://pandas.pydata.org/pandas-docs/stable/user_guide/indexing.html#returning-a-view-versus-a-copy\n",
      "  pitches['pitch_no'] = pitches.groupby(['player_name','game_date']).cumcount() + 1\n"
     ]
    }
   ],
   "source": [
    "#  Create column for number of pitches thrown to that point on that game\n",
    "pitches['pitch_no'] = pitches.groupby(['player_name','game_date']).cumcount() + 1"
   ]
  },
  {
   "cell_type": "code",
   "execution_count": 16,
   "id": "a561ab70-10b0-44ab-85fc-a9c3fd0c2a2d",
   "metadata": {},
   "outputs": [
    {
     "name": "stderr",
     "output_type": "stream",
     "text": [
      "C:\\Users\\ari\\AppData\\Local\\Temp\\ipykernel_9424\\882360752.py:2: SettingWithCopyWarning: \n",
      "A value is trying to be set on a copy of a slice from a DataFrame.\n",
      "Try using .loc[row_indexer,col_indexer] = value instead\n",
      "\n",
      "See the caveats in the documentation: https://pandas.pydata.org/pandas-docs/stable/user_guide/indexing.html#returning-a-view-versus-a-copy\n",
      "  pitches['starter'] = [1 if player in starters else 0 for player in pitches['player_name']]\n"
     ]
    }
   ],
   "source": [
    "starters = set(pitches.loc[pitches['inning'] == 1,'player_name'])\n",
    "pitches['starter'] = [1 if player in starters else 0 for player in pitches['player_name']]"
   ]
  },
  {
   "cell_type": "markdown",
   "id": "efcc0748-095d-4396-a234-0d4958e57dab",
   "metadata": {},
   "source": [
    "We create target variables for outcomes: ball, swinging strike, foul, called strike, out in the field, and hit.  These variables are exhaustive of most, but not all, likely outcomes of a pitch.  In our experience, outcomes not included in these targets are too unlikely to reliably predict based on pitching mechanics, pitch choice, and fatigue alone."
   ]
  },
  {
   "cell_type": "code",
   "execution_count": 17,
   "id": "cd2c70d8-54bd-4497-b259-db697b1f62c0",
   "metadata": {},
   "outputs": [
    {
     "data": {
      "text/plain": [
       "ball                       235204\n",
       "foul                       127216\n",
       "hit_into_play              124275\n",
       "called_strike              115882\n",
       "swinging_strike             74987\n",
       "blocked_ball                16060\n",
       "foul_tip                     7008\n",
       "swinging_strike_blocked      4474\n",
       "hit_by_pitch                 2045\n",
       "foul_bunt                    1111\n",
       "missed_bunt                   214\n",
       "pitchout                       40\n",
       "bunt_foul_tip                  24\n",
       "Name: description, dtype: int64"
      ]
     },
     "execution_count": 17,
     "metadata": {},
     "output_type": "execute_result"
    }
   ],
   "source": [
    "pitches['description'].value_counts()"
   ]
  },
  {
   "cell_type": "code",
   "execution_count": 18,
   "id": "48f26212-eea0-4345-b71f-21f70b3cc891",
   "metadata": {},
   "outputs": [
    {
     "name": "stderr",
     "output_type": "stream",
     "text": [
      "C:\\Users\\ari\\AppData\\Local\\Temp\\ipykernel_9424\\630059862.py:1: SettingWithCopyWarning: \n",
      "A value is trying to be set on a copy of a slice from a DataFrame.\n",
      "Try using .loc[row_indexer,col_indexer] = value instead\n",
      "\n",
      "See the caveats in the documentation: https://pandas.pydata.org/pandas-docs/stable/user_guide/indexing.html#returning-a-view-versus-a-copy\n",
      "  pitches['ball'] = pitches['description'].apply(lambda x: 1 if x == 'ball'\n",
      "C:\\Users\\ari\\AppData\\Local\\Temp\\ipykernel_9424\\630059862.py:7: SettingWithCopyWarning: \n",
      "A value is trying to be set on a copy of a slice from a DataFrame.\n",
      "Try using .loc[row_indexer,col_indexer] = value instead\n",
      "\n",
      "See the caveats in the documentation: https://pandas.pydata.org/pandas-docs/stable/user_guide/indexing.html#returning-a-view-versus-a-copy\n",
      "  pitches['swing'] = pitches['description'].apply(lambda x: 1 if x == 'swinging_strike'\n",
      "C:\\Users\\ari\\AppData\\Local\\Temp\\ipykernel_9424\\630059862.py:13: SettingWithCopyWarning: \n",
      "A value is trying to be set on a copy of a slice from a DataFrame.\n",
      "Try using .loc[row_indexer,col_indexer] = value instead\n",
      "\n",
      "See the caveats in the documentation: https://pandas.pydata.org/pandas-docs/stable/user_guide/indexing.html#returning-a-view-versus-a-copy\n",
      "  pitches['foul'] = pitches['description'].apply(lambda x: 1 if x == 'foul'\n",
      "C:\\Users\\ari\\AppData\\Local\\Temp\\ipykernel_9424\\630059862.py:18: SettingWithCopyWarning: \n",
      "A value is trying to be set on a copy of a slice from a DataFrame.\n",
      "Try using .loc[row_indexer,col_indexer] = value instead\n",
      "\n",
      "See the caveats in the documentation: https://pandas.pydata.org/pandas-docs/stable/user_guide/indexing.html#returning-a-view-versus-a-copy\n",
      "  pitches['called'] = pitches['description'].apply(lambda x: 1 if x == 'called_strike' else 0)\n",
      "C:\\Users\\ari\\AppData\\Local\\Temp\\ipykernel_9424\\630059862.py:20: SettingWithCopyWarning: \n",
      "A value is trying to be set on a copy of a slice from a DataFrame.\n",
      "Try using .loc[row_indexer,col_indexer] = value instead\n",
      "\n",
      "See the caveats in the documentation: https://pandas.pydata.org/pandas-docs/stable/user_guide/indexing.html#returning-a-view-versus-a-copy\n",
      "  pitches['out'] = pitches['events'].apply(lambda x: 1 if x == 'field_out'\n",
      "C:\\Users\\ari\\AppData\\Local\\Temp\\ipykernel_9424\\630059862.py:29: SettingWithCopyWarning: \n",
      "A value is trying to be set on a copy of a slice from a DataFrame.\n",
      "Try using .loc[row_indexer,col_indexer] = value instead\n",
      "\n",
      "See the caveats in the documentation: https://pandas.pydata.org/pandas-docs/stable/user_guide/indexing.html#returning-a-view-versus-a-copy\n",
      "  pitches['hit'] = pitches['events'].apply(lambda x: 1 if x == 'single'\n"
     ]
    }
   ],
   "source": [
    "pitches['ball'] = pitches['description'].apply(lambda x: 1 if x == 'ball' \n",
    "                                               else 1 if x == 'hit_by_pitch'\n",
    "                                               else 1 if x == 'blocked_ball'\n",
    "                                               else 1 if x == 'pitchout'\n",
    "                                               else 0)\n",
    "\n",
    "pitches['swing'] = pitches['description'].apply(lambda x: 1 if x == 'swinging_strike'\n",
    "                                                else 1 if x == 'swinging_strike_blocked'\n",
    "                                                else 1 if x == 'missed_bunt'\n",
    "                                                else 1 if x == 'foul_tip'\n",
    "                                                else 0)\n",
    "\n",
    "pitches['foul'] = pitches['description'].apply(lambda x: 1 if x == 'foul'\n",
    "                                               else 1 if x == 'foul_bunt'\n",
    "                                               else 1 if x == 'bunt_foul_tip'\n",
    "                                               else 0)\n",
    "\n",
    "pitches['called'] = pitches['description'].apply(lambda x: 1 if x == 'called_strike' else 0)\n",
    "\n",
    "pitches['out'] = pitches['events'].apply(lambda x: 1 if x == 'field_out' \n",
    "                                         else 1 if x == 'grounded_into_double_play'\n",
    "                                         else 1 if x == 'force_out'\n",
    "                                         else 1 if x == 'double_play'\n",
    "                                         else 1 if x == 'sac_fly_double_play'\n",
    "                                         else 1 if x == 'fielders_choice_out'\n",
    "                                         else 1 if x == 'fielders_choice'\n",
    "                                         else 0)\n",
    "\n",
    "pitches['hit'] = pitches['events'].apply(lambda x: 1 if x == 'single'\n",
    "                                         else 1 if x == 'double'\n",
    "                                         else 1 if x == 'triple'\n",
    "                                         else 1 if x == 'home_run'\n",
    "                                         else 1 if x == 'sac_fly'\n",
    "                                         else 1 if x == 'sac_bunt'\n",
    "                                         else 1 if x == 'field_error'\n",
    "                                         else 1 if x == 'catcher_interf'\n",
    "                                         else 0)"
   ]
  },
  {
   "cell_type": "code",
   "execution_count": 19,
   "id": "4dbadcfa-660e-4245-b29b-b5e2909a5897",
   "metadata": {},
   "outputs": [
    {
     "name": "stderr",
     "output_type": "stream",
     "text": [
      "C:\\Users\\ari\\AppData\\Local\\Temp\\ipykernel_9424\\921151815.py:1: SettingWithCopyWarning: \n",
      "A value is trying to be set on a copy of a slice from a DataFrame.\n",
      "Try using .loc[row_indexer,col_indexer] = value instead\n",
      "\n",
      "See the caveats in the documentation: https://pandas.pydata.org/pandas-docs/stable/user_guide/indexing.html#returning-a-view-versus-a-copy\n",
      "  pitches['outcome'] = pitches.apply(lambda x: 1 if x['swing'] == 1\n"
     ]
    }
   ],
   "source": [
    "pitches['outcome'] = pitches.apply(lambda x: 1 if x['swing'] == 1 \n",
    "                                   else 2 if x['called'] == 1\n",
    "                                   else 3 if x['foul'] == 1\n",
    "                                   else 4 if x['ball'] == 1\n",
    "                                   else 5 if x['out'] == 1\n",
    "                                   else 6 if x['hit'] == 1\n",
    "                                   else 7, axis = 1)"
   ]
  },
  {
   "cell_type": "code",
   "execution_count": 20,
   "id": "bbc284c1-1bdb-40f5-bcdd-eb5abe7b522c",
   "metadata": {},
   "outputs": [
    {
     "data": {
      "text/plain": [
       "tfs_deprecated                     708540\n",
       "spin_rate_deprecated               708540\n",
       "umpire                             708540\n",
       "sv_id                              708540\n",
       "tfs_zulu_deprecated                708540\n",
       "break_length_deprecated            708540\n",
       "break_angle_deprecated             708540\n",
       "spin_dir                           708540\n",
       "on_3b                              644429\n",
       "estimated_ba_using_speedangle      584815\n",
       "launch_speed_angle                 584815\n",
       "estimated_woba_using_speedangle    584815\n",
       "hc_y                               584319\n",
       "hc_x                               584319\n",
       "bb_type                            584273\n",
       "on_2b                              576704\n",
       "hit_location                       548784\n",
       "woba_denom                         527210\n",
       "events                             526668\n",
       "iso_value                          526668\n",
       "babip_value                        526668\n",
       "woba_value                         526668\n",
       "on_1b                              490277\n",
       "launch_speed                       473015\n",
       "launch_angle                       472669\n",
       "hit_distance_sc                    471302\n",
       "spin_axis                            2313\n",
       "release_spin_rate                    2290\n",
       "of_fielding_alignment                2187\n",
       "if_fielding_alignment                2187\n",
       "release_extension                    1419\n",
       "effective_speed                       505\n",
       "release_speed                         429\n",
       "pfx_x                                 429\n",
       "pfx_z                                 419\n",
       "ay                                    414\n",
       "ax                                    414\n",
       "vx0                                   414\n",
       "vy0                                   414\n",
       "vz0                                   414\n",
       "sz_top                                414\n",
       "plate_z                               414\n",
       "plate_x                               414\n",
       "sz_bot                                414\n",
       "release_pos_y                         414\n",
       "zone                                  414\n",
       "release_pos_z                         414\n",
       "release_pos_x                         414\n",
       "az                                    414\n",
       "pitch_name                            374\n",
       "dtype: int64"
      ]
     },
     "execution_count": 20,
     "metadata": {},
     "output_type": "execute_result"
    }
   ],
   "source": [
    "#  View columns with highest null count\n",
    "pitches.isnull().sum().sort_values(ascending = False).head(50)"
   ]
  },
  {
   "cell_type": "code",
   "execution_count": null,
   "id": "1aa7ffc8-4464-4888-8ad1-0e6a28fa5ae7",
   "metadata": {},
   "outputs": [],
   "source": []
  },
  {
   "cell_type": "code",
   "execution_count": null,
   "id": "7139c098-167f-44fa-8068-7210fcce9349",
   "metadata": {},
   "outputs": [],
   "source": []
  },
  {
   "cell_type": "code",
   "execution_count": null,
   "id": "cf8bdf31-0264-4ce7-a275-9c4990ab3ee7",
   "metadata": {},
   "outputs": [],
   "source": []
  },
  {
   "cell_type": "code",
   "execution_count": 21,
   "id": "0ab5851c-a6fb-4309-aae1-d92816cc072f",
   "metadata": {},
   "outputs": [
    {
     "name": "stderr",
     "output_type": "stream",
     "text": [
      "C:\\Users\\ari\\AppData\\Local\\Temp\\ipykernel_9424\\1564650736.py:3: SettingWithCopyWarning: \n",
      "A value is trying to be set on a copy of a slice from a DataFrame\n",
      "\n",
      "See the caveats in the documentation: https://pandas.pydata.org/pandas-docs/stable/user_guide/indexing.html#returning-a-view-versus-a-copy\n",
      "  pitches.dropna(axis = 1, thresh = 708540-2290, inplace = True)\n",
      "C:\\Users\\ari\\AppData\\Local\\Temp\\ipykernel_9424\\1564650736.py:6: SettingWithCopyWarning: \n",
      "A value is trying to be set on a copy of a slice from a DataFrame\n",
      "\n",
      "See the caveats in the documentation: https://pandas.pydata.org/pandas-docs/stable/user_guide/indexing.html#returning-a-view-versus-a-copy\n",
      "  pitches.dropna(axis = 0, inplace = True)\n"
     ]
    },
    {
     "data": {
      "text/plain": [
       "0"
      ]
     },
     "execution_count": 21,
     "metadata": {},
     "output_type": "execute_result"
    }
   ],
   "source": [
    "#### Drop columns with nulls > 513\n",
    "#  release_spin_rate has the highest nulls for any of the remaining columns of interest\n",
    "pitches.dropna(axis = 1, thresh = 708540-2290, inplace = True)\n",
    "\n",
    "#  Drop remaining rows with nulls\n",
    "pitches.dropna(axis = 0, inplace = True)\n",
    "\n",
    "#  Check for any remaining nulls\n",
    "pitches.isnull().sum().sum()"
   ]
  },
  {
   "cell_type": "code",
   "execution_count": 22,
   "id": "e6ec84a8-5dd1-4b4d-8e12-503f890e914d",
   "metadata": {},
   "outputs": [],
   "source": [
    "#  Limit data to combinations where a pitcher has thrown a particular pitch at least 30 times\n",
    "# pitches = pitches[pitches.groupby(['player_name','pitch_type']).transform('size') > 30]"
   ]
  },
  {
   "cell_type": "code",
   "execution_count": 23,
   "id": "a03236cc-d2ec-4a38-9b50-4c70d849d14c",
   "metadata": {},
   "outputs": [],
   "source": [
    "#  pitches['fatigue'] = pitches['pitch_no'] ** 2"
   ]
  },
  {
   "cell_type": "code",
   "execution_count": 24,
   "id": "6d87f408-24ea-47c8-b5a9-ee5c577ca439",
   "metadata": {},
   "outputs": [
    {
     "name": "stderr",
     "output_type": "stream",
     "text": [
      "C:\\Users\\ari\\AppData\\Local\\Temp\\ipykernel_9424\\1097924109.py:1: SettingWithCopyWarning: \n",
      "A value is trying to be set on a copy of a slice from a DataFrame.\n",
      "Try using .loc[row_indexer,col_indexer] = value instead\n",
      "\n",
      "See the caveats in the documentation: https://pandas.pydata.org/pandas-docs/stable/user_guide/indexing.html#returning-a-view-versus-a-copy\n",
      "  pitches['vz0*2'] = pitches['vz0'] ** 2\n"
     ]
    }
   ],
   "source": [
    "pitches['vz0*2'] = pitches['vz0'] ** 2"
   ]
  },
  {
   "cell_type": "code",
   "execution_count": 25,
   "id": "80338d34-e4ac-4fcc-9b5d-9846e17feed0",
   "metadata": {},
   "outputs": [
    {
     "name": "stderr",
     "output_type": "stream",
     "text": [
      "C:\\Users\\ari\\AppData\\Local\\Temp\\ipykernel_9424\\3650140477.py:1: SettingWithCopyWarning: \n",
      "A value is trying to be set on a copy of a slice from a DataFrame.\n",
      "Try using .loc[row_indexer,col_indexer] = value instead\n",
      "\n",
      "See the caveats in the documentation: https://pandas.pydata.org/pandas-docs/stable/user_guide/indexing.html#returning-a-view-versus-a-copy\n",
      "  pitches['pfx_z*2'] = pitches['pfx_z'] ** 2\n"
     ]
    }
   ],
   "source": [
    "pitches['pfx_z*2'] = pitches['pfx_z'] ** 2"
   ]
  },
  {
   "cell_type": "code",
   "execution_count": 26,
   "id": "05d76b66-cf57-4728-832e-917aecef6c03",
   "metadata": {
    "tags": []
   },
   "outputs": [
    {
     "name": "stderr",
     "output_type": "stream",
     "text": [
      "C:\\Users\\ari\\AppData\\Local\\Temp\\ipykernel_9424\\4098806517.py:1: SettingWithCopyWarning: \n",
      "A value is trying to be set on a copy of a slice from a DataFrame.\n",
      "Try using .loc[row_indexer,col_indexer] = value instead\n",
      "\n",
      "See the caveats in the documentation: https://pandas.pydata.org/pandas-docs/stable/user_guide/indexing.html#returning-a-view-versus-a-copy\n",
      "  pitches['plate_z*2'] = pitches['plate_z'] ** 2\n"
     ]
    }
   ],
   "source": [
    "pitches['plate_z*2'] = pitches['plate_z'] ** 2"
   ]
  },
  {
   "cell_type": "code",
   "execution_count": 27,
   "id": "7f3190e9-b88e-43b6-94db-aabc493c06f0",
   "metadata": {},
   "outputs": [],
   "source": [
    "#  Define feature columns\n",
    "features = ['vx0','vy0','vz0','release_speed','pfx_x','pfx_z','plate_x','plate_z',\n",
    "            'ax','ay','az','release_spin_rate','release_extension',\n",
    "        'release_pos_x','release_pos_y','release_pos_z',\n",
    "            'vz0*2','pfx_z*2','plate_z*2',\n",
    "            'sz_top','sz_bot','pitch_type',\n",
    "            'player_name']"
   ]
  },
  {
   "cell_type": "code",
   "execution_count": 57,
   "id": "93769824-da62-4bab-a056-b21a70614e30",
   "metadata": {},
   "outputs": [],
   "source": [
    "from statsmodels.tsa.stattools import adfuller"
   ]
  },
  {
   "cell_type": "code",
   "execution_count": 61,
   "id": "3c2e7d11-27f1-4ece-93aa-2d4125329f4c",
   "metadata": {},
   "outputs": [],
   "source": [
    "all_pitches = pitches.groupby('pitch_no')[features].agg('mean')"
   ]
  },
  {
   "cell_type": "code",
   "execution_count": 78,
   "id": "d69faeef-b589-496c-b937-3a84f2adb06c",
   "metadata": {},
   "outputs": [
    {
     "data": {
      "text/plain": [
       "FF    233238\n",
       "SL    127366\n",
       "SI    109167\n",
       "CH     79372\n",
       "CU     55148\n",
       "FC     50339\n",
       "ST     19511\n",
       "KC     15020\n",
       "FS     10787\n",
       "SV      2260\n",
       "FA      1271\n",
       "EP       492\n",
       "CS       102\n",
       "KN        19\n",
       "Name: pitch_type, dtype: int64"
      ]
     },
     "execution_count": 78,
     "metadata": {},
     "output_type": "execute_result"
    }
   ],
   "source": [
    "pitches['pitch_type'].value_counts()"
   ]
  },
  {
   "cell_type": "code",
   "execution_count": 79,
   "id": "ffb1ee84-56a5-470f-b12a-b849d2804385",
   "metadata": {},
   "outputs": [],
   "source": [
    "ff = pitches[pitches['pitch_type'] == 'FF'].groupby('pitch_no')[features].agg('mean')\n",
    "sl = pitches[pitches['pitch_type'] == 'SL'].groupby('pitch_no')[features].agg('mean')\n",
    "si = pitches[pitches['pitch_type'] == 'SI'].groupby('pitch_no')[features].agg('mean')\n",
    "ch = pitches[pitches['pitch_type'] == 'CH'].groupby('pitch_no')[features].agg('mean')\n",
    "cu = pitches[pitches['pitch_type'] == 'CU'].groupby('pitch_no')[features].agg('mean')\n",
    "fc = pitches[pitches['pitch_type'] == 'FC'].groupby('pitch_no')[features].agg('mean')"
   ]
  },
  {
   "cell_type": "code",
   "execution_count": 73,
   "id": "ad873777-df63-4cf9-a75c-db6e66b7334b",
   "metadata": {},
   "outputs": [],
   "source": [
    "X_train, X_test, y_train, y_test = train_test_split(all_pitches, \n",
    "                                                    all_pitches.index, shuffle = False, random_state=42)"
   ]
  },
  {
   "cell_type": "code",
   "execution_count": 101,
   "id": "f0d2dfb9-5089-4ce6-b816-4f047b793399",
   "metadata": {},
   "outputs": [],
   "source": [
    "features = ['vx0',\n",
    " 'vy0',\n",
    " 'vz0',\n",
    " 'release_speed',\n",
    " 'pfx_x',\n",
    " 'pfx_z',\n",
    " 'plate_x',\n",
    " 'plate_z',\n",
    " 'ax',\n",
    " 'ay',\n",
    " 'az',\n",
    " 'release_spin_rate',\n",
    " 'release_extension',\n",
    " 'release_pos_x',\n",
    " 'release_pos_y',\n",
    " 'release_pos_z',\n",
    " 'vz0*2',\n",
    " 'pfx_z*2',\n",
    " 'plate_z*2',\n",
    " 'sz_top',\n",
    " 'sz_bot']"
   ]
  },
  {
   "cell_type": "code",
   "execution_count": 105,
   "id": "f397f8c5-1f1a-4ce2-a22e-6cc57b81cdfe",
   "metadata": {},
   "outputs": [
    {
     "name": "stderr",
     "output_type": "stream",
     "text": [
      "C:\\Users\\ari\\AppData\\Local\\Temp\\ipykernel_9424\\1463008988.py:1: SettingWithCopyWarning: \n",
      "A value is trying to be set on a copy of a slice from a DataFrame\n",
      "\n",
      "See the caveats in the documentation: https://pandas.pydata.org/pandas-docs/stable/user_guide/indexing.html#returning-a-view-versus-a-copy\n",
      "  pitches.dropna(subset = features, inplace = True)\n"
     ]
    }
   ],
   "source": [
    "pitches.dropna(subset = features, inplace = True)"
   ]
  },
  {
   "cell_type": "code",
   "execution_count": 110,
   "id": "a6ba2740-3a97-47a8-86eb-d0551774c01e",
   "metadata": {},
   "outputs": [],
   "source": [
    "from statsmodels.tsa.api import VAR\n",
    "from sklearn.model_selection import train_test_split"
   ]
  },
  {
   "cell_type": "code",
   "execution_count": 129,
   "id": "345e4f29-464f-4045-9356-ac7e91aa87c4",
   "metadata": {},
   "outputs": [],
   "source": [
    "ff = pitches[pitches['pitch_type'] == 'FF'].groupby('pitch_no')[features].mean()\n",
    "sl = pitches[pitches['pitch_type'] == 'SL'].groupby('pitch_no')[features].mean()\n",
    "si = pitches[pitches['pitch_type'] == 'SI'].groupby('pitch_no')[features].mean()\n",
    "ch = pitches[pitches['pitch_type'] == 'CH'].groupby('pitch_no')[features].mean()\n",
    "cu = pitches[pitches['pitch_type'] == 'CU'].groupby('pitch_no')[features].mean()\n",
    "fc = pitches[pitches['pitch_type'] == 'FC'].groupby('pitch_no')[features].mean()\n",
    "\n",
    "data = pd.concat([ff, sl, si, ch, cu, fc], axis = 1)"
   ]
  },
  {
   "cell_type": "code",
   "execution_count": 130,
   "id": "d27e2dfa-d5da-4a86-a374-eb8fe56104b6",
   "metadata": {},
   "outputs": [],
   "source": [
    "data.dropna(inplace = True)"
   ]
  },
  {
   "cell_type": "code",
   "execution_count": 131,
   "id": "f5a58bb7-bff1-4a5f-b991-f8084ec0eec8",
   "metadata": {},
   "outputs": [],
   "source": [
    "data_train, data_test = train_test_split(np.array(data), shuffle=False, random_state=42)\n",
    "model = VAR(data_train)"
   ]
  },
  {
   "cell_type": "code",
   "execution_count": 140,
   "id": "b32d1f60-8a7c-4986-a8fb-052c2549a690",
   "metadata": {},
   "outputs": [
    {
     "ename": "TypeError",
     "evalue": "predict() missing 1 required positional argument: 'params'",
     "output_type": "error",
     "traceback": [
      "\u001b[1;31m---------------------------------------------------------------------------\u001b[0m",
      "\u001b[1;31mTypeError\u001b[0m                                 Traceback (most recent call last)",
      "\u001b[1;32m~\\AppData\\Local\\Temp\\ipykernel_9424\\1548584363.py\u001b[0m in \u001b[0;36m<module>\u001b[1;34m\u001b[0m\n\u001b[1;32m----> 1\u001b[1;33m \u001b[0mmodel\u001b[0m\u001b[1;33m.\u001b[0m\u001b[0mpredict\u001b[0m\u001b[1;33m(\u001b[0m\u001b[1;33m)\u001b[0m\u001b[1;33m\u001b[0m\u001b[1;33m\u001b[0m\u001b[0m\n\u001b[0m",
      "\u001b[1;31mTypeError\u001b[0m: predict() missing 1 required positional argument: 'params'"
     ]
    }
   ],
   "source": []
  },
  {
   "cell_type": "code",
   "execution_count": 85,
   "id": "09b5ebac-c2b9-46c0-836d-d11eb0225bd8",
   "metadata": {},
   "outputs": [
    {
     "ename": "AttributeError",
     "evalue": "'Sequential' object has no attribute 'select_order'",
     "output_type": "error",
     "traceback": [
      "\u001b[1;31m---------------------------------------------------------------------------\u001b[0m",
      "\u001b[1;31mAttributeError\u001b[0m                            Traceback (most recent call last)",
      "\u001b[1;32m~\\AppData\\Local\\Temp\\ipykernel_9424\\2311504330.py\u001b[0m in \u001b[0;36m<module>\u001b[1;34m\u001b[0m\n\u001b[1;32m----> 1\u001b[1;33m \u001b[0mlag_order\u001b[0m \u001b[1;33m=\u001b[0m \u001b[0mmodel\u001b[0m\u001b[1;33m.\u001b[0m\u001b[0mselect_order\u001b[0m\u001b[1;33m(\u001b[0m\u001b[0mmaxlags\u001b[0m\u001b[1;33m=\u001b[0m\u001b[1;36m10\u001b[0m\u001b[1;33m)\u001b[0m  \u001b[1;31m# Use a suitable maximum lag order\u001b[0m\u001b[1;33m\u001b[0m\u001b[1;33m\u001b[0m\u001b[0m\n\u001b[0m\u001b[0;32m      2\u001b[0m \u001b[0mresults\u001b[0m \u001b[1;33m=\u001b[0m \u001b[0mmodel\u001b[0m\u001b[1;33m.\u001b[0m\u001b[0mfit\u001b[0m\u001b[1;33m(\u001b[0m\u001b[0mlag_order\u001b[0m\u001b[1;33m)\u001b[0m\u001b[1;33m\u001b[0m\u001b[1;33m\u001b[0m\u001b[0m\n",
      "\u001b[1;31mAttributeError\u001b[0m: 'Sequential' object has no attribute 'select_order'"
     ]
    }
   ],
   "source": [
    "lag_order = model.select_order(maxlags=10)  # Use a suitable maximum lag order\n",
    "results = model.fit(lag_order)"
   ]
  },
  {
   "cell_type": "code",
   "execution_count": 72,
   "id": "9f84bf93-26b3-4b66-bc1a-839345201006",
   "metadata": {},
   "outputs": [
    {
     "name": "stdout",
     "output_type": "stream",
     "text": [
      "vx0 0.0\n",
      "vy0 0.0\n",
      "vz0 0.0\n",
      "release_speed 0.0\n",
      "pfx_x 0.0\n",
      "pfx_z 0.0\n",
      "plate_x 0.0\n",
      "plate_z 0.0\n",
      "ax 0.0\n",
      "ay 0.0\n",
      "az 0.0\n",
      "release_spin_rate 0.0\n",
      "release_extension 0.0\n",
      "release_pos_x 0.0\n",
      "release_pos_y 0.0\n",
      "release_pos_z 0.0\n",
      "vz0*2 0.0\n",
      "pfx_z*2 0.0\n",
      "plate_z*2 0.0\n",
      "sz_top 0.0\n",
      "sz_bot 0.0\n"
     ]
    },
    {
     "name": "stderr",
     "output_type": "stream",
     "text": [
      "C:\\Users\\ari\\anaconda3\\lib\\site-packages\\statsmodels\\regression\\linear_model.py:924: RuntimeWarning: divide by zero encountered in log\n",
      "  llf = -nobs2*np.log(2*np.pi) - nobs2*np.log(ssr / nobs) - nobs2\n",
      "C:\\Users\\ari\\anaconda3\\lib\\site-packages\\statsmodels\\regression\\linear_model.py:924: RuntimeWarning: divide by zero encountered in log\n",
      "  llf = -nobs2*np.log(2*np.pi) - nobs2*np.log(ssr / nobs) - nobs2\n",
      "C:\\Users\\ari\\anaconda3\\lib\\site-packages\\statsmodels\\regression\\linear_model.py:924: RuntimeWarning: divide by zero encountered in log\n",
      "  llf = -nobs2*np.log(2*np.pi) - nobs2*np.log(ssr / nobs) - nobs2\n",
      "C:\\Users\\ari\\anaconda3\\lib\\site-packages\\statsmodels\\regression\\linear_model.py:924: RuntimeWarning: divide by zero encountered in log\n",
      "  llf = -nobs2*np.log(2*np.pi) - nobs2*np.log(ssr / nobs) - nobs2\n",
      "C:\\Users\\ari\\anaconda3\\lib\\site-packages\\statsmodels\\regression\\linear_model.py:924: RuntimeWarning: divide by zero encountered in log\n",
      "  llf = -nobs2*np.log(2*np.pi) - nobs2*np.log(ssr / nobs) - nobs2\n",
      "C:\\Users\\ari\\anaconda3\\lib\\site-packages\\statsmodels\\regression\\linear_model.py:924: RuntimeWarning: divide by zero encountered in log\n",
      "  llf = -nobs2*np.log(2*np.pi) - nobs2*np.log(ssr / nobs) - nobs2\n",
      "C:\\Users\\ari\\anaconda3\\lib\\site-packages\\statsmodels\\regression\\linear_model.py:924: RuntimeWarning: divide by zero encountered in log\n",
      "  llf = -nobs2*np.log(2*np.pi) - nobs2*np.log(ssr / nobs) - nobs2\n",
      "C:\\Users\\ari\\anaconda3\\lib\\site-packages\\statsmodels\\regression\\linear_model.py:924: RuntimeWarning: divide by zero encountered in log\n",
      "  llf = -nobs2*np.log(2*np.pi) - nobs2*np.log(ssr / nobs) - nobs2\n",
      "C:\\Users\\ari\\anaconda3\\lib\\site-packages\\statsmodels\\regression\\linear_model.py:924: RuntimeWarning: divide by zero encountered in log\n",
      "  llf = -nobs2*np.log(2*np.pi) - nobs2*np.log(ssr / nobs) - nobs2\n",
      "C:\\Users\\ari\\anaconda3\\lib\\site-packages\\statsmodels\\regression\\linear_model.py:924: RuntimeWarning: divide by zero encountered in log\n",
      "  llf = -nobs2*np.log(2*np.pi) - nobs2*np.log(ssr / nobs) - nobs2\n",
      "C:\\Users\\ari\\anaconda3\\lib\\site-packages\\statsmodels\\regression\\linear_model.py:924: RuntimeWarning: divide by zero encountered in log\n",
      "  llf = -nobs2*np.log(2*np.pi) - nobs2*np.log(ssr / nobs) - nobs2\n",
      "C:\\Users\\ari\\anaconda3\\lib\\site-packages\\statsmodels\\regression\\linear_model.py:924: RuntimeWarning: divide by zero encountered in log\n",
      "  llf = -nobs2*np.log(2*np.pi) - nobs2*np.log(ssr / nobs) - nobs2\n",
      "C:\\Users\\ari\\anaconda3\\lib\\site-packages\\statsmodels\\regression\\linear_model.py:924: RuntimeWarning: divide by zero encountered in log\n",
      "  llf = -nobs2*np.log(2*np.pi) - nobs2*np.log(ssr / nobs) - nobs2\n",
      "C:\\Users\\ari\\anaconda3\\lib\\site-packages\\statsmodels\\regression\\linear_model.py:924: RuntimeWarning: divide by zero encountered in log\n",
      "  llf = -nobs2*np.log(2*np.pi) - nobs2*np.log(ssr / nobs) - nobs2\n",
      "C:\\Users\\ari\\anaconda3\\lib\\site-packages\\statsmodels\\regression\\linear_model.py:924: RuntimeWarning: divide by zero encountered in log\n",
      "  llf = -nobs2*np.log(2*np.pi) - nobs2*np.log(ssr / nobs) - nobs2\n",
      "C:\\Users\\ari\\anaconda3\\lib\\site-packages\\statsmodels\\regression\\linear_model.py:924: RuntimeWarning: divide by zero encountered in log\n",
      "  llf = -nobs2*np.log(2*np.pi) - nobs2*np.log(ssr / nobs) - nobs2\n",
      "C:\\Users\\ari\\anaconda3\\lib\\site-packages\\statsmodels\\regression\\linear_model.py:924: RuntimeWarning: divide by zero encountered in log\n",
      "  llf = -nobs2*np.log(2*np.pi) - nobs2*np.log(ssr / nobs) - nobs2\n",
      "C:\\Users\\ari\\anaconda3\\lib\\site-packages\\statsmodels\\regression\\linear_model.py:924: RuntimeWarning: divide by zero encountered in log\n",
      "  llf = -nobs2*np.log(2*np.pi) - nobs2*np.log(ssr / nobs) - nobs2\n",
      "C:\\Users\\ari\\anaconda3\\lib\\site-packages\\statsmodels\\regression\\linear_model.py:924: RuntimeWarning: divide by zero encountered in log\n",
      "  llf = -nobs2*np.log(2*np.pi) - nobs2*np.log(ssr / nobs) - nobs2\n",
      "C:\\Users\\ari\\anaconda3\\lib\\site-packages\\statsmodels\\regression\\linear_model.py:924: RuntimeWarning: divide by zero encountered in log\n",
      "  llf = -nobs2*np.log(2*np.pi) - nobs2*np.log(ssr / nobs) - nobs2\n",
      "C:\\Users\\ari\\anaconda3\\lib\\site-packages\\statsmodels\\regression\\linear_model.py:924: RuntimeWarning: divide by zero encountered in log\n",
      "  llf = -nobs2*np.log(2*np.pi) - nobs2*np.log(ssr / nobs) - nobs2\n"
     ]
    }
   ],
   "source": [
    "for col in all_pitches.columns:\n",
    "    print(col,adfuller(all_pitches[col].diff().notnull())[1])"
   ]
  },
  {
   "cell_type": "code",
   "execution_count": null,
   "id": "ef6add80-d783-4761-8417-502d3cc5ac08",
   "metadata": {
    "jupyter": {
     "source_hidden": true
    },
    "tags": []
   },
   "outputs": [],
   "source": []
  },
  {
   "cell_type": "code",
   "execution_count": 28,
   "id": "16b1bee3-2ecb-44e8-80de-9e5d7d9375b5",
   "metadata": {},
   "outputs": [
    {
     "data": {
      "text/plain": [
       "Index(['pitch_type', 'game_date', 'release_speed', 'release_pos_x',\n",
       "       'release_pos_z', 'player_name', 'batter', 'pitcher', 'description',\n",
       "       'zone', 'des', 'game_type', 'stand', 'p_throws', 'home_team',\n",
       "       'away_team', 'type', 'balls', 'strikes', 'game_year', 'pfx_x', 'pfx_z',\n",
       "       'plate_x', 'plate_z', 'outs_when_up', 'inning', 'inning_topbot',\n",
       "       'fielder_2', 'vx0', 'vy0', 'vz0', 'ax', 'ay', 'az', 'sz_top', 'sz_bot',\n",
       "       'effective_speed', 'release_spin_rate', 'release_extension', 'game_pk',\n",
       "       'pitcher.1', 'fielder_2.1', 'fielder_3', 'fielder_4', 'fielder_5',\n",
       "       'fielder_6', 'fielder_7', 'fielder_8', 'fielder_9', 'release_pos_y',\n",
       "       'at_bat_number', 'pitch_number', 'pitch_name', 'home_score',\n",
       "       'away_score', 'bat_score', 'fld_score', 'post_away_score',\n",
       "       'post_home_score', 'post_bat_score', 'post_fld_score',\n",
       "       'if_fielding_alignment', 'of_fielding_alignment', 'delta_home_win_exp',\n",
       "       'delta_run_exp', 'pitch_no', 'starter', 'ball', 'swing', 'foul',\n",
       "       'called', 'out', 'hit', 'outcome', 'vz0*2', 'pfx_z*2', 'plate_z*2'],\n",
       "      dtype='object')"
      ]
     },
     "execution_count": 28,
     "metadata": {},
     "output_type": "execute_result"
    }
   ],
   "source": [
    "pitches.columns"
   ]
  },
  {
   "cell_type": "code",
   "execution_count": null,
   "id": "6787b47d-431d-44da-a606-55437e49aff4",
   "metadata": {},
   "outputs": [],
   "source": []
  },
  {
   "cell_type": "code",
   "execution_count": 56,
   "id": "e67a55c0-171d-4530-8d0d-1e428608ef0b",
   "metadata": {},
   "outputs": [
    {
     "data": {
      "text/html": [
       "<div>\n",
       "<style scoped>\n",
       "    .dataframe tbody tr th:only-of-type {\n",
       "        vertical-align: middle;\n",
       "    }\n",
       "\n",
       "    .dataframe tbody tr th {\n",
       "        vertical-align: top;\n",
       "    }\n",
       "\n",
       "    .dataframe thead th {\n",
       "        text-align: right;\n",
       "    }\n",
       "</style>\n",
       "<table border=\"1\" class=\"dataframe\">\n",
       "  <thead>\n",
       "    <tr style=\"text-align: right;\">\n",
       "      <th></th>\n",
       "      <th>pitch_type</th>\n",
       "      <th>game_date</th>\n",
       "      <th>release_speed</th>\n",
       "      <th>release_pos_x</th>\n",
       "      <th>release_pos_z</th>\n",
       "      <th>player_name</th>\n",
       "      <th>batter</th>\n",
       "      <th>pitcher</th>\n",
       "      <th>description</th>\n",
       "      <th>zone</th>\n",
       "      <th>...</th>\n",
       "      <th>ball</th>\n",
       "      <th>swing</th>\n",
       "      <th>foul</th>\n",
       "      <th>called</th>\n",
       "      <th>out</th>\n",
       "      <th>hit</th>\n",
       "      <th>outcome</th>\n",
       "      <th>vz0*2</th>\n",
       "      <th>pfx_z*2</th>\n",
       "      <th>plate_z*2</th>\n",
       "    </tr>\n",
       "    <tr>\n",
       "      <th>pitch_number</th>\n",
       "      <th></th>\n",
       "      <th></th>\n",
       "      <th></th>\n",
       "      <th></th>\n",
       "      <th></th>\n",
       "      <th></th>\n",
       "      <th></th>\n",
       "      <th></th>\n",
       "      <th></th>\n",
       "      <th></th>\n",
       "      <th></th>\n",
       "      <th></th>\n",
       "      <th></th>\n",
       "      <th></th>\n",
       "      <th></th>\n",
       "      <th></th>\n",
       "      <th></th>\n",
       "      <th></th>\n",
       "      <th></th>\n",
       "      <th></th>\n",
       "      <th></th>\n",
       "    </tr>\n",
       "  </thead>\n",
       "  <tbody>\n",
       "    <tr>\n",
       "      <th>1</th>\n",
       "      <td>CH</td>\n",
       "      <td>2022-10-05</td>\n",
       "      <td>80.8</td>\n",
       "      <td>-0.76</td>\n",
       "      <td>6.61</td>\n",
       "      <td>Baker, Bryan</td>\n",
       "      <td>624415</td>\n",
       "      <td>641329</td>\n",
       "      <td>hit_into_play</td>\n",
       "      <td>4</td>\n",
       "      <td>...</td>\n",
       "      <td>0</td>\n",
       "      <td>0</td>\n",
       "      <td>0</td>\n",
       "      <td>0</td>\n",
       "      <td>1</td>\n",
       "      <td>0</td>\n",
       "      <td>5</td>\n",
       "      <td>21.911766</td>\n",
       "      <td>0.64</td>\n",
       "      <td>5.0176</td>\n",
       "    </tr>\n",
       "    <tr>\n",
       "      <th>5</th>\n",
       "      <td>FF</td>\n",
       "      <td>2022-10-05</td>\n",
       "      <td>97.7</td>\n",
       "      <td>-0.58</td>\n",
       "      <td>6.6</td>\n",
       "      <td>Baker, Bryan</td>\n",
       "      <td>643376</td>\n",
       "      <td>641329</td>\n",
       "      <td>swinging_strike</td>\n",
       "      <td>5</td>\n",
       "      <td>...</td>\n",
       "      <td>0</td>\n",
       "      <td>1</td>\n",
       "      <td>0</td>\n",
       "      <td>0</td>\n",
       "      <td>0</td>\n",
       "      <td>0</td>\n",
       "      <td>1</td>\n",
       "      <td>80.435062</td>\n",
       "      <td>2.4964</td>\n",
       "      <td>6.7081</td>\n",
       "    </tr>\n",
       "    <tr>\n",
       "      <th>4</th>\n",
       "      <td>CH</td>\n",
       "      <td>2022-10-05</td>\n",
       "      <td>84.9</td>\n",
       "      <td>-0.55</td>\n",
       "      <td>6.58</td>\n",
       "      <td>Baker, Bryan</td>\n",
       "      <td>643376</td>\n",
       "      <td>641329</td>\n",
       "      <td>ball</td>\n",
       "      <td>12</td>\n",
       "      <td>...</td>\n",
       "      <td>1</td>\n",
       "      <td>0</td>\n",
       "      <td>0</td>\n",
       "      <td>0</td>\n",
       "      <td>0</td>\n",
       "      <td>0</td>\n",
       "      <td>4</td>\n",
       "      <td>28.362524</td>\n",
       "      <td>0.6889</td>\n",
       "      <td>5.3361</td>\n",
       "    </tr>\n",
       "    <tr>\n",
       "      <th>3</th>\n",
       "      <td>FF</td>\n",
       "      <td>2022-10-05</td>\n",
       "      <td>97.2</td>\n",
       "      <td>-0.42</td>\n",
       "      <td>6.6</td>\n",
       "      <td>Baker, Bryan</td>\n",
       "      <td>643376</td>\n",
       "      <td>641329</td>\n",
       "      <td>swinging_strike</td>\n",
       "      <td>4</td>\n",
       "      <td>...</td>\n",
       "      <td>0</td>\n",
       "      <td>1</td>\n",
       "      <td>0</td>\n",
       "      <td>0</td>\n",
       "      <td>0</td>\n",
       "      <td>0</td>\n",
       "      <td>1</td>\n",
       "      <td>100.448133</td>\n",
       "      <td>3.0276</td>\n",
       "      <td>5.29</td>\n",
       "    </tr>\n",
       "    <tr>\n",
       "      <th>2</th>\n",
       "      <td>SL</td>\n",
       "      <td>2022-10-05</td>\n",
       "      <td>86.2</td>\n",
       "      <td>-0.55</td>\n",
       "      <td>6.64</td>\n",
       "      <td>Baker, Bryan</td>\n",
       "      <td>643376</td>\n",
       "      <td>641329</td>\n",
       "      <td>called_strike</td>\n",
       "      <td>3</td>\n",
       "      <td>...</td>\n",
       "      <td>0</td>\n",
       "      <td>0</td>\n",
       "      <td>0</td>\n",
       "      <td>1</td>\n",
       "      <td>0</td>\n",
       "      <td>0</td>\n",
       "      <td>2</td>\n",
       "      <td>6.118495</td>\n",
       "      <td>0.0</td>\n",
       "      <td>9.0</td>\n",
       "    </tr>\n",
       "    <tr>\n",
       "      <th>...</th>\n",
       "      <td>...</td>\n",
       "      <td>...</td>\n",
       "      <td>...</td>\n",
       "      <td>...</td>\n",
       "      <td>...</td>\n",
       "      <td>...</td>\n",
       "      <td>...</td>\n",
       "      <td>...</td>\n",
       "      <td>...</td>\n",
       "      <td>...</td>\n",
       "      <td>...</td>\n",
       "      <td>...</td>\n",
       "      <td>...</td>\n",
       "      <td>...</td>\n",
       "      <td>...</td>\n",
       "      <td>...</td>\n",
       "      <td>...</td>\n",
       "      <td>...</td>\n",
       "      <td>...</td>\n",
       "      <td>...</td>\n",
       "      <td>...</td>\n",
       "    </tr>\n",
       "    <tr>\n",
       "      <th>5</th>\n",
       "      <td>FS</td>\n",
       "      <td>2022-04-07</td>\n",
       "      <td>91.8</td>\n",
       "      <td>-1.76</td>\n",
       "      <td>6.04</td>\n",
       "      <td>Ohtani, Shohei</td>\n",
       "      <td>514888</td>\n",
       "      <td>660271</td>\n",
       "      <td>called_strike</td>\n",
       "      <td>11</td>\n",
       "      <td>...</td>\n",
       "      <td>0</td>\n",
       "      <td>0</td>\n",
       "      <td>0</td>\n",
       "      <td>1</td>\n",
       "      <td>0</td>\n",
       "      <td>0</td>\n",
       "      <td>2</td>\n",
       "      <td>21.15083</td>\n",
       "      <td>0.0064</td>\n",
       "      <td>4.2025</td>\n",
       "    </tr>\n",
       "    <tr>\n",
       "      <th>4</th>\n",
       "      <td>ST</td>\n",
       "      <td>2022-04-07</td>\n",
       "      <td>86.9</td>\n",
       "      <td>-2.29</td>\n",
       "      <td>5.77</td>\n",
       "      <td>Ohtani, Shohei</td>\n",
       "      <td>514888</td>\n",
       "      <td>660271</td>\n",
       "      <td>called_strike</td>\n",
       "      <td>7</td>\n",
       "      <td>...</td>\n",
       "      <td>0</td>\n",
       "      <td>0</td>\n",
       "      <td>0</td>\n",
       "      <td>1</td>\n",
       "      <td>0</td>\n",
       "      <td>0</td>\n",
       "      <td>2</td>\n",
       "      <td>21.909311</td>\n",
       "      <td>0.2601</td>\n",
       "      <td>3.0276</td>\n",
       "    </tr>\n",
       "    <tr>\n",
       "      <th>3</th>\n",
       "      <td>FF</td>\n",
       "      <td>2022-04-07</td>\n",
       "      <td>99.2</td>\n",
       "      <td>-2.13</td>\n",
       "      <td>5.87</td>\n",
       "      <td>Ohtani, Shohei</td>\n",
       "      <td>514888</td>\n",
       "      <td>660271</td>\n",
       "      <td>ball</td>\n",
       "      <td>14</td>\n",
       "      <td>...</td>\n",
       "      <td>1</td>\n",
       "      <td>0</td>\n",
       "      <td>0</td>\n",
       "      <td>0</td>\n",
       "      <td>0</td>\n",
       "      <td>0</td>\n",
       "      <td>4</td>\n",
       "      <td>58.408479</td>\n",
       "      <td>0.6561</td>\n",
       "      <td>3.3856</td>\n",
       "    </tr>\n",
       "    <tr>\n",
       "      <th>2</th>\n",
       "      <td>FF</td>\n",
       "      <td>2022-04-07</td>\n",
       "      <td>97.9</td>\n",
       "      <td>-2.16</td>\n",
       "      <td>5.89</td>\n",
       "      <td>Ohtani, Shohei</td>\n",
       "      <td>514888</td>\n",
       "      <td>660271</td>\n",
       "      <td>called_strike</td>\n",
       "      <td>4</td>\n",
       "      <td>...</td>\n",
       "      <td>0</td>\n",
       "      <td>0</td>\n",
       "      <td>0</td>\n",
       "      <td>1</td>\n",
       "      <td>0</td>\n",
       "      <td>0</td>\n",
       "      <td>2</td>\n",
       "      <td>57.853807</td>\n",
       "      <td>1.1236</td>\n",
       "      <td>4.0401</td>\n",
       "    </tr>\n",
       "    <tr>\n",
       "      <th>1</th>\n",
       "      <td>FF</td>\n",
       "      <td>2022-04-07</td>\n",
       "      <td>99.8</td>\n",
       "      <td>-2.19</td>\n",
       "      <td>5.82</td>\n",
       "      <td>Ohtani, Shohei</td>\n",
       "      <td>514888</td>\n",
       "      <td>660271</td>\n",
       "      <td>ball</td>\n",
       "      <td>14</td>\n",
       "      <td>...</td>\n",
       "      <td>1</td>\n",
       "      <td>0</td>\n",
       "      <td>0</td>\n",
       "      <td>0</td>\n",
       "      <td>0</td>\n",
       "      <td>0</td>\n",
       "      <td>4</td>\n",
       "      <td>197.533263</td>\n",
       "      <td>1.1449</td>\n",
       "      <td>0.0841</td>\n",
       "    </tr>\n",
       "  </tbody>\n",
       "</table>\n",
       "<p>704092 rows × 76 columns</p>\n",
       "</div>"
      ],
      "text/plain": [
       "             pitch_type  game_date  release_speed  release_pos_x  \\\n",
       "pitch_number                                                       \n",
       "1                    CH 2022-10-05           80.8          -0.76   \n",
       "5                    FF 2022-10-05           97.7          -0.58   \n",
       "4                    CH 2022-10-05           84.9          -0.55   \n",
       "3                    FF 2022-10-05           97.2          -0.42   \n",
       "2                    SL 2022-10-05           86.2          -0.55   \n",
       "...                 ...        ...            ...            ...   \n",
       "5                    FS 2022-04-07           91.8          -1.76   \n",
       "4                    ST 2022-04-07           86.9          -2.29   \n",
       "3                    FF 2022-04-07           99.2          -2.13   \n",
       "2                    FF 2022-04-07           97.9          -2.16   \n",
       "1                    FF 2022-04-07           99.8          -2.19   \n",
       "\n",
       "              release_pos_z     player_name  batter  pitcher      description  \\\n",
       "pitch_number                                                                    \n",
       "1                      6.61    Baker, Bryan  624415   641329    hit_into_play   \n",
       "5                       6.6    Baker, Bryan  643376   641329  swinging_strike   \n",
       "4                      6.58    Baker, Bryan  643376   641329             ball   \n",
       "3                       6.6    Baker, Bryan  643376   641329  swinging_strike   \n",
       "2                      6.64    Baker, Bryan  643376   641329    called_strike   \n",
       "...                     ...             ...     ...      ...              ...   \n",
       "5                      6.04  Ohtani, Shohei  514888   660271    called_strike   \n",
       "4                      5.77  Ohtani, Shohei  514888   660271    called_strike   \n",
       "3                      5.87  Ohtani, Shohei  514888   660271             ball   \n",
       "2                      5.89  Ohtani, Shohei  514888   660271    called_strike   \n",
       "1                      5.82  Ohtani, Shohei  514888   660271             ball   \n",
       "\n",
       "              zone  ... ball swing foul  called out hit outcome       vz0*2  \\\n",
       "pitch_number        ...                                                       \n",
       "1                4  ...    0     0    0       0   1   0       5   21.911766   \n",
       "5                5  ...    0     1    0       0   0   0       1   80.435062   \n",
       "4               12  ...    1     0    0       0   0   0       4   28.362524   \n",
       "3                4  ...    0     1    0       0   0   0       1  100.448133   \n",
       "2                3  ...    0     0    0       1   0   0       2    6.118495   \n",
       "...            ...  ...  ...   ...  ...     ...  ..  ..     ...         ...   \n",
       "5               11  ...    0     0    0       1   0   0       2    21.15083   \n",
       "4                7  ...    0     0    0       1   0   0       2   21.909311   \n",
       "3               14  ...    1     0    0       0   0   0       4   58.408479   \n",
       "2                4  ...    0     0    0       1   0   0       2   57.853807   \n",
       "1               14  ...    1     0    0       0   0   0       4  197.533263   \n",
       "\n",
       "              pfx_z*2  plate_z*2  \n",
       "pitch_number                      \n",
       "1                0.64     5.0176  \n",
       "5              2.4964     6.7081  \n",
       "4              0.6889     5.3361  \n",
       "3              3.0276       5.29  \n",
       "2                 0.0        9.0  \n",
       "...               ...        ...  \n",
       "5              0.0064     4.2025  \n",
       "4              0.2601     3.0276  \n",
       "3              0.6561     3.3856  \n",
       "2              1.1236     4.0401  \n",
       "1              1.1449     0.0841  \n",
       "\n",
       "[704092 rows x 76 columns]"
      ]
     },
     "execution_count": 56,
     "metadata": {},
     "output_type": "execute_result"
    }
   ],
   "source": [
    "pitches.set_index('pitch_number')"
   ]
  },
  {
   "cell_type": "markdown",
   "id": "6bdcdac3-192a-47c2-a85c-a4ef570121e4",
   "metadata": {},
   "source": [
    "###  Predicting Pitch No"
   ]
  },
  {
   "cell_type": "code",
   "execution_count": null,
   "id": "a24268d1-357e-4b20-817e-711cfda551aa",
   "metadata": {},
   "outputs": [],
   "source": [
    "np.log(pitches['pitch_no']).hist(bins = 100)\n",
    "#y = pd.DataFrame([x ** 0.5 for x in pitches['pitch_no']])\n",
    "#  Define X and y for a model to predict pitch number based on mechanics\n"
   ]
  },
  {
   "cell_type": "markdown",
   "id": "1f535736-7fa5-4d51-89bd-14889e3f0238",
   "metadata": {},
   "source": [
    "###  Predicting Swing"
   ]
  },
  {
   "cell_type": "code",
   "execution_count": 29,
   "id": "5d4617dd-ede3-4cd1-ab8b-006008b16bd4",
   "metadata": {
    "tags": []
   },
   "outputs": [],
   "source": [
    "y = pitches['swing']\n",
    "X = pitches[features]"
   ]
  },
  {
   "cell_type": "code",
   "execution_count": 30,
   "id": "17110f02-6827-4954-bdcf-59db95f954ce",
   "metadata": {},
   "outputs": [
    {
     "name": "stderr",
     "output_type": "stream",
     "text": [
      "C:\\Users\\ari\\AppData\\Local\\Temp\\ipykernel_9424\\2870365771.py:1: SettingWithCopyWarning: \n",
      "A value is trying to be set on a copy of a slice from a DataFrame.\n",
      "Try using .loc[row_indexer,col_indexer] = value instead\n",
      "\n",
      "See the caveats in the documentation: https://pandas.pydata.org/pandas-docs/stable/user_guide/indexing.html#returning-a-view-versus-a-copy\n",
      "  X['pitch_type_orig'] = X['pitch_type']\n"
     ]
    }
   ],
   "source": [
    "X['pitch_type_orig'] = X['pitch_type']"
   ]
  },
  {
   "cell_type": "code",
   "execution_count": 39,
   "id": "f4f7ced2-276b-484e-bec8-ba62bae40fdf",
   "metadata": {},
   "outputs": [],
   "source": [
    "#X['player_name_orig'] = X['player_name']"
   ]
  },
  {
   "cell_type": "code",
   "execution_count": 32,
   "id": "e75a791f-0d46-47fa-81eb-dfd4f39f8b88",
   "metadata": {},
   "outputs": [],
   "source": [
    "X = pd.get_dummies(X, columns = ['pitch_type'])"
   ]
  },
  {
   "cell_type": "code",
   "execution_count": 33,
   "id": "0c55a2c5-8943-4bfe-9c31-c531b60a5363",
   "metadata": {},
   "outputs": [],
   "source": [
    "X_train, X_test, y_train, y_test = train_test_split(X, y, random_state=42)"
   ]
  },
  {
   "cell_type": "code",
   "execution_count": 34,
   "id": "c41058b5-3126-4f6a-8821-45cb67d42884",
   "metadata": {},
   "outputs": [],
   "source": [
    "for col in features[:-4]:   \n",
    "    X_train[f'{col}_avg'] = X_train.groupby(['player_name','pitch_type_orig'])[col].transform('mean')\n",
    "    avgs = X_train.groupby(['player_name', 'pitch_type_orig'])[col].mean().reset_index()\n",
    "    merge = X_test.merge(avgs, on = ['player_name','pitch_type_orig'], how = 'left')\n",
    "    X_test[f'{col}_avg'] = merge[col + '_y']\n",
    "    X_train[f'{col}_diff'] = X_train[col] - X_train[f'{col}_avg']\n",
    "    X_test[f'{col}_diff'] = X_test[col] - X_test[f'{col}_avg']    \n",
    " #   X_train.drop(columns = [col + '_avg'], inplace = True)   \n",
    "  #  X_test.drop(columns = [col + '_avg'], inplace = True)"
   ]
  },
  {
   "cell_type": "code",
   "execution_count": 35,
   "id": "3668d092-d9dc-4978-9742-683662d5a1bc",
   "metadata": {},
   "outputs": [],
   "source": [
    "X_train.drop(columns = ['player_name', 'pitch_type_orig'], inplace = True)"
   ]
  },
  {
   "cell_type": "code",
   "execution_count": 36,
   "id": "571a07c8-7db4-4089-b1d6-d43f57faed1b",
   "metadata": {},
   "outputs": [],
   "source": [
    "X_test.drop(columns = ['player_name', 'pitch_type_orig'], inplace = True)"
   ]
  },
  {
   "cell_type": "code",
   "execution_count": null,
   "id": "ee62eb0d-fdeb-4878-9722-7d8db0407066",
   "metadata": {},
   "outputs": [],
   "source": []
  },
  {
   "cell_type": "code",
   "execution_count": 37,
   "id": "c0326a9c-5aab-47c2-a394-a4b534033b03",
   "metadata": {},
   "outputs": [],
   "source": [
    "X_test = X_test.reset_index(drop = True)\n",
    "y_test = y_test.reset_index(drop = True)"
   ]
  },
  {
   "cell_type": "code",
   "execution_count": 38,
   "id": "54c9204a-0f60-47c4-8eec-33af2da7a939",
   "metadata": {},
   "outputs": [],
   "source": [
    "combined = pd.concat([X_test, y_test], axis = 1)"
   ]
  },
  {
   "cell_type": "code",
   "execution_count": 39,
   "id": "cbbb1fcf-f080-47c1-85e5-e422bf04f5e3",
   "metadata": {},
   "outputs": [],
   "source": [
    "combined.dropna(inplace = True)"
   ]
  },
  {
   "cell_type": "code",
   "execution_count": 40,
   "id": "973da3a9-b03b-4777-9461-6d42ff09f8c1",
   "metadata": {},
   "outputs": [],
   "source": [
    "X_test = combined.iloc[:,:-1]"
   ]
  },
  {
   "cell_type": "code",
   "execution_count": 41,
   "id": "cfcce861-b5d4-4a51-a31f-d9bfdd6999ed",
   "metadata": {},
   "outputs": [],
   "source": [
    "y_test = combined.iloc[:,-1]"
   ]
  },
  {
   "cell_type": "code",
   "execution_count": 42,
   "id": "97f5c6b8-b00d-4597-8419-0b81cf2e532d",
   "metadata": {},
   "outputs": [
    {
     "data": {
      "text/plain": [
       "((528069, 73), (175981, 73), (528069,), (175981,))"
      ]
     },
     "execution_count": 42,
     "metadata": {},
     "output_type": "execute_result"
    }
   ],
   "source": [
    "X_train.shape, X_test.shape, y_train.shape, y_test.shape"
   ]
  },
  {
   "cell_type": "code",
   "execution_count": 43,
   "id": "a50151b0-9709-4b18-954d-7b25a129c7b4",
   "metadata": {},
   "outputs": [],
   "source": [
    "y_train = y_train.squeeze()"
   ]
  },
  {
   "cell_type": "code",
   "execution_count": null,
   "id": "860f8b5b-b2e6-4301-8652-5002e0b7e878",
   "metadata": {},
   "outputs": [],
   "source": []
  },
  {
   "cell_type": "code",
   "execution_count": 44,
   "id": "7ccfabf8-c864-403e-ab0d-2e2b6225394b",
   "metadata": {},
   "outputs": [],
   "source": [
    "scaled = X_train.columns[~((X_train.columns.str.contains('pitch_type'))| (X_train.columns.str.contains('player_name')))]"
   ]
  },
  {
   "cell_type": "code",
   "execution_count": 45,
   "id": "30bc96f8-5d21-4409-ac0c-ecd03dc48ce7",
   "metadata": {},
   "outputs": [],
   "source": [
    "ctx = ColumnTransformer(transformers = [\n",
    "    ('ss', StandardScaler(),list(scaled))\n",
    "], remainder = 'passthrough')"
   ]
  },
  {
   "cell_type": "code",
   "execution_count": 46,
   "id": "aa4dc066-20bf-4136-aeac-eb2c335a11e5",
   "metadata": {},
   "outputs": [],
   "source": [
    "X_train = ctx.fit_transform(X_train)\n",
    "X_test = ctx.transform(X_test)"
   ]
  },
  {
   "cell_type": "code",
   "execution_count": 47,
   "id": "c2381f4e-9035-43a2-b858-5b47256a42e4",
   "metadata": {},
   "outputs": [],
   "source": [
    "X_train = pd.DataFrame(X_train, columns = ctx.get_feature_names_out())\n",
    "X_test = pd.DataFrame(X_test, columns = ctx.get_feature_names_out())"
   ]
  },
  {
   "cell_type": "code",
   "execution_count": 44,
   "id": "313c5170-878a-4afa-9100-c7c43551675a",
   "metadata": {},
   "outputs": [],
   "source": [
    "#poly = PolynomialFeatures()\n",
    "#X_train = poly.fit_transform(X_train)\n",
    "#X_test = poly.transform(X_test)"
   ]
  },
  {
   "cell_type": "code",
   "execution_count": 45,
   "id": "bb925e69-a332-4cac-8edc-304392b9c403",
   "metadata": {},
   "outputs": [],
   "source": [
    "#X_train = pd.DataFrame(X_train, columns = poly.get_feature_names_out())\n",
    "#X_test = pd.DataFrame(X_test, columns = poly.get_feature_names_out())"
   ]
  },
  {
   "cell_type": "code",
   "execution_count": 48,
   "id": "a9fa03e4-4fb1-4682-ba35-45087c318d15",
   "metadata": {},
   "outputs": [],
   "source": [
    "base = [np.mean(y_train)] * len(y_test)"
   ]
  },
  {
   "cell_type": "code",
   "execution_count": 49,
   "id": "f71091d7-12f7-45c8-8c5c-27dcbacdbd3b",
   "metadata": {},
   "outputs": [
    {
     "data": {
      "text/plain": [
       "0.32840800998061515"
      ]
     },
     "execution_count": 49,
     "metadata": {},
     "output_type": "execute_result"
    }
   ],
   "source": [
    "mean_squared_error(y_test, base, squared = False)"
   ]
  },
  {
   "cell_type": "code",
   "execution_count": 50,
   "id": "224e0aba-2022-4505-b472-ff41ae995c4d",
   "metadata": {},
   "outputs": [
    {
     "data": {
      "text/plain": [
       "(0.32259915131827416, 0.33172463735040186)"
      ]
     },
     "execution_count": 50,
     "metadata": {},
     "output_type": "execute_result"
    }
   ],
   "source": [
    "lr = LinearRegression()\n",
    "lr.fit(X_train, y_train)\n",
    "mean_squared_error(y_train, lr.predict(X_train), squared = False), mean_squared_error(y_test, lr.predict(X_test), squared = False)"
   ]
  },
  {
   "cell_type": "code",
   "execution_count": null,
   "id": "6b66ec67-a753-4a62-99d4-3b370f07be81",
   "metadata": {},
   "outputs": [],
   "source": []
  },
  {
   "cell_type": "code",
   "execution_count": null,
   "id": "f9a866e2-bee8-498b-88c2-cd0bbef4834d",
   "metadata": {},
   "outputs": [],
   "source": [
    "rf = RandomForestRegressor(max_depth = 20, max_leaf_nodes = 50, n_estimators = 100, n_jobs = -1)\n",
    "rf.fit(X_train,y_train)"
   ]
  },
  {
   "cell_type": "code",
   "execution_count": null,
   "id": "cba52426-6f23-474e-85bb-1dd88513a5ff",
   "metadata": {},
   "outputs": [],
   "source": [
    "mean_squared_error(y_train, rf.predict(X_train), squared = False), mean_squared_error(y_test, rf.predict(X_test), squared = False)"
   ]
  },
  {
   "cell_type": "code",
   "execution_count": null,
   "id": "e6fb85fc-e64e-4436-8dd3-4e615b0961f7",
   "metadata": {},
   "outputs": [],
   "source": []
  },
  {
   "cell_type": "code",
   "execution_count": 64,
   "id": "4cd24505-b6e7-42c2-9318-4905c86a2947",
   "metadata": {},
   "outputs": [
    {
     "data": {
      "text/plain": [
       "(528069, 73)"
      ]
     },
     "execution_count": 64,
     "metadata": {},
     "output_type": "execute_result"
    }
   ],
   "source": [
    "X_train.shape"
   ]
  },
  {
   "cell_type": "code",
   "execution_count": 52,
   "id": "9a694f56-6cae-4a02-9137-56bba1ef9245",
   "metadata": {},
   "outputs": [],
   "source": [
    "from tensorflow.keras import backend as K"
   ]
  },
  {
   "cell_type": "code",
   "execution_count": 53,
   "id": "210a5a10-b1c7-4112-b053-17145f9c940b",
   "metadata": {},
   "outputs": [],
   "source": [
    "from tensorflow.keras.callbacks import EarlyStopping"
   ]
  },
  {
   "cell_type": "code",
   "execution_count": 54,
   "id": "d7379426-2fce-43d1-9014-16cfa6133478",
   "metadata": {},
   "outputs": [],
   "source": [
    "K.clear_session()"
   ]
  },
  {
   "cell_type": "markdown",
   "id": "c1f0cc65-14fe-480d-8d1e-51b3f8e7d137",
   "metadata": {
    "jp-MarkdownHeadingCollapsed": true,
    "tags": []
   },
   "source": [
    "#### models"
   ]
  },
  {
   "cell_type": "code",
   "execution_count": 66,
   "id": "cb8e94e9-ed36-44f7-9890-7a2a5c004255",
   "metadata": {},
   "outputs": [
    {
     "name": "stdout",
     "output_type": "stream",
     "text": [
      "Epoch 1/100\n",
      "16503/16503 [==============================] - 42s 2ms/step - loss: 0.3388 - auc: 0.7151 - val_loss: 0.3768 - val_auc: 0.6328\n",
      "Epoch 2/100\n",
      "16503/16503 [==============================] - 40s 2ms/step - loss: 0.3320 - auc: 0.7350 - val_loss: 0.3800 - val_auc: 0.6382\n",
      "Epoch 3/100\n",
      "16503/16503 [==============================] - 39s 2ms/step - loss: 0.3294 - auc: 0.7422 - val_loss: 0.3851 - val_auc: 0.6510\n",
      "Epoch 4/100\n",
      "16503/16503 [==============================] - 40s 2ms/step - loss: 0.3268 - auc: 0.7491 - val_loss: 0.3802 - val_auc: 0.6521\n",
      "Epoch 5/100\n",
      "16503/16503 [==============================] - 40s 2ms/step - loss: 0.3255 - auc: 0.7523 - val_loss: 0.3804 - val_auc: 0.6386\n",
      "Epoch 6/100\n",
      "16503/16503 [==============================] - 41s 2ms/step - loss: 0.3249 - auc: 0.7535 - val_loss: 0.3924 - val_auc: 0.6323\n"
     ]
    },
    {
     "name": "stderr",
     "output_type": "stream",
     "text": [
      "WARNING:absl:Found untraced functions such as _update_step_xla while saving (showing 1 of 1). These functions will not be directly callable after loading.\n"
     ]
    },
    {
     "name": "stdout",
     "output_type": "stream",
     "text": [
      "INFO:tensorflow:Assets written to: cat_1\\assets\n"
     ]
    },
    {
     "name": "stderr",
     "output_type": "stream",
     "text": [
      "INFO:tensorflow:Assets written to: cat_1\\assets\n"
     ]
    },
    {
     "name": "stdout",
     "output_type": "stream",
     "text": [
      "5500/5500 [==============================] - 8s 1ms/step\n"
     ]
    },
    {
     "data": {
      "image/png": "[encoded data removed]",
      "text/plain": [
       "<Figure size 640x480 with 1 Axes>"
      ]
     },
     "metadata": {},
     "output_type": "display_data"
    }
   ],
   "source": [
    "model = Sequential()\n",
    "model.add(Dense(32,activation = 'relu'))\n",
    "model.add(Dense(32,activation = 'relu'))\n",
    "model.add(Dense(32,activation = 'relu'))\n",
    "model.add(Dense(32,activation = 'relu'))\n",
    "model.add(Dense(1,activation = 'sigmoid'))\n",
    "model.compile(loss='binary_crossentropy',optimizer='adam',metrics = ['AUC'])\n",
    "model.fit(X_train,y_train,validation_data=(X_test, y_test), epochs = 100, callbacks = EarlyStopping(patience = 5), batch_size = 32)\n",
    "model.save('cat_1',save_format = 'tf')\n",
    "y_pred = model.predict(X_test)\n",
    "y_pred = [1 if x > 0.5 else 0 for x in y_pred]\n",
    "mean_squared_error(y_test, y_pred, squared = False)\n",
    "plt.scatter(y = y_pred, x = y_test)\n",
    "plt.ylim(0,120)\n",
    "K.clear_session()"
   ]
  },
  {
   "cell_type": "code",
   "execution_count": 67,
   "id": "4a279868-014e-448d-87a0-afc415323f70",
   "metadata": {},
   "outputs": [
    {
     "name": "stdout",
     "output_type": "stream",
     "text": [
      "Epoch 1/100\n",
      "16503/16503 [==============================] - 67s 4ms/step - loss: 0.3400 - auc: 0.7121 - val_loss: 0.3779 - val_auc: 0.6229\n",
      "Epoch 2/100\n",
      "16503/16503 [==============================] - 64s 4ms/step - loss: 0.3337 - auc: 0.7305 - val_loss: 0.4232 - val_auc: 0.5970\n",
      "Epoch 3/100\n",
      "16503/16503 [==============================] - 63s 4ms/step - loss: 0.3310 - auc: 0.7386 - val_loss: 0.3793 - val_auc: 0.6315\n",
      "Epoch 4/100\n",
      "16503/16503 [==============================] - 63s 4ms/step - loss: 0.3290 - auc: 0.7438 - val_loss: 0.4102 - val_auc: 0.6073\n",
      "Epoch 5/100\n",
      "16503/16503 [==============================] - 63s 4ms/step - loss: 0.3280 - auc: 0.7462 - val_loss: 0.4041 - val_auc: 0.6241\n",
      "Epoch 6/100\n",
      "16503/16503 [==============================] - 61s 4ms/step - loss: 0.3270 - auc: 0.7491 - val_loss: 0.4364 - val_auc: 0.6171\n"
     ]
    },
    {
     "name": "stderr",
     "output_type": "stream",
     "text": [
      "WARNING:absl:Found untraced functions such as _update_step_xla while saving (showing 1 of 1). These functions will not be directly callable after loading.\n"
     ]
    },
    {
     "name": "stdout",
     "output_type": "stream",
     "text": [
      "INFO:tensorflow:Assets written to: cat_2\\assets\n"
     ]
    },
    {
     "name": "stderr",
     "output_type": "stream",
     "text": [
      "INFO:tensorflow:Assets written to: cat_2\\assets\n"
     ]
    },
    {
     "name": "stdout",
     "output_type": "stream",
     "text": [
      "5500/5500 [==============================] - 9s 2ms/step\n"
     ]
    },
    {
     "data": {
      "image/png": "[encoded data removed]",
      "text/plain": [
       "<Figure size 640x480 with 1 Axes>"
      ]
     },
     "metadata": {},
     "output_type": "display_data"
    }
   ],
   "source": [
    "model = Sequential()\n",
    "model.add(Dense(1024,activation = 'relu'))\n",
    "model.add(Dropout(0.2))\n",
    "model.add(Dense(32,activation = 'relu'))\n",
    "model.add(Dense(1,activation = 'sigmoid'))\n",
    "model.compile(loss='binary_crossentropy',optimizer='adam',metrics = ['AUC'])\n",
    "model.fit(X_train,y_train,validation_data=(X_test, y_test), epochs = 100, callbacks = EarlyStopping(patience = 5), batch_size = 32)\n",
    "model.save('cat_2',save_format = 'tf')\n",
    "y_pred = model.predict(X_test)\n",
    "y_pred = [1 if x > 0.5 else 0 for x in y_pred]\n",
    "mean_squared_error(y_test, y_pred, squared = False)\n",
    "plt.scatter(y = y_pred, x = y_test)\n",
    "plt.ylim(0,120)\n",
    "K.clear_session()"
   ]
  },
  {
   "cell_type": "markdown",
   "id": "7a2897c1-2465-4302-a6a1-4e5636651a3e",
   "metadata": {},
   "source": [
    "#### more models"
   ]
  },
  {
   "cell_type": "code",
   "execution_count": 55,
   "id": "cecdceb7-b8b7-4eac-a5a2-7f7316d3ce99",
   "metadata": {},
   "outputs": [
    {
     "name": "stdout",
     "output_type": "stream",
     "text": [
      "Epoch 1/100\n",
      " 3182/16503 [====>.........................] - ETA: 6:11 - loss: 0.3639 - auc: 0.6370"
     ]
    },
    {
     "ename": "KeyboardInterrupt",
     "evalue": "",
     "output_type": "error",
     "traceback": [
      "\u001b[1;31m---------------------------------------------------------------------------\u001b[0m",
      "\u001b[1;31mKeyboardInterrupt\u001b[0m                         Traceback (most recent call last)",
      "\u001b[1;32m~\\AppData\\Local\\Temp\\ipykernel_9424\\3327495379.py\u001b[0m in \u001b[0;36m<module>\u001b[1;34m\u001b[0m\n\u001b[0;32m      7\u001b[0m \u001b[0mmodel\u001b[0m\u001b[1;33m.\u001b[0m\u001b[0madd\u001b[0m\u001b[1;33m(\u001b[0m\u001b[0mDense\u001b[0m\u001b[1;33m(\u001b[0m\u001b[1;36m1\u001b[0m\u001b[1;33m,\u001b[0m\u001b[0mactivation\u001b[0m \u001b[1;33m=\u001b[0m \u001b[1;34m'sigmoid'\u001b[0m\u001b[1;33m)\u001b[0m\u001b[1;33m)\u001b[0m\u001b[1;33m\u001b[0m\u001b[1;33m\u001b[0m\u001b[0m\n\u001b[0;32m      8\u001b[0m \u001b[0mmodel\u001b[0m\u001b[1;33m.\u001b[0m\u001b[0mcompile\u001b[0m\u001b[1;33m(\u001b[0m\u001b[0mloss\u001b[0m\u001b[1;33m=\u001b[0m\u001b[1;34m'binary_crossentropy'\u001b[0m\u001b[1;33m,\u001b[0m\u001b[0moptimizer\u001b[0m\u001b[1;33m=\u001b[0m\u001b[1;34m'adam'\u001b[0m\u001b[1;33m,\u001b[0m\u001b[0mmetrics\u001b[0m \u001b[1;33m=\u001b[0m \u001b[1;33m[\u001b[0m\u001b[1;34m'AUC'\u001b[0m\u001b[1;33m]\u001b[0m\u001b[1;33m)\u001b[0m\u001b[1;33m\u001b[0m\u001b[1;33m\u001b[0m\u001b[0m\n\u001b[1;32m----> 9\u001b[1;33m \u001b[0mmodel\u001b[0m\u001b[1;33m.\u001b[0m\u001b[0mfit\u001b[0m\u001b[1;33m(\u001b[0m\u001b[0mX_train\u001b[0m\u001b[1;33m,\u001b[0m\u001b[0my_train\u001b[0m\u001b[1;33m,\u001b[0m\u001b[0mvalidation_data\u001b[0m\u001b[1;33m=\u001b[0m\u001b[1;33m(\u001b[0m\u001b[0mX_test\u001b[0m\u001b[1;33m,\u001b[0m \u001b[0my_test\u001b[0m\u001b[1;33m)\u001b[0m\u001b[1;33m,\u001b[0m \u001b[0mepochs\u001b[0m \u001b[1;33m=\u001b[0m \u001b[1;36m100\u001b[0m\u001b[1;33m,\u001b[0m \u001b[0mcallbacks\u001b[0m \u001b[1;33m=\u001b[0m \u001b[0mEarlyStopping\u001b[0m\u001b[1;33m(\u001b[0m\u001b[0mpatience\u001b[0m \u001b[1;33m=\u001b[0m \u001b[1;36m5\u001b[0m\u001b[1;33m)\u001b[0m\u001b[1;33m,\u001b[0m \u001b[0mbatch_size\u001b[0m \u001b[1;33m=\u001b[0m \u001b[1;36m32\u001b[0m\u001b[1;33m)\u001b[0m\u001b[1;33m\u001b[0m\u001b[1;33m\u001b[0m\u001b[0m\n\u001b[0m\u001b[0;32m     10\u001b[0m \u001b[0mmodel\u001b[0m\u001b[1;33m.\u001b[0m\u001b[0msave\u001b[0m\u001b[1;33m(\u001b[0m\u001b[1;34m'cat_3'\u001b[0m\u001b[1;33m,\u001b[0m\u001b[0msave_format\u001b[0m \u001b[1;33m=\u001b[0m \u001b[1;34m'tf'\u001b[0m\u001b[1;33m)\u001b[0m\u001b[1;33m\u001b[0m\u001b[1;33m\u001b[0m\u001b[0m\n\u001b[0;32m     11\u001b[0m \u001b[0my_pred\u001b[0m \u001b[1;33m=\u001b[0m \u001b[0mmodel\u001b[0m\u001b[1;33m.\u001b[0m\u001b[0mpredict\u001b[0m\u001b[1;33m(\u001b[0m\u001b[0mX_test\u001b[0m\u001b[1;33m)\u001b[0m\u001b[1;33m\u001b[0m\u001b[1;33m\u001b[0m\u001b[0m\n",
      "\u001b[1;32m~\\anaconda3\\lib\\site-packages\\keras\\utils\\traceback_utils.py\u001b[0m in \u001b[0;36merror_handler\u001b[1;34m(*args, **kwargs)\u001b[0m\n\u001b[0;32m     63\u001b[0m         \u001b[0mfiltered_tb\u001b[0m \u001b[1;33m=\u001b[0m \u001b[1;32mNone\u001b[0m\u001b[1;33m\u001b[0m\u001b[1;33m\u001b[0m\u001b[0m\n\u001b[0;32m     64\u001b[0m         \u001b[1;32mtry\u001b[0m\u001b[1;33m:\u001b[0m\u001b[1;33m\u001b[0m\u001b[1;33m\u001b[0m\u001b[0m\n\u001b[1;32m---> 65\u001b[1;33m             \u001b[1;32mreturn\u001b[0m \u001b[0mfn\u001b[0m\u001b[1;33m(\u001b[0m\u001b[1;33m*\u001b[0m\u001b[0margs\u001b[0m\u001b[1;33m,\u001b[0m \u001b[1;33m**\u001b[0m\u001b[0mkwargs\u001b[0m\u001b[1;33m)\u001b[0m\u001b[1;33m\u001b[0m\u001b[1;33m\u001b[0m\u001b[0m\n\u001b[0m\u001b[0;32m     66\u001b[0m         \u001b[1;32mexcept\u001b[0m \u001b[0mException\u001b[0m \u001b[1;32mas\u001b[0m \u001b[0me\u001b[0m\u001b[1;33m:\u001b[0m\u001b[1;33m\u001b[0m\u001b[1;33m\u001b[0m\u001b[0m\n\u001b[0;32m     67\u001b[0m             \u001b[0mfiltered_tb\u001b[0m \u001b[1;33m=\u001b[0m \u001b[0m_process_traceback_frames\u001b[0m\u001b[1;33m(\u001b[0m\u001b[0me\u001b[0m\u001b[1;33m.\u001b[0m\u001b[0m__traceback__\u001b[0m\u001b[1;33m)\u001b[0m\u001b[1;33m\u001b[0m\u001b[1;33m\u001b[0m\u001b[0m\n",
      "\u001b[1;32m~\\anaconda3\\lib\\site-packages\\keras\\engine\\training.py\u001b[0m in \u001b[0;36mfit\u001b[1;34m(self, x, y, batch_size, epochs, verbose, callbacks, validation_split, validation_data, shuffle, class_weight, sample_weight, initial_epoch, steps_per_epoch, validation_steps, validation_batch_size, validation_freq, max_queue_size, workers, use_multiprocessing)\u001b[0m\n\u001b[0;32m   1683\u001b[0m                         ):\n\u001b[0;32m   1684\u001b[0m                             \u001b[0mcallbacks\u001b[0m\u001b[1;33m.\u001b[0m\u001b[0mon_train_batch_begin\u001b[0m\u001b[1;33m(\u001b[0m\u001b[0mstep\u001b[0m\u001b[1;33m)\u001b[0m\u001b[1;33m\u001b[0m\u001b[1;33m\u001b[0m\u001b[0m\n\u001b[1;32m-> 1685\u001b[1;33m                             \u001b[0mtmp_logs\u001b[0m \u001b[1;33m=\u001b[0m \u001b[0mself\u001b[0m\u001b[1;33m.\u001b[0m\u001b[0mtrain_function\u001b[0m\u001b[1;33m(\u001b[0m\u001b[0miterator\u001b[0m\u001b[1;33m)\u001b[0m\u001b[1;33m\u001b[0m\u001b[1;33m\u001b[0m\u001b[0m\n\u001b[0m\u001b[0;32m   1686\u001b[0m                             \u001b[1;32mif\u001b[0m \u001b[0mdata_handler\u001b[0m\u001b[1;33m.\u001b[0m\u001b[0mshould_sync\u001b[0m\u001b[1;33m:\u001b[0m\u001b[1;33m\u001b[0m\u001b[1;33m\u001b[0m\u001b[0m\n\u001b[0;32m   1687\u001b[0m                                 \u001b[0mcontext\u001b[0m\u001b[1;33m.\u001b[0m\u001b[0masync_wait\u001b[0m\u001b[1;33m(\u001b[0m\u001b[1;33m)\u001b[0m\u001b[1;33m\u001b[0m\u001b[1;33m\u001b[0m\u001b[0m\n",
      "\u001b[1;32m~\\anaconda3\\lib\\site-packages\\tensorflow\\python\\util\\traceback_utils.py\u001b[0m in \u001b[0;36merror_handler\u001b[1;34m(*args, **kwargs)\u001b[0m\n\u001b[0;32m    148\u001b[0m     \u001b[0mfiltered_tb\u001b[0m \u001b[1;33m=\u001b[0m \u001b[1;32mNone\u001b[0m\u001b[1;33m\u001b[0m\u001b[1;33m\u001b[0m\u001b[0m\n\u001b[0;32m    149\u001b[0m     \u001b[1;32mtry\u001b[0m\u001b[1;33m:\u001b[0m\u001b[1;33m\u001b[0m\u001b[1;33m\u001b[0m\u001b[0m\n\u001b[1;32m--> 150\u001b[1;33m       \u001b[1;32mreturn\u001b[0m \u001b[0mfn\u001b[0m\u001b[1;33m(\u001b[0m\u001b[1;33m*\u001b[0m\u001b[0margs\u001b[0m\u001b[1;33m,\u001b[0m \u001b[1;33m**\u001b[0m\u001b[0mkwargs\u001b[0m\u001b[1;33m)\u001b[0m\u001b[1;33m\u001b[0m\u001b[1;33m\u001b[0m\u001b[0m\n\u001b[0m\u001b[0;32m    151\u001b[0m     \u001b[1;32mexcept\u001b[0m \u001b[0mException\u001b[0m \u001b[1;32mas\u001b[0m \u001b[0me\u001b[0m\u001b[1;33m:\u001b[0m\u001b[1;33m\u001b[0m\u001b[1;33m\u001b[0m\u001b[0m\n\u001b[0;32m    152\u001b[0m       \u001b[0mfiltered_tb\u001b[0m \u001b[1;33m=\u001b[0m \u001b[0m_process_traceback_frames\u001b[0m\u001b[1;33m(\u001b[0m\u001b[0me\u001b[0m\u001b[1;33m.\u001b[0m\u001b[0m__traceback__\u001b[0m\u001b[1;33m)\u001b[0m\u001b[1;33m\u001b[0m\u001b[1;33m\u001b[0m\u001b[0m\n",
      "\u001b[1;32m~\\anaconda3\\lib\\site-packages\\tensorflow\\python\\eager\\polymorphic_function\\polymorphic_function.py\u001b[0m in \u001b[0;36m__call__\u001b[1;34m(self, *args, **kwds)\u001b[0m\n\u001b[0;32m    892\u001b[0m \u001b[1;33m\u001b[0m\u001b[0m\n\u001b[0;32m    893\u001b[0m       \u001b[1;32mwith\u001b[0m \u001b[0mOptionalXlaContext\u001b[0m\u001b[1;33m(\u001b[0m\u001b[0mself\u001b[0m\u001b[1;33m.\u001b[0m\u001b[0m_jit_compile\u001b[0m\u001b[1;33m)\u001b[0m\u001b[1;33m:\u001b[0m\u001b[1;33m\u001b[0m\u001b[1;33m\u001b[0m\u001b[0m\n\u001b[1;32m--> 894\u001b[1;33m         \u001b[0mresult\u001b[0m \u001b[1;33m=\u001b[0m \u001b[0mself\u001b[0m\u001b[1;33m.\u001b[0m\u001b[0m_call\u001b[0m\u001b[1;33m(\u001b[0m\u001b[1;33m*\u001b[0m\u001b[0margs\u001b[0m\u001b[1;33m,\u001b[0m \u001b[1;33m**\u001b[0m\u001b[0mkwds\u001b[0m\u001b[1;33m)\u001b[0m\u001b[1;33m\u001b[0m\u001b[1;33m\u001b[0m\u001b[0m\n\u001b[0m\u001b[0;32m    895\u001b[0m \u001b[1;33m\u001b[0m\u001b[0m\n\u001b[0;32m    896\u001b[0m       \u001b[0mnew_tracing_count\u001b[0m \u001b[1;33m=\u001b[0m \u001b[0mself\u001b[0m\u001b[1;33m.\u001b[0m\u001b[0mexperimental_get_tracing_count\u001b[0m\u001b[1;33m(\u001b[0m\u001b[1;33m)\u001b[0m\u001b[1;33m\u001b[0m\u001b[1;33m\u001b[0m\u001b[0m\n",
      "\u001b[1;32m~\\anaconda3\\lib\\site-packages\\tensorflow\\python\\eager\\polymorphic_function\\polymorphic_function.py\u001b[0m in \u001b[0;36m_call\u001b[1;34m(self, *args, **kwds)\u001b[0m\n\u001b[0;32m    924\u001b[0m       \u001b[1;31m# In this case we have created variables on the first call, so we run the\u001b[0m\u001b[1;33m\u001b[0m\u001b[1;33m\u001b[0m\u001b[0m\n\u001b[0;32m    925\u001b[0m       \u001b[1;31m# defunned version which is guaranteed to never create variables.\u001b[0m\u001b[1;33m\u001b[0m\u001b[1;33m\u001b[0m\u001b[0m\n\u001b[1;32m--> 926\u001b[1;33m       \u001b[1;32mreturn\u001b[0m \u001b[0mself\u001b[0m\u001b[1;33m.\u001b[0m\u001b[0m_no_variable_creation_fn\u001b[0m\u001b[1;33m(\u001b[0m\u001b[1;33m*\u001b[0m\u001b[0margs\u001b[0m\u001b[1;33m,\u001b[0m \u001b[1;33m**\u001b[0m\u001b[0mkwds\u001b[0m\u001b[1;33m)\u001b[0m  \u001b[1;31m# pylint: disable=not-callable\u001b[0m\u001b[1;33m\u001b[0m\u001b[1;33m\u001b[0m\u001b[0m\n\u001b[0m\u001b[0;32m    927\u001b[0m     \u001b[1;32melif\u001b[0m \u001b[0mself\u001b[0m\u001b[1;33m.\u001b[0m\u001b[0m_variable_creation_fn\u001b[0m \u001b[1;32mis\u001b[0m \u001b[1;32mnot\u001b[0m \u001b[1;32mNone\u001b[0m\u001b[1;33m:\u001b[0m\u001b[1;33m\u001b[0m\u001b[1;33m\u001b[0m\u001b[0m\n\u001b[0;32m    928\u001b[0m       \u001b[1;31m# Release the lock early so that multiple threads can perform the call\u001b[0m\u001b[1;33m\u001b[0m\u001b[1;33m\u001b[0m\u001b[0m\n",
      "\u001b[1;32m~\\anaconda3\\lib\\site-packages\\tensorflow\\python\\eager\\polymorphic_function\\tracing_compiler.py\u001b[0m in \u001b[0;36m__call__\u001b[1;34m(self, *args, **kwargs)\u001b[0m\n\u001b[0;32m    141\u001b[0m       (concrete_function,\n\u001b[0;32m    142\u001b[0m        filtered_flat_args) = self._maybe_define_function(args, kwargs)\n\u001b[1;32m--> 143\u001b[1;33m     return concrete_function._call_flat(\n\u001b[0m\u001b[0;32m    144\u001b[0m         filtered_flat_args, captured_inputs=concrete_function.captured_inputs)  # pylint: disable=protected-access\n\u001b[0;32m    145\u001b[0m \u001b[1;33m\u001b[0m\u001b[0m\n",
      "\u001b[1;32m~\\anaconda3\\lib\\site-packages\\tensorflow\\python\\eager\\polymorphic_function\\monomorphic_function.py\u001b[0m in \u001b[0;36m_call_flat\u001b[1;34m(self, args, captured_inputs, cancellation_manager)\u001b[0m\n\u001b[0;32m   1755\u001b[0m         and executing_eagerly):\n\u001b[0;32m   1756\u001b[0m       \u001b[1;31m# No tape is watching; skip to running the function.\u001b[0m\u001b[1;33m\u001b[0m\u001b[1;33m\u001b[0m\u001b[0m\n\u001b[1;32m-> 1757\u001b[1;33m       return self._build_call_outputs(self._inference_function.call(\n\u001b[0m\u001b[0;32m   1758\u001b[0m           ctx, args, cancellation_manager=cancellation_manager))\n\u001b[0;32m   1759\u001b[0m     forward_backward = self._select_forward_and_backward_functions(\n",
      "\u001b[1;32m~\\anaconda3\\lib\\site-packages\\tensorflow\\python\\eager\\polymorphic_function\\monomorphic_function.py\u001b[0m in \u001b[0;36mcall\u001b[1;34m(self, ctx, args, cancellation_manager)\u001b[0m\n\u001b[0;32m    379\u001b[0m       \u001b[1;32mwith\u001b[0m \u001b[0m_InterpolateFunctionError\u001b[0m\u001b[1;33m(\u001b[0m\u001b[0mself\u001b[0m\u001b[1;33m)\u001b[0m\u001b[1;33m:\u001b[0m\u001b[1;33m\u001b[0m\u001b[1;33m\u001b[0m\u001b[0m\n\u001b[0;32m    380\u001b[0m         \u001b[1;32mif\u001b[0m \u001b[0mcancellation_manager\u001b[0m \u001b[1;32mis\u001b[0m \u001b[1;32mNone\u001b[0m\u001b[1;33m:\u001b[0m\u001b[1;33m\u001b[0m\u001b[1;33m\u001b[0m\u001b[0m\n\u001b[1;32m--> 381\u001b[1;33m           outputs = execute.execute(\n\u001b[0m\u001b[0;32m    382\u001b[0m               \u001b[0mstr\u001b[0m\u001b[1;33m(\u001b[0m\u001b[0mself\u001b[0m\u001b[1;33m.\u001b[0m\u001b[0msignature\u001b[0m\u001b[1;33m.\u001b[0m\u001b[0mname\u001b[0m\u001b[1;33m)\u001b[0m\u001b[1;33m,\u001b[0m\u001b[1;33m\u001b[0m\u001b[1;33m\u001b[0m\u001b[0m\n\u001b[0;32m    383\u001b[0m               \u001b[0mnum_outputs\u001b[0m\u001b[1;33m=\u001b[0m\u001b[0mself\u001b[0m\u001b[1;33m.\u001b[0m\u001b[0m_num_outputs\u001b[0m\u001b[1;33m,\u001b[0m\u001b[1;33m\u001b[0m\u001b[1;33m\u001b[0m\u001b[0m\n",
      "\u001b[1;32m~\\anaconda3\\lib\\site-packages\\tensorflow\\python\\eager\\execute.py\u001b[0m in \u001b[0;36mquick_execute\u001b[1;34m(op_name, num_outputs, inputs, attrs, ctx, name)\u001b[0m\n\u001b[0;32m     50\u001b[0m   \u001b[1;32mtry\u001b[0m\u001b[1;33m:\u001b[0m\u001b[1;33m\u001b[0m\u001b[1;33m\u001b[0m\u001b[0m\n\u001b[0;32m     51\u001b[0m     \u001b[0mctx\u001b[0m\u001b[1;33m.\u001b[0m\u001b[0mensure_initialized\u001b[0m\u001b[1;33m(\u001b[0m\u001b[1;33m)\u001b[0m\u001b[1;33m\u001b[0m\u001b[1;33m\u001b[0m\u001b[0m\n\u001b[1;32m---> 52\u001b[1;33m     tensors = pywrap_tfe.TFE_Py_Execute(ctx._handle, device_name, op_name,\n\u001b[0m\u001b[0;32m     53\u001b[0m                                         inputs, attrs, num_outputs)\n\u001b[0;32m     54\u001b[0m   \u001b[1;32mexcept\u001b[0m \u001b[0mcore\u001b[0m\u001b[1;33m.\u001b[0m\u001b[0m_NotOkStatusException\u001b[0m \u001b[1;32mas\u001b[0m \u001b[0me\u001b[0m\u001b[1;33m:\u001b[0m\u001b[1;33m\u001b[0m\u001b[1;33m\u001b[0m\u001b[0m\n",
      "\u001b[1;31mKeyboardInterrupt\u001b[0m: "
     ]
    }
   ],
   "source": [
    "model = Sequential()\n",
    "model.add(Dense(1024,activation = 'relu'))\n",
    "model.add(Dropout(0.8))\n",
    "model.add(Dense(1024,activation = 'relu'))\n",
    "model.add(Dropout(0.8))\n",
    "model.add(Dense(32,activation = 'relu'))\n",
    "model.add(Dense(1,activation = 'sigmoid'))\n",
    "model.compile(loss='binary_crossentropy',optimizer='adam',metrics = ['AUC'])\n",
    "model.fit(X_train,y_train,validation_data=(X_test, y_test), epochs = 100, callbacks = EarlyStopping(patience = 5), batch_size = 32)\n",
    "model.save('cat_3',save_format = 'tf')\n",
    "y_pred = model.predict(X_test)\n",
    "y_pred = [1 if x > 0.5 else 0 for x in y_pred]\n",
    "roc_auc_score(y_test, y_pred)\n",
    "K.clear_session()"
   ]
  },
  {
   "cell_type": "code",
   "execution_count": null,
   "id": "f59c60f3-9a8d-4fca-b24d-2b809a92549b",
   "metadata": {},
   "outputs": [],
   "source": [
    "model = Sequential()\n",
    "model.add(Dense(1024,activation = 'relu'))\n",
    "model.add(Dropout(0.8))\n",
    "model.add(Dense(1024,activation = 'relu'))\n",
    "model.add(Dropout(0.8))\n",
    "model.add(Dense(32,activation = 'relu'))\n",
    "model.add(Dense(32,activation = 'relu'))\n",
    "model.add(Dense(32,activation = 'relu'))\n",
    "\n",
    "model.add(Dense(1,activation = 'sigmoid'))\n",
    "model.compile(loss='binary_crossentropy',optimizer='adam',metrics = ['AUC'])\n",
    "model.fit(X_train,y_train,validation_data=(X_test, y_test), epochs = 100, callbacks = EarlyStopping(patience = 5), batch_size = 32)\n",
    "model.save('cat_4',save_format = 'tf')\n",
    "y_pred = model.predict(X_test)\n",
    "y_pred = [1 if x > 0.5 else 0 for x in y_pred]\n",
    "mean_squared_error(y_test, y_pred, squared = False)\n",
    "plt.scatter(y = y_pred, x = y_test)\n",
    "plt.ylim(0,120)\n",
    "K.clear_session()"
   ]
  },
  {
   "cell_type": "code",
   "execution_count": null,
   "id": "edf0eb6f-9399-485f-893a-e79abb9037af",
   "metadata": {},
   "outputs": [],
   "source": []
  },
  {
   "cell_type": "code",
   "execution_count": null,
   "id": "46a912f9-15a7-45e7-9767-6ec5dccdb341",
   "metadata": {},
   "outputs": [],
   "source": []
  },
  {
   "cell_type": "code",
   "execution_count": 63,
   "id": "f478bb53-5ad7-4df3-86d8-d1b54025c168",
   "metadata": {},
   "outputs": [
    {
     "name": "stdout",
     "output_type": "stream",
     "text": [
      "Epoch 1/100\n",
      "516/516 [==============================] - 39s 72ms/step - loss: 0.3577 - auc: 0.6579 - val_loss: 0.4258 - val_auc: 0.5517\n",
      "Epoch 2/100\n",
      "516/516 [==============================] - 36s 70ms/step - loss: 0.3458 - auc: 0.6941 - val_loss: 0.4156 - val_auc: 0.5693\n",
      "Epoch 3/100\n",
      "163/516 [========>.....................] - ETA: 23s - loss: 0.3440 - auc: 0.7015"
     ]
    },
    {
     "ename": "KeyboardInterrupt",
     "evalue": "",
     "output_type": "error",
     "traceback": [
      "\u001b[1;31m---------------------------------------------------------------------------\u001b[0m",
      "\u001b[1;31mKeyboardInterrupt\u001b[0m                         Traceback (most recent call last)",
      "\u001b[1;32m~\\AppData\\Local\\Temp\\ipykernel_9796\\669672573.py\u001b[0m in \u001b[0;36m<module>\u001b[1;34m\u001b[0m\n\u001b[0;32m      7\u001b[0m \u001b[0mmodel\u001b[0m\u001b[1;33m.\u001b[0m\u001b[0madd\u001b[0m\u001b[1;33m(\u001b[0m\u001b[0mDense\u001b[0m\u001b[1;33m(\u001b[0m\u001b[1;36m1\u001b[0m\u001b[1;33m,\u001b[0m\u001b[0mactivation\u001b[0m \u001b[1;33m=\u001b[0m \u001b[1;34m'sigmoid'\u001b[0m\u001b[1;33m)\u001b[0m\u001b[1;33m)\u001b[0m\u001b[1;33m\u001b[0m\u001b[1;33m\u001b[0m\u001b[0m\n\u001b[0;32m      8\u001b[0m \u001b[0mmodel\u001b[0m\u001b[1;33m.\u001b[0m\u001b[0mcompile\u001b[0m\u001b[1;33m(\u001b[0m\u001b[0mloss\u001b[0m\u001b[1;33m=\u001b[0m\u001b[1;34m'binary_crossentropy'\u001b[0m\u001b[1;33m,\u001b[0m\u001b[0moptimizer\u001b[0m\u001b[1;33m=\u001b[0m\u001b[1;34m'adam'\u001b[0m\u001b[1;33m,\u001b[0m\u001b[0mmetrics\u001b[0m \u001b[1;33m=\u001b[0m \u001b[1;33m[\u001b[0m\u001b[1;34m'AUC'\u001b[0m\u001b[1;33m]\u001b[0m\u001b[1;33m)\u001b[0m\u001b[1;33m\u001b[0m\u001b[1;33m\u001b[0m\u001b[0m\n\u001b[1;32m----> 9\u001b[1;33m \u001b[0mmodel\u001b[0m\u001b[1;33m.\u001b[0m\u001b[0mfit\u001b[0m\u001b[1;33m(\u001b[0m\u001b[0mX_train\u001b[0m\u001b[1;33m,\u001b[0m\u001b[0my_train\u001b[0m\u001b[1;33m,\u001b[0m\u001b[0mvalidation_data\u001b[0m\u001b[1;33m=\u001b[0m\u001b[1;33m(\u001b[0m\u001b[0mX_test\u001b[0m\u001b[1;33m,\u001b[0m \u001b[0my_test\u001b[0m\u001b[1;33m)\u001b[0m\u001b[1;33m,\u001b[0m \u001b[0mepochs\u001b[0m \u001b[1;33m=\u001b[0m \u001b[1;36m100\u001b[0m\u001b[1;33m,\u001b[0m \u001b[0mcallbacks\u001b[0m \u001b[1;33m=\u001b[0m \u001b[0mEarlyStopping\u001b[0m\u001b[1;33m(\u001b[0m\u001b[0mpatience\u001b[0m \u001b[1;33m=\u001b[0m \u001b[1;36m5\u001b[0m\u001b[1;33m)\u001b[0m\u001b[1;33m,\u001b[0m \u001b[0mbatch_size\u001b[0m \u001b[1;33m=\u001b[0m \u001b[1;36m1024\u001b[0m\u001b[1;33m)\u001b[0m\u001b[1;33m\u001b[0m\u001b[1;33m\u001b[0m\u001b[0m\n\u001b[0m\u001b[0;32m     10\u001b[0m \u001b[0mmodel\u001b[0m\u001b[1;33m.\u001b[0m\u001b[0msave\u001b[0m\u001b[1;33m(\u001b[0m\u001b[1;34m'cat_1'\u001b[0m\u001b[1;33m,\u001b[0m\u001b[0msave_format\u001b[0m \u001b[1;33m=\u001b[0m \u001b[1;34m'tf'\u001b[0m\u001b[1;33m)\u001b[0m\u001b[1;33m\u001b[0m\u001b[1;33m\u001b[0m\u001b[0m\n\u001b[0;32m     11\u001b[0m \u001b[0my_pred\u001b[0m \u001b[1;33m=\u001b[0m \u001b[0mmodel\u001b[0m\u001b[1;33m.\u001b[0m\u001b[0mpredict\u001b[0m\u001b[1;33m(\u001b[0m\u001b[0mX_test\u001b[0m\u001b[1;33m)\u001b[0m\u001b[1;33m\u001b[0m\u001b[1;33m\u001b[0m\u001b[0m\n",
      "\u001b[1;32m~\\anaconda3\\lib\\site-packages\\keras\\utils\\traceback_utils.py\u001b[0m in \u001b[0;36merror_handler\u001b[1;34m(*args, **kwargs)\u001b[0m\n\u001b[0;32m     63\u001b[0m         \u001b[0mfiltered_tb\u001b[0m \u001b[1;33m=\u001b[0m \u001b[1;32mNone\u001b[0m\u001b[1;33m\u001b[0m\u001b[1;33m\u001b[0m\u001b[0m\n\u001b[0;32m     64\u001b[0m         \u001b[1;32mtry\u001b[0m\u001b[1;33m:\u001b[0m\u001b[1;33m\u001b[0m\u001b[1;33m\u001b[0m\u001b[0m\n\u001b[1;32m---> 65\u001b[1;33m             \u001b[1;32mreturn\u001b[0m \u001b[0mfn\u001b[0m\u001b[1;33m(\u001b[0m\u001b[1;33m*\u001b[0m\u001b[0margs\u001b[0m\u001b[1;33m,\u001b[0m \u001b[1;33m**\u001b[0m\u001b[0mkwargs\u001b[0m\u001b[1;33m)\u001b[0m\u001b[1;33m\u001b[0m\u001b[1;33m\u001b[0m\u001b[0m\n\u001b[0m\u001b[0;32m     66\u001b[0m         \u001b[1;32mexcept\u001b[0m \u001b[0mException\u001b[0m \u001b[1;32mas\u001b[0m \u001b[0me\u001b[0m\u001b[1;33m:\u001b[0m\u001b[1;33m\u001b[0m\u001b[1;33m\u001b[0m\u001b[0m\n\u001b[0;32m     67\u001b[0m             \u001b[0mfiltered_tb\u001b[0m \u001b[1;33m=\u001b[0m \u001b[0m_process_traceback_frames\u001b[0m\u001b[1;33m(\u001b[0m\u001b[0me\u001b[0m\u001b[1;33m.\u001b[0m\u001b[0m__traceback__\u001b[0m\u001b[1;33m)\u001b[0m\u001b[1;33m\u001b[0m\u001b[1;33m\u001b[0m\u001b[0m\n",
      "\u001b[1;32m~\\anaconda3\\lib\\site-packages\\keras\\engine\\training.py\u001b[0m in \u001b[0;36mfit\u001b[1;34m(self, x, y, batch_size, epochs, verbose, callbacks, validation_split, validation_data, shuffle, class_weight, sample_weight, initial_epoch, steps_per_epoch, validation_steps, validation_batch_size, validation_freq, max_queue_size, workers, use_multiprocessing)\u001b[0m\n\u001b[0;32m   1683\u001b[0m                         ):\n\u001b[0;32m   1684\u001b[0m                             \u001b[0mcallbacks\u001b[0m\u001b[1;33m.\u001b[0m\u001b[0mon_train_batch_begin\u001b[0m\u001b[1;33m(\u001b[0m\u001b[0mstep\u001b[0m\u001b[1;33m)\u001b[0m\u001b[1;33m\u001b[0m\u001b[1;33m\u001b[0m\u001b[0m\n\u001b[1;32m-> 1685\u001b[1;33m                             \u001b[0mtmp_logs\u001b[0m \u001b[1;33m=\u001b[0m \u001b[0mself\u001b[0m\u001b[1;33m.\u001b[0m\u001b[0mtrain_function\u001b[0m\u001b[1;33m(\u001b[0m\u001b[0miterator\u001b[0m\u001b[1;33m)\u001b[0m\u001b[1;33m\u001b[0m\u001b[1;33m\u001b[0m\u001b[0m\n\u001b[0m\u001b[0;32m   1686\u001b[0m                             \u001b[1;32mif\u001b[0m \u001b[0mdata_handler\u001b[0m\u001b[1;33m.\u001b[0m\u001b[0mshould_sync\u001b[0m\u001b[1;33m:\u001b[0m\u001b[1;33m\u001b[0m\u001b[1;33m\u001b[0m\u001b[0m\n\u001b[0;32m   1687\u001b[0m                                 \u001b[0mcontext\u001b[0m\u001b[1;33m.\u001b[0m\u001b[0masync_wait\u001b[0m\u001b[1;33m(\u001b[0m\u001b[1;33m)\u001b[0m\u001b[1;33m\u001b[0m\u001b[1;33m\u001b[0m\u001b[0m\n",
      "\u001b[1;32m~\\anaconda3\\lib\\site-packages\\tensorflow\\python\\util\\traceback_utils.py\u001b[0m in \u001b[0;36merror_handler\u001b[1;34m(*args, **kwargs)\u001b[0m\n\u001b[0;32m    148\u001b[0m     \u001b[0mfiltered_tb\u001b[0m \u001b[1;33m=\u001b[0m \u001b[1;32mNone\u001b[0m\u001b[1;33m\u001b[0m\u001b[1;33m\u001b[0m\u001b[0m\n\u001b[0;32m    149\u001b[0m     \u001b[1;32mtry\u001b[0m\u001b[1;33m:\u001b[0m\u001b[1;33m\u001b[0m\u001b[1;33m\u001b[0m\u001b[0m\n\u001b[1;32m--> 150\u001b[1;33m       \u001b[1;32mreturn\u001b[0m \u001b[0mfn\u001b[0m\u001b[1;33m(\u001b[0m\u001b[1;33m*\u001b[0m\u001b[0margs\u001b[0m\u001b[1;33m,\u001b[0m \u001b[1;33m**\u001b[0m\u001b[0mkwargs\u001b[0m\u001b[1;33m)\u001b[0m\u001b[1;33m\u001b[0m\u001b[1;33m\u001b[0m\u001b[0m\n\u001b[0m\u001b[0;32m    151\u001b[0m     \u001b[1;32mexcept\u001b[0m \u001b[0mException\u001b[0m \u001b[1;32mas\u001b[0m \u001b[0me\u001b[0m\u001b[1;33m:\u001b[0m\u001b[1;33m\u001b[0m\u001b[1;33m\u001b[0m\u001b[0m\n\u001b[0;32m    152\u001b[0m       \u001b[0mfiltered_tb\u001b[0m \u001b[1;33m=\u001b[0m \u001b[0m_process_traceback_frames\u001b[0m\u001b[1;33m(\u001b[0m\u001b[0me\u001b[0m\u001b[1;33m.\u001b[0m\u001b[0m__traceback__\u001b[0m\u001b[1;33m)\u001b[0m\u001b[1;33m\u001b[0m\u001b[1;33m\u001b[0m\u001b[0m\n",
      "\u001b[1;32m~\\anaconda3\\lib\\site-packages\\tensorflow\\python\\eager\\polymorphic_function\\polymorphic_function.py\u001b[0m in \u001b[0;36m__call__\u001b[1;34m(self, *args, **kwds)\u001b[0m\n\u001b[0;32m    892\u001b[0m \u001b[1;33m\u001b[0m\u001b[0m\n\u001b[0;32m    893\u001b[0m       \u001b[1;32mwith\u001b[0m \u001b[0mOptionalXlaContext\u001b[0m\u001b[1;33m(\u001b[0m\u001b[0mself\u001b[0m\u001b[1;33m.\u001b[0m\u001b[0m_jit_compile\u001b[0m\u001b[1;33m)\u001b[0m\u001b[1;33m:\u001b[0m\u001b[1;33m\u001b[0m\u001b[1;33m\u001b[0m\u001b[0m\n\u001b[1;32m--> 894\u001b[1;33m         \u001b[0mresult\u001b[0m \u001b[1;33m=\u001b[0m \u001b[0mself\u001b[0m\u001b[1;33m.\u001b[0m\u001b[0m_call\u001b[0m\u001b[1;33m(\u001b[0m\u001b[1;33m*\u001b[0m\u001b[0margs\u001b[0m\u001b[1;33m,\u001b[0m \u001b[1;33m**\u001b[0m\u001b[0mkwds\u001b[0m\u001b[1;33m)\u001b[0m\u001b[1;33m\u001b[0m\u001b[1;33m\u001b[0m\u001b[0m\n\u001b[0m\u001b[0;32m    895\u001b[0m \u001b[1;33m\u001b[0m\u001b[0m\n\u001b[0;32m    896\u001b[0m       \u001b[0mnew_tracing_count\u001b[0m \u001b[1;33m=\u001b[0m \u001b[0mself\u001b[0m\u001b[1;33m.\u001b[0m\u001b[0mexperimental_get_tracing_count\u001b[0m\u001b[1;33m(\u001b[0m\u001b[1;33m)\u001b[0m\u001b[1;33m\u001b[0m\u001b[1;33m\u001b[0m\u001b[0m\n",
      "\u001b[1;32m~\\anaconda3\\lib\\site-packages\\tensorflow\\python\\eager\\polymorphic_function\\polymorphic_function.py\u001b[0m in \u001b[0;36m_call\u001b[1;34m(self, *args, **kwds)\u001b[0m\n\u001b[0;32m    924\u001b[0m       \u001b[1;31m# In this case we have created variables on the first call, so we run the\u001b[0m\u001b[1;33m\u001b[0m\u001b[1;33m\u001b[0m\u001b[0m\n\u001b[0;32m    925\u001b[0m       \u001b[1;31m# defunned version which is guaranteed to never create variables.\u001b[0m\u001b[1;33m\u001b[0m\u001b[1;33m\u001b[0m\u001b[0m\n\u001b[1;32m--> 926\u001b[1;33m       \u001b[1;32mreturn\u001b[0m \u001b[0mself\u001b[0m\u001b[1;33m.\u001b[0m\u001b[0m_no_variable_creation_fn\u001b[0m\u001b[1;33m(\u001b[0m\u001b[1;33m*\u001b[0m\u001b[0margs\u001b[0m\u001b[1;33m,\u001b[0m \u001b[1;33m**\u001b[0m\u001b[0mkwds\u001b[0m\u001b[1;33m)\u001b[0m  \u001b[1;31m# pylint: disable=not-callable\u001b[0m\u001b[1;33m\u001b[0m\u001b[1;33m\u001b[0m\u001b[0m\n\u001b[0m\u001b[0;32m    927\u001b[0m     \u001b[1;32melif\u001b[0m \u001b[0mself\u001b[0m\u001b[1;33m.\u001b[0m\u001b[0m_variable_creation_fn\u001b[0m \u001b[1;32mis\u001b[0m \u001b[1;32mnot\u001b[0m \u001b[1;32mNone\u001b[0m\u001b[1;33m:\u001b[0m\u001b[1;33m\u001b[0m\u001b[1;33m\u001b[0m\u001b[0m\n\u001b[0;32m    928\u001b[0m       \u001b[1;31m# Release the lock early so that multiple threads can perform the call\u001b[0m\u001b[1;33m\u001b[0m\u001b[1;33m\u001b[0m\u001b[0m\n",
      "\u001b[1;32m~\\anaconda3\\lib\\site-packages\\tensorflow\\python\\eager\\polymorphic_function\\tracing_compiler.py\u001b[0m in \u001b[0;36m__call__\u001b[1;34m(self, *args, **kwargs)\u001b[0m\n\u001b[0;32m    141\u001b[0m       (concrete_function,\n\u001b[0;32m    142\u001b[0m        filtered_flat_args) = self._maybe_define_function(args, kwargs)\n\u001b[1;32m--> 143\u001b[1;33m     return concrete_function._call_flat(\n\u001b[0m\u001b[0;32m    144\u001b[0m         filtered_flat_args, captured_inputs=concrete_function.captured_inputs)  # pylint: disable=protected-access\n\u001b[0;32m    145\u001b[0m \u001b[1;33m\u001b[0m\u001b[0m\n",
      "\u001b[1;32m~\\anaconda3\\lib\\site-packages\\tensorflow\\python\\eager\\polymorphic_function\\monomorphic_function.py\u001b[0m in \u001b[0;36m_call_flat\u001b[1;34m(self, args, captured_inputs, cancellation_manager)\u001b[0m\n\u001b[0;32m   1755\u001b[0m         and executing_eagerly):\n\u001b[0;32m   1756\u001b[0m       \u001b[1;31m# No tape is watching; skip to running the function.\u001b[0m\u001b[1;33m\u001b[0m\u001b[1;33m\u001b[0m\u001b[0m\n\u001b[1;32m-> 1757\u001b[1;33m       return self._build_call_outputs(self._inference_function.call(\n\u001b[0m\u001b[0;32m   1758\u001b[0m           ctx, args, cancellation_manager=cancellation_manager))\n\u001b[0;32m   1759\u001b[0m     forward_backward = self._select_forward_and_backward_functions(\n",
      "\u001b[1;32m~\\anaconda3\\lib\\site-packages\\tensorflow\\python\\eager\\polymorphic_function\\monomorphic_function.py\u001b[0m in \u001b[0;36mcall\u001b[1;34m(self, ctx, args, cancellation_manager)\u001b[0m\n\u001b[0;32m    379\u001b[0m       \u001b[1;32mwith\u001b[0m \u001b[0m_InterpolateFunctionError\u001b[0m\u001b[1;33m(\u001b[0m\u001b[0mself\u001b[0m\u001b[1;33m)\u001b[0m\u001b[1;33m:\u001b[0m\u001b[1;33m\u001b[0m\u001b[1;33m\u001b[0m\u001b[0m\n\u001b[0;32m    380\u001b[0m         \u001b[1;32mif\u001b[0m \u001b[0mcancellation_manager\u001b[0m \u001b[1;32mis\u001b[0m \u001b[1;32mNone\u001b[0m\u001b[1;33m:\u001b[0m\u001b[1;33m\u001b[0m\u001b[1;33m\u001b[0m\u001b[0m\n\u001b[1;32m--> 381\u001b[1;33m           outputs = execute.execute(\n\u001b[0m\u001b[0;32m    382\u001b[0m               \u001b[0mstr\u001b[0m\u001b[1;33m(\u001b[0m\u001b[0mself\u001b[0m\u001b[1;33m.\u001b[0m\u001b[0msignature\u001b[0m\u001b[1;33m.\u001b[0m\u001b[0mname\u001b[0m\u001b[1;33m)\u001b[0m\u001b[1;33m,\u001b[0m\u001b[1;33m\u001b[0m\u001b[1;33m\u001b[0m\u001b[0m\n\u001b[0;32m    383\u001b[0m               \u001b[0mnum_outputs\u001b[0m\u001b[1;33m=\u001b[0m\u001b[0mself\u001b[0m\u001b[1;33m.\u001b[0m\u001b[0m_num_outputs\u001b[0m\u001b[1;33m,\u001b[0m\u001b[1;33m\u001b[0m\u001b[1;33m\u001b[0m\u001b[0m\n",
      "\u001b[1;32m~\\anaconda3\\lib\\site-packages\\tensorflow\\python\\eager\\execute.py\u001b[0m in \u001b[0;36mquick_execute\u001b[1;34m(op_name, num_outputs, inputs, attrs, ctx, name)\u001b[0m\n\u001b[0;32m     50\u001b[0m   \u001b[1;32mtry\u001b[0m\u001b[1;33m:\u001b[0m\u001b[1;33m\u001b[0m\u001b[1;33m\u001b[0m\u001b[0m\n\u001b[0;32m     51\u001b[0m     \u001b[0mctx\u001b[0m\u001b[1;33m.\u001b[0m\u001b[0mensure_initialized\u001b[0m\u001b[1;33m(\u001b[0m\u001b[1;33m)\u001b[0m\u001b[1;33m\u001b[0m\u001b[1;33m\u001b[0m\u001b[0m\n\u001b[1;32m---> 52\u001b[1;33m     tensors = pywrap_tfe.TFE_Py_Execute(ctx._handle, device_name, op_name,\n\u001b[0m\u001b[0;32m     53\u001b[0m                                         inputs, attrs, num_outputs)\n\u001b[0;32m     54\u001b[0m   \u001b[1;32mexcept\u001b[0m \u001b[0mcore\u001b[0m\u001b[1;33m.\u001b[0m\u001b[0m_NotOkStatusException\u001b[0m \u001b[1;32mas\u001b[0m \u001b[0me\u001b[0m\u001b[1;33m:\u001b[0m\u001b[1;33m\u001b[0m\u001b[1;33m\u001b[0m\u001b[0m\n",
      "\u001b[1;31mKeyboardInterrupt\u001b[0m: "
     ]
    }
   ],
   "source": [
    "model = Sequential()\n",
    "model.add(Dense(1024,activation = 'relu'))\n",
    "model.add(Dropout(0.8))\n",
    "model.add(Dense(1024,activation = 'relu'))\n",
    "model.add(Dropout(0.8))\n",
    "model.add(Dense(32,activation = 'relu'))\n",
    "model.add(Dense(1,activation = 'sigmoid'))\n",
    "model.compile(loss='binary_crossentropy',optimizer='adam',metrics = ['AUC'])\n",
    "model.fit(X_train,y_train,validation_data=(X_test, y_test), epochs = 100, callbacks = EarlyStopping(patience = 5), batch_size = 1024)\n",
    "model.save('cat_1',save_format = 'tf')\n",
    "y_pred = model.predict(X_test)\n",
    "mean_squared_error(y_test, y_pred, squared = False)\n",
    "plt.scatter(y = np.exp(y_pred), x = np.exp(y_test))\n",
    "plt.ylim(0,120)\n",
    "K.clear_session()"
   ]
  },
  {
   "cell_type": "code",
   "execution_count": null,
   "id": "75f0f342-99c3-4b6b-883d-5522aebb5473",
   "metadata": {},
   "outputs": [],
   "source": [
    "model = Sequential()\n",
    "model.add(Dense(1024,activation = 'relu'))\n",
    "model.add(Dropout(0.8))\n",
    "model.add(Dense(32,activation = 'relu'))\n",
    "model.add(Dense(1,activation = 'linear'))\n",
    "model.compile(loss='mean_squared_error',optimizer='adam',metrics = ['mse'])\n",
    "model.fit(X_train,y_train,validation_data=(X_test, y_test), epochs = 100, callbacks = EarlyStopping(patience = 5), batch_size = 32)\n",
    "model.save('model_3_1024*1_batch_32',save_format = 'tf')\n",
    "y_pred = model.predict(X_test)\n",
    "mean_squared_error(y_test, y_pred, squared = False)\n",
    "plt.scatter(y = np.exp(y_pred), x = np.exp(y_test))\n",
    "plt.ylim(0,120)\n",
    "K.clear_session()"
   ]
  },
  {
   "cell_type": "code",
   "execution_count": 229,
   "id": "994ac30c-6b45-42b5-a179-8b38c7fa17a7",
   "metadata": {},
   "outputs": [],
   "source": [
    "K.clear_session()"
   ]
  },
  {
   "cell_type": "code",
   "execution_count": 230,
   "id": "30eeb0fd-7772-4222-b528-c74ed23bab61",
   "metadata": {},
   "outputs": [
    {
     "name": "stdout",
     "output_type": "stream",
     "text": [
      "Epoch 1/100\n",
      "369/369 [==============================] - 18s 42ms/step - loss: 6.3927 - mse: 6.3927 - val_loss: 26.7022 - val_mse: 26.7022\n",
      "Epoch 2/100\n",
      "369/369 [==============================] - 13s 35ms/step - loss: 4.5721 - mse: 4.5721 - val_loss: 12.5729 - val_mse: 12.5729\n",
      "Epoch 3/100\n",
      "369/369 [==============================] - 13s 34ms/step - loss: 4.4527 - mse: 4.4527 - val_loss: 7.5887 - val_mse: 7.5887\n",
      "Epoch 4/100\n",
      "369/369 [==============================] - 12s 33ms/step - loss: 4.3603 - mse: 4.3603 - val_loss: 6.7805 - val_mse: 6.7805\n",
      "Epoch 5/100\n",
      "369/369 [==============================] - 12s 32ms/step - loss: 4.2932 - mse: 4.2932 - val_loss: 8.0151 - val_mse: 8.0151\n",
      "Epoch 6/100\n",
      "369/369 [==============================] - 13s 34ms/step - loss: 4.2611 - mse: 4.2611 - val_loss: 7.7993 - val_mse: 7.7993\n",
      "Epoch 7/100\n",
      "369/369 [==============================] - 12s 32ms/step - loss: 4.2217 - mse: 4.2217 - val_loss: 7.7179 - val_mse: 7.7179\n",
      "Epoch 8/100\n",
      "369/369 [==============================] - 13s 35ms/step - loss: 4.1962 - mse: 4.1962 - val_loss: 7.1852 - val_mse: 7.1852\n",
      "Epoch 9/100\n",
      "369/369 [==============================] - 13s 34ms/step - loss: 4.1697 - mse: 4.1697 - val_loss: 6.4600 - val_mse: 6.4600\n",
      "Epoch 10/100\n",
      "369/369 [==============================] - 13s 37ms/step - loss: 4.1567 - mse: 4.1567 - val_loss: 7.5451 - val_mse: 7.5451\n",
      "Epoch 11/100\n",
      "369/369 [==============================] - 13s 36ms/step - loss: 4.1393 - mse: 4.1393 - val_loss: 6.3154 - val_mse: 6.3154\n",
      "Epoch 12/100\n",
      "369/369 [==============================] - 13s 35ms/step - loss: 4.1289 - mse: 4.1289 - val_loss: 6.4576 - val_mse: 6.4576\n",
      "Epoch 13/100\n",
      "369/369 [==============================] - 13s 34ms/step - loss: 4.1108 - mse: 4.1108 - val_loss: 6.4453 - val_mse: 6.4453\n",
      "Epoch 14/100\n",
      "369/369 [==============================] - 13s 35ms/step - loss: 4.1088 - mse: 4.1088 - val_loss: 6.4302 - val_mse: 6.4302\n",
      "Epoch 15/100\n",
      "367/369 [============================>.] - ETA: 0s - loss: 4.0961 - mse: 4.0961"
     ]
    },
    {
     "ename": "KeyboardInterrupt",
     "evalue": "",
     "output_type": "error",
     "traceback": [
      "\u001b[1;31m---------------------------------------------------------------------------\u001b[0m",
      "\u001b[1;31mKeyboardInterrupt\u001b[0m                         Traceback (most recent call last)",
      "\u001b[1;32m~\\AppData\\Local\\Temp\\ipykernel_24588\\1045897295.py\u001b[0m in \u001b[0;36m<module>\u001b[1;34m\u001b[0m\n\u001b[0;32m     11\u001b[0m \u001b[0mmodel\u001b[0m\u001b[1;33m.\u001b[0m\u001b[0madd\u001b[0m\u001b[1;33m(\u001b[0m\u001b[0mDense\u001b[0m\u001b[1;33m(\u001b[0m\u001b[1;36m1\u001b[0m\u001b[1;33m,\u001b[0m\u001b[0mactivation\u001b[0m \u001b[1;33m=\u001b[0m \u001b[1;34m'linear'\u001b[0m\u001b[1;33m)\u001b[0m\u001b[1;33m)\u001b[0m\u001b[1;33m\u001b[0m\u001b[1;33m\u001b[0m\u001b[0m\n\u001b[0;32m     12\u001b[0m \u001b[0mmodel\u001b[0m\u001b[1;33m.\u001b[0m\u001b[0mcompile\u001b[0m\u001b[1;33m(\u001b[0m\u001b[0mloss\u001b[0m\u001b[1;33m=\u001b[0m\u001b[1;34m'mean_squared_error'\u001b[0m\u001b[1;33m,\u001b[0m\u001b[0moptimizer\u001b[0m\u001b[1;33m=\u001b[0m\u001b[1;34m'adam'\u001b[0m\u001b[1;33m,\u001b[0m\u001b[0mmetrics\u001b[0m \u001b[1;33m=\u001b[0m \u001b[1;33m[\u001b[0m\u001b[1;34m'mse'\u001b[0m\u001b[1;33m]\u001b[0m\u001b[1;33m)\u001b[0m\u001b[1;33m\u001b[0m\u001b[1;33m\u001b[0m\u001b[0m\n\u001b[1;32m---> 13\u001b[1;33m \u001b[0mmodel\u001b[0m\u001b[1;33m.\u001b[0m\u001b[0mfit\u001b[0m\u001b[1;33m(\u001b[0m\u001b[0mX_train\u001b[0m\u001b[1;33m,\u001b[0m\u001b[0my_train\u001b[0m\u001b[1;33m,\u001b[0m\u001b[0mvalidation_data\u001b[0m\u001b[1;33m=\u001b[0m\u001b[1;33m(\u001b[0m\u001b[0mX_test\u001b[0m\u001b[1;33m,\u001b[0m \u001b[0my_test\u001b[0m\u001b[1;33m)\u001b[0m\u001b[1;33m,\u001b[0m \u001b[0mepochs\u001b[0m \u001b[1;33m=\u001b[0m \u001b[1;36m100\u001b[0m\u001b[1;33m,\u001b[0m \u001b[0mcallbacks\u001b[0m \u001b[1;33m=\u001b[0m \u001b[0mEarlyStopping\u001b[0m\u001b[1;33m(\u001b[0m\u001b[0mpatience\u001b[0m \u001b[1;33m=\u001b[0m \u001b[1;36m5\u001b[0m\u001b[1;33m)\u001b[0m\u001b[1;33m,\u001b[0m \u001b[0mbatch_size\u001b[0m \u001b[1;33m=\u001b[0m \u001b[1;36m1024\u001b[0m\u001b[1;33m)\u001b[0m\u001b[1;33m\u001b[0m\u001b[1;33m\u001b[0m\u001b[0m\n\u001b[0m\u001b[0;32m     14\u001b[0m \u001b[0mmodel\u001b[0m\u001b[1;33m.\u001b[0m\u001b[0msave\u001b[0m\u001b[1;33m(\u001b[0m\u001b[1;34m'model_starters_1024*1_32*7_batch_1024'\u001b[0m\u001b[1;33m,\u001b[0m\u001b[0msave_format\u001b[0m \u001b[1;33m=\u001b[0m \u001b[1;34m'tf'\u001b[0m\u001b[1;33m)\u001b[0m\u001b[1;33m\u001b[0m\u001b[1;33m\u001b[0m\u001b[0m\n\u001b[0;32m     15\u001b[0m \u001b[0my_pred\u001b[0m \u001b[1;33m=\u001b[0m \u001b[0mmodel\u001b[0m\u001b[1;33m.\u001b[0m\u001b[0mpredict\u001b[0m\u001b[1;33m(\u001b[0m\u001b[0mX_test\u001b[0m\u001b[1;33m)\u001b[0m\u001b[1;33m\u001b[0m\u001b[1;33m\u001b[0m\u001b[0m\n",
      "\u001b[1;32m~\\anaconda3\\lib\\site-packages\\keras\\utils\\traceback_utils.py\u001b[0m in \u001b[0;36merror_handler\u001b[1;34m(*args, **kwargs)\u001b[0m\n\u001b[0;32m     63\u001b[0m         \u001b[0mfiltered_tb\u001b[0m \u001b[1;33m=\u001b[0m \u001b[1;32mNone\u001b[0m\u001b[1;33m\u001b[0m\u001b[1;33m\u001b[0m\u001b[0m\n\u001b[0;32m     64\u001b[0m         \u001b[1;32mtry\u001b[0m\u001b[1;33m:\u001b[0m\u001b[1;33m\u001b[0m\u001b[1;33m\u001b[0m\u001b[0m\n\u001b[1;32m---> 65\u001b[1;33m             \u001b[1;32mreturn\u001b[0m \u001b[0mfn\u001b[0m\u001b[1;33m(\u001b[0m\u001b[1;33m*\u001b[0m\u001b[0margs\u001b[0m\u001b[1;33m,\u001b[0m \u001b[1;33m**\u001b[0m\u001b[0mkwargs\u001b[0m\u001b[1;33m)\u001b[0m\u001b[1;33m\u001b[0m\u001b[1;33m\u001b[0m\u001b[0m\n\u001b[0m\u001b[0;32m     66\u001b[0m         \u001b[1;32mexcept\u001b[0m \u001b[0mException\u001b[0m \u001b[1;32mas\u001b[0m \u001b[0me\u001b[0m\u001b[1;33m:\u001b[0m\u001b[1;33m\u001b[0m\u001b[1;33m\u001b[0m\u001b[0m\n\u001b[0;32m     67\u001b[0m             \u001b[0mfiltered_tb\u001b[0m \u001b[1;33m=\u001b[0m \u001b[0m_process_traceback_frames\u001b[0m\u001b[1;33m(\u001b[0m\u001b[0me\u001b[0m\u001b[1;33m.\u001b[0m\u001b[0m__traceback__\u001b[0m\u001b[1;33m)\u001b[0m\u001b[1;33m\u001b[0m\u001b[1;33m\u001b[0m\u001b[0m\n",
      "\u001b[1;32m~\\anaconda3\\lib\\site-packages\\keras\\engine\\training.py\u001b[0m in \u001b[0;36mfit\u001b[1;34m(self, x, y, batch_size, epochs, verbose, callbacks, validation_split, validation_data, shuffle, class_weight, sample_weight, initial_epoch, steps_per_epoch, validation_steps, validation_batch_size, validation_freq, max_queue_size, workers, use_multiprocessing)\u001b[0m\n\u001b[0;32m   1727\u001b[0m                             \u001b[0msteps_per_execution\u001b[0m\u001b[1;33m=\u001b[0m\u001b[0mself\u001b[0m\u001b[1;33m.\u001b[0m\u001b[0m_steps_per_execution\u001b[0m\u001b[1;33m,\u001b[0m\u001b[1;33m\u001b[0m\u001b[1;33m\u001b[0m\u001b[0m\n\u001b[0;32m   1728\u001b[0m                         )\n\u001b[1;32m-> 1729\u001b[1;33m                     val_logs = self.evaluate(\n\u001b[0m\u001b[0;32m   1730\u001b[0m                         \u001b[0mx\u001b[0m\u001b[1;33m=\u001b[0m\u001b[0mval_x\u001b[0m\u001b[1;33m,\u001b[0m\u001b[1;33m\u001b[0m\u001b[1;33m\u001b[0m\u001b[0m\n\u001b[0;32m   1731\u001b[0m                         \u001b[0my\u001b[0m\u001b[1;33m=\u001b[0m\u001b[0mval_y\u001b[0m\u001b[1;33m,\u001b[0m\u001b[1;33m\u001b[0m\u001b[1;33m\u001b[0m\u001b[0m\n",
      "\u001b[1;32m~\\anaconda3\\lib\\site-packages\\keras\\utils\\traceback_utils.py\u001b[0m in \u001b[0;36merror_handler\u001b[1;34m(*args, **kwargs)\u001b[0m\n\u001b[0;32m     63\u001b[0m         \u001b[0mfiltered_tb\u001b[0m \u001b[1;33m=\u001b[0m \u001b[1;32mNone\u001b[0m\u001b[1;33m\u001b[0m\u001b[1;33m\u001b[0m\u001b[0m\n\u001b[0;32m     64\u001b[0m         \u001b[1;32mtry\u001b[0m\u001b[1;33m:\u001b[0m\u001b[1;33m\u001b[0m\u001b[1;33m\u001b[0m\u001b[0m\n\u001b[1;32m---> 65\u001b[1;33m             \u001b[1;32mreturn\u001b[0m \u001b[0mfn\u001b[0m\u001b[1;33m(\u001b[0m\u001b[1;33m*\u001b[0m\u001b[0margs\u001b[0m\u001b[1;33m,\u001b[0m \u001b[1;33m**\u001b[0m\u001b[0mkwargs\u001b[0m\u001b[1;33m)\u001b[0m\u001b[1;33m\u001b[0m\u001b[1;33m\u001b[0m\u001b[0m\n\u001b[0m\u001b[0;32m     66\u001b[0m         \u001b[1;32mexcept\u001b[0m \u001b[0mException\u001b[0m \u001b[1;32mas\u001b[0m \u001b[0me\u001b[0m\u001b[1;33m:\u001b[0m\u001b[1;33m\u001b[0m\u001b[1;33m\u001b[0m\u001b[0m\n\u001b[0;32m     67\u001b[0m             \u001b[0mfiltered_tb\u001b[0m \u001b[1;33m=\u001b[0m \u001b[0m_process_traceback_frames\u001b[0m\u001b[1;33m(\u001b[0m\u001b[0me\u001b[0m\u001b[1;33m.\u001b[0m\u001b[0m__traceback__\u001b[0m\u001b[1;33m)\u001b[0m\u001b[1;33m\u001b[0m\u001b[1;33m\u001b[0m\u001b[0m\n",
      "\u001b[1;32m~\\anaconda3\\lib\\site-packages\\keras\\engine\\training.py\u001b[0m in \u001b[0;36mevaluate\u001b[1;34m(self, x, y, batch_size, verbose, sample_weight, steps, callbacks, max_queue_size, workers, use_multiprocessing, return_dict, **kwargs)\u001b[0m\n\u001b[0;32m   2070\u001b[0m                         ):\n\u001b[0;32m   2071\u001b[0m                             \u001b[0mcallbacks\u001b[0m\u001b[1;33m.\u001b[0m\u001b[0mon_test_batch_begin\u001b[0m\u001b[1;33m(\u001b[0m\u001b[0mstep\u001b[0m\u001b[1;33m)\u001b[0m\u001b[1;33m\u001b[0m\u001b[1;33m\u001b[0m\u001b[0m\n\u001b[1;32m-> 2072\u001b[1;33m                             \u001b[0mtmp_logs\u001b[0m \u001b[1;33m=\u001b[0m \u001b[0mself\u001b[0m\u001b[1;33m.\u001b[0m\u001b[0mtest_function\u001b[0m\u001b[1;33m(\u001b[0m\u001b[0miterator\u001b[0m\u001b[1;33m)\u001b[0m\u001b[1;33m\u001b[0m\u001b[1;33m\u001b[0m\u001b[0m\n\u001b[0m\u001b[0;32m   2073\u001b[0m                             \u001b[1;32mif\u001b[0m \u001b[0mdata_handler\u001b[0m\u001b[1;33m.\u001b[0m\u001b[0mshould_sync\u001b[0m\u001b[1;33m:\u001b[0m\u001b[1;33m\u001b[0m\u001b[1;33m\u001b[0m\u001b[0m\n\u001b[0;32m   2074\u001b[0m                                 \u001b[0mcontext\u001b[0m\u001b[1;33m.\u001b[0m\u001b[0masync_wait\u001b[0m\u001b[1;33m(\u001b[0m\u001b[1;33m)\u001b[0m\u001b[1;33m\u001b[0m\u001b[1;33m\u001b[0m\u001b[0m\n",
      "\u001b[1;32m~\\anaconda3\\lib\\site-packages\\tensorflow\\python\\util\\traceback_utils.py\u001b[0m in \u001b[0;36merror_handler\u001b[1;34m(*args, **kwargs)\u001b[0m\n\u001b[0;32m    148\u001b[0m     \u001b[0mfiltered_tb\u001b[0m \u001b[1;33m=\u001b[0m \u001b[1;32mNone\u001b[0m\u001b[1;33m\u001b[0m\u001b[1;33m\u001b[0m\u001b[0m\n\u001b[0;32m    149\u001b[0m     \u001b[1;32mtry\u001b[0m\u001b[1;33m:\u001b[0m\u001b[1;33m\u001b[0m\u001b[1;33m\u001b[0m\u001b[0m\n\u001b[1;32m--> 150\u001b[1;33m       \u001b[1;32mreturn\u001b[0m \u001b[0mfn\u001b[0m\u001b[1;33m(\u001b[0m\u001b[1;33m*\u001b[0m\u001b[0margs\u001b[0m\u001b[1;33m,\u001b[0m \u001b[1;33m**\u001b[0m\u001b[0mkwargs\u001b[0m\u001b[1;33m)\u001b[0m\u001b[1;33m\u001b[0m\u001b[1;33m\u001b[0m\u001b[0m\n\u001b[0m\u001b[0;32m    151\u001b[0m     \u001b[1;32mexcept\u001b[0m \u001b[0mException\u001b[0m \u001b[1;32mas\u001b[0m \u001b[0me\u001b[0m\u001b[1;33m:\u001b[0m\u001b[1;33m\u001b[0m\u001b[1;33m\u001b[0m\u001b[0m\n\u001b[0;32m    152\u001b[0m       \u001b[0mfiltered_tb\u001b[0m \u001b[1;33m=\u001b[0m \u001b[0m_process_traceback_frames\u001b[0m\u001b[1;33m(\u001b[0m\u001b[0me\u001b[0m\u001b[1;33m.\u001b[0m\u001b[0m__traceback__\u001b[0m\u001b[1;33m)\u001b[0m\u001b[1;33m\u001b[0m\u001b[1;33m\u001b[0m\u001b[0m\n",
      "\u001b[1;32m~\\anaconda3\\lib\\site-packages\\tensorflow\\python\\eager\\polymorphic_function\\polymorphic_function.py\u001b[0m in \u001b[0;36m__call__\u001b[1;34m(self, *args, **kwds)\u001b[0m\n\u001b[0;32m    892\u001b[0m \u001b[1;33m\u001b[0m\u001b[0m\n\u001b[0;32m    893\u001b[0m       \u001b[1;32mwith\u001b[0m \u001b[0mOptionalXlaContext\u001b[0m\u001b[1;33m(\u001b[0m\u001b[0mself\u001b[0m\u001b[1;33m.\u001b[0m\u001b[0m_jit_compile\u001b[0m\u001b[1;33m)\u001b[0m\u001b[1;33m:\u001b[0m\u001b[1;33m\u001b[0m\u001b[1;33m\u001b[0m\u001b[0m\n\u001b[1;32m--> 894\u001b[1;33m         \u001b[0mresult\u001b[0m \u001b[1;33m=\u001b[0m \u001b[0mself\u001b[0m\u001b[1;33m.\u001b[0m\u001b[0m_call\u001b[0m\u001b[1;33m(\u001b[0m\u001b[1;33m*\u001b[0m\u001b[0margs\u001b[0m\u001b[1;33m,\u001b[0m \u001b[1;33m**\u001b[0m\u001b[0mkwds\u001b[0m\u001b[1;33m)\u001b[0m\u001b[1;33m\u001b[0m\u001b[1;33m\u001b[0m\u001b[0m\n\u001b[0m\u001b[0;32m    895\u001b[0m \u001b[1;33m\u001b[0m\u001b[0m\n\u001b[0;32m    896\u001b[0m       \u001b[0mnew_tracing_count\u001b[0m \u001b[1;33m=\u001b[0m \u001b[0mself\u001b[0m\u001b[1;33m.\u001b[0m\u001b[0mexperimental_get_tracing_count\u001b[0m\u001b[1;33m(\u001b[0m\u001b[1;33m)\u001b[0m\u001b[1;33m\u001b[0m\u001b[1;33m\u001b[0m\u001b[0m\n",
      "\u001b[1;32m~\\anaconda3\\lib\\site-packages\\tensorflow\\python\\eager\\polymorphic_function\\polymorphic_function.py\u001b[0m in \u001b[0;36m_call\u001b[1;34m(self, *args, **kwds)\u001b[0m\n\u001b[0;32m    931\u001b[0m       \u001b[1;31m# In this case we have not created variables on the first call. So we can\u001b[0m\u001b[1;33m\u001b[0m\u001b[1;33m\u001b[0m\u001b[0m\n\u001b[0;32m    932\u001b[0m       \u001b[1;31m# run the first trace but we should fail if variables are created.\u001b[0m\u001b[1;33m\u001b[0m\u001b[1;33m\u001b[0m\u001b[0m\n\u001b[1;32m--> 933\u001b[1;33m       \u001b[0mresults\u001b[0m \u001b[1;33m=\u001b[0m \u001b[0mself\u001b[0m\u001b[1;33m.\u001b[0m\u001b[0m_variable_creation_fn\u001b[0m\u001b[1;33m(\u001b[0m\u001b[1;33m*\u001b[0m\u001b[0margs\u001b[0m\u001b[1;33m,\u001b[0m \u001b[1;33m**\u001b[0m\u001b[0mkwds\u001b[0m\u001b[1;33m)\u001b[0m\u001b[1;33m\u001b[0m\u001b[1;33m\u001b[0m\u001b[0m\n\u001b[0m\u001b[0;32m    934\u001b[0m       \u001b[1;32mif\u001b[0m \u001b[0mself\u001b[0m\u001b[1;33m.\u001b[0m\u001b[0m_created_variables\u001b[0m \u001b[1;32mand\u001b[0m \u001b[1;32mnot\u001b[0m \u001b[0mALLOW_DYNAMIC_VARIABLE_CREATION\u001b[0m\u001b[1;33m:\u001b[0m\u001b[1;33m\u001b[0m\u001b[1;33m\u001b[0m\u001b[0m\n\u001b[0;32m    935\u001b[0m         raise ValueError(\"Creating variables on a non-first call to a function\"\n",
      "\u001b[1;32m~\\anaconda3\\lib\\site-packages\\tensorflow\\python\\eager\\polymorphic_function\\tracing_compiler.py\u001b[0m in \u001b[0;36m__call__\u001b[1;34m(self, *args, **kwargs)\u001b[0m\n\u001b[0;32m    141\u001b[0m       (concrete_function,\n\u001b[0;32m    142\u001b[0m        filtered_flat_args) = self._maybe_define_function(args, kwargs)\n\u001b[1;32m--> 143\u001b[1;33m     return concrete_function._call_flat(\n\u001b[0m\u001b[0;32m    144\u001b[0m         filtered_flat_args, captured_inputs=concrete_function.captured_inputs)  # pylint: disable=protected-access\n\u001b[0;32m    145\u001b[0m \u001b[1;33m\u001b[0m\u001b[0m\n",
      "\u001b[1;32m~\\anaconda3\\lib\\site-packages\\tensorflow\\python\\eager\\polymorphic_function\\monomorphic_function.py\u001b[0m in \u001b[0;36m_call_flat\u001b[1;34m(self, args, captured_inputs, cancellation_manager)\u001b[0m\n\u001b[0;32m   1755\u001b[0m         and executing_eagerly):\n\u001b[0;32m   1756\u001b[0m       \u001b[1;31m# No tape is watching; skip to running the function.\u001b[0m\u001b[1;33m\u001b[0m\u001b[1;33m\u001b[0m\u001b[0m\n\u001b[1;32m-> 1757\u001b[1;33m       return self._build_call_outputs(self._inference_function.call(\n\u001b[0m\u001b[0;32m   1758\u001b[0m           ctx, args, cancellation_manager=cancellation_manager))\n\u001b[0;32m   1759\u001b[0m     forward_backward = self._select_forward_and_backward_functions(\n",
      "\u001b[1;32m~\\anaconda3\\lib\\site-packages\\tensorflow\\python\\eager\\polymorphic_function\\monomorphic_function.py\u001b[0m in \u001b[0;36mcall\u001b[1;34m(self, ctx, args, cancellation_manager)\u001b[0m\n\u001b[0;32m    379\u001b[0m       \u001b[1;32mwith\u001b[0m \u001b[0m_InterpolateFunctionError\u001b[0m\u001b[1;33m(\u001b[0m\u001b[0mself\u001b[0m\u001b[1;33m)\u001b[0m\u001b[1;33m:\u001b[0m\u001b[1;33m\u001b[0m\u001b[1;33m\u001b[0m\u001b[0m\n\u001b[0;32m    380\u001b[0m         \u001b[1;32mif\u001b[0m \u001b[0mcancellation_manager\u001b[0m \u001b[1;32mis\u001b[0m \u001b[1;32mNone\u001b[0m\u001b[1;33m:\u001b[0m\u001b[1;33m\u001b[0m\u001b[1;33m\u001b[0m\u001b[0m\n\u001b[1;32m--> 381\u001b[1;33m           outputs = execute.execute(\n\u001b[0m\u001b[0;32m    382\u001b[0m               \u001b[0mstr\u001b[0m\u001b[1;33m(\u001b[0m\u001b[0mself\u001b[0m\u001b[1;33m.\u001b[0m\u001b[0msignature\u001b[0m\u001b[1;33m.\u001b[0m\u001b[0mname\u001b[0m\u001b[1;33m)\u001b[0m\u001b[1;33m,\u001b[0m\u001b[1;33m\u001b[0m\u001b[1;33m\u001b[0m\u001b[0m\n\u001b[0;32m    383\u001b[0m               \u001b[0mnum_outputs\u001b[0m\u001b[1;33m=\u001b[0m\u001b[0mself\u001b[0m\u001b[1;33m.\u001b[0m\u001b[0m_num_outputs\u001b[0m\u001b[1;33m,\u001b[0m\u001b[1;33m\u001b[0m\u001b[1;33m\u001b[0m\u001b[0m\n",
      "\u001b[1;32m~\\anaconda3\\lib\\site-packages\\tensorflow\\python\\eager\\execute.py\u001b[0m in \u001b[0;36mquick_execute\u001b[1;34m(op_name, num_outputs, inputs, attrs, ctx, name)\u001b[0m\n\u001b[0;32m     50\u001b[0m   \u001b[1;32mtry\u001b[0m\u001b[1;33m:\u001b[0m\u001b[1;33m\u001b[0m\u001b[1;33m\u001b[0m\u001b[0m\n\u001b[0;32m     51\u001b[0m     \u001b[0mctx\u001b[0m\u001b[1;33m.\u001b[0m\u001b[0mensure_initialized\u001b[0m\u001b[1;33m(\u001b[0m\u001b[1;33m)\u001b[0m\u001b[1;33m\u001b[0m\u001b[1;33m\u001b[0m\u001b[0m\n\u001b[1;32m---> 52\u001b[1;33m     tensors = pywrap_tfe.TFE_Py_Execute(ctx._handle, device_name, op_name,\n\u001b[0m\u001b[0;32m     53\u001b[0m                                         inputs, attrs, num_outputs)\n\u001b[0;32m     54\u001b[0m   \u001b[1;32mexcept\u001b[0m \u001b[0mcore\u001b[0m\u001b[1;33m.\u001b[0m\u001b[0m_NotOkStatusException\u001b[0m \u001b[1;32mas\u001b[0m \u001b[0me\u001b[0m\u001b[1;33m:\u001b[0m\u001b[1;33m\u001b[0m\u001b[1;33m\u001b[0m\u001b[0m\n",
      "\u001b[1;31mKeyboardInterrupt\u001b[0m: "
     ]
    }
   ],
   "source": [
    "model = Sequential()\n",
    "model.add(Dense(1024,activation = 'relu'))\n",
    "model.add(Dropout(0.8))\n",
    "model.add(Dense(32,activation = 'relu'))\n",
    "model.add(Dense(32,activation = 'relu'))\n",
    "model.add(Dense(32,activation = 'relu'))\n",
    "model.add(Dense(32,activation = 'relu'))\n",
    "model.add(Dense(32,activation = 'relu'))\n",
    "model.add(Dense(32,activation = 'relu'))\n",
    "model.add(Dense(32,activation = 'relu'))\n",
    "model.add(Dense(1,activation = 'linear'))\n",
    "model.compile(loss='mean_squared_error',optimizer='adam',metrics = ['mse'])\n",
    "model.fit(X_train,y_train,validation_data=(X_test, y_test), epochs = 100, callbacks = EarlyStopping(patience = 5), batch_size = 1024)\n",
    "model.save('model_starters_1024*1_32*7_batch_1024',save_format = 'tf')\n",
    "y_pred = model.predict(X_test)\n",
    "mean_squared_error(y_test, y_pred, squared = False)\n",
    "plt.scatter(y = np.exp(y_pred), x = np.exp(y_test))\n",
    "plt.ylim(0,120)\n",
    "K.clear_session()"
   ]
  },
  {
   "cell_type": "code",
   "execution_count": null,
   "id": "6921f1dc-0f77-4b21-9eaa-0abece548876",
   "metadata": {},
   "outputs": [],
   "source": []
  },
  {
   "cell_type": "code",
   "execution_count": null,
   "id": "b300c364-5e8a-4bcc-8eeb-f82ee66e5ce1",
   "metadata": {},
   "outputs": [],
   "source": []
  },
  {
   "cell_type": "code",
   "execution_count": null,
   "id": "dae7a6fc-0fa9-4be8-8040-87f7bf6ce530",
   "metadata": {},
   "outputs": [],
   "source": []
  },
  {
   "cell_type": "code",
   "execution_count": null,
   "id": "fceaab9a-4766-45d7-93a3-423d6e6b6ea8",
   "metadata": {},
   "outputs": [],
   "source": []
  },
  {
   "cell_type": "code",
   "execution_count": null,
   "id": "f7e04287-8530-45ae-a3c4-10f98aa426f6",
   "metadata": {},
   "outputs": [],
   "source": []
  },
  {
   "cell_type": "code",
   "execution_count": null,
   "id": "8ff0936c-40ac-4d99-a3be-989a98aff192",
   "metadata": {},
   "outputs": [],
   "source": []
  },
  {
   "cell_type": "code",
   "execution_count": null,
   "id": "119619d6-e8b6-4efb-8c03-c5f47e80376e",
   "metadata": {},
   "outputs": [],
   "source": []
  },
  {
   "cell_type": "code",
   "execution_count": null,
   "id": "33ad2e6b-e253-448b-8389-90359971bf5b",
   "metadata": {},
   "outputs": [],
   "source": []
  },
  {
   "cell_type": "code",
   "execution_count": null,
   "id": "4108a083-f3a0-4fa2-a33b-e68c303a06cb",
   "metadata": {},
   "outputs": [],
   "source": []
  },
  {
   "cell_type": "code",
   "execution_count": null,
   "id": "2c2dac61-8754-4076-b299-4d0f3a3b5f8c",
   "metadata": {},
   "outputs": [],
   "source": []
  },
  {
   "cell_type": "code",
   "execution_count": 393,
   "id": "ed47f291-2660-4bc3-9524-aeba18b4072f",
   "metadata": {},
   "outputs": [
    {
     "name": "stderr",
     "output_type": "stream",
     "text": [
      "C:\\Users\\rob\\AppData\\Local\\Temp\\ipykernel_9140\\2939201450.py:2: SettingWithCopyWarning: \n",
      "A value is trying to be set on a copy of a slice from a DataFrame.\n",
      "Try using .loc[row_indexer,col_indexer] = value instead\n",
      "\n",
      "See the caveats in the documentation: https://pandas.pydata.org/pandas-docs/stable/user_guide/indexing.html#returning-a-view-versus-a-copy\n",
      "  X['pitch_type_orig'] = X['pitch_type']\n"
     ]
    }
   ],
   "source": [
    "#  Dummify pitch type, but keep original for further preprocessing\n",
    "X['pitch_type_orig'] = X['pitch_type']\n",
    "X = pd.get_dummies(X, columns = ['pitch_type'])"
   ]
  }
 ],
 "metadata": {
  "kernelspec": {
   "display_name": "Python 3 (ipykernel)",
   "language": "python",
   "name": "python3"
  },
  "language_info": {
   "codemirror_mode": {
    "name": "ipython",
    "version": 3
   },
   "file_extension": ".py",
   "mimetype": "text/x-python",
   "name": "python",
   "nbconvert_exporter": "python",
   "pygments_lexer": "ipython3",
   "version": "3.9.13"
  }
 },
 "nbformat": 4,
 "nbformat_minor": 5
}
