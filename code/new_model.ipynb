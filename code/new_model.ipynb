{
 "cells": [
  {
   "cell_type": "code",
   "execution_count": 1,
   "id": "1036849e-66c0-42ab-b455-651de0c40545",
   "metadata": {},
   "outputs": [],
   "source": [
    "#  Import libraries\n",
    "import numpy as np\n",
    "import pandas as pd\n",
    "import matplotlib.pyplot as plt\n",
    "import seaborn as sns\n",
    "\n",
    "sns.set()\n",
    "\n",
    "#  Import python wrapper for pitch-by-pitch data from MLB APIs\n",
    "from pybaseball import statcast"
   ]
  },
  {
   "cell_type": "code",
   "execution_count": 2,
   "id": "7c81b5fa-ecec-436e-b732-1ec8939f9e01",
   "metadata": {},
   "outputs": [],
   "source": [
    "from sklearn.model_selection import train_test_split, cross_val_score, GridSearchCV, RandomizedSearchCV\n",
    "from sklearn.linear_model import LogisticRegression, LinearRegression\n",
    "from sklearn.neighbors import KNeighborsClassifier, KNeighborsRegressor\n",
    "from sklearn.tree import DecisionTreeClassifier, DecisionTreeRegressor\n",
    "from sklearn.ensemble import RandomForestClassifier, AdaBoostClassifier, BaggingClassifier, RandomForestRegressor\n",
    "from sklearn.svm import SVC\n",
    "\n",
    "from sklearn.pipeline import Pipeline, make_pipeline\n",
    "from sklearn.compose import ColumnTransformer\n",
    "from sklearn.preprocessing import StandardScaler, PolynomialFeatures, OneHotEncoder\n",
    "from sklearn.metrics import mean_squared_error, f1_score, confusion_matrix, roc_auc_score\n",
    "from sklearn.naive_bayes import GaussianNB, MultinomialNB, BernoulliNB\n",
    "\n",
    "from sklearn.linear_model import Lasso, ElasticNet, Ridge"
   ]
  },
  {
   "cell_type": "code",
   "execution_count": 3,
   "id": "f8149e16-6570-4e18-9363-a8c8442fdf3b",
   "metadata": {},
   "outputs": [],
   "source": [
    "from tensorflow.keras.layers import Dense"
   ]
  },
  {
   "cell_type": "code",
   "execution_count": 4,
   "id": "a669bb64-d459-45ce-a3e5-299c4c7c3175",
   "metadata": {},
   "outputs": [],
   "source": [
    "from tensorflow.keras.models import Sequential"
   ]
  },
  {
   "cell_type": "code",
   "execution_count": null,
   "id": "5889405e-9e9d-4548-956b-f5a1fb0617e3",
   "metadata": {},
   "outputs": [],
   "source": []
  },
  {
   "cell_type": "code",
   "execution_count": 5,
   "id": "9a8980d8-11e1-4a63-b12d-a7d33142b5d7",
   "metadata": {},
   "outputs": [],
   "source": [
    "from tensorflow.keras.layers import Dense, Dropout\n",
    "from tensorflow.keras.utils import to_categorical\n",
    "from tensorflow.keras.metrics import Recall, Precision\n",
    "from tensorflow.keras.metrics import AUC"
   ]
  },
  {
   "cell_type": "code",
   "execution_count": 6,
   "id": "53669ede-a1e8-46c2-acb0-84a3a8c8fcff",
   "metadata": {},
   "outputs": [
    {
     "name": "stdout",
     "output_type": "stream",
     "text": [
      "This is a large query, it may take a moment to complete\n"
     ]
    },
    {
     "name": "stderr",
     "output_type": "stream",
     "text": [
      "C:\\Users\\ari\\anaconda3\\lib\\site-packages\\pybaseball\\statcast.py:50: UserWarning: \n",
      "That's a nice request you got there. It'd be a shame if something were to happen to it.\n",
      "We strongly recommend that you enable caching before running this. It's as simple as `pybaseball.cache.enable()`.\n",
      "Since the Statcast requests can take a *really* long time to run, if something were to happen, like: a disconnect;\n",
      "gremlins; computer repair by associates of Rudy Giuliani; electromagnetic interference from metal trash cans; etc.;\n",
      "you could lose a lot of progress. Enabling caching will allow you to immediately recover all the successful\n",
      "subqueries if that happens.\n",
      "  warnings.warn(_OVERSIZE_WARNING)\n"
     ]
    },
    {
     "name": "stdout",
     "output_type": "stream",
     "text": [
      "Skipping offseason dates\n"
     ]
    },
    {
     "name": "stderr",
     "output_type": "stream",
     "text": [
      "100%|████████████████████████████████████████████████████████████████████████████████| 211/211 [03:09<00:00,  1.11it/s]\n"
     ]
    }
   ],
   "source": [
    "#  Pull all pitches thrown in 2023 season so far\n",
    "p_2022 = statcast(start_dt='2022-03-01', end_dt='2022-10-11')"
   ]
  },
  {
   "cell_type": "code",
   "execution_count": 8,
   "id": "b4bfa8b2-f70b-4e57-bf5e-054221714982",
   "metadata": {},
   "outputs": [],
   "source": [
    "p_2023.to_csv('../data/2023.csv',index = False)"
   ]
  },
  {
   "cell_type": "code",
   "execution_count": 7,
   "id": "3c49e485-66c8-43e6-b46e-7a91c9ab4fac",
   "metadata": {},
   "outputs": [],
   "source": [
    "pitches = p_2022"
   ]
  },
  {
   "cell_type": "code",
   "execution_count": 10,
   "id": "b5787c9a-47e7-47aa-b3b7-f843c10d1568",
   "metadata": {},
   "outputs": [],
   "source": [
    "#  Limit data to combinations where a pitcher has thrown a particular pitch at least 30 times\n",
    "# pitches = pitches[pitches.groupby(['player_name','pitch_type']).transform('size') > 30]"
   ]
  },
  {
   "cell_type": "code",
   "execution_count": 8,
   "id": "8f0ebf87-9e09-415f-a471-5b9de1a71350",
   "metadata": {},
   "outputs": [
    {
     "data": {
      "text/plain": [
       "ball                       252020\n",
       "hit_into_play              138304\n",
       "foul                       134292\n",
       "called_strike              124743\n",
       "swinging_strike             83806\n",
       "blocked_ball                16629\n",
       "foul_tip                     7419\n",
       "swinging_strike_blocked      4791\n",
       "hit_by_pitch                 2341\n",
       "foul_bunt                    1132\n",
       "missed_bunt                   223\n",
       "pitchout                       40\n",
       "bunt_foul_tip                  26\n",
       "Name: description, dtype: int64"
      ]
     },
     "execution_count": 8,
     "metadata": {},
     "output_type": "execute_result"
    }
   ],
   "source": [
    "#  View pitch outcome types\n",
    "pitches['description'].value_counts()"
   ]
  },
  {
   "cell_type": "code",
   "execution_count": 9,
   "id": "f80a2e10-99bb-4fe9-8857-35515703a74d",
   "metadata": {},
   "outputs": [
    {
     "data": {
      "text/plain": [
       "field_out                       81432\n",
       "strikeout                       45764\n",
       "single                          28853\n",
       "walk                            16205\n",
       "double                           8981\n",
       "home_run                         5982\n",
       "force_out                        4214\n",
       "grounded_into_double_play        3778\n",
       "hit_by_pitch                     2341\n",
       "field_error                      1356\n",
       "sac_fly                          1350\n",
       "triple                            731\n",
       "double_play                       457\n",
       "fielders_choice                   419\n",
       "sac_bunt                          405\n",
       "fielders_choice_out               310\n",
       "caught_stealing_2b                236\n",
       "strikeout_double_play             130\n",
       "catcher_interf                     78\n",
       "other_out                          35\n",
       "sac_fly_double_play                23\n",
       "pickoff_1b                         18\n",
       "caught_stealing_home               13\n",
       "caught_stealing_3b                 12\n",
       "wild_pitch                          8\n",
       "triple_play                         6\n",
       "pickoff_3b                          4\n",
       "pickoff_caught_stealing_2b          3\n",
       "pickoff_caught_stealing_home        2\n",
       "pickoff_caught_stealing_3b          2\n",
       "game_advisory                       2\n",
       "pickoff_2b                          2\n",
       "Name: events, dtype: int64"
      ]
     },
     "execution_count": 9,
     "metadata": {},
     "output_type": "execute_result"
    }
   ],
   "source": [
    "#  View pitch \"event\" outcomes \n",
    "#  Note:  almost all of these are subcategories of pitches['description'] == 'hit_into_pitch'\n",
    "pitches['events'].value_counts()"
   ]
  },
  {
   "cell_type": "code",
   "execution_count": 10,
   "id": "70cd4750-5688-4558-a90f-5eb10fb94f46",
   "metadata": {},
   "outputs": [
    {
     "data": {
      "text/plain": [
       "R    708540\n",
       "S     53346\n",
       "F      2727\n",
       "D      1153\n",
       "Name: game_type, dtype: int64"
      ]
     },
     "execution_count": 10,
     "metadata": {},
     "output_type": "execute_result"
    }
   ],
   "source": [
    "#  View types of games\n",
    "pitches['game_type'].value_counts()"
   ]
  },
  {
   "cell_type": "code",
   "execution_count": 11,
   "id": "a4db7231-fdd6-4f95-a8cc-0630d620d33d",
   "metadata": {},
   "outputs": [],
   "source": [
    "#  Limit inquiry to regular season games\n",
    "pitches = pitches[pitches['game_type'] == 'R']"
   ]
  },
  {
   "cell_type": "code",
   "execution_count": 12,
   "id": "55138767-c7b4-4b18-b2b4-53ec08ac0540",
   "metadata": {},
   "outputs": [
    {
     "name": "stderr",
     "output_type": "stream",
     "text": [
      "C:\\Users\\ari\\AppData\\Local\\Temp\\ipykernel_24588\\2960677010.py:2: SettingWithCopyWarning: \n",
      "A value is trying to be set on a copy of a slice from a DataFrame.\n",
      "Try using .loc[row_indexer,col_indexer] = value instead\n",
      "\n",
      "See the caveats in the documentation: https://pandas.pydata.org/pandas-docs/stable/user_guide/indexing.html#returning-a-view-versus-a-copy\n",
      "  pitches['p_throws'] = pitches['p_throws'].apply(lambda x: 1 if x == 'L' else 0)\n"
     ]
    }
   ],
   "source": [
    "#  Dummify pitching hand (1 for Left-handed, 0 for right-handed)\n",
    "pitches['p_throws'] = pitches['p_throws'].apply(lambda x: 1 if x == 'L' else 0)"
   ]
  },
  {
   "cell_type": "markdown",
   "id": "c0e73b72-5425-40a6-9be6-b31a12ef226e",
   "metadata": {},
   "source": [
    "We create a feature to distinguish between starting and relief pitchers.  This is important because starting pitchers pitch less frequently, and therefore have longer stamina to remain in a game.  (For more background on the differences between starting and relief pitching, read the descriptions at https://www.mlb.com/glossary/positions/).  \n",
    "\n",
    "<p>We can reliably identify starters based on the fact that relief pitchers almost never pitch in the 1st inning.  (We will accept the possibility that a pitcher otherwise fitting the profile of a relief pitcher could be mistakenly identified as a starter after being called in during the first inning due to injury or exceptionally poor performance by the starter)."
   ]
  },
  {
   "cell_type": "code",
   "execution_count": 13,
   "id": "4256a924-3d2d-4c80-a932-3f060fe7afbb",
   "metadata": {},
   "outputs": [
    {
     "name": "stderr",
     "output_type": "stream",
     "text": [
      "C:\\Users\\ari\\AppData\\Local\\Temp\\ipykernel_24588\\2465982184.py:2: SettingWithCopyWarning: \n",
      "A value is trying to be set on a copy of a slice from a DataFrame.\n",
      "Try using .loc[row_indexer,col_indexer] = value instead\n",
      "\n",
      "See the caveats in the documentation: https://pandas.pydata.org/pandas-docs/stable/user_guide/indexing.html#returning-a-view-versus-a-copy\n",
      "  pitches['pitch_no'] = pitches.groupby(['player_name','game_date']).cumcount() + 1\n"
     ]
    }
   ],
   "source": [
    "#  Create column for number of pitches thrown to that point on that game\n",
    "pitches['pitch_no'] = pitches.groupby(['player_name','game_date']).cumcount() + 1"
   ]
  },
  {
   "cell_type": "code",
   "execution_count": 14,
   "id": "a561ab70-10b0-44ab-85fc-a9c3fd0c2a2d",
   "metadata": {},
   "outputs": [
    {
     "name": "stderr",
     "output_type": "stream",
     "text": [
      "C:\\Users\\ari\\AppData\\Local\\Temp\\ipykernel_24588\\882360752.py:2: SettingWithCopyWarning: \n",
      "A value is trying to be set on a copy of a slice from a DataFrame.\n",
      "Try using .loc[row_indexer,col_indexer] = value instead\n",
      "\n",
      "See the caveats in the documentation: https://pandas.pydata.org/pandas-docs/stable/user_guide/indexing.html#returning-a-view-versus-a-copy\n",
      "  pitches['starter'] = [1 if player in starters else 0 for player in pitches['player_name']]\n"
     ]
    }
   ],
   "source": [
    "starters = set(pitches.loc[pitches['inning'] == 1,'player_name'])\n",
    "pitches['starter'] = [1 if player in starters else 0 for player in pitches['player_name']]"
   ]
  },
  {
   "cell_type": "markdown",
   "id": "efcc0748-095d-4396-a234-0d4958e57dab",
   "metadata": {},
   "source": [
    "We create target variables for outcomes: ball, swinging strike, foul, called strike, out in the field, and hit.  These variables are exhaustive of most, but not all, likely outcomes of a pitch.  In our experience, outcomes not included in these targets are too unlikely to reliably predict based on pitching mechanics, pitch choice, and fatigue alone."
   ]
  },
  {
   "cell_type": "code",
   "execution_count": 15,
   "id": "cd2c70d8-54bd-4497-b259-db697b1f62c0",
   "metadata": {},
   "outputs": [
    {
     "data": {
      "text/plain": [
       "ball                       235204\n",
       "foul                       127216\n",
       "hit_into_play              124275\n",
       "called_strike              115882\n",
       "swinging_strike             74987\n",
       "blocked_ball                16060\n",
       "foul_tip                     7008\n",
       "swinging_strike_blocked      4474\n",
       "hit_by_pitch                 2045\n",
       "foul_bunt                    1111\n",
       "missed_bunt                   214\n",
       "pitchout                       40\n",
       "bunt_foul_tip                  24\n",
       "Name: description, dtype: int64"
      ]
     },
     "execution_count": 15,
     "metadata": {},
     "output_type": "execute_result"
    }
   ],
   "source": [
    "pitches['description'].value_counts()"
   ]
  },
  {
   "cell_type": "code",
   "execution_count": 16,
   "id": "48f26212-eea0-4345-b71f-21f70b3cc891",
   "metadata": {},
   "outputs": [
    {
     "name": "stderr",
     "output_type": "stream",
     "text": [
      "C:\\Users\\ari\\AppData\\Local\\Temp\\ipykernel_24588\\630059862.py:1: SettingWithCopyWarning: \n",
      "A value is trying to be set on a copy of a slice from a DataFrame.\n",
      "Try using .loc[row_indexer,col_indexer] = value instead\n",
      "\n",
      "See the caveats in the documentation: https://pandas.pydata.org/pandas-docs/stable/user_guide/indexing.html#returning-a-view-versus-a-copy\n",
      "  pitches['ball'] = pitches['description'].apply(lambda x: 1 if x == 'ball'\n",
      "C:\\Users\\ari\\AppData\\Local\\Temp\\ipykernel_24588\\630059862.py:7: SettingWithCopyWarning: \n",
      "A value is trying to be set on a copy of a slice from a DataFrame.\n",
      "Try using .loc[row_indexer,col_indexer] = value instead\n",
      "\n",
      "See the caveats in the documentation: https://pandas.pydata.org/pandas-docs/stable/user_guide/indexing.html#returning-a-view-versus-a-copy\n",
      "  pitches['swing'] = pitches['description'].apply(lambda x: 1 if x == 'swinging_strike'\n",
      "C:\\Users\\ari\\AppData\\Local\\Temp\\ipykernel_24588\\630059862.py:13: SettingWithCopyWarning: \n",
      "A value is trying to be set on a copy of a slice from a DataFrame.\n",
      "Try using .loc[row_indexer,col_indexer] = value instead\n",
      "\n",
      "See the caveats in the documentation: https://pandas.pydata.org/pandas-docs/stable/user_guide/indexing.html#returning-a-view-versus-a-copy\n",
      "  pitches['foul'] = pitches['description'].apply(lambda x: 1 if x == 'foul'\n",
      "C:\\Users\\ari\\AppData\\Local\\Temp\\ipykernel_24588\\630059862.py:18: SettingWithCopyWarning: \n",
      "A value is trying to be set on a copy of a slice from a DataFrame.\n",
      "Try using .loc[row_indexer,col_indexer] = value instead\n",
      "\n",
      "See the caveats in the documentation: https://pandas.pydata.org/pandas-docs/stable/user_guide/indexing.html#returning-a-view-versus-a-copy\n",
      "  pitches['called'] = pitches['description'].apply(lambda x: 1 if x == 'called_strike' else 0)\n",
      "C:\\Users\\ari\\AppData\\Local\\Temp\\ipykernel_24588\\630059862.py:20: SettingWithCopyWarning: \n",
      "A value is trying to be set on a copy of a slice from a DataFrame.\n",
      "Try using .loc[row_indexer,col_indexer] = value instead\n",
      "\n",
      "See the caveats in the documentation: https://pandas.pydata.org/pandas-docs/stable/user_guide/indexing.html#returning-a-view-versus-a-copy\n",
      "  pitches['out'] = pitches['events'].apply(lambda x: 1 if x == 'field_out'\n",
      "C:\\Users\\ari\\AppData\\Local\\Temp\\ipykernel_24588\\630059862.py:29: SettingWithCopyWarning: \n",
      "A value is trying to be set on a copy of a slice from a DataFrame.\n",
      "Try using .loc[row_indexer,col_indexer] = value instead\n",
      "\n",
      "See the caveats in the documentation: https://pandas.pydata.org/pandas-docs/stable/user_guide/indexing.html#returning-a-view-versus-a-copy\n",
      "  pitches['hit'] = pitches['events'].apply(lambda x: 1 if x == 'single'\n"
     ]
    }
   ],
   "source": [
    "pitches['ball'] = pitches['description'].apply(lambda x: 1 if x == 'ball' \n",
    "                                               else 1 if x == 'hit_by_pitch'\n",
    "                                               else 1 if x == 'blocked_ball'\n",
    "                                               else 1 if x == 'pitchout'\n",
    "                                               else 0)\n",
    "\n",
    "pitches['swing'] = pitches['description'].apply(lambda x: 1 if x == 'swinging_strike'\n",
    "                                                else 1 if x == 'swinging_strike_blocked'\n",
    "                                                else 1 if x == 'missed_bunt'\n",
    "                                                else 1 if x == 'foul_tip'\n",
    "                                                else 0)\n",
    "\n",
    "pitches['foul'] = pitches['description'].apply(lambda x: 1 if x == 'foul'\n",
    "                                               else 1 if x == 'foul_bunt'\n",
    "                                               else 1 if x == 'bunt_foul_tip'\n",
    "                                               else 0)\n",
    "\n",
    "pitches['called'] = pitches['description'].apply(lambda x: 1 if x == 'called_strike' else 0)\n",
    "\n",
    "pitches['out'] = pitches['events'].apply(lambda x: 1 if x == 'field_out' \n",
    "                                         else 1 if x == 'grounded_into_double_play'\n",
    "                                         else 1 if x == 'force_out'\n",
    "                                         else 1 if x == 'double_play'\n",
    "                                         else 1 if x == 'sac_fly_double_play'\n",
    "                                         else 1 if x == 'fielders_choice_out'\n",
    "                                         else 1 if x == 'fielders_choice'\n",
    "                                         else 0)\n",
    "\n",
    "pitches['hit'] = pitches['events'].apply(lambda x: 1 if x == 'single'\n",
    "                                         else 1 if x == 'double'\n",
    "                                         else 1 if x == 'triple'\n",
    "                                         else 1 if x == 'home_run'\n",
    "                                         else 1 if x == 'sac_fly'\n",
    "                                         else 1 if x == 'sac_bunt'\n",
    "                                         else 1 if x == 'field_error'\n",
    "                                         else 1 if x == 'catcher_interf'\n",
    "                                         else 0)"
   ]
  },
  {
   "cell_type": "code",
   "execution_count": 17,
   "id": "4dbadcfa-660e-4245-b29b-b5e2909a5897",
   "metadata": {},
   "outputs": [
    {
     "name": "stderr",
     "output_type": "stream",
     "text": [
      "C:\\Users\\ari\\AppData\\Local\\Temp\\ipykernel_24588\\921151815.py:1: SettingWithCopyWarning: \n",
      "A value is trying to be set on a copy of a slice from a DataFrame.\n",
      "Try using .loc[row_indexer,col_indexer] = value instead\n",
      "\n",
      "See the caveats in the documentation: https://pandas.pydata.org/pandas-docs/stable/user_guide/indexing.html#returning-a-view-versus-a-copy\n",
      "  pitches['outcome'] = pitches.apply(lambda x: 1 if x['swing'] == 1\n"
     ]
    }
   ],
   "source": [
    "pitches['outcome'] = pitches.apply(lambda x: 1 if x['swing'] == 1 \n",
    "                                   else 2 if x['called'] == 1\n",
    "                                   else 3 if x['foul'] == 1\n",
    "                                   else 4 if x['ball'] == 1\n",
    "                                   else 5 if x['out'] == 1\n",
    "                                   else 6 if x['hit'] == 1\n",
    "                                   else 7, axis = 1)"
   ]
  },
  {
   "cell_type": "code",
   "execution_count": 18,
   "id": "bbc284c1-1bdb-40f5-bcdd-eb5abe7b522c",
   "metadata": {},
   "outputs": [
    {
     "data": {
      "text/plain": [
       "tfs_deprecated                     708540\n",
       "spin_rate_deprecated               708540\n",
       "umpire                             708540\n",
       "sv_id                              708540\n",
       "tfs_zulu_deprecated                708540\n",
       "break_length_deprecated            708540\n",
       "break_angle_deprecated             708540\n",
       "spin_dir                           708540\n",
       "on_3b                              644429\n",
       "estimated_ba_using_speedangle      584815\n",
       "launch_speed_angle                 584815\n",
       "estimated_woba_using_speedangle    584815\n",
       "hc_y                               584319\n",
       "hc_x                               584319\n",
       "bb_type                            584273\n",
       "on_2b                              576704\n",
       "hit_location                       548784\n",
       "woba_denom                         527210\n",
       "events                             526668\n",
       "iso_value                          526668\n",
       "babip_value                        526668\n",
       "woba_value                         526668\n",
       "on_1b                              490277\n",
       "launch_speed                       473015\n",
       "launch_angle                       472669\n",
       "hit_distance_sc                    471302\n",
       "spin_axis                            2313\n",
       "release_spin_rate                    2290\n",
       "of_fielding_alignment                2187\n",
       "if_fielding_alignment                2187\n",
       "release_extension                    1419\n",
       "effective_speed                       505\n",
       "release_speed                         429\n",
       "pfx_x                                 429\n",
       "pfx_z                                 419\n",
       "ay                                    414\n",
       "ax                                    414\n",
       "vx0                                   414\n",
       "vy0                                   414\n",
       "vz0                                   414\n",
       "sz_top                                414\n",
       "plate_z                               414\n",
       "plate_x                               414\n",
       "sz_bot                                414\n",
       "release_pos_y                         414\n",
       "zone                                  414\n",
       "release_pos_z                         414\n",
       "release_pos_x                         414\n",
       "az                                    414\n",
       "pitch_name                            374\n",
       "dtype: int64"
      ]
     },
     "execution_count": 18,
     "metadata": {},
     "output_type": "execute_result"
    }
   ],
   "source": [
    "#  View columns with highest null count\n",
    "pitches.isnull().sum().sort_values(ascending = False).head(50)"
   ]
  },
  {
   "cell_type": "code",
   "execution_count": null,
   "id": "1aa7ffc8-4464-4888-8ad1-0e6a28fa5ae7",
   "metadata": {},
   "outputs": [],
   "source": []
  },
  {
   "cell_type": "code",
   "execution_count": null,
   "id": "7139c098-167f-44fa-8068-7210fcce9349",
   "metadata": {},
   "outputs": [],
   "source": []
  },
  {
   "cell_type": "code",
   "execution_count": null,
   "id": "cf8bdf31-0264-4ce7-a275-9c4990ab3ee7",
   "metadata": {},
   "outputs": [],
   "source": []
  },
  {
   "cell_type": "code",
   "execution_count": 19,
   "id": "0ab5851c-a6fb-4309-aae1-d92816cc072f",
   "metadata": {},
   "outputs": [
    {
     "name": "stderr",
     "output_type": "stream",
     "text": [
      "C:\\Users\\ari\\AppData\\Local\\Temp\\ipykernel_24588\\1564650736.py:3: SettingWithCopyWarning: \n",
      "A value is trying to be set on a copy of a slice from a DataFrame\n",
      "\n",
      "See the caveats in the documentation: https://pandas.pydata.org/pandas-docs/stable/user_guide/indexing.html#returning-a-view-versus-a-copy\n",
      "  pitches.dropna(axis = 1, thresh = 708540-2290, inplace = True)\n",
      "C:\\Users\\ari\\AppData\\Local\\Temp\\ipykernel_24588\\1564650736.py:6: SettingWithCopyWarning: \n",
      "A value is trying to be set on a copy of a slice from a DataFrame\n",
      "\n",
      "See the caveats in the documentation: https://pandas.pydata.org/pandas-docs/stable/user_guide/indexing.html#returning-a-view-versus-a-copy\n",
      "  pitches.dropna(axis = 0, inplace = True)\n"
     ]
    },
    {
     "data": {
      "text/plain": [
       "0"
      ]
     },
     "execution_count": 19,
     "metadata": {},
     "output_type": "execute_result"
    }
   ],
   "source": [
    "#### Drop columns with nulls > 513\n",
    "#  release_spin_rate has the highest nulls for any of the remaining columns of interest\n",
    "pitches.dropna(axis = 1, thresh = 708540-2290, inplace = True)\n",
    "\n",
    "#  Drop remaining rows with nulls\n",
    "pitches.dropna(axis = 0, inplace = True)\n",
    "\n",
    "#  Check for any remaining nulls\n",
    "pitches.isnull().sum().sum()"
   ]
  },
  {
   "cell_type": "code",
   "execution_count": 20,
   "id": "e6ec84a8-5dd1-4b4d-8e12-503f890e914d",
   "metadata": {},
   "outputs": [],
   "source": [
    "#  Limit data to combinations where a pitcher has thrown a particular pitch at least 30 times\n",
    "# pitches = pitches[pitches.groupby(['player_name','pitch_type']).transform('size') > 30]"
   ]
  },
  {
   "cell_type": "code",
   "execution_count": 21,
   "id": "a03236cc-d2ec-4a38-9b50-4c70d849d14c",
   "metadata": {},
   "outputs": [],
   "source": [
    "#  pitches['fatigue'] = pitches['pitch_no'] ** 2"
   ]
  },
  {
   "cell_type": "code",
   "execution_count": 22,
   "id": "6d87f408-24ea-47c8-b5a9-ee5c577ca439",
   "metadata": {},
   "outputs": [
    {
     "name": "stderr",
     "output_type": "stream",
     "text": [
      "C:\\Users\\ari\\AppData\\Local\\Temp\\ipykernel_24588\\1097924109.py:1: SettingWithCopyWarning: \n",
      "A value is trying to be set on a copy of a slice from a DataFrame.\n",
      "Try using .loc[row_indexer,col_indexer] = value instead\n",
      "\n",
      "See the caveats in the documentation: https://pandas.pydata.org/pandas-docs/stable/user_guide/indexing.html#returning-a-view-versus-a-copy\n",
      "  pitches['vz0*2'] = pitches['vz0'] ** 2\n"
     ]
    }
   ],
   "source": [
    "pitches['vz0*2'] = pitches['vz0'] ** 2"
   ]
  },
  {
   "cell_type": "code",
   "execution_count": 23,
   "id": "80338d34-e4ac-4fcc-9b5d-9846e17feed0",
   "metadata": {},
   "outputs": [
    {
     "name": "stderr",
     "output_type": "stream",
     "text": [
      "C:\\Users\\ari\\AppData\\Local\\Temp\\ipykernel_24588\\3650140477.py:1: SettingWithCopyWarning: \n",
      "A value is trying to be set on a copy of a slice from a DataFrame.\n",
      "Try using .loc[row_indexer,col_indexer] = value instead\n",
      "\n",
      "See the caveats in the documentation: https://pandas.pydata.org/pandas-docs/stable/user_guide/indexing.html#returning-a-view-versus-a-copy\n",
      "  pitches['pfx_z*2'] = pitches['pfx_z'] ** 2\n"
     ]
    }
   ],
   "source": [
    "pitches['pfx_z*2'] = pitches['pfx_z'] ** 2"
   ]
  },
  {
   "cell_type": "code",
   "execution_count": 24,
   "id": "05d76b66-cf57-4728-832e-917aecef6c03",
   "metadata": {},
   "outputs": [
    {
     "name": "stderr",
     "output_type": "stream",
     "text": [
      "C:\\Users\\ari\\AppData\\Local\\Temp\\ipykernel_24588\\4098806517.py:1: SettingWithCopyWarning: \n",
      "A value is trying to be set on a copy of a slice from a DataFrame.\n",
      "Try using .loc[row_indexer,col_indexer] = value instead\n",
      "\n",
      "See the caveats in the documentation: https://pandas.pydata.org/pandas-docs/stable/user_guide/indexing.html#returning-a-view-versus-a-copy\n",
      "  pitches['plate_z*2'] = pitches['plate_z'] ** 2\n"
     ]
    }
   ],
   "source": [
    "pitches['plate_z*2'] = pitches['plate_z'] ** 2"
   ]
  },
  {
   "cell_type": "code",
   "execution_count": 25,
   "id": "7f3190e9-b88e-43b6-94db-aabc493c06f0",
   "metadata": {},
   "outputs": [],
   "source": [
    "#  Define feature columns\n",
    "features = ['vx0','vy0','vz0','release_speed','pfx_x','pfx_z','plate_x','plate_z',\n",
    "            'ax','ay','az','release_spin_rate','release_extension',\n",
    "        'release_pos_x','release_pos_y','release_pos_z',\n",
    "            'vz0*2','pfx_z*2','plate_z*2',\n",
    "            'sz_top','sz_bot','pitch_type',\n",
    "            'player_name']"
   ]
  },
  {
   "cell_type": "code",
   "execution_count": null,
   "id": "814de6b4-e0ae-4476-9fb2-e930b3d1fcbf",
   "metadata": {},
   "outputs": [],
   "source": []
  },
  {
   "cell_type": "code",
   "execution_count": 26,
   "id": "5d4617dd-ede3-4cd1-ab8b-006008b16bd4",
   "metadata": {
    "tags": []
   },
   "outputs": [],
   "source": [
    "#  Define X and y for a model to predict pitch number based on mechanics\n",
    "y = pd.DataFrame([np.log(x) for x in pitches['pitch_no']])\n",
    "X = pitches[features]"
   ]
  },
  {
   "cell_type": "code",
   "execution_count": 27,
   "id": "17110f02-6827-4954-bdcf-59db95f954ce",
   "metadata": {},
   "outputs": [
    {
     "name": "stderr",
     "output_type": "stream",
     "text": [
      "C:\\Users\\ari\\AppData\\Local\\Temp\\ipykernel_24588\\2870365771.py:1: SettingWithCopyWarning: \n",
      "A value is trying to be set on a copy of a slice from a DataFrame.\n",
      "Try using .loc[row_indexer,col_indexer] = value instead\n",
      "\n",
      "See the caveats in the documentation: https://pandas.pydata.org/pandas-docs/stable/user_guide/indexing.html#returning-a-view-versus-a-copy\n",
      "  X['pitch_type_orig'] = X['pitch_type']\n"
     ]
    }
   ],
   "source": [
    "X['pitch_type_orig'] = X['pitch_type']"
   ]
  },
  {
   "cell_type": "code",
   "execution_count": 28,
   "id": "f4f7ced2-276b-484e-bec8-ba62bae40fdf",
   "metadata": {},
   "outputs": [
    {
     "name": "stderr",
     "output_type": "stream",
     "text": [
      "C:\\Users\\ari\\AppData\\Local\\Temp\\ipykernel_24588\\1248819300.py:1: SettingWithCopyWarning: \n",
      "A value is trying to be set on a copy of a slice from a DataFrame.\n",
      "Try using .loc[row_indexer,col_indexer] = value instead\n",
      "\n",
      "See the caveats in the documentation: https://pandas.pydata.org/pandas-docs/stable/user_guide/indexing.html#returning-a-view-versus-a-copy\n",
      "  X['player_name_orig'] = X['player_name']\n"
     ]
    }
   ],
   "source": [
    "X['player_name_orig'] = X['player_name']"
   ]
  },
  {
   "cell_type": "code",
   "execution_count": 29,
   "id": "e75a791f-0d46-47fa-81eb-dfd4f39f8b88",
   "metadata": {},
   "outputs": [],
   "source": [
    "X = pd.get_dummies(X, columns = ['pitch_type'])"
   ]
  },
  {
   "cell_type": "code",
   "execution_count": 30,
   "id": "0c55a2c5-8943-4bfe-9c31-c531b60a5363",
   "metadata": {},
   "outputs": [],
   "source": [
    "X_train, X_test, y_train, y_test = train_test_split(X, y, random_state=42)"
   ]
  },
  {
   "cell_type": "code",
   "execution_count": 31,
   "id": "c41058b5-3126-4f6a-8821-45cb67d42884",
   "metadata": {},
   "outputs": [],
   "source": [
    "for col in features[:-4]:   \n",
    "    X_train[f'{col}_avg'] = X_train.groupby(['player_name_orig', 'pitch_type_orig'])[col].transform('mean')\n",
    "    avgs = X_train.groupby(['player_name_orig', 'pitch_type_orig'])[col].mean().reset_index()\n",
    "    merge = X_test.merge(avgs, on = ['player_name_orig','pitch_type_orig'], how = 'left')\n",
    "    X_test[f'{col}_avg'] = merge[col + '_y']\n",
    "    X_train[f'{col}_diff'] = X_train[col] - X_train[f'{col}_avg']\n",
    "    X_test[f'{col}_diff'] = X_test[col] - X_test[f'{col}_avg']    \n",
    "  #  X_train.drop(columns = [col + '_avg'], inplace = True)   \n",
    "  #  X_test.drop(columns = [col + '_avg'], inplace = True)"
   ]
  },
  {
   "cell_type": "code",
   "execution_count": 32,
   "id": "3668d092-d9dc-4978-9742-683662d5a1bc",
   "metadata": {},
   "outputs": [],
   "source": [
    "X_train.drop(columns = ['player_name_orig', 'pitch_type_orig'], inplace = True)"
   ]
  },
  {
   "cell_type": "code",
   "execution_count": 33,
   "id": "571a07c8-7db4-4089-b1d6-d43f57faed1b",
   "metadata": {},
   "outputs": [],
   "source": [
    "X_test.drop(columns = ['player_name_orig', 'pitch_type_orig'], inplace = True)"
   ]
  },
  {
   "cell_type": "code",
   "execution_count": 34,
   "id": "ee62eb0d-fdeb-4878-9722-7d8db0407066",
   "metadata": {},
   "outputs": [],
   "source": [
    "X_train.drop(columns = ['player_name'], inplace = True)\n",
    "X_test.drop(columns = ['player_name'], inplace = True)"
   ]
  },
  {
   "cell_type": "code",
   "execution_count": 35,
   "id": "c0326a9c-5aab-47c2-a394-a4b534033b03",
   "metadata": {},
   "outputs": [],
   "source": [
    "X_test = X_test.reset_index(drop = True)\n",
    "y_test = y_test.reset_index(drop = True)"
   ]
  },
  {
   "cell_type": "code",
   "execution_count": 36,
   "id": "54c9204a-0f60-47c4-8eec-33af2da7a939",
   "metadata": {},
   "outputs": [],
   "source": [
    "combined = pd.concat([X_test, y_test], axis = 1)"
   ]
  },
  {
   "cell_type": "code",
   "execution_count": 37,
   "id": "cbbb1fcf-f080-47c1-85e5-e422bf04f5e3",
   "metadata": {},
   "outputs": [],
   "source": [
    "combined.dropna(inplace = True)"
   ]
  },
  {
   "cell_type": "code",
   "execution_count": 38,
   "id": "973da3a9-b03b-4777-9461-6d42ff09f8c1",
   "metadata": {},
   "outputs": [],
   "source": [
    "X_test = combined.iloc[:,:-1]"
   ]
  },
  {
   "cell_type": "code",
   "execution_count": 39,
   "id": "cfcce861-b5d4-4a51-a31f-d9bfdd6999ed",
   "metadata": {},
   "outputs": [],
   "source": [
    "y_test = combined.iloc[:,-1]"
   ]
  },
  {
   "cell_type": "code",
   "execution_count": 40,
   "id": "97f5c6b8-b00d-4597-8419-0b81cf2e532d",
   "metadata": {},
   "outputs": [
    {
     "data": {
      "text/plain": [
       "((528069, 73), (175981, 73), (528069, 1), (175981,))"
      ]
     },
     "execution_count": 40,
     "metadata": {},
     "output_type": "execute_result"
    }
   ],
   "source": [
    "X_train.shape, X_test.shape, y_train.shape, y_test.shape"
   ]
  },
  {
   "cell_type": "code",
   "execution_count": 41,
   "id": "a50151b0-9709-4b18-954d-7b25a129c7b4",
   "metadata": {},
   "outputs": [],
   "source": [
    "y_train = y_train.squeeze()"
   ]
  },
  {
   "cell_type": "code",
   "execution_count": 42,
   "id": "aa4dc066-20bf-4136-aeac-eb2c335a11e5",
   "metadata": {},
   "outputs": [],
   "source": [
    "ss = StandardScaler()\n",
    "X_train = ss.fit_transform(X_train)\n",
    "X_test = ss.transform(X_test)"
   ]
  },
  {
   "cell_type": "code",
   "execution_count": 43,
   "id": "c2381f4e-9035-43a2-b858-5b47256a42e4",
   "metadata": {},
   "outputs": [],
   "source": [
    "X_train = pd.DataFrame(X_train, columns = ss.get_feature_names_out())\n",
    "X_test = pd.DataFrame(X_test, columns = ss.get_feature_names_out())"
   ]
  },
  {
   "cell_type": "code",
   "execution_count": 44,
   "id": "313c5170-878a-4afa-9100-c7c43551675a",
   "metadata": {},
   "outputs": [],
   "source": [
    "#poly = PolynomialFeatures()\n",
    "#X_train = poly.fit_transform(X_train)\n",
    "#X_test = poly.transform(X_test)"
   ]
  },
  {
   "cell_type": "code",
   "execution_count": 45,
   "id": "bb925e69-a332-4cac-8edc-304392b9c403",
   "metadata": {},
   "outputs": [],
   "source": [
    "#X_train = pd.DataFrame(X_train, columns = poly.get_feature_names_out())\n",
    "#X_test = pd.DataFrame(X_test, columns = poly.get_feature_names_out())"
   ]
  },
  {
   "cell_type": "code",
   "execution_count": 46,
   "id": "a9fa03e4-4fb1-4682-ba35-45087c318d15",
   "metadata": {},
   "outputs": [],
   "source": [
    "base = [np.mean(y_train)] * len(y_test)"
   ]
  },
  {
   "cell_type": "code",
   "execution_count": 47,
   "id": "f71091d7-12f7-45c8-8c5c-27dcbacdbd3b",
   "metadata": {},
   "outputs": [
    {
     "data": {
      "text/plain": [
       "1.1348147216738518"
      ]
     },
     "execution_count": 47,
     "metadata": {},
     "output_type": "execute_result"
    }
   ],
   "source": [
    "mean_squared_error(y_test, base, squared = False)"
   ]
  },
  {
   "cell_type": "code",
   "execution_count": 798,
   "id": "77ea3037-d2ad-4dfb-9b24-1839a1689fae",
   "metadata": {},
   "outputs": [
    {
     "data": {
      "text/plain": [
       "((124517, 2926), (41454, 2926), (124517,), (41454,))"
      ]
     },
     "execution_count": 798,
     "metadata": {},
     "output_type": "execute_result"
    }
   ],
   "source": [
    "X_train.shape, X_test.shape, y_train.shape, y_test.shape"
   ]
  },
  {
   "cell_type": "code",
   "execution_count": 726,
   "id": "90e6edd6-314b-4b1c-b971-9dc5dda1ef0c",
   "metadata": {},
   "outputs": [],
   "source": [
    "y_train = y_train.squeeze()"
   ]
  },
  {
   "cell_type": "code",
   "execution_count": 48,
   "id": "0b9a9867-9187-4e9e-89b3-6bdc27be91c7",
   "metadata": {},
   "outputs": [
    {
     "data": {
      "text/plain": [
       "(1.0988017115385345, 1.44757795534014)"
      ]
     },
     "execution_count": 48,
     "metadata": {},
     "output_type": "execute_result"
    }
   ],
   "source": [
    "lr = LinearRegression()\n",
    "lr.fit(X_train, y_train)\n",
    "mean_squared_error(y_train, lr.predict(X_train), squared = False), mean_squared_error(y_test, lr.predict(X_test), squared = False)"
   ]
  },
  {
   "cell_type": "code",
   "execution_count": null,
   "id": "5c964d81-f8e6-47b0-82f3-689873929aeb",
   "metadata": {},
   "outputs": [],
   "source": []
  },
  {
   "cell_type": "code",
   "execution_count": null,
   "id": "80e02989-5351-4856-99fd-36367d93e187",
   "metadata": {},
   "outputs": [],
   "source": []
  },
  {
   "cell_type": "code",
   "execution_count": null,
   "id": "e6fb85fc-e64e-4436-8dd3-4e615b0961f7",
   "metadata": {},
   "outputs": [],
   "source": []
  },
  {
   "cell_type": "code",
   "execution_count": null,
   "id": "a4ff7b74-a1c9-45c3-a15c-85f5584b1fef",
   "metadata": {},
   "outputs": [
    {
     "name": "stdout",
     "output_type": "stream",
     "text": [
      "Epoch 1/50\n",
      "33005/33005 [==============================] - 81s 2ms/step - loss: 1.1703 - mse: 1.1703 - val_loss: 1.5702 - val_mse: 1.5702\n",
      "Epoch 2/50\n",
      "12385/33005 [==========>...................] - ETA: 43s - loss: 1.0789 - mse: 1.0789"
     ]
    }
   ],
   "source": [
    "model = Sequential()\n",
    "model.add(Dense(128,activation = 'relu'))\n",
    "model.add(Dropout(0.2))\n",
    "model.add(Dense(32,activation = 'relu'))\n",
    "model.add(Dense(32,activation = 'relu'))\n",
    "model.add(Dense(32,activation = 'relu'))\n",
    "model.add(Dense(32,activation = 'relu'))\n",
    "model.add(Dense(32,activation = 'relu'))\n",
    "model.add(Dense(32,activation = 'relu'))\n",
    "model.add(Dense(16,activation = 'relu'))\n",
    "model.add(Dense(1,activation = 'linear'))\n",
    "model.compile(loss='mean_squared_error',optimizer='adam',metrics = ['mse'])\n",
    "model.fit(X_train,y_train,validation_data=(X_test, y_test), epochs = 50, batch_size = 16)"
   ]
  },
  {
   "cell_type": "code",
   "execution_count": 734,
   "id": "f478bb53-5ad7-4df3-86d8-d1b54025c168",
   "metadata": {},
   "outputs": [
    {
     "name": "stdout",
     "output_type": "stream",
     "text": [
      "1296/1296 [==============================] - 2s 2ms/step\n"
     ]
    }
   ],
   "source": [
    "y_pred = model.predict(X_test)"
   ]
  },
  {
   "cell_type": "code",
   "execution_count": 735,
   "id": "75f0f342-99c3-4b6b-883d-5522aebb5473",
   "metadata": {},
   "outputs": [
    {
     "data": {
      "text/plain": [
       "array([[1.965533 ],\n",
       "       [3.192185 ],\n",
       "       [0.8916942],\n",
       "       ...,\n",
       "       [1.6861576],\n",
       "       [1.041426 ],\n",
       "       [1.2704412]], dtype=float32)"
      ]
     },
     "execution_count": 735,
     "metadata": {},
     "output_type": "execute_result"
    }
   ],
   "source": [
    "y_pred"
   ]
  },
  {
   "cell_type": "code",
   "execution_count": 736,
   "id": "30eeb0fd-7772-4222-b528-c74ed23bab61",
   "metadata": {},
   "outputs": [
    {
     "data": {
      "text/plain": [
       "1.502433306805718"
      ]
     },
     "execution_count": 736,
     "metadata": {},
     "output_type": "execute_result"
    }
   ],
   "source": [
    "mean_squared_error(y_test, y_pred, squared = False)"
   ]
  },
  {
   "cell_type": "code",
   "execution_count": 740,
   "id": "6921f1dc-0f77-4b21-9eaa-0abece548876",
   "metadata": {},
   "outputs": [
    {
     "data": {
      "text/plain": [
       "<matplotlib.collections.PathCollection at 0x1f62a6e8070>"
      ]
     },
     "execution_count": 740,
     "metadata": {},
     "output_type": "execute_result"
    },
    {
     "data": {
      "image/png": "[encoded data removed]",
      "text/plain": [
       "<Figure size 640x480 with 1 Axes>"
      ]
     },
     "metadata": {},
     "output_type": "display_data"
    }
   ],
   "source": [
    "plt.scatter(y = np.exp(lr.predict(X_test)), x = np.exp(y_test))"
   ]
  },
  {
   "cell_type": "code",
   "execution_count": null,
   "id": "b300c364-5e8a-4bcc-8eeb-f82ee66e5ce1",
   "metadata": {},
   "outputs": [],
   "source": []
  },
  {
   "cell_type": "code",
   "execution_count": null,
   "id": "dae7a6fc-0fa9-4be8-8040-87f7bf6ce530",
   "metadata": {},
   "outputs": [],
   "source": []
  },
  {
   "cell_type": "code",
   "execution_count": null,
   "id": "fceaab9a-4766-45d7-93a3-423d6e6b6ea8",
   "metadata": {},
   "outputs": [],
   "source": []
  },
  {
   "cell_type": "code",
   "execution_count": null,
   "id": "f7e04287-8530-45ae-a3c4-10f98aa426f6",
   "metadata": {},
   "outputs": [],
   "source": []
  },
  {
   "cell_type": "code",
   "execution_count": null,
   "id": "8ff0936c-40ac-4d99-a3be-989a98aff192",
   "metadata": {},
   "outputs": [],
   "source": []
  },
  {
   "cell_type": "code",
   "execution_count": null,
   "id": "119619d6-e8b6-4efb-8c03-c5f47e80376e",
   "metadata": {},
   "outputs": [],
   "source": []
  },
  {
   "cell_type": "code",
   "execution_count": null,
   "id": "33ad2e6b-e253-448b-8389-90359971bf5b",
   "metadata": {},
   "outputs": [],
   "source": []
  },
  {
   "cell_type": "code",
   "execution_count": null,
   "id": "4108a083-f3a0-4fa2-a33b-e68c303a06cb",
   "metadata": {},
   "outputs": [],
   "source": []
  },
  {
   "cell_type": "code",
   "execution_count": null,
   "id": "2c2dac61-8754-4076-b299-4d0f3a3b5f8c",
   "metadata": {},
   "outputs": [],
   "source": []
  },
  {
   "cell_type": "code",
   "execution_count": 393,
   "id": "ed47f291-2660-4bc3-9524-aeba18b4072f",
   "metadata": {},
   "outputs": [
    {
     "name": "stderr",
     "output_type": "stream",
     "text": [
      "C:\\Users\\rob\\AppData\\Local\\Temp\\ipykernel_9140\\2939201450.py:2: SettingWithCopyWarning: \n",
      "A value is trying to be set on a copy of a slice from a DataFrame.\n",
      "Try using .loc[row_indexer,col_indexer] = value instead\n",
      "\n",
      "See the caveats in the documentation: https://pandas.pydata.org/pandas-docs/stable/user_guide/indexing.html#returning-a-view-versus-a-copy\n",
      "  X['pitch_type_orig'] = X['pitch_type']\n"
     ]
    }
   ],
   "source": [
    "#  Dummify pitch type, but keep original for further preprocessing\n",
    "X['pitch_type_orig'] = X['pitch_type']\n",
    "X = pd.get_dummies(X, columns = ['pitch_type'])"
   ]
  }
 ],
 "metadata": {
  "kernelspec": {
   "display_name": "Python 3 (ipykernel)",
   "language": "python",
   "name": "python3"
  },
  "language_info": {
   "codemirror_mode": {
    "name": "ipython",
    "version": 3
   },
   "file_extension": ".py",
   "mimetype": "text/x-python",
   "name": "python",
   "nbconvert_exporter": "python",
   "pygments_lexer": "ipython3",
   "version": "3.9.13"
  }
 },
 "nbformat": 4,
 "nbformat_minor": 5
}
